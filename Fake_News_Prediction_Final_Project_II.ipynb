{
  "nbformat": 4,
  "nbformat_minor": 0,
  "metadata": {
    "colab": {
      "provenance": []
    },
    "kernelspec": {
      "name": "python3",
      "display_name": "Python 3"
    },
    "language_info": {
      "name": "python"
    }
  },
  "cells": [
    {
      "cell_type": "markdown",
      "source": [
        "# **Problem Statement:**\n",
        "\n",
        "In the era of information overload, distinguishing between genuine news and fake news has become increasingly challenging. Fake news can have significant negative impacts on society, such as spreading misinformation, inciting panic, influencing public opinion, and even affecting democratic processes. Therefore, it is crucial to develop effective methods to automatically identify and filter out fake news from real news."
      ],
      "metadata": {
        "id": "P2gECQ7En67P"
      }
    },
    {
      "cell_type": "markdown",
      "source": [
        "# **Objective:**\n",
        "\n",
        "The objective of this machine learning project is to develop a robust model that can accurately classify news articles as either real or fake. By leveraging natural language processing (NLP) techniques and machine learning algorithms, the project aims to build a system that predicts the authenticity of news and improves detection accuracy."
      ],
      "metadata": {
        "id": "YQgju6kZoF3-"
      }
    },
    {
      "cell_type": "markdown",
      "source": [
        "# **About the Dataset:**\n",
        "\n",
        "1. id: unique id for a news article\n",
        "2. title: the title of a news article\n",
        "3. text: the text of the article; could be incomplete\n",
        "4. subject: subject of news article\n",
        "5. label: a label that marks whether the news article is real or fake\n",
        "           0: Real News\n",
        "           1: Fake News\n",
        "\n",
        "\n"
      ],
      "metadata": {
        "id": "L7NNMwhHi15m"
      }
    },
    {
      "cell_type": "markdown",
      "source": [
        "# Load the libraries"
      ],
      "metadata": {
        "id": "mpWcnOQufysx"
      }
    },
    {
      "cell_type": "code",
      "source": [
        "!pip install optuna -q\n",
        "!pip install nltk spacy -q\n",
        "!python -m spacy download en_core_web_sm -q"
      ],
      "metadata": {
        "colab": {
          "base_uri": "https://localhost:8080/"
        },
        "id": "8iU6JINbgFbI",
        "outputId": "10f2aaea-9775-441a-8742-2e43b47f9cd7"
      },
      "execution_count": 1,
      "outputs": [
        {
          "output_type": "stream",
          "name": "stdout",
          "text": [
            "\u001b[?25l   \u001b[90m━━━━━━━━━━━━━━━━━━━━━━━━━━━━━━━━━━━━━━━━\u001b[0m \u001b[32m0.0/380.1 kB\u001b[0m \u001b[31m?\u001b[0m eta \u001b[36m-:--:--\u001b[0m\r\u001b[2K   \u001b[91m━━━━━━━━━━━━━━━━━━━━━━━━━━━━━━━\u001b[0m\u001b[90m╺\u001b[0m\u001b[90m━━━━━━━━\u001b[0m \u001b[32m297.0/380.1 kB\u001b[0m \u001b[31m9.1 MB/s\u001b[0m eta \u001b[36m0:00:01\u001b[0m\r\u001b[2K   \u001b[90m━━━━━━━━━━━━━━━━━━━━━━━━━━━━━━━━━━━━━━━━\u001b[0m \u001b[32m380.1/380.1 kB\u001b[0m \u001b[31m5.2 MB/s\u001b[0m eta \u001b[36m0:00:00\u001b[0m\n",
            "\u001b[2K   \u001b[90m━━━━━━━━━━━━━━━━━━━━━━━━━━━━━━━━━━━━━━━━\u001b[0m \u001b[32m233.0/233.0 kB\u001b[0m \u001b[31m8.7 MB/s\u001b[0m eta \u001b[36m0:00:00\u001b[0m\n",
            "\u001b[2K   \u001b[90m━━━━━━━━━━━━━━━━━━━━━━━━━━━━━━━━━━━━━━━━\u001b[0m \u001b[32m78.6/78.6 kB\u001b[0m \u001b[31m2.5 MB/s\u001b[0m eta \u001b[36m0:00:00\u001b[0m\n",
            "\u001b[2K     \u001b[90m━━━━━━━━━━━━━━━━━━━━━━━━━━━━━━━━━━━━━━━━\u001b[0m \u001b[32m12.8/12.8 MB\u001b[0m \u001b[31m18.5 MB/s\u001b[0m eta \u001b[36m0:00:00\u001b[0m\n",
            "\u001b[?25h\u001b[38;5;2m✔ Download and installation successful\u001b[0m\n",
            "You can now load the package via spacy.load('en_core_web_sm')\n",
            "\u001b[38;5;3m⚠ Restart to reload dependencies\u001b[0m\n",
            "If you are in a Jupyter or Colab notebook, you may need to restart Python in\n",
            "order to load all the package's dependencies. You can do this by selecting the\n",
            "'Restart kernel' or 'Restart runtime' option.\n"
          ]
        }
      ]
    },
    {
      "cell_type": "code",
      "execution_count": 2,
      "metadata": {
        "id": "ti1aLZkmnkJo"
      },
      "outputs": [],
      "source": [
        "import pandas as pd\n",
        "import numpy as np\n",
        "import gdown\n",
        "import seaborn as sns\n",
        "import matplotlib.pyplot as plt\n",
        "import re\n",
        "import spacy\n",
        "from sklearn.feature_extraction.text import TfidfVectorizer\n",
        "from sklearn.model_selection import train_test_split\n",
        "from sklearn.decomposition import TruncatedSVD\n",
        "from wordcloud import STOPWORDS\n",
        "from sklearn.model_selection import cross_val_score\n",
        "from sklearn.linear_model import LogisticRegression\n",
        "from sklearn.ensemble import RandomForestClassifier\n",
        "from sklearn.ensemble import GradientBoostingClassifier\n",
        "from xgboost import XGBClassifier\n",
        "from sklearn.metrics import accuracy_score, precision_score, recall_score, f1_score, confusion_matrix\n",
        "import optuna\n",
        "from optuna import Trial\n",
        "from sklearn.pipeline import Pipeline\n",
        "from sklearn.compose import ColumnTransformer\n",
        "from sklearn.base import BaseEstimator, TransformerMixin\n",
        "\n",
        "import warnings\n",
        "warnings.filterwarnings('ignore')"
      ]
    },
    {
      "cell_type": "markdown",
      "source": [
        "# Load the dataset"
      ],
      "metadata": {
        "id": "q0X11ltBrMCC"
      }
    },
    {
      "cell_type": "code",
      "source": [
        "url = f'https://drive.google.com/uc?id=10NHrgshUfiBr__QxQb6s_Ok-twb5NBXg'\n",
        "output = 'dataset.csv'\n",
        "gdown.download(url, output, quiet=False)\n",
        "\n",
        "df = pd.read_csv(output)"
      ],
      "metadata": {
        "id": "sDHaAaq8r6FM",
        "colab": {
          "base_uri": "https://localhost:8080/"
        },
        "outputId": "fde691af-b787-4621-fcb9-c0ac52ec53c2"
      },
      "execution_count": 3,
      "outputs": [
        {
          "output_type": "stream",
          "name": "stderr",
          "text": [
            "Downloading...\n",
            "From (original): https://drive.google.com/uc?id=10NHrgshUfiBr__QxQb6s_Ok-twb5NBXg\n",
            "From (redirected): https://drive.google.com/uc?id=10NHrgshUfiBr__QxQb6s_Ok-twb5NBXg&confirm=t&uuid=d9e59950-70bf-4f2f-a75a-aeff96fcab36\n",
            "To: /content/dataset.csv\n",
            "100%|██████████| 115M/115M [00:02<00:00, 48.5MB/s]\n"
          ]
        }
      ]
    },
    {
      "cell_type": "markdown",
      "source": [
        "# Looking into the dataset"
      ],
      "metadata": {
        "id": "IPBe2sgpgNxy"
      }
    },
    {
      "cell_type": "code",
      "source": [
        "df.shape"
      ],
      "metadata": {
        "id": "UjI2y4qur7CD",
        "colab": {
          "base_uri": "https://localhost:8080/"
        },
        "outputId": "2040ef47-e2b0-411a-94e2-1eed21968d8c"
      },
      "execution_count": 4,
      "outputs": [
        {
          "output_type": "execute_result",
          "data": {
            "text/plain": [
              "(44881, 5)"
            ]
          },
          "metadata": {},
          "execution_count": 4
        }
      ]
    },
    {
      "cell_type": "code",
      "source": [
        "df.head()"
      ],
      "metadata": {
        "id": "HlY25L-OuHfX",
        "colab": {
          "base_uri": "https://localhost:8080/",
          "height": 206
        },
        "outputId": "b38b87ad-4822-4dad-bd0f-6ea1b451718a"
      },
      "execution_count": 5,
      "outputs": [
        {
          "output_type": "execute_result",
          "data": {
            "text/plain": [
              "   id                                              title  \\\n",
              "0   0  Exclusive: Six U.S. senators urge Obama to pri...   \n",
              "1   1  Saudi's Kingdom Holding says has support from ...   \n",
              "2   2  WOW! STARBUCKS CEO JUST ACCUSED Whites Of Comm...   \n",
              "3   3  WORKING CLASS REVOLT! OLD SCHOOL JERSEY PATRIO...   \n",
              "4   4  WATTERS’ WORLD: “Do you have Obamacare?”…”How ...   \n",
              "\n",
              "                                                text       subject  label  \n",
              "0  NEW YORK - Six U.S. senators have urged Presid...  politicsNews      0  \n",
              "1  DUBAI - Saudi Arabian investment firm Kingdom ...     worldnews      0  \n",
              "2  Thousands of Starbucks customers cut up their ...      politics      1  \n",
              "3                            HE WILL NOT DIVIDE US .     left-news      1  \n",
              "4                                                NaN      politics      1  "
            ],
            "text/html": [
              "\n",
              "  <div id=\"df-82f45272-50e3-4246-b436-c315e5ddf069\" class=\"colab-df-container\">\n",
              "    <div>\n",
              "<style scoped>\n",
              "    .dataframe tbody tr th:only-of-type {\n",
              "        vertical-align: middle;\n",
              "    }\n",
              "\n",
              "    .dataframe tbody tr th {\n",
              "        vertical-align: top;\n",
              "    }\n",
              "\n",
              "    .dataframe thead th {\n",
              "        text-align: right;\n",
              "    }\n",
              "</style>\n",
              "<table border=\"1\" class=\"dataframe\">\n",
              "  <thead>\n",
              "    <tr style=\"text-align: right;\">\n",
              "      <th></th>\n",
              "      <th>id</th>\n",
              "      <th>title</th>\n",
              "      <th>text</th>\n",
              "      <th>subject</th>\n",
              "      <th>label</th>\n",
              "    </tr>\n",
              "  </thead>\n",
              "  <tbody>\n",
              "    <tr>\n",
              "      <th>0</th>\n",
              "      <td>0</td>\n",
              "      <td>Exclusive: Six U.S. senators urge Obama to pri...</td>\n",
              "      <td>NEW YORK - Six U.S. senators have urged Presid...</td>\n",
              "      <td>politicsNews</td>\n",
              "      <td>0</td>\n",
              "    </tr>\n",
              "    <tr>\n",
              "      <th>1</th>\n",
              "      <td>1</td>\n",
              "      <td>Saudi's Kingdom Holding says has support from ...</td>\n",
              "      <td>DUBAI - Saudi Arabian investment firm Kingdom ...</td>\n",
              "      <td>worldnews</td>\n",
              "      <td>0</td>\n",
              "    </tr>\n",
              "    <tr>\n",
              "      <th>2</th>\n",
              "      <td>2</td>\n",
              "      <td>WOW! STARBUCKS CEO JUST ACCUSED Whites Of Comm...</td>\n",
              "      <td>Thousands of Starbucks customers cut up their ...</td>\n",
              "      <td>politics</td>\n",
              "      <td>1</td>\n",
              "    </tr>\n",
              "    <tr>\n",
              "      <th>3</th>\n",
              "      <td>3</td>\n",
              "      <td>WORKING CLASS REVOLT! OLD SCHOOL JERSEY PATRIO...</td>\n",
              "      <td>HE WILL NOT DIVIDE US .</td>\n",
              "      <td>left-news</td>\n",
              "      <td>1</td>\n",
              "    </tr>\n",
              "    <tr>\n",
              "      <th>4</th>\n",
              "      <td>4</td>\n",
              "      <td>WATTERS’ WORLD: “Do you have Obamacare?”…”How ...</td>\n",
              "      <td>NaN</td>\n",
              "      <td>politics</td>\n",
              "      <td>1</td>\n",
              "    </tr>\n",
              "  </tbody>\n",
              "</table>\n",
              "</div>\n",
              "    <div class=\"colab-df-buttons\">\n",
              "\n",
              "  <div class=\"colab-df-container\">\n",
              "    <button class=\"colab-df-convert\" onclick=\"convertToInteractive('df-82f45272-50e3-4246-b436-c315e5ddf069')\"\n",
              "            title=\"Convert this dataframe to an interactive table.\"\n",
              "            style=\"display:none;\">\n",
              "\n",
              "  <svg xmlns=\"http://www.w3.org/2000/svg\" height=\"24px\" viewBox=\"0 -960 960 960\">\n",
              "    <path d=\"M120-120v-720h720v720H120Zm60-500h600v-160H180v160Zm220 220h160v-160H400v160Zm0 220h160v-160H400v160ZM180-400h160v-160H180v160Zm440 0h160v-160H620v160ZM180-180h160v-160H180v160Zm440 0h160v-160H620v160Z\"/>\n",
              "  </svg>\n",
              "    </button>\n",
              "\n",
              "  <style>\n",
              "    .colab-df-container {\n",
              "      display:flex;\n",
              "      gap: 12px;\n",
              "    }\n",
              "\n",
              "    .colab-df-convert {\n",
              "      background-color: #E8F0FE;\n",
              "      border: none;\n",
              "      border-radius: 50%;\n",
              "      cursor: pointer;\n",
              "      display: none;\n",
              "      fill: #1967D2;\n",
              "      height: 32px;\n",
              "      padding: 0 0 0 0;\n",
              "      width: 32px;\n",
              "    }\n",
              "\n",
              "    .colab-df-convert:hover {\n",
              "      background-color: #E2EBFA;\n",
              "      box-shadow: 0px 1px 2px rgba(60, 64, 67, 0.3), 0px 1px 3px 1px rgba(60, 64, 67, 0.15);\n",
              "      fill: #174EA6;\n",
              "    }\n",
              "\n",
              "    .colab-df-buttons div {\n",
              "      margin-bottom: 4px;\n",
              "    }\n",
              "\n",
              "    [theme=dark] .colab-df-convert {\n",
              "      background-color: #3B4455;\n",
              "      fill: #D2E3FC;\n",
              "    }\n",
              "\n",
              "    [theme=dark] .colab-df-convert:hover {\n",
              "      background-color: #434B5C;\n",
              "      box-shadow: 0px 1px 3px 1px rgba(0, 0, 0, 0.15);\n",
              "      filter: drop-shadow(0px 1px 2px rgba(0, 0, 0, 0.3));\n",
              "      fill: #FFFFFF;\n",
              "    }\n",
              "  </style>\n",
              "\n",
              "    <script>\n",
              "      const buttonEl =\n",
              "        document.querySelector('#df-82f45272-50e3-4246-b436-c315e5ddf069 button.colab-df-convert');\n",
              "      buttonEl.style.display =\n",
              "        google.colab.kernel.accessAllowed ? 'block' : 'none';\n",
              "\n",
              "      async function convertToInteractive(key) {\n",
              "        const element = document.querySelector('#df-82f45272-50e3-4246-b436-c315e5ddf069');\n",
              "        const dataTable =\n",
              "          await google.colab.kernel.invokeFunction('convertToInteractive',\n",
              "                                                    [key], {});\n",
              "        if (!dataTable) return;\n",
              "\n",
              "        const docLinkHtml = 'Like what you see? Visit the ' +\n",
              "          '<a target=\"_blank\" href=https://colab.research.google.com/notebooks/data_table.ipynb>data table notebook</a>'\n",
              "          + ' to learn more about interactive tables.';\n",
              "        element.innerHTML = '';\n",
              "        dataTable['output_type'] = 'display_data';\n",
              "        await google.colab.output.renderOutput(dataTable, element);\n",
              "        const docLink = document.createElement('div');\n",
              "        docLink.innerHTML = docLinkHtml;\n",
              "        element.appendChild(docLink);\n",
              "      }\n",
              "    </script>\n",
              "  </div>\n",
              "\n",
              "\n",
              "<div id=\"df-aca5250d-1853-4ced-bd68-719b04043278\">\n",
              "  <button class=\"colab-df-quickchart\" onclick=\"quickchart('df-aca5250d-1853-4ced-bd68-719b04043278')\"\n",
              "            title=\"Suggest charts\"\n",
              "            style=\"display:none;\">\n",
              "\n",
              "<svg xmlns=\"http://www.w3.org/2000/svg\" height=\"24px\"viewBox=\"0 0 24 24\"\n",
              "     width=\"24px\">\n",
              "    <g>\n",
              "        <path d=\"M19 3H5c-1.1 0-2 .9-2 2v14c0 1.1.9 2 2 2h14c1.1 0 2-.9 2-2V5c0-1.1-.9-2-2-2zM9 17H7v-7h2v7zm4 0h-2V7h2v10zm4 0h-2v-4h2v4z\"/>\n",
              "    </g>\n",
              "</svg>\n",
              "  </button>\n",
              "\n",
              "<style>\n",
              "  .colab-df-quickchart {\n",
              "      --bg-color: #E8F0FE;\n",
              "      --fill-color: #1967D2;\n",
              "      --hover-bg-color: #E2EBFA;\n",
              "      --hover-fill-color: #174EA6;\n",
              "      --disabled-fill-color: #AAA;\n",
              "      --disabled-bg-color: #DDD;\n",
              "  }\n",
              "\n",
              "  [theme=dark] .colab-df-quickchart {\n",
              "      --bg-color: #3B4455;\n",
              "      --fill-color: #D2E3FC;\n",
              "      --hover-bg-color: #434B5C;\n",
              "      --hover-fill-color: #FFFFFF;\n",
              "      --disabled-bg-color: #3B4455;\n",
              "      --disabled-fill-color: #666;\n",
              "  }\n",
              "\n",
              "  .colab-df-quickchart {\n",
              "    background-color: var(--bg-color);\n",
              "    border: none;\n",
              "    border-radius: 50%;\n",
              "    cursor: pointer;\n",
              "    display: none;\n",
              "    fill: var(--fill-color);\n",
              "    height: 32px;\n",
              "    padding: 0;\n",
              "    width: 32px;\n",
              "  }\n",
              "\n",
              "  .colab-df-quickchart:hover {\n",
              "    background-color: var(--hover-bg-color);\n",
              "    box-shadow: 0 1px 2px rgba(60, 64, 67, 0.3), 0 1px 3px 1px rgba(60, 64, 67, 0.15);\n",
              "    fill: var(--button-hover-fill-color);\n",
              "  }\n",
              "\n",
              "  .colab-df-quickchart-complete:disabled,\n",
              "  .colab-df-quickchart-complete:disabled:hover {\n",
              "    background-color: var(--disabled-bg-color);\n",
              "    fill: var(--disabled-fill-color);\n",
              "    box-shadow: none;\n",
              "  }\n",
              "\n",
              "  .colab-df-spinner {\n",
              "    border: 2px solid var(--fill-color);\n",
              "    border-color: transparent;\n",
              "    border-bottom-color: var(--fill-color);\n",
              "    animation:\n",
              "      spin 1s steps(1) infinite;\n",
              "  }\n",
              "\n",
              "  @keyframes spin {\n",
              "    0% {\n",
              "      border-color: transparent;\n",
              "      border-bottom-color: var(--fill-color);\n",
              "      border-left-color: var(--fill-color);\n",
              "    }\n",
              "    20% {\n",
              "      border-color: transparent;\n",
              "      border-left-color: var(--fill-color);\n",
              "      border-top-color: var(--fill-color);\n",
              "    }\n",
              "    30% {\n",
              "      border-color: transparent;\n",
              "      border-left-color: var(--fill-color);\n",
              "      border-top-color: var(--fill-color);\n",
              "      border-right-color: var(--fill-color);\n",
              "    }\n",
              "    40% {\n",
              "      border-color: transparent;\n",
              "      border-right-color: var(--fill-color);\n",
              "      border-top-color: var(--fill-color);\n",
              "    }\n",
              "    60% {\n",
              "      border-color: transparent;\n",
              "      border-right-color: var(--fill-color);\n",
              "    }\n",
              "    80% {\n",
              "      border-color: transparent;\n",
              "      border-right-color: var(--fill-color);\n",
              "      border-bottom-color: var(--fill-color);\n",
              "    }\n",
              "    90% {\n",
              "      border-color: transparent;\n",
              "      border-bottom-color: var(--fill-color);\n",
              "    }\n",
              "  }\n",
              "</style>\n",
              "\n",
              "  <script>\n",
              "    async function quickchart(key) {\n",
              "      const quickchartButtonEl =\n",
              "        document.querySelector('#' + key + ' button');\n",
              "      quickchartButtonEl.disabled = true;  // To prevent multiple clicks.\n",
              "      quickchartButtonEl.classList.add('colab-df-spinner');\n",
              "      try {\n",
              "        const charts = await google.colab.kernel.invokeFunction(\n",
              "            'suggestCharts', [key], {});\n",
              "      } catch (error) {\n",
              "        console.error('Error during call to suggestCharts:', error);\n",
              "      }\n",
              "      quickchartButtonEl.classList.remove('colab-df-spinner');\n",
              "      quickchartButtonEl.classList.add('colab-df-quickchart-complete');\n",
              "    }\n",
              "    (() => {\n",
              "      let quickchartButtonEl =\n",
              "        document.querySelector('#df-aca5250d-1853-4ced-bd68-719b04043278 button');\n",
              "      quickchartButtonEl.style.display =\n",
              "        google.colab.kernel.accessAllowed ? 'block' : 'none';\n",
              "    })();\n",
              "  </script>\n",
              "</div>\n",
              "\n",
              "    </div>\n",
              "  </div>\n"
            ],
            "application/vnd.google.colaboratory.intrinsic+json": {
              "type": "dataframe",
              "variable_name": "df",
              "summary": "{\n  \"name\": \"df\",\n  \"rows\": 44881,\n  \"fields\": [\n    {\n      \"column\": \"id\",\n      \"properties\": {\n        \"dtype\": \"number\",\n        \"std\": 12956,\n        \"min\": 0,\n        \"max\": 44880,\n        \"num_unique_values\": 44881,\n        \"samples\": [\n          29074,\n          13497,\n          44162\n        ],\n        \"semantic_type\": \"\",\n        \"description\": \"\"\n      }\n    },\n    {\n      \"column\": \"title\",\n      \"properties\": {\n        \"dtype\": \"string\",\n        \"num_unique_values\": 38722,\n        \"samples\": [\n          \"GARY JOHNSON Just Proved He Is MENTALLY ILL! [Video]\",\n          \"Former VP Gore reminds Clinton supporters of 2000 vote recount\",\n          \"Grassley, Garland reprise 1990s judicial confirmation fight\"\n        ],\n        \"semantic_type\": \"\",\n        \"description\": \"\"\n      }\n    },\n    {\n      \"column\": \"text\",\n      \"properties\": {\n        \"dtype\": \"string\",\n        \"num_unique_values\": 38631,\n        \"samples\": [\n          \"LUXEMBOURG - European Commission President Jean Claude Juncker said on Friday he did not want Catalonia to become independent, because that would encourage other regions to do the same, making the European Union ungovernable. If we allow Catalonia and it is not our business to separate, others will do the same. I do not want that, Jean Claude Juncker said in a speech at Luxembourg University. I wouldn t like a European Union in 15 years that consists of some 98 states, he continued. It s already relatively difficult with 28 and with 27 not easier, but with 98 it would simply be impossible. The EU s statistics agency Eurostat lists the bloc as consisting of 98 major regions. Juncker said he was very worried about separatist tendencies in Europe and had encouraged Spanish Prime Minister Mariano Rajoy to ensure the situation did not get out of control. Referring to Catalan calls for EU mediation, he said the Commission could not mediate if only one side asked it to do so. The EU has said it has confidence in Rajoy to resolve what it sees as an internal issue. If the Commission or European Council President (Donald) Tusk were to get involved with only one party asking for mediation, this would lead to a great rejection of the European Union, Juncker said.\",\n          \"When we talk about getting rid of Trump, we also often talk about what a Mike Pence presidency would look like, and it s not good. Pence, if you ll recall, won t go anywhere where alcohol is being served, or with another woman, unless his wife is also present. And he calls his wife Mother. His ridiculous level of Christianity (if, indeed, it can be called that) pushed him to harm Indiana s LGBT community with an extremely discriminatory religious freedom law. The white-haired penis even thinks condoms are too modern. He s also an outspoken opponent of women s reproductive rights, including abortion, and he wants to defund and eliminate Planned Parenthood. So actress Mila Kunis is expressing her displeasure with his positions in a very unique way: [A]s a reminder that there are women in the world that may or may not agree with his platform, I put him on a list of reoccurring donations that are made in his name to Planned Parenthood Every month, to his office, he gets a little letter that says an anonymous donation has been made in your name. She also has an interesting view of what she s doing she sees it as something other than a prank. Watch her discuss it with Conan O Brien below:It may well be a safe bet to assume he burns these. It s also a safe bet that Kunis donation notes aren t the only ones he gets.Featured image via Ahn Young-Joon Pool/Getty Images\",\n          \"WASHINGTON - U.S. Senate Majority Whip John Cornyn on Wednesday indicated Republican leaders want changes to their draft healthcare legislation completed this week so lawmakers could review the revised plan over next week\\u2019s congressional recess. Cornyn, speaking to reporters outside Senate Leader Mitch McConnell\\u2019s office, said having the changes done by Friday would be \\u201coptimal\\u201d and allow the Congressional Budget Office time to provide a new analysis of the bill\\u2019s impact.\"\n        ],\n        \"semantic_type\": \"\",\n        \"description\": \"\"\n      }\n    },\n    {\n      \"column\": \"subject\",\n      \"properties\": {\n        \"dtype\": \"category\",\n        \"num_unique_values\": 8,\n        \"samples\": [\n          \"worldnews\",\n          \"Government News\",\n          \"politicsNews\"\n        ],\n        \"semantic_type\": \"\",\n        \"description\": \"\"\n      }\n    },\n    {\n      \"column\": \"label\",\n      \"properties\": {\n        \"dtype\": \"number\",\n        \"std\": 0,\n        \"min\": 0,\n        \"max\": 1,\n        \"num_unique_values\": 2,\n        \"samples\": [\n          1,\n          0\n        ],\n        \"semantic_type\": \"\",\n        \"description\": \"\"\n      }\n    }\n  ]\n}"
            }
          },
          "metadata": {},
          "execution_count": 5
        }
      ]
    },
    {
      "cell_type": "code",
      "source": [
        "df.info()"
      ],
      "metadata": {
        "id": "2xvfYF_PgdTT",
        "colab": {
          "base_uri": "https://localhost:8080/"
        },
        "outputId": "ac1f3eec-d27d-4cb3-c98f-c4536fce71c9"
      },
      "execution_count": 6,
      "outputs": [
        {
          "output_type": "stream",
          "name": "stdout",
          "text": [
            "<class 'pandas.core.frame.DataFrame'>\n",
            "RangeIndex: 44881 entries, 0 to 44880\n",
            "Data columns (total 5 columns):\n",
            " #   Column   Non-Null Count  Dtype \n",
            "---  ------   --------------  ----- \n",
            " 0   id       44881 non-null  int64 \n",
            " 1   title    44881 non-null  object\n",
            " 2   text     44250 non-null  object\n",
            " 3   subject  44881 non-null  object\n",
            " 4   label    44881 non-null  int64 \n",
            "dtypes: int64(2), object(3)\n",
            "memory usage: 1.7+ MB\n"
          ]
        }
      ]
    },
    {
      "cell_type": "code",
      "source": [
        "df.isnull().sum()"
      ],
      "metadata": {
        "id": "AT3lb3WkuSsF",
        "colab": {
          "base_uri": "https://localhost:8080/",
          "height": 241
        },
        "outputId": "57eda171-4e9c-4435-f68d-93ecf6df5dc5"
      },
      "execution_count": 7,
      "outputs": [
        {
          "output_type": "execute_result",
          "data": {
            "text/plain": [
              "id           0\n",
              "title        0\n",
              "text       631\n",
              "subject      0\n",
              "label        0\n",
              "dtype: int64"
            ],
            "text/html": [
              "<div>\n",
              "<style scoped>\n",
              "    .dataframe tbody tr th:only-of-type {\n",
              "        vertical-align: middle;\n",
              "    }\n",
              "\n",
              "    .dataframe tbody tr th {\n",
              "        vertical-align: top;\n",
              "    }\n",
              "\n",
              "    .dataframe thead th {\n",
              "        text-align: right;\n",
              "    }\n",
              "</style>\n",
              "<table border=\"1\" class=\"dataframe\">\n",
              "  <thead>\n",
              "    <tr style=\"text-align: right;\">\n",
              "      <th></th>\n",
              "      <th>0</th>\n",
              "    </tr>\n",
              "  </thead>\n",
              "  <tbody>\n",
              "    <tr>\n",
              "      <th>id</th>\n",
              "      <td>0</td>\n",
              "    </tr>\n",
              "    <tr>\n",
              "      <th>title</th>\n",
              "      <td>0</td>\n",
              "    </tr>\n",
              "    <tr>\n",
              "      <th>text</th>\n",
              "      <td>631</td>\n",
              "    </tr>\n",
              "    <tr>\n",
              "      <th>subject</th>\n",
              "      <td>0</td>\n",
              "    </tr>\n",
              "    <tr>\n",
              "      <th>label</th>\n",
              "      <td>0</td>\n",
              "    </tr>\n",
              "  </tbody>\n",
              "</table>\n",
              "</div><br><label><b>dtype:</b> int64</label>"
            ]
          },
          "metadata": {},
          "execution_count": 7
        }
      ]
    },
    {
      "cell_type": "code",
      "source": [
        "df.nunique()"
      ],
      "metadata": {
        "id": "bud24TZqf0ce",
        "colab": {
          "base_uri": "https://localhost:8080/",
          "height": 241
        },
        "outputId": "9f501833-dae4-4874-8ffc-e43aca3d149c"
      },
      "execution_count": 8,
      "outputs": [
        {
          "output_type": "execute_result",
          "data": {
            "text/plain": [
              "id         44881\n",
              "title      38722\n",
              "text       38631\n",
              "subject        8\n",
              "label          2\n",
              "dtype: int64"
            ],
            "text/html": [
              "<div>\n",
              "<style scoped>\n",
              "    .dataframe tbody tr th:only-of-type {\n",
              "        vertical-align: middle;\n",
              "    }\n",
              "\n",
              "    .dataframe tbody tr th {\n",
              "        vertical-align: top;\n",
              "    }\n",
              "\n",
              "    .dataframe thead th {\n",
              "        text-align: right;\n",
              "    }\n",
              "</style>\n",
              "<table border=\"1\" class=\"dataframe\">\n",
              "  <thead>\n",
              "    <tr style=\"text-align: right;\">\n",
              "      <th></th>\n",
              "      <th>0</th>\n",
              "    </tr>\n",
              "  </thead>\n",
              "  <tbody>\n",
              "    <tr>\n",
              "      <th>id</th>\n",
              "      <td>44881</td>\n",
              "    </tr>\n",
              "    <tr>\n",
              "      <th>title</th>\n",
              "      <td>38722</td>\n",
              "    </tr>\n",
              "    <tr>\n",
              "      <th>text</th>\n",
              "      <td>38631</td>\n",
              "    </tr>\n",
              "    <tr>\n",
              "      <th>subject</th>\n",
              "      <td>8</td>\n",
              "    </tr>\n",
              "    <tr>\n",
              "      <th>label</th>\n",
              "      <td>2</td>\n",
              "    </tr>\n",
              "  </tbody>\n",
              "</table>\n",
              "</div><br><label><b>dtype:</b> int64</label>"
            ]
          },
          "metadata": {},
          "execution_count": 8
        }
      ]
    },
    {
      "cell_type": "markdown",
      "source": [
        "# Handling Missing Values"
      ],
      "metadata": {
        "id": "d_XEKL2WyI6b"
      }
    },
    {
      "cell_type": "markdown",
      "source": [
        "## Drop rows with missing 'text'"
      ],
      "metadata": {
        "id": "DnUtAAnGyFmB"
      }
    },
    {
      "cell_type": "code",
      "source": [
        "df.dropna(subset=['text'], inplace=True)"
      ],
      "metadata": {
        "id": "cKN5m6BGyDwz"
      },
      "execution_count": 9,
      "outputs": []
    },
    {
      "cell_type": "code",
      "source": [
        "df.info()"
      ],
      "metadata": {
        "id": "HnpgIK1fzDtU",
        "colab": {
          "base_uri": "https://localhost:8080/"
        },
        "outputId": "368ed1fb-21db-4a21-e9e1-a5875797726f"
      },
      "execution_count": 10,
      "outputs": [
        {
          "output_type": "stream",
          "name": "stdout",
          "text": [
            "<class 'pandas.core.frame.DataFrame'>\n",
            "Index: 44250 entries, 0 to 44880\n",
            "Data columns (total 5 columns):\n",
            " #   Column   Non-Null Count  Dtype \n",
            "---  ------   --------------  ----- \n",
            " 0   id       44250 non-null  int64 \n",
            " 1   title    44250 non-null  object\n",
            " 2   text     44250 non-null  object\n",
            " 3   subject  44250 non-null  object\n",
            " 4   label    44250 non-null  int64 \n",
            "dtypes: int64(2), object(3)\n",
            "memory usage: 2.0+ MB\n"
          ]
        }
      ]
    },
    {
      "cell_type": "markdown",
      "source": [
        "## Removing duplicate rows"
      ],
      "metadata": {
        "id": "Y_tMQ_Vi3rjK"
      }
    },
    {
      "cell_type": "code",
      "source": [
        "df.drop_duplicates(subset=['title', 'text'], inplace=True)"
      ],
      "metadata": {
        "id": "d71WrY9v3qp-"
      },
      "execution_count": 11,
      "outputs": []
    },
    {
      "cell_type": "code",
      "source": [
        "df.isnull().sum()"
      ],
      "metadata": {
        "id": "kjJRHvQOcqqp",
        "colab": {
          "base_uri": "https://localhost:8080/",
          "height": 241
        },
        "outputId": "67efa241-bb4f-4afb-9911-04d516b2bfd0"
      },
      "execution_count": 12,
      "outputs": [
        {
          "output_type": "execute_result",
          "data": {
            "text/plain": [
              "id         0\n",
              "title      0\n",
              "text       0\n",
              "subject    0\n",
              "label      0\n",
              "dtype: int64"
            ],
            "text/html": [
              "<div>\n",
              "<style scoped>\n",
              "    .dataframe tbody tr th:only-of-type {\n",
              "        vertical-align: middle;\n",
              "    }\n",
              "\n",
              "    .dataframe tbody tr th {\n",
              "        vertical-align: top;\n",
              "    }\n",
              "\n",
              "    .dataframe thead th {\n",
              "        text-align: right;\n",
              "    }\n",
              "</style>\n",
              "<table border=\"1\" class=\"dataframe\">\n",
              "  <thead>\n",
              "    <tr style=\"text-align: right;\">\n",
              "      <th></th>\n",
              "      <th>0</th>\n",
              "    </tr>\n",
              "  </thead>\n",
              "  <tbody>\n",
              "    <tr>\n",
              "      <th>id</th>\n",
              "      <td>0</td>\n",
              "    </tr>\n",
              "    <tr>\n",
              "      <th>title</th>\n",
              "      <td>0</td>\n",
              "    </tr>\n",
              "    <tr>\n",
              "      <th>text</th>\n",
              "      <td>0</td>\n",
              "    </tr>\n",
              "    <tr>\n",
              "      <th>subject</th>\n",
              "      <td>0</td>\n",
              "    </tr>\n",
              "    <tr>\n",
              "      <th>label</th>\n",
              "      <td>0</td>\n",
              "    </tr>\n",
              "  </tbody>\n",
              "</table>\n",
              "</div><br><label><b>dtype:</b> int64</label>"
            ]
          },
          "metadata": {},
          "execution_count": 12
        }
      ]
    },
    {
      "cell_type": "code",
      "source": [
        "df.nunique()"
      ],
      "metadata": {
        "id": "eBYW1q0vf_zK",
        "colab": {
          "base_uri": "https://localhost:8080/",
          "height": 241
        },
        "outputId": "fe57712b-229a-45af-8c2e-86b76553805a"
      },
      "execution_count": 13,
      "outputs": [
        {
          "output_type": "execute_result",
          "data": {
            "text/plain": [
              "id         38649\n",
              "title      38275\n",
              "text       38631\n",
              "subject        8\n",
              "label          2\n",
              "dtype: int64"
            ],
            "text/html": [
              "<div>\n",
              "<style scoped>\n",
              "    .dataframe tbody tr th:only-of-type {\n",
              "        vertical-align: middle;\n",
              "    }\n",
              "\n",
              "    .dataframe tbody tr th {\n",
              "        vertical-align: top;\n",
              "    }\n",
              "\n",
              "    .dataframe thead th {\n",
              "        text-align: right;\n",
              "    }\n",
              "</style>\n",
              "<table border=\"1\" class=\"dataframe\">\n",
              "  <thead>\n",
              "    <tr style=\"text-align: right;\">\n",
              "      <th></th>\n",
              "      <th>0</th>\n",
              "    </tr>\n",
              "  </thead>\n",
              "  <tbody>\n",
              "    <tr>\n",
              "      <th>id</th>\n",
              "      <td>38649</td>\n",
              "    </tr>\n",
              "    <tr>\n",
              "      <th>title</th>\n",
              "      <td>38275</td>\n",
              "    </tr>\n",
              "    <tr>\n",
              "      <th>text</th>\n",
              "      <td>38631</td>\n",
              "    </tr>\n",
              "    <tr>\n",
              "      <th>subject</th>\n",
              "      <td>8</td>\n",
              "    </tr>\n",
              "    <tr>\n",
              "      <th>label</th>\n",
              "      <td>2</td>\n",
              "    </tr>\n",
              "  </tbody>\n",
              "</table>\n",
              "</div><br><label><b>dtype:</b> int64</label>"
            ]
          },
          "metadata": {},
          "execution_count": 13
        }
      ]
    },
    {
      "cell_type": "markdown",
      "source": [
        "# Exploratory  Data Analysis"
      ],
      "metadata": {
        "id": "rfN6Oluj8xpr"
      }
    },
    {
      "cell_type": "code",
      "source": [
        "df['label'].value_counts()"
      ],
      "metadata": {
        "id": "t_6hiozh8hU4",
        "colab": {
          "base_uri": "https://localhost:8080/",
          "height": 178
        },
        "outputId": "0bffc370-341f-4d44-e68d-12c9585a93ee"
      },
      "execution_count": 14,
      "outputs": [
        {
          "output_type": "execute_result",
          "data": {
            "text/plain": [
              "label\n",
              "0    21194\n",
              "1    17455\n",
              "Name: count, dtype: int64"
            ],
            "text/html": [
              "<div>\n",
              "<style scoped>\n",
              "    .dataframe tbody tr th:only-of-type {\n",
              "        vertical-align: middle;\n",
              "    }\n",
              "\n",
              "    .dataframe tbody tr th {\n",
              "        vertical-align: top;\n",
              "    }\n",
              "\n",
              "    .dataframe thead th {\n",
              "        text-align: right;\n",
              "    }\n",
              "</style>\n",
              "<table border=\"1\" class=\"dataframe\">\n",
              "  <thead>\n",
              "    <tr style=\"text-align: right;\">\n",
              "      <th></th>\n",
              "      <th>count</th>\n",
              "    </tr>\n",
              "    <tr>\n",
              "      <th>label</th>\n",
              "      <th></th>\n",
              "    </tr>\n",
              "  </thead>\n",
              "  <tbody>\n",
              "    <tr>\n",
              "      <th>0</th>\n",
              "      <td>21194</td>\n",
              "    </tr>\n",
              "    <tr>\n",
              "      <th>1</th>\n",
              "      <td>17455</td>\n",
              "    </tr>\n",
              "  </tbody>\n",
              "</table>\n",
              "</div><br><label><b>dtype:</b> int64</label>"
            ]
          },
          "metadata": {},
          "execution_count": 14
        }
      ]
    },
    {
      "cell_type": "code",
      "source": [
        "label_counts = df['label'].value_counts()\n",
        "\n",
        "plt.figure(figsize=(8, 6))\n",
        "label_counts.plot(kind='bar', color=['green', 'red'])\n",
        "plt.title('Distribution of Real and Fake News')\n",
        "plt.ylabel('Count')\n",
        "plt.xticks(ticks=[0, 1], labels=['Real (0)', 'Fake (1)'], rotation=0)\n",
        "plt.show()"
      ],
      "metadata": {
        "id": "tWzx_EJB8Ztn",
        "colab": {
          "base_uri": "https://localhost:8080/",
          "height": 564
        },
        "outputId": "13c3693e-9660-49ec-850d-8c3aeef285b2"
      },
      "execution_count": 15,
      "outputs": [
        {
          "output_type": "display_data",
          "data": {
            "text/plain": [
              "<Figure size 800x600 with 1 Axes>"
            ],
            "image/png": "[encoded data removed]"
          },
          "metadata": {}
        }
      ]
    },
    {
      "cell_type": "code",
      "source": [
        "plt.figure(figsize=(18, 6))\n",
        "sns.countplot(data=df, x='subject', hue='label')\n",
        "\n",
        "plt.title('Label Distribution by Subject')\n",
        "plt.xlabel('Subject')\n",
        "plt.ylabel('Count')\n",
        "plt.show()"
      ],
      "metadata": {
        "colab": {
          "base_uri": "https://localhost:8080/",
          "height": 564
        },
        "id": "WfwfacF15uah",
        "outputId": "562ee4e3-f1e3-4578-9f1e-d88a5ad6028f"
      },
      "execution_count": 16,
      "outputs": [
        {
          "output_type": "display_data",
          "data": {
            "text/plain": [
              "<Figure size 1800x600 with 1 Axes>"
            ],
            "image/png": "[encoded data removed]"
          },
          "metadata": {}
        }
      ]
    },
    {
      "cell_type": "markdown",
      "source": [
        "# Feature Engineering"
      ],
      "metadata": {
        "id": "wg448uY89Ddw"
      }
    },
    {
      "cell_type": "markdown",
      "source": [
        "## Combine 'title', and 'text' for feature extraction"
      ],
      "metadata": {
        "id": "kBDOIexmzy3V"
      }
    },
    {
      "cell_type": "code",
      "source": [
        "df['combined_text'] = df['title'] + ' ' + df['text']"
      ],
      "metadata": {
        "id": "veeJIpiTuh2_"
      },
      "execution_count": 17,
      "outputs": []
    },
    {
      "cell_type": "code",
      "source": [
        "df.head()"
      ],
      "metadata": {
        "id": "tHsrO5-EcyKY",
        "colab": {
          "base_uri": "https://localhost:8080/",
          "height": 206
        },
        "outputId": "17a32c16-69a0-404b-8a60-63fe7a827cac"
      },
      "execution_count": 18,
      "outputs": [
        {
          "output_type": "execute_result",
          "data": {
            "text/plain": [
              "   id                                              title  \\\n",
              "0   0  Exclusive: Six U.S. senators urge Obama to pri...   \n",
              "1   1  Saudi's Kingdom Holding says has support from ...   \n",
              "2   2  WOW! STARBUCKS CEO JUST ACCUSED Whites Of Comm...   \n",
              "3   3  WORKING CLASS REVOLT! OLD SCHOOL JERSEY PATRIO...   \n",
              "5   5  Britain close to deal on Brexit bill with EU -...   \n",
              "\n",
              "                                                text       subject  label  \\\n",
              "0  NEW YORK - Six U.S. senators have urged Presid...  politicsNews      0   \n",
              "1  DUBAI - Saudi Arabian investment firm Kingdom ...     worldnews      0   \n",
              "2  Thousands of Starbucks customers cut up their ...      politics      1   \n",
              "3                            HE WILL NOT DIVIDE US .     left-news      1   \n",
              "5  BRUSSELS/LONDON - Britain has offered to pay m...     worldnews      0   \n",
              "\n",
              "                                       combined_text  \n",
              "0  Exclusive: Six U.S. senators urge Obama to pri...  \n",
              "1  Saudi's Kingdom Holding says has support from ...  \n",
              "2  WOW! STARBUCKS CEO JUST ACCUSED Whites Of Comm...  \n",
              "3  WORKING CLASS REVOLT! OLD SCHOOL JERSEY PATRIO...  \n",
              "5  Britain close to deal on Brexit bill with EU -...  "
            ],
            "text/html": [
              "\n",
              "  <div id=\"df-e81bd245-8378-4943-9f8d-31826e1e6802\" class=\"colab-df-container\">\n",
              "    <div>\n",
              "<style scoped>\n",
              "    .dataframe tbody tr th:only-of-type {\n",
              "        vertical-align: middle;\n",
              "    }\n",
              "\n",
              "    .dataframe tbody tr th {\n",
              "        vertical-align: top;\n",
              "    }\n",
              "\n",
              "    .dataframe thead th {\n",
              "        text-align: right;\n",
              "    }\n",
              "</style>\n",
              "<table border=\"1\" class=\"dataframe\">\n",
              "  <thead>\n",
              "    <tr style=\"text-align: right;\">\n",
              "      <th></th>\n",
              "      <th>id</th>\n",
              "      <th>title</th>\n",
              "      <th>text</th>\n",
              "      <th>subject</th>\n",
              "      <th>label</th>\n",
              "      <th>combined_text</th>\n",
              "    </tr>\n",
              "  </thead>\n",
              "  <tbody>\n",
              "    <tr>\n",
              "      <th>0</th>\n",
              "      <td>0</td>\n",
              "      <td>Exclusive: Six U.S. senators urge Obama to pri...</td>\n",
              "      <td>NEW YORK - Six U.S. senators have urged Presid...</td>\n",
              "      <td>politicsNews</td>\n",
              "      <td>0</td>\n",
              "      <td>Exclusive: Six U.S. senators urge Obama to pri...</td>\n",
              "    </tr>\n",
              "    <tr>\n",
              "      <th>1</th>\n",
              "      <td>1</td>\n",
              "      <td>Saudi's Kingdom Holding says has support from ...</td>\n",
              "      <td>DUBAI - Saudi Arabian investment firm Kingdom ...</td>\n",
              "      <td>worldnews</td>\n",
              "      <td>0</td>\n",
              "      <td>Saudi's Kingdom Holding says has support from ...</td>\n",
              "    </tr>\n",
              "    <tr>\n",
              "      <th>2</th>\n",
              "      <td>2</td>\n",
              "      <td>WOW! STARBUCKS CEO JUST ACCUSED Whites Of Comm...</td>\n",
              "      <td>Thousands of Starbucks customers cut up their ...</td>\n",
              "      <td>politics</td>\n",
              "      <td>1</td>\n",
              "      <td>WOW! STARBUCKS CEO JUST ACCUSED Whites Of Comm...</td>\n",
              "    </tr>\n",
              "    <tr>\n",
              "      <th>3</th>\n",
              "      <td>3</td>\n",
              "      <td>WORKING CLASS REVOLT! OLD SCHOOL JERSEY PATRIO...</td>\n",
              "      <td>HE WILL NOT DIVIDE US .</td>\n",
              "      <td>left-news</td>\n",
              "      <td>1</td>\n",
              "      <td>WORKING CLASS REVOLT! OLD SCHOOL JERSEY PATRIO...</td>\n",
              "    </tr>\n",
              "    <tr>\n",
              "      <th>5</th>\n",
              "      <td>5</td>\n",
              "      <td>Britain close to deal on Brexit bill with EU -...</td>\n",
              "      <td>BRUSSELS/LONDON - Britain has offered to pay m...</td>\n",
              "      <td>worldnews</td>\n",
              "      <td>0</td>\n",
              "      <td>Britain close to deal on Brexit bill with EU -...</td>\n",
              "    </tr>\n",
              "  </tbody>\n",
              "</table>\n",
              "</div>\n",
              "    <div class=\"colab-df-buttons\">\n",
              "\n",
              "  <div class=\"colab-df-container\">\n",
              "    <button class=\"colab-df-convert\" onclick=\"convertToInteractive('df-e81bd245-8378-4943-9f8d-31826e1e6802')\"\n",
              "            title=\"Convert this dataframe to an interactive table.\"\n",
              "            style=\"display:none;\">\n",
              "\n",
              "  <svg xmlns=\"http://www.w3.org/2000/svg\" height=\"24px\" viewBox=\"0 -960 960 960\">\n",
              "    <path d=\"M120-120v-720h720v720H120Zm60-500h600v-160H180v160Zm220 220h160v-160H400v160Zm0 220h160v-160H400v160ZM180-400h160v-160H180v160Zm440 0h160v-160H620v160ZM180-180h160v-160H180v160Zm440 0h160v-160H620v160Z\"/>\n",
              "  </svg>\n",
              "    </button>\n",
              "\n",
              "  <style>\n",
              "    .colab-df-container {\n",
              "      display:flex;\n",
              "      gap: 12px;\n",
              "    }\n",
              "\n",
              "    .colab-df-convert {\n",
              "      background-color: #E8F0FE;\n",
              "      border: none;\n",
              "      border-radius: 50%;\n",
              "      cursor: pointer;\n",
              "      display: none;\n",
              "      fill: #1967D2;\n",
              "      height: 32px;\n",
              "      padding: 0 0 0 0;\n",
              "      width: 32px;\n",
              "    }\n",
              "\n",
              "    .colab-df-convert:hover {\n",
              "      background-color: #E2EBFA;\n",
              "      box-shadow: 0px 1px 2px rgba(60, 64, 67, 0.3), 0px 1px 3px 1px rgba(60, 64, 67, 0.15);\n",
              "      fill: #174EA6;\n",
              "    }\n",
              "\n",
              "    .colab-df-buttons div {\n",
              "      margin-bottom: 4px;\n",
              "    }\n",
              "\n",
              "    [theme=dark] .colab-df-convert {\n",
              "      background-color: #3B4455;\n",
              "      fill: #D2E3FC;\n",
              "    }\n",
              "\n",
              "    [theme=dark] .colab-df-convert:hover {\n",
              "      background-color: #434B5C;\n",
              "      box-shadow: 0px 1px 3px 1px rgba(0, 0, 0, 0.15);\n",
              "      filter: drop-shadow(0px 1px 2px rgba(0, 0, 0, 0.3));\n",
              "      fill: #FFFFFF;\n",
              "    }\n",
              "  </style>\n",
              "\n",
              "    <script>\n",
              "      const buttonEl =\n",
              "        document.querySelector('#df-e81bd245-8378-4943-9f8d-31826e1e6802 button.colab-df-convert');\n",
              "      buttonEl.style.display =\n",
              "        google.colab.kernel.accessAllowed ? 'block' : 'none';\n",
              "\n",
              "      async function convertToInteractive(key) {\n",
              "        const element = document.querySelector('#df-e81bd245-8378-4943-9f8d-31826e1e6802');\n",
              "        const dataTable =\n",
              "          await google.colab.kernel.invokeFunction('convertToInteractive',\n",
              "                                                    [key], {});\n",
              "        if (!dataTable) return;\n",
              "\n",
              "        const docLinkHtml = 'Like what you see? Visit the ' +\n",
              "          '<a target=\"_blank\" href=https://colab.research.google.com/notebooks/data_table.ipynb>data table notebook</a>'\n",
              "          + ' to learn more about interactive tables.';\n",
              "        element.innerHTML = '';\n",
              "        dataTable['output_type'] = 'display_data';\n",
              "        await google.colab.output.renderOutput(dataTable, element);\n",
              "        const docLink = document.createElement('div');\n",
              "        docLink.innerHTML = docLinkHtml;\n",
              "        element.appendChild(docLink);\n",
              "      }\n",
              "    </script>\n",
              "  </div>\n",
              "\n",
              "\n",
              "<div id=\"df-844c8b17-7a5b-4084-983e-25b01c58df73\">\n",
              "  <button class=\"colab-df-quickchart\" onclick=\"quickchart('df-844c8b17-7a5b-4084-983e-25b01c58df73')\"\n",
              "            title=\"Suggest charts\"\n",
              "            style=\"display:none;\">\n",
              "\n",
              "<svg xmlns=\"http://www.w3.org/2000/svg\" height=\"24px\"viewBox=\"0 0 24 24\"\n",
              "     width=\"24px\">\n",
              "    <g>\n",
              "        <path d=\"M19 3H5c-1.1 0-2 .9-2 2v14c0 1.1.9 2 2 2h14c1.1 0 2-.9 2-2V5c0-1.1-.9-2-2-2zM9 17H7v-7h2v7zm4 0h-2V7h2v10zm4 0h-2v-4h2v4z\"/>\n",
              "    </g>\n",
              "</svg>\n",
              "  </button>\n",
              "\n",
              "<style>\n",
              "  .colab-df-quickchart {\n",
              "      --bg-color: #E8F0FE;\n",
              "      --fill-color: #1967D2;\n",
              "      --hover-bg-color: #E2EBFA;\n",
              "      --hover-fill-color: #174EA6;\n",
              "      --disabled-fill-color: #AAA;\n",
              "      --disabled-bg-color: #DDD;\n",
              "  }\n",
              "\n",
              "  [theme=dark] .colab-df-quickchart {\n",
              "      --bg-color: #3B4455;\n",
              "      --fill-color: #D2E3FC;\n",
              "      --hover-bg-color: #434B5C;\n",
              "      --hover-fill-color: #FFFFFF;\n",
              "      --disabled-bg-color: #3B4455;\n",
              "      --disabled-fill-color: #666;\n",
              "  }\n",
              "\n",
              "  .colab-df-quickchart {\n",
              "    background-color: var(--bg-color);\n",
              "    border: none;\n",
              "    border-radius: 50%;\n",
              "    cursor: pointer;\n",
              "    display: none;\n",
              "    fill: var(--fill-color);\n",
              "    height: 32px;\n",
              "    padding: 0;\n",
              "    width: 32px;\n",
              "  }\n",
              "\n",
              "  .colab-df-quickchart:hover {\n",
              "    background-color: var(--hover-bg-color);\n",
              "    box-shadow: 0 1px 2px rgba(60, 64, 67, 0.3), 0 1px 3px 1px rgba(60, 64, 67, 0.15);\n",
              "    fill: var(--button-hover-fill-color);\n",
              "  }\n",
              "\n",
              "  .colab-df-quickchart-complete:disabled,\n",
              "  .colab-df-quickchart-complete:disabled:hover {\n",
              "    background-color: var(--disabled-bg-color);\n",
              "    fill: var(--disabled-fill-color);\n",
              "    box-shadow: none;\n",
              "  }\n",
              "\n",
              "  .colab-df-spinner {\n",
              "    border: 2px solid var(--fill-color);\n",
              "    border-color: transparent;\n",
              "    border-bottom-color: var(--fill-color);\n",
              "    animation:\n",
              "      spin 1s steps(1) infinite;\n",
              "  }\n",
              "\n",
              "  @keyframes spin {\n",
              "    0% {\n",
              "      border-color: transparent;\n",
              "      border-bottom-color: var(--fill-color);\n",
              "      border-left-color: var(--fill-color);\n",
              "    }\n",
              "    20% {\n",
              "      border-color: transparent;\n",
              "      border-left-color: var(--fill-color);\n",
              "      border-top-color: var(--fill-color);\n",
              "    }\n",
              "    30% {\n",
              "      border-color: transparent;\n",
              "      border-left-color: var(--fill-color);\n",
              "      border-top-color: var(--fill-color);\n",
              "      border-right-color: var(--fill-color);\n",
              "    }\n",
              "    40% {\n",
              "      border-color: transparent;\n",
              "      border-right-color: var(--fill-color);\n",
              "      border-top-color: var(--fill-color);\n",
              "    }\n",
              "    60% {\n",
              "      border-color: transparent;\n",
              "      border-right-color: var(--fill-color);\n",
              "    }\n",
              "    80% {\n",
              "      border-color: transparent;\n",
              "      border-right-color: var(--fill-color);\n",
              "      border-bottom-color: var(--fill-color);\n",
              "    }\n",
              "    90% {\n",
              "      border-color: transparent;\n",
              "      border-bottom-color: var(--fill-color);\n",
              "    }\n",
              "  }\n",
              "</style>\n",
              "\n",
              "  <script>\n",
              "    async function quickchart(key) {\n",
              "      const quickchartButtonEl =\n",
              "        document.querySelector('#' + key + ' button');\n",
              "      quickchartButtonEl.disabled = true;  // To prevent multiple clicks.\n",
              "      quickchartButtonEl.classList.add('colab-df-spinner');\n",
              "      try {\n",
              "        const charts = await google.colab.kernel.invokeFunction(\n",
              "            'suggestCharts', [key], {});\n",
              "      } catch (error) {\n",
              "        console.error('Error during call to suggestCharts:', error);\n",
              "      }\n",
              "      quickchartButtonEl.classList.remove('colab-df-spinner');\n",
              "      quickchartButtonEl.classList.add('colab-df-quickchart-complete');\n",
              "    }\n",
              "    (() => {\n",
              "      let quickchartButtonEl =\n",
              "        document.querySelector('#df-844c8b17-7a5b-4084-983e-25b01c58df73 button');\n",
              "      quickchartButtonEl.style.display =\n",
              "        google.colab.kernel.accessAllowed ? 'block' : 'none';\n",
              "    })();\n",
              "  </script>\n",
              "</div>\n",
              "\n",
              "    </div>\n",
              "  </div>\n"
            ],
            "application/vnd.google.colaboratory.intrinsic+json": {
              "type": "dataframe",
              "variable_name": "df",
              "summary": "{\n  \"name\": \"df\",\n  \"rows\": 38649,\n  \"fields\": [\n    {\n      \"column\": \"id\",\n      \"properties\": {\n        \"dtype\": \"number\",\n        \"std\": 12923,\n        \"min\": 0,\n        \"max\": 44878,\n        \"num_unique_values\": 38649,\n        \"samples\": [\n          41243,\n          20217,\n          44390\n        ],\n        \"semantic_type\": \"\",\n        \"description\": \"\"\n      }\n    },\n    {\n      \"column\": \"title\",\n      \"properties\": {\n        \"dtype\": \"string\",\n        \"num_unique_values\": 38275,\n        \"samples\": [\n          \"WATCH: Trump Defends Russia, So John McCain HAMMERS Him With Bad News\",\n          \"Trump picks former U.S. Senator Coats as director of national intelligence\",\n          \"Trump asked Comey to end investigation of Michael Flynn: source\"\n        ],\n        \"semantic_type\": \"\",\n        \"description\": \"\"\n      }\n    },\n    {\n      \"column\": \"text\",\n      \"properties\": {\n        \"dtype\": \"string\",\n        \"num_unique_values\": 38631,\n        \"samples\": [\n          \"LUXEMBOURG - European Commission President Jean Claude Juncker said on Friday he did not want Catalonia to become independent, because that would encourage other regions to do the same, making the European Union ungovernable. If we allow Catalonia and it is not our business to separate, others will do the same. I do not want that, Jean Claude Juncker said in a speech at Luxembourg University. I wouldn t like a European Union in 15 years that consists of some 98 states, he continued. It s already relatively difficult with 28 and with 27 not easier, but with 98 it would simply be impossible. The EU s statistics agency Eurostat lists the bloc as consisting of 98 major regions. Juncker said he was very worried about separatist tendencies in Europe and had encouraged Spanish Prime Minister Mariano Rajoy to ensure the situation did not get out of control. Referring to Catalan calls for EU mediation, he said the Commission could not mediate if only one side asked it to do so. The EU has said it has confidence in Rajoy to resolve what it sees as an internal issue. If the Commission or European Council President (Donald) Tusk were to get involved with only one party asking for mediation, this would lead to a great rejection of the European Union, Juncker said.\",\n          \"When we talk about getting rid of Trump, we also often talk about what a Mike Pence presidency would look like, and it s not good. Pence, if you ll recall, won t go anywhere where alcohol is being served, or with another woman, unless his wife is also present. And he calls his wife Mother. His ridiculous level of Christianity (if, indeed, it can be called that) pushed him to harm Indiana s LGBT community with an extremely discriminatory religious freedom law. The white-haired penis even thinks condoms are too modern. He s also an outspoken opponent of women s reproductive rights, including abortion, and he wants to defund and eliminate Planned Parenthood. So actress Mila Kunis is expressing her displeasure with his positions in a very unique way: [A]s a reminder that there are women in the world that may or may not agree with his platform, I put him on a list of reoccurring donations that are made in his name to Planned Parenthood Every month, to his office, he gets a little letter that says an anonymous donation has been made in your name. She also has an interesting view of what she s doing she sees it as something other than a prank. Watch her discuss it with Conan O Brien below:It may well be a safe bet to assume he burns these. It s also a safe bet that Kunis donation notes aren t the only ones he gets.Featured image via Ahn Young-Joon Pool/Getty Images\",\n          \"WASHINGTON - U.S. Senate Majority Whip John Cornyn on Wednesday indicated Republican leaders want changes to their draft healthcare legislation completed this week so lawmakers could review the revised plan over next week\\u2019s congressional recess. Cornyn, speaking to reporters outside Senate Leader Mitch McConnell\\u2019s office, said having the changes done by Friday would be \\u201coptimal\\u201d and allow the Congressional Budget Office time to provide a new analysis of the bill\\u2019s impact.\"\n        ],\n        \"semantic_type\": \"\",\n        \"description\": \"\"\n      }\n    },\n    {\n      \"column\": \"subject\",\n      \"properties\": {\n        \"dtype\": \"category\",\n        \"num_unique_values\": 8,\n        \"samples\": [\n          \"worldnews\",\n          \"Government News\",\n          \"politicsNews\"\n        ],\n        \"semantic_type\": \"\",\n        \"description\": \"\"\n      }\n    },\n    {\n      \"column\": \"label\",\n      \"properties\": {\n        \"dtype\": \"number\",\n        \"std\": 0,\n        \"min\": 0,\n        \"max\": 1,\n        \"num_unique_values\": 2,\n        \"samples\": [\n          1,\n          0\n        ],\n        \"semantic_type\": \"\",\n        \"description\": \"\"\n      }\n    },\n    {\n      \"column\": \"combined_text\",\n      \"properties\": {\n        \"dtype\": \"string\",\n        \"num_unique_values\": 38649,\n        \"samples\": [\n          \"Factbox: Review of U.S. national monuments could unlock new energy reserves (In this June 9 story, corrects name of company in paragraph 6 to California Resources Corporation; adds \\u201cmillion\\u201d in final paragraph) WASHINGTON - U.S. Interior Secretary Ryan Zinke will make a recommendation to the White House on Saturday on whether to rescind or resize the Bears Ears monument in Utah, setting the tone for the Trump administration\\u2019s broader study of which lands protected by past presidents should be reopened to development. It is unclear when the decision will be made public. While the land encompassed by the 1.35 million-acre Bears Ears monument is not believed to contain massive amounts of coal, oil or gas, several other monuments on Zinke\\u2019s review list may, making the Bears Ears decision important to industry groups. Here is a list: Barack Obama designated this 704,000 acres of southeastern Nevada a national monument in 2015. The area sits in the Chainman Shale play, which is believed by some in the drilling industry to be a promising reserve. Barack Obama designated this 1.35 million acres in southeastern Utah a national monument in late 2016, shortly before leaving office. The area, which surrounds a pair of iconic buttes, has moderate oil and gas potential, and one oil company, EOG Resources, was granted drilling leases within its boundaries shortly before the designation. Bill Clinton designated this 178,000-acre area in southwestern Colorado a national monument in 2000, but because it was already an active zone for the oil and gas industry, he granted drillers an allowance to continue to operate there, with limitations. Bill Clinton designated this 204,000-acre area in California a national monument in 2001. It is located in an area that has seen oil exploration in the past and has some moderate potential for commercial reservoirs. California Resources Corporation has pre-existing drilling rights on part of the monument, but has not yet made a big find. GRAND STAIRCASE-ESCALANTE: Bill Clinton designated this 1.9 million acre swath of southern Utah a national monument in 1996. It holds roughly 62 billion tons of coal, along with coal bed gas, and potentially commercial quantities of oil, according to the Utah Geological Survey. (here ) Bill Clinton designated this 495,000 acre area of central Montana a national monument in 2001. In 1995, the U.S. Geological Survey estimated the area held somewhere between 58.2 and 719.9 billion cubic feet of natural gas, along with between 14 million and 180 million barrels oil. (here )\",\n          \"White House spokesman Spicer draws heat off camera WASHINGTON - White House spokesman Sean Spicer drew the ire of some reporters on Monday for banning cameras from daily press briefings as part of what Spicer called an effort to vary the routine. \\u201cWhy are the cameras off, Sean? Why did you turn them off?\\u201d shouted CNN correspondent Jim Acosta. Other reporters chimed in. \\u201cYou are a taxpayer-funded spokesman for the United States government - can you at least give us an explanation for why the cameras are off?\\u201d Acosta asked. Spicer answered questions for audio only about President Donald Trump\\u2019s healthcare overhaul bill, a Supreme Court ruling on Trump\\u2019s travel ban, and Trump\\u2019s tweets about investigations into Russian meddling in the 2016 presidential election. Still cameras were allowed in but TV cameras were not, a practice Spicer started a few weeks ago. On Friday, CNN sent a courtroom sketch artist to capture the scene and make a point. White House briefings have been open to live television broadcasts since the presidency of Bill Clinton in the 1990s when then-press secretary Mike McCurry decided to make them available to general viewership. In more recent years McCurry has publicly questioned whether he made the right decision. Spicer has complained reporters do too much grandstanding for the cameras. He told reporters there was nothing wrong with mixing up the routine. \\u201cSome days we\\u2019ll have it - some days we won\\u2019t,\\u201d Spicer said, noting Trump would be speaking later alongside India\\u2019s prime minister. \\u201cI want the president\\u2019s voice to carry the day.\\u201d The White House Correspondents\\u2019 Association has urged Spicer to keep the briefing televised in the interests of transparency and a healthy democracy. Reuters White House correspondent Jeff Mason is association president.\"\n        ],\n        \"semantic_type\": \"\",\n        \"description\": \"\"\n      }\n    }\n  ]\n}"
            }
          },
          "metadata": {},
          "execution_count": 18
        }
      ]
    },
    {
      "cell_type": "markdown",
      "source": [
        "## Drop the all the columns except label\tand combined_text"
      ],
      "metadata": {
        "id": "K1tTCsTRz_ZX"
      }
    },
    {
      "cell_type": "code",
      "source": [
        "df.drop(columns=['id', 'title', 'text', 'subject'], inplace= True)"
      ],
      "metadata": {
        "id": "klDpJWpg0Lav"
      },
      "execution_count": 19,
      "outputs": []
    },
    {
      "cell_type": "code",
      "source": [
        "df.head()"
      ],
      "metadata": {
        "id": "3LIJ2yXb0cxF",
        "colab": {
          "base_uri": "https://localhost:8080/",
          "height": 206
        },
        "outputId": "7063f804-27b7-4c58-8218-d45e01428e7f"
      },
      "execution_count": 20,
      "outputs": [
        {
          "output_type": "execute_result",
          "data": {
            "text/plain": [
              "   label                                      combined_text\n",
              "0      0  Exclusive: Six U.S. senators urge Obama to pri...\n",
              "1      0  Saudi's Kingdom Holding says has support from ...\n",
              "2      1  WOW! STARBUCKS CEO JUST ACCUSED Whites Of Comm...\n",
              "3      1  WORKING CLASS REVOLT! OLD SCHOOL JERSEY PATRIO...\n",
              "5      0  Britain close to deal on Brexit bill with EU -..."
            ],
            "text/html": [
              "\n",
              "  <div id=\"df-e87ce79c-c64e-462e-93e4-6f79f63934fb\" class=\"colab-df-container\">\n",
              "    <div>\n",
              "<style scoped>\n",
              "    .dataframe tbody tr th:only-of-type {\n",
              "        vertical-align: middle;\n",
              "    }\n",
              "\n",
              "    .dataframe tbody tr th {\n",
              "        vertical-align: top;\n",
              "    }\n",
              "\n",
              "    .dataframe thead th {\n",
              "        text-align: right;\n",
              "    }\n",
              "</style>\n",
              "<table border=\"1\" class=\"dataframe\">\n",
              "  <thead>\n",
              "    <tr style=\"text-align: right;\">\n",
              "      <th></th>\n",
              "      <th>label</th>\n",
              "      <th>combined_text</th>\n",
              "    </tr>\n",
              "  </thead>\n",
              "  <tbody>\n",
              "    <tr>\n",
              "      <th>0</th>\n",
              "      <td>0</td>\n",
              "      <td>Exclusive: Six U.S. senators urge Obama to pri...</td>\n",
              "    </tr>\n",
              "    <tr>\n",
              "      <th>1</th>\n",
              "      <td>0</td>\n",
              "      <td>Saudi's Kingdom Holding says has support from ...</td>\n",
              "    </tr>\n",
              "    <tr>\n",
              "      <th>2</th>\n",
              "      <td>1</td>\n",
              "      <td>WOW! STARBUCKS CEO JUST ACCUSED Whites Of Comm...</td>\n",
              "    </tr>\n",
              "    <tr>\n",
              "      <th>3</th>\n",
              "      <td>1</td>\n",
              "      <td>WORKING CLASS REVOLT! OLD SCHOOL JERSEY PATRIO...</td>\n",
              "    </tr>\n",
              "    <tr>\n",
              "      <th>5</th>\n",
              "      <td>0</td>\n",
              "      <td>Britain close to deal on Brexit bill with EU -...</td>\n",
              "    </tr>\n",
              "  </tbody>\n",
              "</table>\n",
              "</div>\n",
              "    <div class=\"colab-df-buttons\">\n",
              "\n",
              "  <div class=\"colab-df-container\">\n",
              "    <button class=\"colab-df-convert\" onclick=\"convertToInteractive('df-e87ce79c-c64e-462e-93e4-6f79f63934fb')\"\n",
              "            title=\"Convert this dataframe to an interactive table.\"\n",
              "            style=\"display:none;\">\n",
              "\n",
              "  <svg xmlns=\"http://www.w3.org/2000/svg\" height=\"24px\" viewBox=\"0 -960 960 960\">\n",
              "    <path d=\"M120-120v-720h720v720H120Zm60-500h600v-160H180v160Zm220 220h160v-160H400v160Zm0 220h160v-160H400v160ZM180-400h160v-160H180v160Zm440 0h160v-160H620v160ZM180-180h160v-160H180v160Zm440 0h160v-160H620v160Z\"/>\n",
              "  </svg>\n",
              "    </button>\n",
              "\n",
              "  <style>\n",
              "    .colab-df-container {\n",
              "      display:flex;\n",
              "      gap: 12px;\n",
              "    }\n",
              "\n",
              "    .colab-df-convert {\n",
              "      background-color: #E8F0FE;\n",
              "      border: none;\n",
              "      border-radius: 50%;\n",
              "      cursor: pointer;\n",
              "      display: none;\n",
              "      fill: #1967D2;\n",
              "      height: 32px;\n",
              "      padding: 0 0 0 0;\n",
              "      width: 32px;\n",
              "    }\n",
              "\n",
              "    .colab-df-convert:hover {\n",
              "      background-color: #E2EBFA;\n",
              "      box-shadow: 0px 1px 2px rgba(60, 64, 67, 0.3), 0px 1px 3px 1px rgba(60, 64, 67, 0.15);\n",
              "      fill: #174EA6;\n",
              "    }\n",
              "\n",
              "    .colab-df-buttons div {\n",
              "      margin-bottom: 4px;\n",
              "    }\n",
              "\n",
              "    [theme=dark] .colab-df-convert {\n",
              "      background-color: #3B4455;\n",
              "      fill: #D2E3FC;\n",
              "    }\n",
              "\n",
              "    [theme=dark] .colab-df-convert:hover {\n",
              "      background-color: #434B5C;\n",
              "      box-shadow: 0px 1px 3px 1px rgba(0, 0, 0, 0.15);\n",
              "      filter: drop-shadow(0px 1px 2px rgba(0, 0, 0, 0.3));\n",
              "      fill: #FFFFFF;\n",
              "    }\n",
              "  </style>\n",
              "\n",
              "    <script>\n",
              "      const buttonEl =\n",
              "        document.querySelector('#df-e87ce79c-c64e-462e-93e4-6f79f63934fb button.colab-df-convert');\n",
              "      buttonEl.style.display =\n",
              "        google.colab.kernel.accessAllowed ? 'block' : 'none';\n",
              "\n",
              "      async function convertToInteractive(key) {\n",
              "        const element = document.querySelector('#df-e87ce79c-c64e-462e-93e4-6f79f63934fb');\n",
              "        const dataTable =\n",
              "          await google.colab.kernel.invokeFunction('convertToInteractive',\n",
              "                                                    [key], {});\n",
              "        if (!dataTable) return;\n",
              "\n",
              "        const docLinkHtml = 'Like what you see? Visit the ' +\n",
              "          '<a target=\"_blank\" href=https://colab.research.google.com/notebooks/data_table.ipynb>data table notebook</a>'\n",
              "          + ' to learn more about interactive tables.';\n",
              "        element.innerHTML = '';\n",
              "        dataTable['output_type'] = 'display_data';\n",
              "        await google.colab.output.renderOutput(dataTable, element);\n",
              "        const docLink = document.createElement('div');\n",
              "        docLink.innerHTML = docLinkHtml;\n",
              "        element.appendChild(docLink);\n",
              "      }\n",
              "    </script>\n",
              "  </div>\n",
              "\n",
              "\n",
              "<div id=\"df-9917fb4a-67aa-49bb-a128-61f2b9be65a8\">\n",
              "  <button class=\"colab-df-quickchart\" onclick=\"quickchart('df-9917fb4a-67aa-49bb-a128-61f2b9be65a8')\"\n",
              "            title=\"Suggest charts\"\n",
              "            style=\"display:none;\">\n",
              "\n",
              "<svg xmlns=\"http://www.w3.org/2000/svg\" height=\"24px\"viewBox=\"0 0 24 24\"\n",
              "     width=\"24px\">\n",
              "    <g>\n",
              "        <path d=\"M19 3H5c-1.1 0-2 .9-2 2v14c0 1.1.9 2 2 2h14c1.1 0 2-.9 2-2V5c0-1.1-.9-2-2-2zM9 17H7v-7h2v7zm4 0h-2V7h2v10zm4 0h-2v-4h2v4z\"/>\n",
              "    </g>\n",
              "</svg>\n",
              "  </button>\n",
              "\n",
              "<style>\n",
              "  .colab-df-quickchart {\n",
              "      --bg-color: #E8F0FE;\n",
              "      --fill-color: #1967D2;\n",
              "      --hover-bg-color: #E2EBFA;\n",
              "      --hover-fill-color: #174EA6;\n",
              "      --disabled-fill-color: #AAA;\n",
              "      --disabled-bg-color: #DDD;\n",
              "  }\n",
              "\n",
              "  [theme=dark] .colab-df-quickchart {\n",
              "      --bg-color: #3B4455;\n",
              "      --fill-color: #D2E3FC;\n",
              "      --hover-bg-color: #434B5C;\n",
              "      --hover-fill-color: #FFFFFF;\n",
              "      --disabled-bg-color: #3B4455;\n",
              "      --disabled-fill-color: #666;\n",
              "  }\n",
              "\n",
              "  .colab-df-quickchart {\n",
              "    background-color: var(--bg-color);\n",
              "    border: none;\n",
              "    border-radius: 50%;\n",
              "    cursor: pointer;\n",
              "    display: none;\n",
              "    fill: var(--fill-color);\n",
              "    height: 32px;\n",
              "    padding: 0;\n",
              "    width: 32px;\n",
              "  }\n",
              "\n",
              "  .colab-df-quickchart:hover {\n",
              "    background-color: var(--hover-bg-color);\n",
              "    box-shadow: 0 1px 2px rgba(60, 64, 67, 0.3), 0 1px 3px 1px rgba(60, 64, 67, 0.15);\n",
              "    fill: var(--button-hover-fill-color);\n",
              "  }\n",
              "\n",
              "  .colab-df-quickchart-complete:disabled,\n",
              "  .colab-df-quickchart-complete:disabled:hover {\n",
              "    background-color: var(--disabled-bg-color);\n",
              "    fill: var(--disabled-fill-color);\n",
              "    box-shadow: none;\n",
              "  }\n",
              "\n",
              "  .colab-df-spinner {\n",
              "    border: 2px solid var(--fill-color);\n",
              "    border-color: transparent;\n",
              "    border-bottom-color: var(--fill-color);\n",
              "    animation:\n",
              "      spin 1s steps(1) infinite;\n",
              "  }\n",
              "\n",
              "  @keyframes spin {\n",
              "    0% {\n",
              "      border-color: transparent;\n",
              "      border-bottom-color: var(--fill-color);\n",
              "      border-left-color: var(--fill-color);\n",
              "    }\n",
              "    20% {\n",
              "      border-color: transparent;\n",
              "      border-left-color: var(--fill-color);\n",
              "      border-top-color: var(--fill-color);\n",
              "    }\n",
              "    30% {\n",
              "      border-color: transparent;\n",
              "      border-left-color: var(--fill-color);\n",
              "      border-top-color: var(--fill-color);\n",
              "      border-right-color: var(--fill-color);\n",
              "    }\n",
              "    40% {\n",
              "      border-color: transparent;\n",
              "      border-right-color: var(--fill-color);\n",
              "      border-top-color: var(--fill-color);\n",
              "    }\n",
              "    60% {\n",
              "      border-color: transparent;\n",
              "      border-right-color: var(--fill-color);\n",
              "    }\n",
              "    80% {\n",
              "      border-color: transparent;\n",
              "      border-right-color: var(--fill-color);\n",
              "      border-bottom-color: var(--fill-color);\n",
              "    }\n",
              "    90% {\n",
              "      border-color: transparent;\n",
              "      border-bottom-color: var(--fill-color);\n",
              "    }\n",
              "  }\n",
              "</style>\n",
              "\n",
              "  <script>\n",
              "    async function quickchart(key) {\n",
              "      const quickchartButtonEl =\n",
              "        document.querySelector('#' + key + ' button');\n",
              "      quickchartButtonEl.disabled = true;  // To prevent multiple clicks.\n",
              "      quickchartButtonEl.classList.add('colab-df-spinner');\n",
              "      try {\n",
              "        const charts = await google.colab.kernel.invokeFunction(\n",
              "            'suggestCharts', [key], {});\n",
              "      } catch (error) {\n",
              "        console.error('Error during call to suggestCharts:', error);\n",
              "      }\n",
              "      quickchartButtonEl.classList.remove('colab-df-spinner');\n",
              "      quickchartButtonEl.classList.add('colab-df-quickchart-complete');\n",
              "    }\n",
              "    (() => {\n",
              "      let quickchartButtonEl =\n",
              "        document.querySelector('#df-9917fb4a-67aa-49bb-a128-61f2b9be65a8 button');\n",
              "      quickchartButtonEl.style.display =\n",
              "        google.colab.kernel.accessAllowed ? 'block' : 'none';\n",
              "    })();\n",
              "  </script>\n",
              "</div>\n",
              "\n",
              "    </div>\n",
              "  </div>\n"
            ],
            "application/vnd.google.colaboratory.intrinsic+json": {
              "type": "dataframe",
              "variable_name": "df",
              "summary": "{\n  \"name\": \"df\",\n  \"rows\": 38649,\n  \"fields\": [\n    {\n      \"column\": \"label\",\n      \"properties\": {\n        \"dtype\": \"number\",\n        \"std\": 0,\n        \"min\": 0,\n        \"max\": 1,\n        \"num_unique_values\": 2,\n        \"samples\": [\n          1,\n          0\n        ],\n        \"semantic_type\": \"\",\n        \"description\": \"\"\n      }\n    },\n    {\n      \"column\": \"combined_text\",\n      \"properties\": {\n        \"dtype\": \"string\",\n        \"num_unique_values\": 38649,\n        \"samples\": [\n          \"Factbox: Review of U.S. national monuments could unlock new energy reserves (In this June 9 story, corrects name of company in paragraph 6 to California Resources Corporation; adds \\u201cmillion\\u201d in final paragraph) WASHINGTON - U.S. Interior Secretary Ryan Zinke will make a recommendation to the White House on Saturday on whether to rescind or resize the Bears Ears monument in Utah, setting the tone for the Trump administration\\u2019s broader study of which lands protected by past presidents should be reopened to development. It is unclear when the decision will be made public. While the land encompassed by the 1.35 million-acre Bears Ears monument is not believed to contain massive amounts of coal, oil or gas, several other monuments on Zinke\\u2019s review list may, making the Bears Ears decision important to industry groups. Here is a list: Barack Obama designated this 704,000 acres of southeastern Nevada a national monument in 2015. The area sits in the Chainman Shale play, which is believed by some in the drilling industry to be a promising reserve. Barack Obama designated this 1.35 million acres in southeastern Utah a national monument in late 2016, shortly before leaving office. The area, which surrounds a pair of iconic buttes, has moderate oil and gas potential, and one oil company, EOG Resources, was granted drilling leases within its boundaries shortly before the designation. Bill Clinton designated this 178,000-acre area in southwestern Colorado a national monument in 2000, but because it was already an active zone for the oil and gas industry, he granted drillers an allowance to continue to operate there, with limitations. Bill Clinton designated this 204,000-acre area in California a national monument in 2001. It is located in an area that has seen oil exploration in the past and has some moderate potential for commercial reservoirs. California Resources Corporation has pre-existing drilling rights on part of the monument, but has not yet made a big find. GRAND STAIRCASE-ESCALANTE: Bill Clinton designated this 1.9 million acre swath of southern Utah a national monument in 1996. It holds roughly 62 billion tons of coal, along with coal bed gas, and potentially commercial quantities of oil, according to the Utah Geological Survey. (here ) Bill Clinton designated this 495,000 acre area of central Montana a national monument in 2001. In 1995, the U.S. Geological Survey estimated the area held somewhere between 58.2 and 719.9 billion cubic feet of natural gas, along with between 14 million and 180 million barrels oil. (here )\",\n          \"White House spokesman Spicer draws heat off camera WASHINGTON - White House spokesman Sean Spicer drew the ire of some reporters on Monday for banning cameras from daily press briefings as part of what Spicer called an effort to vary the routine. \\u201cWhy are the cameras off, Sean? Why did you turn them off?\\u201d shouted CNN correspondent Jim Acosta. Other reporters chimed in. \\u201cYou are a taxpayer-funded spokesman for the United States government - can you at least give us an explanation for why the cameras are off?\\u201d Acosta asked. Spicer answered questions for audio only about President Donald Trump\\u2019s healthcare overhaul bill, a Supreme Court ruling on Trump\\u2019s travel ban, and Trump\\u2019s tweets about investigations into Russian meddling in the 2016 presidential election. Still cameras were allowed in but TV cameras were not, a practice Spicer started a few weeks ago. On Friday, CNN sent a courtroom sketch artist to capture the scene and make a point. White House briefings have been open to live television broadcasts since the presidency of Bill Clinton in the 1990s when then-press secretary Mike McCurry decided to make them available to general viewership. In more recent years McCurry has publicly questioned whether he made the right decision. Spicer has complained reporters do too much grandstanding for the cameras. He told reporters there was nothing wrong with mixing up the routine. \\u201cSome days we\\u2019ll have it - some days we won\\u2019t,\\u201d Spicer said, noting Trump would be speaking later alongside India\\u2019s prime minister. \\u201cI want the president\\u2019s voice to carry the day.\\u201d The White House Correspondents\\u2019 Association has urged Spicer to keep the briefing televised in the interests of transparency and a healthy democracy. Reuters White House correspondent Jeff Mason is association president.\"\n        ],\n        \"semantic_type\": \"\",\n        \"description\": \"\"\n      }\n    }\n  ]\n}"
            }
          },
          "metadata": {},
          "execution_count": 20
        }
      ]
    },
    {
      "cell_type": "markdown",
      "source": [
        "# Separating the combined_text & label"
      ],
      "metadata": {
        "id": "L1PbxWIi0iHQ"
      }
    },
    {
      "cell_type": "code",
      "source": [
        "X = df.drop(columns='label', axis=1)\n",
        "y = df['label']"
      ],
      "metadata": {
        "id": "fJkGnOupuqMv"
      },
      "execution_count": 21,
      "outputs": []
    },
    {
      "cell_type": "code",
      "source": [
        "X.head(10)"
      ],
      "metadata": {
        "id": "k7vWtPb4usV7",
        "colab": {
          "base_uri": "https://localhost:8080/",
          "height": 363
        },
        "outputId": "b1d84234-584c-4620-e631-8590b7c7bc59"
      },
      "execution_count": 22,
      "outputs": [
        {
          "output_type": "execute_result",
          "data": {
            "text/plain": [
              "                                        combined_text\n",
              "0   Exclusive: Six U.S. senators urge Obama to pri...\n",
              "1   Saudi's Kingdom Holding says has support from ...\n",
              "2   WOW! STARBUCKS CEO JUST ACCUSED Whites Of Comm...\n",
              "3   WORKING CLASS REVOLT! OLD SCHOOL JERSEY PATRIO...\n",
              "5   Britain close to deal on Brexit bill with EU -...\n",
              "6   Trump Gives Newt Gingrich’s Wife Job As Vatica...\n",
              "7   INSANE VIDEO: IT’S GRADUATION TIME…AND THAT ME...\n",
              "8   Soldiers take over Zimbabwe state broadcaster:...\n",
              "9   Second group of refugees to leave Australian c...\n",
              "10  Islamic State claims attack on Damascus police..."
            ],
            "text/html": [
              "\n",
              "  <div id=\"df-49b8c23e-6856-4bc9-8379-b640ba9ab756\" class=\"colab-df-container\">\n",
              "    <div>\n",
              "<style scoped>\n",
              "    .dataframe tbody tr th:only-of-type {\n",
              "        vertical-align: middle;\n",
              "    }\n",
              "\n",
              "    .dataframe tbody tr th {\n",
              "        vertical-align: top;\n",
              "    }\n",
              "\n",
              "    .dataframe thead th {\n",
              "        text-align: right;\n",
              "    }\n",
              "</style>\n",
              "<table border=\"1\" class=\"dataframe\">\n",
              "  <thead>\n",
              "    <tr style=\"text-align: right;\">\n",
              "      <th></th>\n",
              "      <th>combined_text</th>\n",
              "    </tr>\n",
              "  </thead>\n",
              "  <tbody>\n",
              "    <tr>\n",
              "      <th>0</th>\n",
              "      <td>Exclusive: Six U.S. senators urge Obama to pri...</td>\n",
              "    </tr>\n",
              "    <tr>\n",
              "      <th>1</th>\n",
              "      <td>Saudi's Kingdom Holding says has support from ...</td>\n",
              "    </tr>\n",
              "    <tr>\n",
              "      <th>2</th>\n",
              "      <td>WOW! STARBUCKS CEO JUST ACCUSED Whites Of Comm...</td>\n",
              "    </tr>\n",
              "    <tr>\n",
              "      <th>3</th>\n",
              "      <td>WORKING CLASS REVOLT! OLD SCHOOL JERSEY PATRIO...</td>\n",
              "    </tr>\n",
              "    <tr>\n",
              "      <th>5</th>\n",
              "      <td>Britain close to deal on Brexit bill with EU -...</td>\n",
              "    </tr>\n",
              "    <tr>\n",
              "      <th>6</th>\n",
              "      <td>Trump Gives Newt Gingrich’s Wife Job As Vatica...</td>\n",
              "    </tr>\n",
              "    <tr>\n",
              "      <th>7</th>\n",
              "      <td>INSANE VIDEO: IT’S GRADUATION TIME…AND THAT ME...</td>\n",
              "    </tr>\n",
              "    <tr>\n",
              "      <th>8</th>\n",
              "      <td>Soldiers take over Zimbabwe state broadcaster:...</td>\n",
              "    </tr>\n",
              "    <tr>\n",
              "      <th>9</th>\n",
              "      <td>Second group of refugees to leave Australian c...</td>\n",
              "    </tr>\n",
              "    <tr>\n",
              "      <th>10</th>\n",
              "      <td>Islamic State claims attack on Damascus police...</td>\n",
              "    </tr>\n",
              "  </tbody>\n",
              "</table>\n",
              "</div>\n",
              "    <div class=\"colab-df-buttons\">\n",
              "\n",
              "  <div class=\"colab-df-container\">\n",
              "    <button class=\"colab-df-convert\" onclick=\"convertToInteractive('df-49b8c23e-6856-4bc9-8379-b640ba9ab756')\"\n",
              "            title=\"Convert this dataframe to an interactive table.\"\n",
              "            style=\"display:none;\">\n",
              "\n",
              "  <svg xmlns=\"http://www.w3.org/2000/svg\" height=\"24px\" viewBox=\"0 -960 960 960\">\n",
              "    <path d=\"M120-120v-720h720v720H120Zm60-500h600v-160H180v160Zm220 220h160v-160H400v160Zm0 220h160v-160H400v160ZM180-400h160v-160H180v160Zm440 0h160v-160H620v160ZM180-180h160v-160H180v160Zm440 0h160v-160H620v160Z\"/>\n",
              "  </svg>\n",
              "    </button>\n",
              "\n",
              "  <style>\n",
              "    .colab-df-container {\n",
              "      display:flex;\n",
              "      gap: 12px;\n",
              "    }\n",
              "\n",
              "    .colab-df-convert {\n",
              "      background-color: #E8F0FE;\n",
              "      border: none;\n",
              "      border-radius: 50%;\n",
              "      cursor: pointer;\n",
              "      display: none;\n",
              "      fill: #1967D2;\n",
              "      height: 32px;\n",
              "      padding: 0 0 0 0;\n",
              "      width: 32px;\n",
              "    }\n",
              "\n",
              "    .colab-df-convert:hover {\n",
              "      background-color: #E2EBFA;\n",
              "      box-shadow: 0px 1px 2px rgba(60, 64, 67, 0.3), 0px 1px 3px 1px rgba(60, 64, 67, 0.15);\n",
              "      fill: #174EA6;\n",
              "    }\n",
              "\n",
              "    .colab-df-buttons div {\n",
              "      margin-bottom: 4px;\n",
              "    }\n",
              "\n",
              "    [theme=dark] .colab-df-convert {\n",
              "      background-color: #3B4455;\n",
              "      fill: #D2E3FC;\n",
              "    }\n",
              "\n",
              "    [theme=dark] .colab-df-convert:hover {\n",
              "      background-color: #434B5C;\n",
              "      box-shadow: 0px 1px 3px 1px rgba(0, 0, 0, 0.15);\n",
              "      filter: drop-shadow(0px 1px 2px rgba(0, 0, 0, 0.3));\n",
              "      fill: #FFFFFF;\n",
              "    }\n",
              "  </style>\n",
              "\n",
              "    <script>\n",
              "      const buttonEl =\n",
              "        document.querySelector('#df-49b8c23e-6856-4bc9-8379-b640ba9ab756 button.colab-df-convert');\n",
              "      buttonEl.style.display =\n",
              "        google.colab.kernel.accessAllowed ? 'block' : 'none';\n",
              "\n",
              "      async function convertToInteractive(key) {\n",
              "        const element = document.querySelector('#df-49b8c23e-6856-4bc9-8379-b640ba9ab756');\n",
              "        const dataTable =\n",
              "          await google.colab.kernel.invokeFunction('convertToInteractive',\n",
              "                                                    [key], {});\n",
              "        if (!dataTable) return;\n",
              "\n",
              "        const docLinkHtml = 'Like what you see? Visit the ' +\n",
              "          '<a target=\"_blank\" href=https://colab.research.google.com/notebooks/data_table.ipynb>data table notebook</a>'\n",
              "          + ' to learn more about interactive tables.';\n",
              "        element.innerHTML = '';\n",
              "        dataTable['output_type'] = 'display_data';\n",
              "        await google.colab.output.renderOutput(dataTable, element);\n",
              "        const docLink = document.createElement('div');\n",
              "        docLink.innerHTML = docLinkHtml;\n",
              "        element.appendChild(docLink);\n",
              "      }\n",
              "    </script>\n",
              "  </div>\n",
              "\n",
              "\n",
              "<div id=\"df-edcd1eef-81a9-4423-b415-c78352292e11\">\n",
              "  <button class=\"colab-df-quickchart\" onclick=\"quickchart('df-edcd1eef-81a9-4423-b415-c78352292e11')\"\n",
              "            title=\"Suggest charts\"\n",
              "            style=\"display:none;\">\n",
              "\n",
              "<svg xmlns=\"http://www.w3.org/2000/svg\" height=\"24px\"viewBox=\"0 0 24 24\"\n",
              "     width=\"24px\">\n",
              "    <g>\n",
              "        <path d=\"M19 3H5c-1.1 0-2 .9-2 2v14c0 1.1.9 2 2 2h14c1.1 0 2-.9 2-2V5c0-1.1-.9-2-2-2zM9 17H7v-7h2v7zm4 0h-2V7h2v10zm4 0h-2v-4h2v4z\"/>\n",
              "    </g>\n",
              "</svg>\n",
              "  </button>\n",
              "\n",
              "<style>\n",
              "  .colab-df-quickchart {\n",
              "      --bg-color: #E8F0FE;\n",
              "      --fill-color: #1967D2;\n",
              "      --hover-bg-color: #E2EBFA;\n",
              "      --hover-fill-color: #174EA6;\n",
              "      --disabled-fill-color: #AAA;\n",
              "      --disabled-bg-color: #DDD;\n",
              "  }\n",
              "\n",
              "  [theme=dark] .colab-df-quickchart {\n",
              "      --bg-color: #3B4455;\n",
              "      --fill-color: #D2E3FC;\n",
              "      --hover-bg-color: #434B5C;\n",
              "      --hover-fill-color: #FFFFFF;\n",
              "      --disabled-bg-color: #3B4455;\n",
              "      --disabled-fill-color: #666;\n",
              "  }\n",
              "\n",
              "  .colab-df-quickchart {\n",
              "    background-color: var(--bg-color);\n",
              "    border: none;\n",
              "    border-radius: 50%;\n",
              "    cursor: pointer;\n",
              "    display: none;\n",
              "    fill: var(--fill-color);\n",
              "    height: 32px;\n",
              "    padding: 0;\n",
              "    width: 32px;\n",
              "  }\n",
              "\n",
              "  .colab-df-quickchart:hover {\n",
              "    background-color: var(--hover-bg-color);\n",
              "    box-shadow: 0 1px 2px rgba(60, 64, 67, 0.3), 0 1px 3px 1px rgba(60, 64, 67, 0.15);\n",
              "    fill: var(--button-hover-fill-color);\n",
              "  }\n",
              "\n",
              "  .colab-df-quickchart-complete:disabled,\n",
              "  .colab-df-quickchart-complete:disabled:hover {\n",
              "    background-color: var(--disabled-bg-color);\n",
              "    fill: var(--disabled-fill-color);\n",
              "    box-shadow: none;\n",
              "  }\n",
              "\n",
              "  .colab-df-spinner {\n",
              "    border: 2px solid var(--fill-color);\n",
              "    border-color: transparent;\n",
              "    border-bottom-color: var(--fill-color);\n",
              "    animation:\n",
              "      spin 1s steps(1) infinite;\n",
              "  }\n",
              "\n",
              "  @keyframes spin {\n",
              "    0% {\n",
              "      border-color: transparent;\n",
              "      border-bottom-color: var(--fill-color);\n",
              "      border-left-color: var(--fill-color);\n",
              "    }\n",
              "    20% {\n",
              "      border-color: transparent;\n",
              "      border-left-color: var(--fill-color);\n",
              "      border-top-color: var(--fill-color);\n",
              "    }\n",
              "    30% {\n",
              "      border-color: transparent;\n",
              "      border-left-color: var(--fill-color);\n",
              "      border-top-color: var(--fill-color);\n",
              "      border-right-color: var(--fill-color);\n",
              "    }\n",
              "    40% {\n",
              "      border-color: transparent;\n",
              "      border-right-color: var(--fill-color);\n",
              "      border-top-color: var(--fill-color);\n",
              "    }\n",
              "    60% {\n",
              "      border-color: transparent;\n",
              "      border-right-color: var(--fill-color);\n",
              "    }\n",
              "    80% {\n",
              "      border-color: transparent;\n",
              "      border-right-color: var(--fill-color);\n",
              "      border-bottom-color: var(--fill-color);\n",
              "    }\n",
              "    90% {\n",
              "      border-color: transparent;\n",
              "      border-bottom-color: var(--fill-color);\n",
              "    }\n",
              "  }\n",
              "</style>\n",
              "\n",
              "  <script>\n",
              "    async function quickchart(key) {\n",
              "      const quickchartButtonEl =\n",
              "        document.querySelector('#' + key + ' button');\n",
              "      quickchartButtonEl.disabled = true;  // To prevent multiple clicks.\n",
              "      quickchartButtonEl.classList.add('colab-df-spinner');\n",
              "      try {\n",
              "        const charts = await google.colab.kernel.invokeFunction(\n",
              "            'suggestCharts', [key], {});\n",
              "      } catch (error) {\n",
              "        console.error('Error during call to suggestCharts:', error);\n",
              "      }\n",
              "      quickchartButtonEl.classList.remove('colab-df-spinner');\n",
              "      quickchartButtonEl.classList.add('colab-df-quickchart-complete');\n",
              "    }\n",
              "    (() => {\n",
              "      let quickchartButtonEl =\n",
              "        document.querySelector('#df-edcd1eef-81a9-4423-b415-c78352292e11 button');\n",
              "      quickchartButtonEl.style.display =\n",
              "        google.colab.kernel.accessAllowed ? 'block' : 'none';\n",
              "    })();\n",
              "  </script>\n",
              "</div>\n",
              "\n",
              "    </div>\n",
              "  </div>\n"
            ],
            "application/vnd.google.colaboratory.intrinsic+json": {
              "type": "dataframe",
              "variable_name": "X",
              "summary": "{\n  \"name\": \"X\",\n  \"rows\": 38649,\n  \"fields\": [\n    {\n      \"column\": \"combined_text\",\n      \"properties\": {\n        \"dtype\": \"string\",\n        \"num_unique_values\": 38649,\n        \"samples\": [\n          \"Factbox: Review of U.S. national monuments could unlock new energy reserves (In this June 9 story, corrects name of company in paragraph 6 to California Resources Corporation; adds \\u201cmillion\\u201d in final paragraph) WASHINGTON - U.S. Interior Secretary Ryan Zinke will make a recommendation to the White House on Saturday on whether to rescind or resize the Bears Ears monument in Utah, setting the tone for the Trump administration\\u2019s broader study of which lands protected by past presidents should be reopened to development. It is unclear when the decision will be made public. While the land encompassed by the 1.35 million-acre Bears Ears monument is not believed to contain massive amounts of coal, oil or gas, several other monuments on Zinke\\u2019s review list may, making the Bears Ears decision important to industry groups. Here is a list: Barack Obama designated this 704,000 acres of southeastern Nevada a national monument in 2015. The area sits in the Chainman Shale play, which is believed by some in the drilling industry to be a promising reserve. Barack Obama designated this 1.35 million acres in southeastern Utah a national monument in late 2016, shortly before leaving office. The area, which surrounds a pair of iconic buttes, has moderate oil and gas potential, and one oil company, EOG Resources, was granted drilling leases within its boundaries shortly before the designation. Bill Clinton designated this 178,000-acre area in southwestern Colorado a national monument in 2000, but because it was already an active zone for the oil and gas industry, he granted drillers an allowance to continue to operate there, with limitations. Bill Clinton designated this 204,000-acre area in California a national monument in 2001. It is located in an area that has seen oil exploration in the past and has some moderate potential for commercial reservoirs. California Resources Corporation has pre-existing drilling rights on part of the monument, but has not yet made a big find. GRAND STAIRCASE-ESCALANTE: Bill Clinton designated this 1.9 million acre swath of southern Utah a national monument in 1996. It holds roughly 62 billion tons of coal, along with coal bed gas, and potentially commercial quantities of oil, according to the Utah Geological Survey. (here ) Bill Clinton designated this 495,000 acre area of central Montana a national monument in 2001. In 1995, the U.S. Geological Survey estimated the area held somewhere between 58.2 and 719.9 billion cubic feet of natural gas, along with between 14 million and 180 million barrels oil. (here )\",\n          \"White House spokesman Spicer draws heat off camera WASHINGTON - White House spokesman Sean Spicer drew the ire of some reporters on Monday for banning cameras from daily press briefings as part of what Spicer called an effort to vary the routine. \\u201cWhy are the cameras off, Sean? Why did you turn them off?\\u201d shouted CNN correspondent Jim Acosta. Other reporters chimed in. \\u201cYou are a taxpayer-funded spokesman for the United States government - can you at least give us an explanation for why the cameras are off?\\u201d Acosta asked. Spicer answered questions for audio only about President Donald Trump\\u2019s healthcare overhaul bill, a Supreme Court ruling on Trump\\u2019s travel ban, and Trump\\u2019s tweets about investigations into Russian meddling in the 2016 presidential election. Still cameras were allowed in but TV cameras were not, a practice Spicer started a few weeks ago. On Friday, CNN sent a courtroom sketch artist to capture the scene and make a point. White House briefings have been open to live television broadcasts since the presidency of Bill Clinton in the 1990s when then-press secretary Mike McCurry decided to make them available to general viewership. In more recent years McCurry has publicly questioned whether he made the right decision. Spicer has complained reporters do too much grandstanding for the cameras. He told reporters there was nothing wrong with mixing up the routine. \\u201cSome days we\\u2019ll have it - some days we won\\u2019t,\\u201d Spicer said, noting Trump would be speaking later alongside India\\u2019s prime minister. \\u201cI want the president\\u2019s voice to carry the day.\\u201d The White House Correspondents\\u2019 Association has urged Spicer to keep the briefing televised in the interests of transparency and a healthy democracy. Reuters White House correspondent Jeff Mason is association president.\",\n          \"Canada bans its agencies from sharing information that could lead to torture OTTAWA - Canada, which has been accused of sharing intelligence that led to the torture of prisoners abroad, on Monday issued rules to prevent its security agencies from disclosing or requesting information from other countries if it would result in mistreatment. The rules also prohibit Canada s spy agency, border services agents and federal police from using information likely obtained through torture, unless it is necessary to prevent death or significant injuries. The directions replace 2011 rules put in place by the previous Conservative government that was replaced by Prime Minister Justin Trudeau s Liberals in 2015. The Liberals appear to have publicized the rules to repair the government s reputation, according to experts who noted that it is unusual for a country to publicly disclose such guidelines. Canada has taken the lead in this regard, partly because it has been stung by past history, said University of Ottawa professor Wesley Wark. In one high-profile case, the Conservative government in 2007 apologized and paid C$10.5 million to compensate Maher Arar, who was deported to Syria by U.S. agents after Canadian police mistakenly labeled him an Islamic extremist. Earlier this year, Canada apologized to three Canadian men of Arab descent who said they had been tortured in Syria and blamed Canadian secret services for their ordeal. The Canadian Security Intelligence Service, the Royal Canadian Mounted Police and the Canada Border Services Agency will be prohibited from disclosing or requesting information that would result in a substantial risk of mistreatment, the government said. Information that was likely obtained through torture also cannot be used if there is a risk it would lead to further mistreatment. The government of Canada unequivocally condemns in the strongest possible terms the mistreatment of any individual by anyone for any purpose, Public Safety Minister Ralph Goodale said in a statement. Alex Neve, Secretary General of Amnesty International Canada, said the clearer rules were an improvement over the previous directions that allowed for information to be shared with other countries in exceptional circumstances. There s been a lot of pressure in Canada over the last several years as the previous guidelines came to light and all of the inadequacies in those guidelines gathered quite a bit of concern, said Neve.\"\n        ],\n        \"semantic_type\": \"\",\n        \"description\": \"\"\n      }\n    }\n  ]\n}"
            }
          },
          "metadata": {},
          "execution_count": 22
        }
      ]
    },
    {
      "cell_type": "code",
      "source": [
        "y.sample(10)"
      ],
      "metadata": {
        "id": "_iCnom_rc9Gt",
        "colab": {
          "base_uri": "https://localhost:8080/",
          "height": 398
        },
        "outputId": "a8f2cd1d-dd83-4ae7-a138-93d937ca0281"
      },
      "execution_count": 23,
      "outputs": [
        {
          "output_type": "execute_result",
          "data": {
            "text/plain": [
              "38487    0\n",
              "36006    1\n",
              "39972    0\n",
              "8448     0\n",
              "1873     1\n",
              "16150    0\n",
              "25914    1\n",
              "13843    0\n",
              "656      0\n",
              "30310    0\n",
              "Name: label, dtype: int64"
            ],
            "text/html": [
              "<div>\n",
              "<style scoped>\n",
              "    .dataframe tbody tr th:only-of-type {\n",
              "        vertical-align: middle;\n",
              "    }\n",
              "\n",
              "    .dataframe tbody tr th {\n",
              "        vertical-align: top;\n",
              "    }\n",
              "\n",
              "    .dataframe thead th {\n",
              "        text-align: right;\n",
              "    }\n",
              "</style>\n",
              "<table border=\"1\" class=\"dataframe\">\n",
              "  <thead>\n",
              "    <tr style=\"text-align: right;\">\n",
              "      <th></th>\n",
              "      <th>label</th>\n",
              "    </tr>\n",
              "  </thead>\n",
              "  <tbody>\n",
              "    <tr>\n",
              "      <th>38487</th>\n",
              "      <td>0</td>\n",
              "    </tr>\n",
              "    <tr>\n",
              "      <th>36006</th>\n",
              "      <td>1</td>\n",
              "    </tr>\n",
              "    <tr>\n",
              "      <th>39972</th>\n",
              "      <td>0</td>\n",
              "    </tr>\n",
              "    <tr>\n",
              "      <th>8448</th>\n",
              "      <td>0</td>\n",
              "    </tr>\n",
              "    <tr>\n",
              "      <th>1873</th>\n",
              "      <td>1</td>\n",
              "    </tr>\n",
              "    <tr>\n",
              "      <th>16150</th>\n",
              "      <td>0</td>\n",
              "    </tr>\n",
              "    <tr>\n",
              "      <th>25914</th>\n",
              "      <td>1</td>\n",
              "    </tr>\n",
              "    <tr>\n",
              "      <th>13843</th>\n",
              "      <td>0</td>\n",
              "    </tr>\n",
              "    <tr>\n",
              "      <th>656</th>\n",
              "      <td>0</td>\n",
              "    </tr>\n",
              "    <tr>\n",
              "      <th>30310</th>\n",
              "      <td>0</td>\n",
              "    </tr>\n",
              "  </tbody>\n",
              "</table>\n",
              "</div><br><label><b>dtype:</b> int64</label>"
            ]
          },
          "metadata": {},
          "execution_count": 23
        }
      ]
    },
    {
      "cell_type": "markdown",
      "source": [
        "# Creating Lemmas"
      ],
      "metadata": {
        "id": "YN-6ink66TWR"
      }
    },
    {
      "cell_type": "code",
      "source": [
        "nlp = spacy.load(\"en_core_web_sm\")\n",
        "\n",
        "def clean_text(text):\n",
        "    text = re.sub(r'\\b\\w{1,2}\\b', '', text)\n",
        "    text = re.sub(r'[^a-zA-Z\\s]', ' ', text)\n",
        "    text = re.sub(r'\\s+', ' ', text).strip()\n",
        "    return text\n",
        "\n",
        "def lemmatize_text(text):\n",
        "    doc = nlp(text)\n",
        "    return ' '.join([token.lemma_ for token in doc])\n",
        "\n",
        "X['combined_text'] = X['combined_text'].apply(clean_text).apply(lemmatize_text)"
      ],
      "metadata": {
        "id": "RvuZlPTp6V2W"
      },
      "execution_count": 24,
      "outputs": []
    },
    {
      "cell_type": "code",
      "source": [
        "X.head()"
      ],
      "metadata": {
        "colab": {
          "base_uri": "https://localhost:8080/",
          "height": 206
        },
        "id": "aYPpbiSu6m6y",
        "outputId": "d5e867fb-b9c4-422f-997c-0bfa1de474e6"
      },
      "execution_count": 25,
      "outputs": [
        {
          "output_type": "execute_result",
          "data": {
            "text/plain": [
              "                                       combined_text\n",
              "0  exclusive six senator urge Obama prioritize cy...\n",
              "1  Saudi Kingdom Holding say have support from go...\n",
              "2  WOW starbuck CEO just accuse white commit Sens...\n",
              "3  WORKING CLASS REVOLT OLD SCHOOL JERSEY PATRIOT...\n",
              "5  Britain close deal Brexit bill with source BRU..."
            ],
            "text/html": [
              "\n",
              "  <div id=\"df-95b09bd5-c342-4980-955a-b46fb47c1e13\" class=\"colab-df-container\">\n",
              "    <div>\n",
              "<style scoped>\n",
              "    .dataframe tbody tr th:only-of-type {\n",
              "        vertical-align: middle;\n",
              "    }\n",
              "\n",
              "    .dataframe tbody tr th {\n",
              "        vertical-align: top;\n",
              "    }\n",
              "\n",
              "    .dataframe thead th {\n",
              "        text-align: right;\n",
              "    }\n",
              "</style>\n",
              "<table border=\"1\" class=\"dataframe\">\n",
              "  <thead>\n",
              "    <tr style=\"text-align: right;\">\n",
              "      <th></th>\n",
              "      <th>combined_text</th>\n",
              "    </tr>\n",
              "  </thead>\n",
              "  <tbody>\n",
              "    <tr>\n",
              "      <th>0</th>\n",
              "      <td>exclusive six senator urge Obama prioritize cy...</td>\n",
              "    </tr>\n",
              "    <tr>\n",
              "      <th>1</th>\n",
              "      <td>Saudi Kingdom Holding say have support from go...</td>\n",
              "    </tr>\n",
              "    <tr>\n",
              "      <th>2</th>\n",
              "      <td>WOW starbuck CEO just accuse white commit Sens...</td>\n",
              "    </tr>\n",
              "    <tr>\n",
              "      <th>3</th>\n",
              "      <td>WORKING CLASS REVOLT OLD SCHOOL JERSEY PATRIOT...</td>\n",
              "    </tr>\n",
              "    <tr>\n",
              "      <th>5</th>\n",
              "      <td>Britain close deal Brexit bill with source BRU...</td>\n",
              "    </tr>\n",
              "  </tbody>\n",
              "</table>\n",
              "</div>\n",
              "    <div class=\"colab-df-buttons\">\n",
              "\n",
              "  <div class=\"colab-df-container\">\n",
              "    <button class=\"colab-df-convert\" onclick=\"convertToInteractive('df-95b09bd5-c342-4980-955a-b46fb47c1e13')\"\n",
              "            title=\"Convert this dataframe to an interactive table.\"\n",
              "            style=\"display:none;\">\n",
              "\n",
              "  <svg xmlns=\"http://www.w3.org/2000/svg\" height=\"24px\" viewBox=\"0 -960 960 960\">\n",
              "    <path d=\"M120-120v-720h720v720H120Zm60-500h600v-160H180v160Zm220 220h160v-160H400v160Zm0 220h160v-160H400v160ZM180-400h160v-160H180v160Zm440 0h160v-160H620v160ZM180-180h160v-160H180v160Zm440 0h160v-160H620v160Z\"/>\n",
              "  </svg>\n",
              "    </button>\n",
              "\n",
              "  <style>\n",
              "    .colab-df-container {\n",
              "      display:flex;\n",
              "      gap: 12px;\n",
              "    }\n",
              "\n",
              "    .colab-df-convert {\n",
              "      background-color: #E8F0FE;\n",
              "      border: none;\n",
              "      border-radius: 50%;\n",
              "      cursor: pointer;\n",
              "      display: none;\n",
              "      fill: #1967D2;\n",
              "      height: 32px;\n",
              "      padding: 0 0 0 0;\n",
              "      width: 32px;\n",
              "    }\n",
              "\n",
              "    .colab-df-convert:hover {\n",
              "      background-color: #E2EBFA;\n",
              "      box-shadow: 0px 1px 2px rgba(60, 64, 67, 0.3), 0px 1px 3px 1px rgba(60, 64, 67, 0.15);\n",
              "      fill: #174EA6;\n",
              "    }\n",
              "\n",
              "    .colab-df-buttons div {\n",
              "      margin-bottom: 4px;\n",
              "    }\n",
              "\n",
              "    [theme=dark] .colab-df-convert {\n",
              "      background-color: #3B4455;\n",
              "      fill: #D2E3FC;\n",
              "    }\n",
              "\n",
              "    [theme=dark] .colab-df-convert:hover {\n",
              "      background-color: #434B5C;\n",
              "      box-shadow: 0px 1px 3px 1px rgba(0, 0, 0, 0.15);\n",
              "      filter: drop-shadow(0px 1px 2px rgba(0, 0, 0, 0.3));\n",
              "      fill: #FFFFFF;\n",
              "    }\n",
              "  </style>\n",
              "\n",
              "    <script>\n",
              "      const buttonEl =\n",
              "        document.querySelector('#df-95b09bd5-c342-4980-955a-b46fb47c1e13 button.colab-df-convert');\n",
              "      buttonEl.style.display =\n",
              "        google.colab.kernel.accessAllowed ? 'block' : 'none';\n",
              "\n",
              "      async function convertToInteractive(key) {\n",
              "        const element = document.querySelector('#df-95b09bd5-c342-4980-955a-b46fb47c1e13');\n",
              "        const dataTable =\n",
              "          await google.colab.kernel.invokeFunction('convertToInteractive',\n",
              "                                                    [key], {});\n",
              "        if (!dataTable) return;\n",
              "\n",
              "        const docLinkHtml = 'Like what you see? Visit the ' +\n",
              "          '<a target=\"_blank\" href=https://colab.research.google.com/notebooks/data_table.ipynb>data table notebook</a>'\n",
              "          + ' to learn more about interactive tables.';\n",
              "        element.innerHTML = '';\n",
              "        dataTable['output_type'] = 'display_data';\n",
              "        await google.colab.output.renderOutput(dataTable, element);\n",
              "        const docLink = document.createElement('div');\n",
              "        docLink.innerHTML = docLinkHtml;\n",
              "        element.appendChild(docLink);\n",
              "      }\n",
              "    </script>\n",
              "  </div>\n",
              "\n",
              "\n",
              "<div id=\"df-a6811d9d-8ab8-453c-b587-ea2d2fc27043\">\n",
              "  <button class=\"colab-df-quickchart\" onclick=\"quickchart('df-a6811d9d-8ab8-453c-b587-ea2d2fc27043')\"\n",
              "            title=\"Suggest charts\"\n",
              "            style=\"display:none;\">\n",
              "\n",
              "<svg xmlns=\"http://www.w3.org/2000/svg\" height=\"24px\"viewBox=\"0 0 24 24\"\n",
              "     width=\"24px\">\n",
              "    <g>\n",
              "        <path d=\"M19 3H5c-1.1 0-2 .9-2 2v14c0 1.1.9 2 2 2h14c1.1 0 2-.9 2-2V5c0-1.1-.9-2-2-2zM9 17H7v-7h2v7zm4 0h-2V7h2v10zm4 0h-2v-4h2v4z\"/>\n",
              "    </g>\n",
              "</svg>\n",
              "  </button>\n",
              "\n",
              "<style>\n",
              "  .colab-df-quickchart {\n",
              "      --bg-color: #E8F0FE;\n",
              "      --fill-color: #1967D2;\n",
              "      --hover-bg-color: #E2EBFA;\n",
              "      --hover-fill-color: #174EA6;\n",
              "      --disabled-fill-color: #AAA;\n",
              "      --disabled-bg-color: #DDD;\n",
              "  }\n",
              "\n",
              "  [theme=dark] .colab-df-quickchart {\n",
              "      --bg-color: #3B4455;\n",
              "      --fill-color: #D2E3FC;\n",
              "      --hover-bg-color: #434B5C;\n",
              "      --hover-fill-color: #FFFFFF;\n",
              "      --disabled-bg-color: #3B4455;\n",
              "      --disabled-fill-color: #666;\n",
              "  }\n",
              "\n",
              "  .colab-df-quickchart {\n",
              "    background-color: var(--bg-color);\n",
              "    border: none;\n",
              "    border-radius: 50%;\n",
              "    cursor: pointer;\n",
              "    display: none;\n",
              "    fill: var(--fill-color);\n",
              "    height: 32px;\n",
              "    padding: 0;\n",
              "    width: 32px;\n",
              "  }\n",
              "\n",
              "  .colab-df-quickchart:hover {\n",
              "    background-color: var(--hover-bg-color);\n",
              "    box-shadow: 0 1px 2px rgba(60, 64, 67, 0.3), 0 1px 3px 1px rgba(60, 64, 67, 0.15);\n",
              "    fill: var(--button-hover-fill-color);\n",
              "  }\n",
              "\n",
              "  .colab-df-quickchart-complete:disabled,\n",
              "  .colab-df-quickchart-complete:disabled:hover {\n",
              "    background-color: var(--disabled-bg-color);\n",
              "    fill: var(--disabled-fill-color);\n",
              "    box-shadow: none;\n",
              "  }\n",
              "\n",
              "  .colab-df-spinner {\n",
              "    border: 2px solid var(--fill-color);\n",
              "    border-color: transparent;\n",
              "    border-bottom-color: var(--fill-color);\n",
              "    animation:\n",
              "      spin 1s steps(1) infinite;\n",
              "  }\n",
              "\n",
              "  @keyframes spin {\n",
              "    0% {\n",
              "      border-color: transparent;\n",
              "      border-bottom-color: var(--fill-color);\n",
              "      border-left-color: var(--fill-color);\n",
              "    }\n",
              "    20% {\n",
              "      border-color: transparent;\n",
              "      border-left-color: var(--fill-color);\n",
              "      border-top-color: var(--fill-color);\n",
              "    }\n",
              "    30% {\n",
              "      border-color: transparent;\n",
              "      border-left-color: var(--fill-color);\n",
              "      border-top-color: var(--fill-color);\n",
              "      border-right-color: var(--fill-color);\n",
              "    }\n",
              "    40% {\n",
              "      border-color: transparent;\n",
              "      border-right-color: var(--fill-color);\n",
              "      border-top-color: var(--fill-color);\n",
              "    }\n",
              "    60% {\n",
              "      border-color: transparent;\n",
              "      border-right-color: var(--fill-color);\n",
              "    }\n",
              "    80% {\n",
              "      border-color: transparent;\n",
              "      border-right-color: var(--fill-color);\n",
              "      border-bottom-color: var(--fill-color);\n",
              "    }\n",
              "    90% {\n",
              "      border-color: transparent;\n",
              "      border-bottom-color: var(--fill-color);\n",
              "    }\n",
              "  }\n",
              "</style>\n",
              "\n",
              "  <script>\n",
              "    async function quickchart(key) {\n",
              "      const quickchartButtonEl =\n",
              "        document.querySelector('#' + key + ' button');\n",
              "      quickchartButtonEl.disabled = true;  // To prevent multiple clicks.\n",
              "      quickchartButtonEl.classList.add('colab-df-spinner');\n",
              "      try {\n",
              "        const charts = await google.colab.kernel.invokeFunction(\n",
              "            'suggestCharts', [key], {});\n",
              "      } catch (error) {\n",
              "        console.error('Error during call to suggestCharts:', error);\n",
              "      }\n",
              "      quickchartButtonEl.classList.remove('colab-df-spinner');\n",
              "      quickchartButtonEl.classList.add('colab-df-quickchart-complete');\n",
              "    }\n",
              "    (() => {\n",
              "      let quickchartButtonEl =\n",
              "        document.querySelector('#df-a6811d9d-8ab8-453c-b587-ea2d2fc27043 button');\n",
              "      quickchartButtonEl.style.display =\n",
              "        google.colab.kernel.accessAllowed ? 'block' : 'none';\n",
              "    })();\n",
              "  </script>\n",
              "</div>\n",
              "\n",
              "    </div>\n",
              "  </div>\n"
            ],
            "application/vnd.google.colaboratory.intrinsic+json": {
              "type": "dataframe",
              "variable_name": "X",
              "summary": "{\n  \"name\": \"X\",\n  \"rows\": 38649,\n  \"fields\": [\n    {\n      \"column\": \"combined_text\",\n      \"properties\": {\n        \"dtype\": \"string\",\n        \"num_unique_values\": 38376,\n        \"samples\": [\n          \"Congrats NRA Man who Shot Woman Benghazi Movie be Afraid Mass Shootings couple day ago woman Washington be shoot while watch the Benghazi movie hour and thank the United States obsession with gun be now learn that the shooter Dane Gallion have gun he during the movie because be terrify be kill during mass shooting accord the Seattle Times Dane Gallion tell officer take the gun Regal Cinemas the Landing Thursday night because be concerned about recent mass shooting public place accord police account probable cause statement release Saturday that same anxiety prompt he keep the gun unholstere his waistband the statement say think about that for minute our country have have many mass shooting that this man be scare the movie feel have bring weapon protect himself all know that the good guy with gun rhetoric that the National Rifle Association and Republicans like spew complete nonsense but not everyone educate those who want strict gun law great number people be willfully ignorant and just believe the line they be feed from the gun lobby and their supporter this course doesn excuse the shooting definitely should have never happen gun owner should know how properly handle gun that thing like this not happen Frankly Gallion should have never be allow carry gun be that paranoid after all paranoia make people reckless thing however certainly prove how damaging the last decade mass shooting have be the psyche the people this country personally have little ball fear the pit stomach every single time the movie too when drop elementary school aged child off school how sad that live country that pride itself its freedom but how free be feature image YouTube\",\n          \"video Obama Needed Girl take down Mitt Romney but Mocks GOP Candidates they can handle Putin they can handle CNBC because Obama do such great job keep Putin check right President Obama mock republican candidate who suggest they tough with Vladimir Putin but can handle bunch CNBC moderator debate during speech Monday Obama state have you notice that every one these candidate say you know Obama weak people Putin kicking sand his face when talk Putin going straighten out just look he go go and then turn out they can handle bunch CNBC moderator debate Via Breitbart News\",\n          \"Oracle CEO question policy student visa SAN FRANCISCO Oracle Corp ORCL Chief Executive Mark Hurd Monday say do not understand Trump administration immigration policy that make difficult for foreigner work the United States after earn education here don understand how let somebody into this country our school earn degree and then not allow they practice the trade that they train and learn out here this country and start company here pay taxis have kid say Hurd speak with reporter the Oracle Open World conference early this year the Trump administration make number change tighten the program widely use tech company include the suspension expedite approval process for those visa Immigration amazing opportunity for attract talent and grow our economy Hurd say note his company hire about worker each year average Hurd make his remark come when ask Reuters reporter how the Trump Administration immigration policy have affect Oracle hire practice usually defer these sort question but go with this one can help myself Hurd say don like this all very frank with you Hurd CEO Safra Catz be part President Trump transition team this version the story correct remove denounce the headline and rephrase third paragraph remove incorrect reference Oracle role visa program\"\n        ],\n        \"semantic_type\": \"\",\n        \"description\": \"\"\n      }\n    }\n  ]\n}"
            }
          },
          "metadata": {},
          "execution_count": 25
        }
      ]
    },
    {
      "cell_type": "markdown",
      "source": [
        "# Use Term Frequency - Inverse Document Frequency (TF-IDF) for scoring the text"
      ],
      "metadata": {
        "id": "BTeJq_dO6xYU"
      }
    },
    {
      "cell_type": "code",
      "source": [
        "tfidf = TfidfVectorizer(\n",
        "    token_pattern=r\"\\b[a-zA-Z]{3,}\\b\",\n",
        "    stop_words=list(STOPWORDS),\n",
        "    min_df=5,\n",
        "    max_df=0.8\n",
        ")"
      ],
      "metadata": {
        "id": "U000sksb1FRC"
      },
      "execution_count": 26,
      "outputs": []
    },
    {
      "cell_type": "code",
      "source": [
        "tfidf_X = tfidf.fit_transform(X.values.ravel())"
      ],
      "metadata": {
        "id": "SVvL8iCw1IJ7"
      },
      "execution_count": 27,
      "outputs": []
    },
    {
      "cell_type": "code",
      "source": [
        "tfidf_X"
      ],
      "metadata": {
        "id": "8QcJ1zGG244-",
        "colab": {
          "base_uri": "https://localhost:8080/"
        },
        "outputId": "0b9cb160-cb55-4aa2-8309-f2e46695bc1a"
      },
      "execution_count": 28,
      "outputs": [
        {
          "output_type": "execute_result",
          "data": {
            "text/plain": [
              "<38649x28562 sparse matrix of type '<class 'numpy.float64'>'\n",
              "\twith 5744195 stored elements in Compressed Sparse Row format>"
            ]
          },
          "metadata": {},
          "execution_count": 28
        }
      ]
    },
    {
      "cell_type": "markdown",
      "source": [
        "# Use SVD to transform the sparse TF-IDF matrix into a dense matrix"
      ],
      "metadata": {
        "id": "00typ7mwGx0X"
      }
    },
    {
      "cell_type": "code",
      "source": [
        "svd= TruncatedSVD(n_components= 300, algorithm= 'arpack')\n",
        "svd_mat= svd.fit_transform(tfidf_X)"
      ],
      "metadata": {
        "id": "R6KgBWa-fX1i"
      },
      "execution_count": 29,
      "outputs": []
    },
    {
      "cell_type": "code",
      "source": [
        "svd_mat.shape"
      ],
      "metadata": {
        "id": "Q3pUneiQfo5Q",
        "colab": {
          "base_uri": "https://localhost:8080/"
        },
        "outputId": "8d95920e-df1c-4b76-c154-fd61cfb9b59a"
      },
      "execution_count": 30,
      "outputs": [
        {
          "output_type": "execute_result",
          "data": {
            "text/plain": [
              "(38649, 300)"
            ]
          },
          "metadata": {},
          "execution_count": 30
        }
      ]
    },
    {
      "cell_type": "code",
      "source": [
        "svd_mat"
      ],
      "metadata": {
        "id": "LUTOAgcmflww",
        "colab": {
          "base_uri": "https://localhost:8080/"
        },
        "outputId": "7a3c36c0-1e8f-4abe-9b92-dcbf680c859e"
      },
      "execution_count": 31,
      "outputs": [
        {
          "output_type": "execute_result",
          "data": {
            "text/plain": [
              "array([[ 0.22463693,  0.10629166, -0.07254035, ..., -0.03667446,\n",
              "        -0.0245094 , -0.01935089],\n",
              "       [ 0.09114276,  0.0691577 , -0.0428828 , ...,  0.00920833,\n",
              "        -0.01006393, -0.02139085],\n",
              "       [ 0.11228695, -0.03576996,  0.0022411 , ...,  0.00717708,\n",
              "        -0.0107567 , -0.0174844 ],\n",
              "       ...,\n",
              "       [ 0.15373505, -0.1019081 ,  0.08583401, ...,  0.00899764,\n",
              "        -0.00211708, -0.00286725],\n",
              "       [ 0.1538438 , -0.03463254, -0.05866174, ..., -0.01532538,\n",
              "         0.00881361,  0.00618358],\n",
              "       [ 0.12845372,  0.01474578, -0.07233302, ...,  0.0023643 ,\n",
              "         0.0205269 ,  0.03167084]])"
            ]
          },
          "metadata": {},
          "execution_count": 31
        }
      ]
    },
    {
      "cell_type": "markdown",
      "source": [
        "# Map the SVD matrix with label and split the dataset into training and testing"
      ],
      "metadata": {
        "id": "EvgROmzDHKOy"
      }
    },
    {
      "cell_type": "code",
      "source": [
        "X_train, X_test, y_train, y_test = train_test_split(svd_mat, y, test_size=0.2, random_state=42)"
      ],
      "metadata": {
        "id": "21WzP7nyhoiq"
      },
      "execution_count": 32,
      "outputs": []
    },
    {
      "cell_type": "code",
      "source": [
        "X_train.shape, X_test.shape"
      ],
      "metadata": {
        "id": "k1Pv2wVlhtUM",
        "colab": {
          "base_uri": "https://localhost:8080/"
        },
        "outputId": "4fbed1f1-c2cb-45f2-b7f7-6944df59639f"
      },
      "execution_count": 33,
      "outputs": [
        {
          "output_type": "execute_result",
          "data": {
            "text/plain": [
              "((30919, 300), (7730, 300))"
            ]
          },
          "metadata": {},
          "execution_count": 33
        }
      ]
    },
    {
      "cell_type": "markdown",
      "source": [
        "# Training the model"
      ],
      "metadata": {
        "id": "mLRFGIqN-biW"
      }
    },
    {
      "cell_type": "markdown",
      "source": [
        "## Logistic Regression model"
      ],
      "metadata": {
        "id": "0bkq0KEp-gF5"
      }
    },
    {
      "cell_type": "code",
      "source": [
        "def objective(trial):\n",
        "    params = {\n",
        "        'C': trial.suggest_loguniform('C', 1e-6, 1e2),\n",
        "        'penalty': trial.suggest_categorical('penalty', ['l1', 'l2']),\n",
        "        'solver': trial.suggest_categorical('solver', ['liblinear', 'saga']),\n",
        "        'class_weight': trial.suggest_categorical('class_weight', [None, 'balanced'])\n",
        "    }\n",
        "\n",
        "    if params['solver'] == 'liblinear' and params['penalty'] == 'l1':\n",
        "        params['solver'] = 'saga'\n",
        "\n",
        "    model = LogisticRegression(**params, random_state=42)\n",
        "\n",
        "    score = cross_val_score(model, X_train, y_train, cv=3, scoring='roc_auc').mean()\n",
        "    return score\n",
        "\n",
        "study = optuna.create_study(direction='maximize')\n",
        "study.optimize(objective, n_trials=30)"
      ],
      "metadata": {
        "colab": {
          "base_uri": "https://localhost:8080/"
        },
        "id": "i7H0bSDY8ASR",
        "outputId": "663dfb42-f6b3-4d69-817f-0481cbc9f7f8"
      },
      "execution_count": 67,
      "outputs": [
        {
          "output_type": "stream",
          "name": "stderr",
          "text": [
            "[I 2024-08-20 07:52:45,531] A new study created in memory with name: no-name-d7e22fd9-8d54-443e-bbaa-c9557678a4ea\n",
            "[I 2024-08-20 07:53:09,506] Trial 0 finished with value: 0.9958169111781691 and parameters: {'C': 1.324795929428527, 'penalty': 'l1', 'solver': 'saga', 'class_weight': 'balanced'}. Best is trial 0 with value: 0.9958169111781691.\n",
            "[I 2024-08-20 07:53:14,307] Trial 1 finished with value: 0.9609088257191539 and parameters: {'C': 2.0975578848494427e-05, 'penalty': 'l2', 'solver': 'saga', 'class_weight': 'balanced'}. Best is trial 0 with value: 0.9958169111781691.\n",
            "[I 2024-08-20 07:53:19,872] Trial 2 finished with value: 0.9185440728043743 and parameters: {'C': 0.009999495074776694, 'penalty': 'l1', 'solver': 'liblinear', 'class_weight': None}. Best is trial 0 with value: 0.9958169111781691.\n",
            "[I 2024-08-20 07:53:50,169] Trial 3 finished with value: 0.9962081998373048 and parameters: {'C': 2.511751206250066, 'penalty': 'l1', 'solver': 'saga', 'class_weight': 'balanced'}. Best is trial 3 with value: 0.9962081998373048.\n",
            "[I 2024-08-20 07:53:51,147] Trial 4 finished with value: 0.5 and parameters: {'C': 2.282240114173678e-06, 'penalty': 'l1', 'solver': 'liblinear', 'class_weight': 'balanced'}. Best is trial 3 with value: 0.9962081998373048.\n",
            "[I 2024-08-20 07:53:53,613] Trial 5 finished with value: 0.9725497304491255 and parameters: {'C': 0.011966684316083411, 'penalty': 'l2', 'solver': 'liblinear', 'class_weight': 'balanced'}. Best is trial 3 with value: 0.9962081998373048.\n",
            "[I 2024-08-20 07:53:58,288] Trial 6 finished with value: 0.9608869588519294 and parameters: {'C': 8.35353078589485e-06, 'penalty': 'l2', 'solver': 'saga', 'class_weight': 'balanced'}. Best is trial 3 with value: 0.9962081998373048.\n",
            "[I 2024-08-20 07:54:03,135] Trial 7 finished with value: 0.9609210820656413 and parameters: {'C': 2.888176796926177e-05, 'penalty': 'l2', 'solver': 'saga', 'class_weight': 'balanced'}. Best is trial 3 with value: 0.9962081998373048.\n",
            "[I 2024-08-20 07:54:04,629] Trial 8 finished with value: 0.9610376703315083 and parameters: {'C': 9.3091787528822e-05, 'penalty': 'l2', 'solver': 'liblinear', 'class_weight': 'balanced'}. Best is trial 3 with value: 0.9962081998373048.\n",
            "[I 2024-08-20 07:54:08,270] Trial 9 finished with value: 0.9783091619646093 and parameters: {'C': 0.025860801431266633, 'penalty': 'l2', 'solver': 'liblinear', 'class_weight': 'balanced'}. Best is trial 3 with value: 0.9962081998373048.\n",
            "[I 2024-08-20 07:54:48,580] Trial 10 finished with value: 0.996148612768654 and parameters: {'C': 57.52683663399644, 'penalty': 'l1', 'solver': 'saga', 'class_weight': None}. Best is trial 3 with value: 0.9962081998373048.\n",
            "[I 2024-08-20 07:55:29,803] Trial 11 finished with value: 0.99615470296265 and parameters: {'C': 47.90828978796154, 'penalty': 'l1', 'solver': 'saga', 'class_weight': None}. Best is trial 3 with value: 0.9962081998373048.\n",
            "[I 2024-08-20 07:56:10,281] Trial 12 finished with value: 0.996217860501055 and parameters: {'C': 15.838560111512269, 'penalty': 'l1', 'solver': 'saga', 'class_weight': None}. Best is trial 12 with value: 0.996217860501055.\n",
            "[I 2024-08-20 07:56:33,996] Trial 13 finished with value: 0.9958700283414451 and parameters: {'C': 1.4169604639534679, 'penalty': 'l1', 'solver': 'saga', 'class_weight': None}. Best is trial 12 with value: 0.996217860501055.\n",
            "[I 2024-08-20 07:56:48,379] Trial 14 finished with value: 0.9946040280248424 and parameters: {'C': 0.6212699403064911, 'penalty': 'l1', 'solver': 'saga', 'class_weight': None}. Best is trial 12 with value: 0.996217860501055.\n",
            "[I 2024-08-20 07:57:26,257] Trial 15 finished with value: 0.9962939074980453 and parameters: {'C': 4.573408970457499, 'penalty': 'l1', 'solver': 'saga', 'class_weight': None}. Best is trial 15 with value: 0.9962939074980453.\n",
            "[I 2024-08-20 07:57:32,028] Trial 16 finished with value: 0.9831016714911524 and parameters: {'C': 0.10199538864617028, 'penalty': 'l1', 'solver': 'saga', 'class_weight': None}. Best is trial 15 with value: 0.9962939074980453.\n",
            "[I 2024-08-20 07:58:13,316] Trial 17 finished with value: 0.9962371698247138 and parameters: {'C': 12.294885197618745, 'penalty': 'l1', 'solver': 'saga', 'class_weight': None}. Best is trial 15 with value: 0.9962939074980453.\n",
            "[I 2024-08-20 07:58:14,633] Trial 18 finished with value: 0.5 and parameters: {'C': 0.0007627779168774229, 'penalty': 'l1', 'solver': 'saga', 'class_weight': None}. Best is trial 15 with value: 0.9962939074980453.\n",
            "[I 2024-08-20 07:58:55,579] Trial 19 finished with value: 0.9962621391211747 and parameters: {'C': 9.146730356793856, 'penalty': 'l1', 'solver': 'saga', 'class_weight': None}. Best is trial 15 with value: 0.9962939074980453.\n",
            "[I 2024-08-20 07:59:01,632] Trial 20 finished with value: 0.9920317383363191 and parameters: {'C': 0.2947274174011093, 'penalty': 'l1', 'solver': 'saga', 'class_weight': None}. Best is trial 15 with value: 0.9962939074980453.\n",
            "[I 2024-08-20 07:59:43,257] Trial 21 finished with value: 0.9962626582759319 and parameters: {'C': 9.034989396226695, 'penalty': 'l1', 'solver': 'saga', 'class_weight': None}. Best is trial 15 with value: 0.9962939074980453.\n",
            "[I 2024-08-20 08:00:24,486] Trial 22 finished with value: 0.9962330294043977 and parameters: {'C': 12.911570309379734, 'penalty': 'l1', 'solver': 'saga', 'class_weight': None}. Best is trial 15 with value: 0.9962939074980453.\n",
            "[I 2024-08-20 08:00:59,916] Trial 23 finished with value: 0.9962896909461313 and parameters: {'C': 4.149182280229556, 'penalty': 'l1', 'solver': 'saga', 'class_weight': None}. Best is trial 15 with value: 0.9962939074980453.\n",
            "[I 2024-08-20 08:01:07,263] Trial 24 finished with value: 0.9814514256050867 and parameters: {'C': 0.08813882722143325, 'penalty': 'l1', 'solver': 'saga', 'class_weight': None}. Best is trial 15 with value: 0.9962939074980453.\n",
            "[I 2024-08-20 08:01:11,610] Trial 25 finished with value: 0.5 and parameters: {'C': 0.001974175979315116, 'penalty': 'l1', 'solver': 'saga', 'class_weight': None}. Best is trial 15 with value: 0.9962939074980453.\n",
            "[I 2024-08-20 08:01:43,639] Trial 26 finished with value: 0.9962381574349107 and parameters: {'C': 2.815112800700601, 'penalty': 'l1', 'solver': 'liblinear', 'class_weight': None}. Best is trial 15 with value: 0.9962939074980453.\n",
            "[I 2024-08-20 08:02:24,736] Trial 27 finished with value: 0.9961420160902974 and parameters: {'C': 71.69885699868317, 'penalty': 'l1', 'solver': 'saga', 'class_weight': None}. Best is trial 15 with value: 0.9962939074980453.\n",
            "[I 2024-08-20 08:02:30,928] Trial 28 finished with value: 0.9853666766683626 and parameters: {'C': 0.12560109657520235, 'penalty': 'l1', 'solver': 'saga', 'class_weight': None}. Best is trial 15 with value: 0.9962939074980453.\n",
            "[I 2024-08-20 08:03:05,517] Trial 29 finished with value: 0.9962624807206225 and parameters: {'C': 3.1952663496075573, 'penalty': 'l1', 'solver': 'saga', 'class_weight': None}. Best is trial 15 with value: 0.9962939074980453.\n"
          ]
        }
      ]
    },
    {
      "cell_type": "code",
      "source": [
        "print(f'Best parameters for Logistic Regression: {study.best_params}')"
      ],
      "metadata": {
        "colab": {
          "base_uri": "https://localhost:8080/"
        },
        "id": "oPT7r3A08IAH",
        "outputId": "e8a812e7-df2a-4535-de6a-089ab0e0fc1a"
      },
      "execution_count": 68,
      "outputs": [
        {
          "output_type": "stream",
          "name": "stdout",
          "text": [
            "Best parameters for Logistic Regression: {'C': 4.573408970457499, 'penalty': 'l1', 'solver': 'saga', 'class_weight': None}\n"
          ]
        }
      ]
    },
    {
      "cell_type": "code",
      "source": [
        "lr_model = LogisticRegression(**study.best_params, random_state=42)\n",
        "lr_model.fit(X_train, y_train)"
      ],
      "metadata": {
        "id": "mVUlxNZN-kr6",
        "colab": {
          "base_uri": "https://localhost:8080/",
          "height": 92
        },
        "outputId": "43cbde1a-6c90-448d-d2d4-644341132d39"
      },
      "execution_count": 69,
      "outputs": [
        {
          "output_type": "execute_result",
          "data": {
            "text/plain": [
              "LogisticRegression(C=4.573408970457499, penalty='l1', random_state=42,\n",
              "                   solver='saga')"
            ],
            "text/html": [
              "<style>#sk-container-id-6 {color: black;}#sk-container-id-6 pre{padding: 0;}#sk-container-id-6 div.sk-toggleable {background-color: white;}#sk-container-id-6 label.sk-toggleable__label {cursor: pointer;display: block;width: 100%;margin-bottom: 0;padding: 0.3em;box-sizing: border-box;text-align: center;}#sk-container-id-6 label.sk-toggleable__label-arrow:before {content: \"▸\";float: left;margin-right: 0.25em;color: #696969;}#sk-container-id-6 label.sk-toggleable__label-arrow:hover:before {color: black;}#sk-container-id-6 div.sk-estimator:hover label.sk-toggleable__label-arrow:before {color: black;}#sk-container-id-6 div.sk-toggleable__content {max-height: 0;max-width: 0;overflow: hidden;text-align: left;background-color: #f0f8ff;}#sk-container-id-6 div.sk-toggleable__content pre {margin: 0.2em;color: black;border-radius: 0.25em;background-color: #f0f8ff;}#sk-container-id-6 input.sk-toggleable__control:checked~div.sk-toggleable__content {max-height: 200px;max-width: 100%;overflow: auto;}#sk-container-id-6 input.sk-toggleable__control:checked~label.sk-toggleable__label-arrow:before {content: \"▾\";}#sk-container-id-6 div.sk-estimator input.sk-toggleable__control:checked~label.sk-toggleable__label {background-color: #d4ebff;}#sk-container-id-6 div.sk-label input.sk-toggleable__control:checked~label.sk-toggleable__label {background-color: #d4ebff;}#sk-container-id-6 input.sk-hidden--visually {border: 0;clip: rect(1px 1px 1px 1px);clip: rect(1px, 1px, 1px, 1px);height: 1px;margin: -1px;overflow: hidden;padding: 0;position: absolute;width: 1px;}#sk-container-id-6 div.sk-estimator {font-family: monospace;background-color: #f0f8ff;border: 1px dotted black;border-radius: 0.25em;box-sizing: border-box;margin-bottom: 0.5em;}#sk-container-id-6 div.sk-estimator:hover {background-color: #d4ebff;}#sk-container-id-6 div.sk-parallel-item::after {content: \"\";width: 100%;border-bottom: 1px solid gray;flex-grow: 1;}#sk-container-id-6 div.sk-label:hover label.sk-toggleable__label {background-color: #d4ebff;}#sk-container-id-6 div.sk-serial::before {content: \"\";position: absolute;border-left: 1px solid gray;box-sizing: border-box;top: 0;bottom: 0;left: 50%;z-index: 0;}#sk-container-id-6 div.sk-serial {display: flex;flex-direction: column;align-items: center;background-color: white;padding-right: 0.2em;padding-left: 0.2em;position: relative;}#sk-container-id-6 div.sk-item {position: relative;z-index: 1;}#sk-container-id-6 div.sk-parallel {display: flex;align-items: stretch;justify-content: center;background-color: white;position: relative;}#sk-container-id-6 div.sk-item::before, #sk-container-id-6 div.sk-parallel-item::before {content: \"\";position: absolute;border-left: 1px solid gray;box-sizing: border-box;top: 0;bottom: 0;left: 50%;z-index: -1;}#sk-container-id-6 div.sk-parallel-item {display: flex;flex-direction: column;z-index: 1;position: relative;background-color: white;}#sk-container-id-6 div.sk-parallel-item:first-child::after {align-self: flex-end;width: 50%;}#sk-container-id-6 div.sk-parallel-item:last-child::after {align-self: flex-start;width: 50%;}#sk-container-id-6 div.sk-parallel-item:only-child::after {width: 0;}#sk-container-id-6 div.sk-dashed-wrapped {border: 1px dashed gray;margin: 0 0.4em 0.5em 0.4em;box-sizing: border-box;padding-bottom: 0.4em;background-color: white;}#sk-container-id-6 div.sk-label label {font-family: monospace;font-weight: bold;display: inline-block;line-height: 1.2em;}#sk-container-id-6 div.sk-label-container {text-align: center;}#sk-container-id-6 div.sk-container {/* jupyter's `normalize.less` sets `[hidden] { display: none; }` but bootstrap.min.css set `[hidden] { display: none !important; }` so we also need the `!important` here to be able to override the default hidden behavior on the sphinx rendered scikit-learn.org. See: https://github.com/scikit-learn/scikit-learn/issues/21755 */display: inline-block !important;position: relative;}#sk-container-id-6 div.sk-text-repr-fallback {display: none;}</style><div id=\"sk-container-id-6\" class=\"sk-top-container\"><div class=\"sk-text-repr-fallback\"><pre>LogisticRegression(C=4.573408970457499, penalty=&#x27;l1&#x27;, random_state=42,\n",
              "                   solver=&#x27;saga&#x27;)</pre><b>In a Jupyter environment, please rerun this cell to show the HTML representation or trust the notebook. <br />On GitHub, the HTML representation is unable to render, please try loading this page with nbviewer.org.</b></div><div class=\"sk-container\" hidden><div class=\"sk-item\"><div class=\"sk-estimator sk-toggleable\"><input class=\"sk-toggleable__control sk-hidden--visually\" id=\"sk-estimator-id-6\" type=\"checkbox\" checked><label for=\"sk-estimator-id-6\" class=\"sk-toggleable__label sk-toggleable__label-arrow\">LogisticRegression</label><div class=\"sk-toggleable__content\"><pre>LogisticRegression(C=4.573408970457499, penalty=&#x27;l1&#x27;, random_state=42,\n",
              "                   solver=&#x27;saga&#x27;)</pre></div></div></div></div></div>"
            ]
          },
          "metadata": {},
          "execution_count": 69
        }
      ]
    },
    {
      "cell_type": "code",
      "source": [
        "y_pred_test = lr_model.predict(X_test)"
      ],
      "metadata": {
        "id": "FcxANl4z8qCy"
      },
      "execution_count": 70,
      "outputs": []
    },
    {
      "cell_type": "markdown",
      "source": [
        "### Model Evaluation"
      ],
      "metadata": {
        "id": "hP-uqCcvlQDb"
      }
    },
    {
      "cell_type": "code",
      "source": [
        "test_accuracy = accuracy_score(y_test, y_pred_test)\n",
        "test_precision = precision_score(y_test, y_pred_test)\n",
        "test_recall = recall_score(y_test, y_pred_test)\n",
        "test_f1 = f1_score(y_test, y_pred_test)\n",
        "\n",
        "print(f'Logistic Regression - Test Accuracy: {test_accuracy}')\n",
        "print(f'Logistic Regression - Test Precision: {test_precision}')\n",
        "print(f'Logistic Regression - Test Recall: {test_recall}')\n",
        "print(f'Logistic Regression - Test F1-score: {test_f1}')"
      ],
      "metadata": {
        "id": "E-gB-Wng-qeZ",
        "colab": {
          "base_uri": "https://localhost:8080/"
        },
        "outputId": "c6b6d3f2-c560-4f4d-ded9-fc10223b22df"
      },
      "execution_count": 71,
      "outputs": [
        {
          "output_type": "stream",
          "name": "stdout",
          "text": [
            "Logistic Regression - Test Accuracy: 0.9745148771021992\n",
            "Logistic Regression - Test Precision: 0.9758681577398469\n",
            "Logistic Regression - Test Recall: 0.9664820751967357\n",
            "Logistic Regression - Test F1-score: 0.971152438131498\n"
          ]
        }
      ]
    },
    {
      "cell_type": "code",
      "source": [
        "sns.heatmap(confusion_matrix(y_test,y_pred_test),annot=True,fmt='3.0f',cmap=\"summer\")\n",
        "plt.title('Confusion_matrix', y=1.05, size=15)"
      ],
      "metadata": {
        "id": "HzhST6w2-u9b",
        "colab": {
          "base_uri": "https://localhost:8080/",
          "height": 490
        },
        "outputId": "32005399-2992-4ccf-ecfe-4a1e52260be6"
      },
      "execution_count": 72,
      "outputs": [
        {
          "output_type": "execute_result",
          "data": {
            "text/plain": [
              "Text(0.5, 1.05, 'Confusion_matrix')"
            ]
          },
          "metadata": {},
          "execution_count": 72
        },
        {
          "output_type": "display_data",
          "data": {
            "text/plain": [
              "<Figure size 640x480 with 2 Axes>"
            ],
            "image/png": "[encoded data removed]"
          },
          "metadata": {}
        }
      ]
    },
    {
      "cell_type": "markdown",
      "source": [
        "\n",
        "\n",
        "---\n",
        "### **Test Accuracy: 0.9745148771021992**\n",
        "\n",
        "---\n",
        "\n",
        "\n"
      ],
      "metadata": {
        "id": "x4815yH6loCh"
      }
    },
    {
      "cell_type": "markdown",
      "source": [
        "### Top 20 features"
      ],
      "metadata": {
        "id": "kyPP2pOT7doL"
      }
    },
    {
      "cell_type": "code",
      "source": [
        "terms = tfidf.get_feature_names_out()\n",
        "important_features = sorted(zip(tfidf_X.sum(axis=0).A1, terms), reverse=True)\n",
        "\n",
        "for score, term in important_features[:20]:\n",
        "    print(f\"{term}: {score:.4f}\")"
      ],
      "metadata": {
        "colab": {
          "base_uri": "https://localhost:8080/"
        },
        "id": "FNeYMI9ID4SX",
        "outputId": "5e926594-b494-4d6d-d736-eeb7b3a3413b"
      },
      "execution_count": 66,
      "outputs": [
        {
          "output_type": "stream",
          "name": "stdout",
          "text": [
            "trump: 2346.1052\n",
            "president: 870.0430\n",
            "will: 750.8227\n",
            "state: 718.4139\n",
            "clinton: 684.7325\n",
            "house: 664.4739\n",
            "obama: 654.7082\n",
            "people: 642.1074\n",
            "year: 589.1555\n",
            "republican: 585.7945\n",
            "make: 566.4170\n",
            "white: 551.4635\n",
            "donald: 547.9196\n",
            "one: 543.6012\n",
            "new: 541.1424\n",
            "election: 539.7971\n",
            "government: 538.9564\n",
            "party: 522.8050\n",
            "vote: 513.7044\n",
            "campaign: 500.3952\n"
          ]
        }
      ]
    },
    {
      "cell_type": "markdown",
      "source": [
        "## Random Forest Classifier model"
      ],
      "metadata": {
        "id": "WMjR62nNAFuO"
      }
    },
    {
      "cell_type": "code",
      "source": [
        "def objective(trial):\n",
        "    params = {\n",
        "        'n_estimators': trial.suggest_int('n_estimators', 20, 200, 20),\n",
        "        'max_depth': trial.suggest_int('max_depth', 1, 20),\n",
        "        'min_samples_split': trial.suggest_int('min_samples_split', 2, 20),\n",
        "        'min_samples_leaf': trial.suggest_int('min_samples_leaf', 1, 20)\n",
        "    }\n",
        "\n",
        "    model = RandomForestClassifier(**params, random_state=42)\n",
        "    score = cross_val_score(model, X_train, y_train, cv=3, scoring='roc_auc').mean()\n",
        "    return score\n",
        "\n",
        "study = optuna.create_study(direction='maximize')\n",
        "study.optimize(objective, n_trials=30)"
      ],
      "metadata": {
        "colab": {
          "base_uri": "https://localhost:8080/"
        },
        "id": "AxftPFSjAEIU",
        "outputId": "60088578-16de-41ba-922f-f02251cc0382"
      },
      "execution_count": 41,
      "outputs": [
        {
          "output_type": "stream",
          "name": "stderr",
          "text": [
            "[I 2024-08-20 04:42:40,704] A new study created in memory with name: no-name-415e833b-bd5f-4b65-89c5-9b35b92942aa\n",
            "[I 2024-08-20 04:47:32,999] Trial 0 finished with value: 0.9763550918663789 and parameters: {'n_estimators': 180, 'max_depth': 16, 'min_samples_split': 6, 'min_samples_leaf': 18}. Best is trial 0 with value: 0.9763550918663789.\n",
            "[I 2024-08-20 04:49:06,915] Trial 1 finished with value: 0.9640815707252215 and parameters: {'n_estimators': 100, 'max_depth': 6, 'min_samples_split': 5, 'min_samples_leaf': 14}. Best is trial 0 with value: 0.9763550918663789.\n",
            "[I 2024-08-20 04:50:04,586] Trial 2 finished with value: 0.9723289867332897 and parameters: {'n_estimators': 40, 'max_depth': 11, 'min_samples_split': 5, 'min_samples_leaf': 14}. Best is trial 0 with value: 0.9763550918663789.\n",
            "[I 2024-08-20 04:54:11,930] Trial 3 finished with value: 0.9778954693613238 and parameters: {'n_estimators': 140, 'max_depth': 14, 'min_samples_split': 10, 'min_samples_leaf': 4}. Best is trial 3 with value: 0.9778954693613238.\n",
            "[I 2024-08-20 04:56:43,508] Trial 4 finished with value: 0.9677569638635606 and parameters: {'n_estimators': 140, 'max_depth': 7, 'min_samples_split': 7, 'min_samples_leaf': 17}. Best is trial 3 with value: 0.9778954693613238.\n",
            "[I 2024-08-20 04:57:17,348] Trial 5 finished with value: 0.9692141914179881 and parameters: {'n_estimators': 20, 'max_depth': 12, 'min_samples_split': 2, 'min_samples_leaf': 1}. Best is trial 3 with value: 0.9778954693613238.\n",
            "[I 2024-08-20 04:57:24,846] Trial 6 finished with value: 0.9288250045322597 and parameters: {'n_estimators': 20, 'max_depth': 2, 'min_samples_split': 11, 'min_samples_leaf': 11}. Best is trial 3 with value: 0.9778954693613238.\n",
            "[I 2024-08-20 04:59:25,394] Trial 7 finished with value: 0.9698038641898664 and parameters: {'n_estimators': 100, 'max_depth': 8, 'min_samples_split': 15, 'min_samples_leaf': 5}. Best is trial 3 with value: 0.9778954693613238.\n",
            "[I 2024-08-20 05:01:44,088] Trial 8 finished with value: 0.9769354978281893 and parameters: {'n_estimators': 80, 'max_depth': 13, 'min_samples_split': 10, 'min_samples_leaf': 4}. Best is trial 3 with value: 0.9778954693613238.\n",
            "[I 2024-08-20 05:02:18,087] Trial 9 finished with value: 0.9560682145720131 and parameters: {'n_estimators': 40, 'max_depth': 5, 'min_samples_split': 12, 'min_samples_leaf': 15}. Best is trial 3 with value: 0.9778954693613238.\n",
            "[I 2024-08-20 05:08:32,151] Trial 10 finished with value: 0.9780767242196191 and parameters: {'n_estimators': 200, 'max_depth': 19, 'min_samples_split': 20, 'min_samples_leaf': 8}. Best is trial 10 with value: 0.9780767242196191.\n",
            "[I 2024-08-20 05:14:44,874] Trial 11 finished with value: 0.9781316650011744 and parameters: {'n_estimators': 200, 'max_depth': 20, 'min_samples_split': 20, 'min_samples_leaf': 8}. Best is trial 11 with value: 0.9781316650011744.\n",
            "[I 2024-08-20 05:20:54,495] Trial 12 finished with value: 0.9783192345306996 and parameters: {'n_estimators': 200, 'max_depth': 20, 'min_samples_split': 20, 'min_samples_leaf': 9}. Best is trial 12 with value: 0.9783192345306996.\n",
            "[I 2024-08-20 05:26:54,969] Trial 13 finished with value: 0.9783192345306996 and parameters: {'n_estimators': 200, 'max_depth': 20, 'min_samples_split': 20, 'min_samples_leaf': 9}. Best is trial 12 with value: 0.9783192345306996.\n",
            "[I 2024-08-20 05:31:32,884] Trial 14 finished with value: 0.9777679816908865 and parameters: {'n_estimators': 160, 'max_depth': 17, 'min_samples_split': 17, 'min_samples_leaf': 10}. Best is trial 12 with value: 0.9783192345306996.\n",
            "[I 2024-08-20 05:36:07,584] Trial 15 finished with value: 0.9777873484564671 and parameters: {'n_estimators': 160, 'max_depth': 17, 'min_samples_split': 16, 'min_samples_leaf': 11}. Best is trial 12 with value: 0.9783192345306996.\n",
            "[I 2024-08-20 05:42:27,083] Trial 16 finished with value: 0.9784973985398352 and parameters: {'n_estimators': 200, 'max_depth': 20, 'min_samples_split': 18, 'min_samples_leaf': 7}. Best is trial 16 with value: 0.9784973985398352.\n",
            "[I 2024-08-20 05:47:10,246] Trial 17 finished with value: 0.9776733836312906 and parameters: {'n_estimators': 160, 'max_depth': 15, 'min_samples_split': 18, 'min_samples_leaf': 6}. Best is trial 16 with value: 0.9784973985398352.\n",
            "[I 2024-08-20 05:53:16,357] Trial 18 finished with value: 0.9785626666930032 and parameters: {'n_estimators': 180, 'max_depth': 18, 'min_samples_split': 13, 'min_samples_leaf': 1}. Best is trial 18 with value: 0.9785626666930032.\n",
            "[I 2024-08-20 05:57:28,694] Trial 19 finished with value: 0.9780438091084739 and parameters: {'n_estimators': 120, 'max_depth': 18, 'min_samples_split': 14, 'min_samples_leaf': 1}. Best is trial 18 with value: 0.9785626666930032.\n",
            "[I 2024-08-20 06:01:36,998] Trial 20 finished with value: 0.9724177102303743 and parameters: {'n_estimators': 180, 'max_depth': 9, 'min_samples_split': 13, 'min_samples_leaf': 2}. Best is trial 18 with value: 0.9785626666930032.\n",
            "[I 2024-08-20 06:07:19,180] Trial 21 finished with value: 0.9784453441848028 and parameters: {'n_estimators': 180, 'max_depth': 20, 'min_samples_split': 18, 'min_samples_leaf': 7}. Best is trial 18 with value: 0.9785626666930032.\n",
            "[I 2024-08-20 06:12:58,530] Trial 22 finished with value: 0.9780492860801612 and parameters: {'n_estimators': 180, 'max_depth': 18, 'min_samples_split': 17, 'min_samples_leaf': 6}. Best is trial 18 with value: 0.9785626666930032.\n",
            "[I 2024-08-20 06:17:23,502] Trial 23 finished with value: 0.9778284307967846 and parameters: {'n_estimators': 140, 'max_depth': 16, 'min_samples_split': 18, 'min_samples_leaf': 3}. Best is trial 18 with value: 0.9785626666930032.\n",
            "[I 2024-08-20 06:23:06,649] Trial 24 finished with value: 0.978575257528628 and parameters: {'n_estimators': 180, 'max_depth': 19, 'min_samples_split': 15, 'min_samples_leaf': 6}. Best is trial 24 with value: 0.978575257528628.\n",
            "[I 2024-08-20 06:28:24,118] Trial 25 finished with value: 0.9784192278838084 and parameters: {'n_estimators': 160, 'max_depth': 18, 'min_samples_split': 14, 'min_samples_leaf': 3}. Best is trial 24 with value: 0.978575257528628.\n",
            "[I 2024-08-20 06:33:32,647] Trial 26 finished with value: 0.9774285107440833 and parameters: {'n_estimators': 180, 'max_depth': 15, 'min_samples_split': 15, 'min_samples_leaf': 12}. Best is trial 24 with value: 0.978575257528628.\n",
            "[I 2024-08-20 06:36:41,244] Trial 27 finished with value: 0.9758718804853647 and parameters: {'n_estimators': 120, 'max_depth': 14, 'min_samples_split': 9, 'min_samples_leaf': 20}. Best is trial 24 with value: 0.978575257528628.\n",
            "[I 2024-08-20 06:43:02,651] Trial 28 finished with value: 0.9786065204319963 and parameters: {'n_estimators': 200, 'max_depth': 18, 'min_samples_split': 13, 'min_samples_leaf': 6}. Best is trial 28 with value: 0.9786065204319963.\n",
            "[I 2024-08-20 06:48:37,788] Trial 29 finished with value: 0.9784939838686899 and parameters: {'n_estimators': 180, 'max_depth': 16, 'min_samples_split': 12, 'min_samples_leaf': 5}. Best is trial 28 with value: 0.9786065204319963.\n"
          ]
        }
      ]
    },
    {
      "cell_type": "code",
      "source": [
        "print(f'Best parameters for Random Forest: {study.best_params}')"
      ],
      "metadata": {
        "colab": {
          "base_uri": "https://localhost:8080/"
        },
        "id": "5MOZoWtMApuq",
        "outputId": "f43cae2a-aaf9-4589-84e3-c86572885f38"
      },
      "execution_count": 42,
      "outputs": [
        {
          "output_type": "stream",
          "name": "stdout",
          "text": [
            "Best parameters for Random Forest: {'n_estimators': 200, 'max_depth': 18, 'min_samples_split': 13, 'min_samples_leaf': 6}\n"
          ]
        }
      ]
    },
    {
      "cell_type": "code",
      "source": [
        "rf_model = RandomForestClassifier(**study.best_params, random_state=42)\n",
        "rf_model.fit(X_train, y_train)"
      ],
      "metadata": {
        "colab": {
          "base_uri": "https://localhost:8080/",
          "height": 92
        },
        "id": "klHWxWvmAsFQ",
        "outputId": "5bef445a-166c-4179-b09b-f054132b6ce9"
      },
      "execution_count": 43,
      "outputs": [
        {
          "output_type": "execute_result",
          "data": {
            "text/plain": [
              "RandomForestClassifier(max_depth=18, min_samples_leaf=6, min_samples_split=13,\n",
              "                       n_estimators=200, random_state=42)"
            ],
            "text/html": [
              "<style>#sk-container-id-2 {color: black;}#sk-container-id-2 pre{padding: 0;}#sk-container-id-2 div.sk-toggleable {background-color: white;}#sk-container-id-2 label.sk-toggleable__label {cursor: pointer;display: block;width: 100%;margin-bottom: 0;padding: 0.3em;box-sizing: border-box;text-align: center;}#sk-container-id-2 label.sk-toggleable__label-arrow:before {content: \"▸\";float: left;margin-right: 0.25em;color: #696969;}#sk-container-id-2 label.sk-toggleable__label-arrow:hover:before {color: black;}#sk-container-id-2 div.sk-estimator:hover label.sk-toggleable__label-arrow:before {color: black;}#sk-container-id-2 div.sk-toggleable__content {max-height: 0;max-width: 0;overflow: hidden;text-align: left;background-color: #f0f8ff;}#sk-container-id-2 div.sk-toggleable__content pre {margin: 0.2em;color: black;border-radius: 0.25em;background-color: #f0f8ff;}#sk-container-id-2 input.sk-toggleable__control:checked~div.sk-toggleable__content {max-height: 200px;max-width: 100%;overflow: auto;}#sk-container-id-2 input.sk-toggleable__control:checked~label.sk-toggleable__label-arrow:before {content: \"▾\";}#sk-container-id-2 div.sk-estimator input.sk-toggleable__control:checked~label.sk-toggleable__label {background-color: #d4ebff;}#sk-container-id-2 div.sk-label input.sk-toggleable__control:checked~label.sk-toggleable__label {background-color: #d4ebff;}#sk-container-id-2 input.sk-hidden--visually {border: 0;clip: rect(1px 1px 1px 1px);clip: rect(1px, 1px, 1px, 1px);height: 1px;margin: -1px;overflow: hidden;padding: 0;position: absolute;width: 1px;}#sk-container-id-2 div.sk-estimator {font-family: monospace;background-color: #f0f8ff;border: 1px dotted black;border-radius: 0.25em;box-sizing: border-box;margin-bottom: 0.5em;}#sk-container-id-2 div.sk-estimator:hover {background-color: #d4ebff;}#sk-container-id-2 div.sk-parallel-item::after {content: \"\";width: 100%;border-bottom: 1px solid gray;flex-grow: 1;}#sk-container-id-2 div.sk-label:hover label.sk-toggleable__label {background-color: #d4ebff;}#sk-container-id-2 div.sk-serial::before {content: \"\";position: absolute;border-left: 1px solid gray;box-sizing: border-box;top: 0;bottom: 0;left: 50%;z-index: 0;}#sk-container-id-2 div.sk-serial {display: flex;flex-direction: column;align-items: center;background-color: white;padding-right: 0.2em;padding-left: 0.2em;position: relative;}#sk-container-id-2 div.sk-item {position: relative;z-index: 1;}#sk-container-id-2 div.sk-parallel {display: flex;align-items: stretch;justify-content: center;background-color: white;position: relative;}#sk-container-id-2 div.sk-item::before, #sk-container-id-2 div.sk-parallel-item::before {content: \"\";position: absolute;border-left: 1px solid gray;box-sizing: border-box;top: 0;bottom: 0;left: 50%;z-index: -1;}#sk-container-id-2 div.sk-parallel-item {display: flex;flex-direction: column;z-index: 1;position: relative;background-color: white;}#sk-container-id-2 div.sk-parallel-item:first-child::after {align-self: flex-end;width: 50%;}#sk-container-id-2 div.sk-parallel-item:last-child::after {align-self: flex-start;width: 50%;}#sk-container-id-2 div.sk-parallel-item:only-child::after {width: 0;}#sk-container-id-2 div.sk-dashed-wrapped {border: 1px dashed gray;margin: 0 0.4em 0.5em 0.4em;box-sizing: border-box;padding-bottom: 0.4em;background-color: white;}#sk-container-id-2 div.sk-label label {font-family: monospace;font-weight: bold;display: inline-block;line-height: 1.2em;}#sk-container-id-2 div.sk-label-container {text-align: center;}#sk-container-id-2 div.sk-container {/* jupyter's `normalize.less` sets `[hidden] { display: none; }` but bootstrap.min.css set `[hidden] { display: none !important; }` so we also need the `!important` here to be able to override the default hidden behavior on the sphinx rendered scikit-learn.org. See: https://github.com/scikit-learn/scikit-learn/issues/21755 */display: inline-block !important;position: relative;}#sk-container-id-2 div.sk-text-repr-fallback {display: none;}</style><div id=\"sk-container-id-2\" class=\"sk-top-container\"><div class=\"sk-text-repr-fallback\"><pre>RandomForestClassifier(max_depth=18, min_samples_leaf=6, min_samples_split=13,\n",
              "                       n_estimators=200, random_state=42)</pre><b>In a Jupyter environment, please rerun this cell to show the HTML representation or trust the notebook. <br />On GitHub, the HTML representation is unable to render, please try loading this page with nbviewer.org.</b></div><div class=\"sk-container\" hidden><div class=\"sk-item\"><div class=\"sk-estimator sk-toggleable\"><input class=\"sk-toggleable__control sk-hidden--visually\" id=\"sk-estimator-id-2\" type=\"checkbox\" checked><label for=\"sk-estimator-id-2\" class=\"sk-toggleable__label sk-toggleable__label-arrow\">RandomForestClassifier</label><div class=\"sk-toggleable__content\"><pre>RandomForestClassifier(max_depth=18, min_samples_leaf=6, min_samples_split=13,\n",
              "                       n_estimators=200, random_state=42)</pre></div></div></div></div></div>"
            ]
          },
          "metadata": {},
          "execution_count": 43
        }
      ]
    },
    {
      "cell_type": "code",
      "source": [
        "y_pred_test = rf_model.predict(X_test)"
      ],
      "metadata": {
        "id": "aoUBEMfEAxfZ"
      },
      "execution_count": 44,
      "outputs": []
    },
    {
      "cell_type": "markdown",
      "source": [
        "### Model Evaluation"
      ],
      "metadata": {
        "id": "J7WQHR3rmDcm"
      }
    },
    {
      "cell_type": "code",
      "source": [
        "test_accuracy = accuracy_score(y_test, y_pred_test)\n",
        "test_precision = precision_score(y_test, y_pred_test)\n",
        "test_recall = recall_score(y_test, y_pred_test)\n",
        "test_f1 = f1_score(y_test, y_pred_test)\n",
        "\n",
        "print(f'Random Forest - Test Accuracy: {test_accuracy}')\n",
        "print(f'Random Forest - Test Precision: {test_precision}')\n",
        "print(f'Random Forest - Test Recall: {test_recall}')\n",
        "print(f'Random Forest - Test F1-score: {test_f1}')"
      ],
      "metadata": {
        "colab": {
          "base_uri": "https://localhost:8080/"
        },
        "id": "SNOLEieuAx7s",
        "outputId": "994882ab-13ac-4d01-921a-ce8801d38d9a"
      },
      "execution_count": 45,
      "outputs": [
        {
          "output_type": "stream",
          "name": "stdout",
          "text": [
            "Random Forest - Test Accuracy: 0.926261319534282\n",
            "Random Forest - Test Precision: 0.9466125507336872\n",
            "Random Forest - Test Recall: 0.8837073739434567\n",
            "Random Forest - Test F1-score: 0.9140789870364787\n"
          ]
        }
      ]
    },
    {
      "cell_type": "code",
      "source": [
        "sns.heatmap(confusion_matrix(y_test,y_pred_test),annot=True,fmt='3.0f',cmap=\"summer\")\n",
        "plt.title('Confusion_matrix', y=1.05, size=15)"
      ],
      "metadata": {
        "colab": {
          "base_uri": "https://localhost:8080/",
          "height": 490
        },
        "id": "8RolN2jrA0qs",
        "outputId": "41f0301f-9a8c-4ca4-e81d-87bec0a192b6"
      },
      "execution_count": 46,
      "outputs": [
        {
          "output_type": "execute_result",
          "data": {
            "text/plain": [
              "Text(0.5, 1.05, 'Confusion_matrix')"
            ]
          },
          "metadata": {},
          "execution_count": 46
        },
        {
          "output_type": "display_data",
          "data": {
            "text/plain": [
              "<Figure size 640x480 with 2 Axes>"
            ],
            "image/png": "[encoded data removed]"
          },
          "metadata": {}
        }
      ]
    },
    {
      "cell_type": "markdown",
      "source": [
        "\n",
        "\n",
        "---\n",
        "### **Test Accuracy: 0.926261319534282**\n",
        "\n",
        "---\n",
        "\n",
        "\n"
      ],
      "metadata": {
        "id": "bDPEMCxGmIyT"
      }
    },
    {
      "cell_type": "markdown",
      "source": [
        "## XGBoost Classifier model"
      ],
      "metadata": {
        "id": "jf32cYtt-Und"
      }
    },
    {
      "cell_type": "code",
      "source": [
        "def objective(trial):\n",
        "  params= {\n",
        "      'learning_rate': trial.suggest_float('learning_rate',0.001,0.2),\n",
        "      'max_depth': trial.suggest_int('max_depth',1,8),\n",
        "      'min_child_weight': trial.suggest_float('min_child_weight',0.5,10),\n",
        "      'reg_lamda': trial.suggest_float('reg_lamda',0.001,20),\n",
        "      'n_estimators': trial.suggest_int('n_estimators',20,200),\n",
        "      'max_leaves': trial.suggest_int('max_leaves',2,20),\n",
        "      'verbosity':0,\n",
        "      'objective':'binary:logistic',\n",
        "      'eval_metric':'logloss',\n",
        "\n",
        "  }\n",
        "\n",
        "  model = XGBClassifier(**params, random_state=42)\n",
        "  score = cross_val_score(model, X_train, y_train, cv=3, scoring='roc_auc').mean()\n",
        "  return score\n",
        "\n",
        "study=optuna.create_study(direction='maximize')\n",
        "study.optimize(objective, n_trials=30)"
      ],
      "metadata": {
        "colab": {
          "base_uri": "https://localhost:8080/"
        },
        "id": "q6Zg4skHf0yW",
        "outputId": "d2ff3254-6127-4350-c8fc-6fa07479ce60"
      },
      "execution_count": 48,
      "outputs": [
        {
          "output_type": "stream",
          "name": "stderr",
          "text": [
            "[I 2024-08-20 06:58:50,660] A new study created in memory with name: no-name-c48bbc2c-fc28-4737-a424-b75a13e13128\n",
            "[I 2024-08-20 06:59:11,721] Trial 0 finished with value: 0.9865223691078896 and parameters: {'learning_rate': 0.1976106526038932, 'max_depth': 2, 'min_child_weight': 9.049530409240349, 'reg_lamda': 19.159027741790833, 'n_estimators': 159, 'max_leaves': 12}. Best is trial 0 with value: 0.9865223691078896.\n",
            "[I 2024-08-20 06:59:23,270] Trial 1 finished with value: 0.9685433270132942 and parameters: {'learning_rate': 0.19596383949057475, 'max_depth': 2, 'min_child_weight': 2.198904324253735, 'reg_lamda': 19.19949354253687, 'n_estimators': 117, 'max_leaves': 2}. Best is trial 0 with value: 0.9865223691078896.\n",
            "[I 2024-08-20 06:59:40,919] Trial 2 finished with value: 0.9838614670678677 and parameters: {'learning_rate': 0.15794324023489, 'max_depth': 3, 'min_child_weight': 3.189670712440185, 'reg_lamda': 9.475700614521251, 'n_estimators': 149, 'max_leaves': 4}. Best is trial 0 with value: 0.9865223691078896.\n",
            "[I 2024-08-20 06:59:52,179] Trial 3 finished with value: 0.9626011905315334 and parameters: {'learning_rate': 0.14106361804376988, 'max_depth': 8, 'min_child_weight': 1.1858503364433814, 'reg_lamda': 5.615327813135351, 'n_estimators': 63, 'max_leaves': 3}. Best is trial 0 with value: 0.9865223691078896.\n",
            "[I 2024-08-20 07:00:09,599] Trial 4 finished with value: 0.971604157140955 and parameters: {'learning_rate': 0.0966570426773072, 'max_depth': 3, 'min_child_weight': 7.492246491035081, 'reg_lamda': 13.31318688898797, 'n_estimators': 143, 'max_leaves': 3}. Best is trial 0 with value: 0.9865223691078896.\n",
            "[I 2024-08-20 07:00:30,278] Trial 5 finished with value: 0.9633100560354658 and parameters: {'learning_rate': 0.048735100139816336, 'max_depth': 7, 'min_child_weight': 4.037437183255495, 'reg_lamda': 2.2364308044688688, 'n_estimators': 75, 'max_leaves': 9}. Best is trial 0 with value: 0.9865223691078896.\n",
            "[I 2024-08-20 07:01:34,505] Trial 6 finished with value: 0.9595225603073024 and parameters: {'learning_rate': 0.011539313640485948, 'max_depth': 7, 'min_child_weight': 1.120411539788464, 'reg_lamda': 1.1985178498829403, 'n_estimators': 162, 'max_leaves': 20}. Best is trial 0 with value: 0.9865223691078896.\n",
            "[I 2024-08-20 07:02:16,595] Trial 7 finished with value: 0.9917019284972494 and parameters: {'learning_rate': 0.19979123824385664, 'max_depth': 7, 'min_child_weight': 7.877948235694798, 'reg_lamda': 18.980350306873447, 'n_estimators': 126, 'max_leaves': 20}. Best is trial 7 with value: 0.9917019284972494.\n",
            "[I 2024-08-20 07:02:24,747] Trial 8 finished with value: 0.9333195195475165 and parameters: {'learning_rate': 0.06228584706351984, 'max_depth': 1, 'min_child_weight': 9.332728641069302, 'reg_lamda': 16.87178189328282, 'n_estimators': 70, 'max_leaves': 9}. Best is trial 7 with value: 0.9917019284972494.\n",
            "[I 2024-08-20 07:02:39,383] Trial 9 finished with value: 0.9540839894360874 and parameters: {'learning_rate': 0.055768233488337496, 'max_depth': 7, 'min_child_weight': 9.474436997106455, 'reg_lamda': 13.198060197787058, 'n_estimators': 110, 'max_leaves': 3}. Best is trial 7 with value: 0.9917019284972494.\n",
            "[I 2024-08-20 07:02:53,002] Trial 10 finished with value: 0.9704486708628961 and parameters: {'learning_rate': 0.14444503208372042, 'max_depth': 6, 'min_child_weight': 6.509249972742639, 'reg_lamda': 9.23436071625652, 'n_estimators': 23, 'max_leaves': 20}. Best is trial 7 with value: 0.9917019284972494.\n",
            "[I 2024-08-20 07:03:42,204] Trial 11 finished with value: 0.9926563861223826 and parameters: {'learning_rate': 0.18840011949536728, 'max_depth': 5, 'min_child_weight': 7.7606190094474945, 'reg_lamda': 19.60716692012896, 'n_estimators': 188, 'max_leaves': 16}. Best is trial 11 with value: 0.9926563861223826.\n",
            "[I 2024-08-20 07:04:34,737] Trial 12 finished with value: 0.9925060997966839 and parameters: {'learning_rate': 0.16975419256167842, 'max_depth': 5, 'min_child_weight': 6.728294913588613, 'reg_lamda': 15.12416931672039, 'n_estimators': 197, 'max_leaves': 16}. Best is trial 11 with value: 0.9926563861223826.\n",
            "[I 2024-08-20 07:05:22,501] Trial 13 finished with value: 0.9921903195853007 and parameters: {'learning_rate': 0.15728107645930195, 'max_depth': 5, 'min_child_weight': 5.557360994807406, 'reg_lamda': 14.93745070756114, 'n_estimators': 199, 'max_leaves': 15}. Best is trial 11 with value: 0.9926563861223826.\n",
            "[I 2024-08-20 07:06:14,244] Trial 14 finished with value: 0.990973059695428 and parameters: {'learning_rate': 0.10950901078127705, 'max_depth': 5, 'min_child_weight': 5.42375059144651, 'reg_lamda': 16.171494227535643, 'n_estimators': 197, 'max_leaves': 16}. Best is trial 11 with value: 0.9926563861223826.\n",
            "[I 2024-08-20 07:06:53,356] Trial 15 finished with value: 0.9922090969373284 and parameters: {'learning_rate': 0.17318225213736638, 'max_depth': 4, 'min_child_weight': 7.5218717671947655, 'reg_lamda': 11.50142973935661, 'n_estimators': 180, 'max_leaves': 16}. Best is trial 11 with value: 0.9926563861223826.\n",
            "[I 2024-08-20 07:07:34,791] Trial 16 finished with value: 0.9903923154751332 and parameters: {'learning_rate': 0.11560230044506181, 'max_depth': 4, 'min_child_weight': 6.6423643449711305, 'reg_lamda': 16.83535894723309, 'n_estimators': 180, 'max_leaves': 13}. Best is trial 11 with value: 0.9926563861223826.\n",
            "[I 2024-08-20 07:08:34,049] Trial 17 finished with value: 0.992146686300544 and parameters: {'learning_rate': 0.17443664362540068, 'max_depth': 6, 'min_child_weight': 4.179749191413075, 'reg_lamda': 6.720089533245883, 'n_estimators': 177, 'max_leaves': 17}. Best is trial 11 with value: 0.9926563861223826.\n",
            "[I 2024-08-20 07:09:08,649] Trial 18 finished with value: 0.9882837448683507 and parameters: {'learning_rate': 0.13430714792752468, 'max_depth': 5, 'min_child_weight': 8.315603928843682, 'reg_lamda': 14.402777332736864, 'n_estimators': 96, 'max_leaves': 18}. Best is trial 11 with value: 0.9926563861223826.\n",
            "[I 2024-08-20 07:09:43,570] Trial 19 finished with value: 0.9906743703028305 and parameters: {'learning_rate': 0.1646120424895826, 'max_depth': 6, 'min_child_weight': 6.333929427576472, 'reg_lamda': 11.122478789298349, 'n_estimators': 136, 'max_leaves': 14}. Best is trial 11 with value: 0.9926563861223826.\n",
            "[I 2024-08-20 07:10:23,914] Trial 20 finished with value: 0.9857331888466123 and parameters: {'learning_rate': 0.07578145640363797, 'max_depth': 4, 'min_child_weight': 4.672683902644249, 'reg_lamda': 17.554886143776308, 'n_estimators': 174, 'max_leaves': 10}. Best is trial 11 with value: 0.9926563861223826.\n",
            "[I 2024-08-20 07:11:06,866] Trial 21 finished with value: 0.9924930542997851 and parameters: {'learning_rate': 0.17796480387948488, 'max_depth': 4, 'min_child_weight': 7.283632395301359, 'reg_lamda': 11.651846937613124, 'n_estimators': 200, 'max_leaves': 18}. Best is trial 11 with value: 0.9926563861223826.\n",
            "[I 2024-08-20 07:11:37,596] Trial 22 finished with value: 0.9914504793937421 and parameters: {'learning_rate': 0.18464938782538268, 'max_depth': 3, 'min_child_weight': 6.946972782643961, 'reg_lamda': 7.596149380023493, 'n_estimators': 196, 'max_leaves': 18}. Best is trial 11 with value: 0.9926563861223826.\n",
            "[I 2024-08-20 07:12:37,676] Trial 23 finished with value: 0.9917565162185841 and parameters: {'learning_rate': 0.1285255644407561, 'max_depth': 5, 'min_child_weight': 8.429359261079831, 'reg_lamda': 11.891431474999354, 'n_estimators': 187, 'max_leaves': 18}. Best is trial 11 with value: 0.9926563861223826.\n",
            "[I 2024-08-20 07:13:04,834] Trial 24 finished with value: 0.9900096740049245 and parameters: {'learning_rate': 0.1814236227186809, 'max_depth': 4, 'min_child_weight': 5.86079822637058, 'reg_lamda': 14.915525179383572, 'n_estimators': 165, 'max_leaves': 7}. Best is trial 11 with value: 0.9926563861223826.\n",
            "[I 2024-08-20 07:13:49,898] Trial 25 finished with value: 0.9919641078764747 and parameters: {'learning_rate': 0.15655424466026935, 'max_depth': 6, 'min_child_weight': 8.568254036039855, 'reg_lamda': 13.199335718588319, 'n_estimators': 189, 'max_leaves': 14}. Best is trial 11 with value: 0.9926563861223826.\n",
            "[I 2024-08-20 07:14:30,887] Trial 26 finished with value: 0.9916294749314231 and parameters: {'learning_rate': 0.18262120867905896, 'max_depth': 5, 'min_child_weight': 7.378903485615325, 'reg_lamda': 17.788416693569577, 'n_estimators': 150, 'max_leaves': 16}. Best is trial 11 with value: 0.9926563861223826.\n",
            "[I 2024-08-20 07:14:58,931] Trial 27 finished with value: 0.9859173701236318 and parameters: {'learning_rate': 0.09271210084980842, 'max_depth': 3, 'min_child_weight': 9.915637096970675, 'reg_lamda': 15.769727195894042, 'n_estimators': 169, 'max_leaves': 12}. Best is trial 11 with value: 0.9926563861223826.\n",
            "[I 2024-08-20 07:15:21,471] Trial 28 finished with value: 0.9882465465885201 and parameters: {'learning_rate': 0.16675338726677744, 'max_depth': 4, 'min_child_weight': 4.670345774910615, 'reg_lamda': 3.78370993439155, 'n_estimators': 89, 'max_leaves': 18}. Best is trial 11 with value: 0.9926563861223826.\n",
            "[I 2024-08-20 07:15:40,473] Trial 29 finished with value: 0.9860968223459731 and parameters: {'learning_rate': 0.1902354464407278, 'max_depth': 2, 'min_child_weight': 6.043274312546669, 'reg_lamda': 19.264471393309876, 'n_estimators': 156, 'max_leaves': 12}. Best is trial 11 with value: 0.9926563861223826.\n"
          ]
        }
      ]
    },
    {
      "cell_type": "code",
      "source": [
        "print(f'Best parameters for XGBoost: {study.best_params}')"
      ],
      "metadata": {
        "colab": {
          "base_uri": "https://localhost:8080/"
        },
        "id": "2PRQ-sbOisZn",
        "outputId": "02bf8af6-20b9-4ebe-d6cc-951c67f6ae53"
      },
      "execution_count": 49,
      "outputs": [
        {
          "output_type": "stream",
          "name": "stdout",
          "text": [
            "Best parameters for XGBoost: {'learning_rate': 0.18840011949536728, 'max_depth': 5, 'min_child_weight': 7.7606190094474945, 'reg_lamda': 19.60716692012896, 'n_estimators': 188, 'max_leaves': 16}\n"
          ]
        }
      ]
    },
    {
      "cell_type": "code",
      "source": [
        "xgb_model = XGBClassifier(**study.best_params, random_state=42)\n",
        "xgb_model.fit(X_train, y_train)"
      ],
      "metadata": {
        "colab": {
          "base_uri": "https://localhost:8080/",
          "height": 248
        },
        "id": "BkSAkFOeiuwi",
        "outputId": "e61a5200-983c-41f4-b141-a14a569615ce"
      },
      "execution_count": 50,
      "outputs": [
        {
          "output_type": "execute_result",
          "data": {
            "text/plain": [
              "XGBClassifier(base_score=None, booster=None, callbacks=None,\n",
              "              colsample_bylevel=None, colsample_bynode=None,\n",
              "              colsample_bytree=None, device=None, early_stopping_rounds=None,\n",
              "              enable_categorical=False, eval_metric=None, feature_types=None,\n",
              "              gamma=None, grow_policy=None, importance_type=None,\n",
              "              interaction_constraints=None, learning_rate=0.18840011949536728,\n",
              "              max_bin=None, max_cat_threshold=None, max_cat_to_onehot=None,\n",
              "              max_delta_step=None, max_depth=5, max_leaves=16,\n",
              "              min_child_weight=7.7606190094474945, missing=nan,\n",
              "              monotone_constraints=None, multi_strategy=None, n_estimators=188,\n",
              "              n_jobs=None, num_parallel_tree=None, random_state=42, ...)"
            ],
            "text/html": [
              "<style>#sk-container-id-3 {color: black;}#sk-container-id-3 pre{padding: 0;}#sk-container-id-3 div.sk-toggleable {background-color: white;}#sk-container-id-3 label.sk-toggleable__label {cursor: pointer;display: block;width: 100%;margin-bottom: 0;padding: 0.3em;box-sizing: border-box;text-align: center;}#sk-container-id-3 label.sk-toggleable__label-arrow:before {content: \"▸\";float: left;margin-right: 0.25em;color: #696969;}#sk-container-id-3 label.sk-toggleable__label-arrow:hover:before {color: black;}#sk-container-id-3 div.sk-estimator:hover label.sk-toggleable__label-arrow:before {color: black;}#sk-container-id-3 div.sk-toggleable__content {max-height: 0;max-width: 0;overflow: hidden;text-align: left;background-color: #f0f8ff;}#sk-container-id-3 div.sk-toggleable__content pre {margin: 0.2em;color: black;border-radius: 0.25em;background-color: #f0f8ff;}#sk-container-id-3 input.sk-toggleable__control:checked~div.sk-toggleable__content {max-height: 200px;max-width: 100%;overflow: auto;}#sk-container-id-3 input.sk-toggleable__control:checked~label.sk-toggleable__label-arrow:before {content: \"▾\";}#sk-container-id-3 div.sk-estimator input.sk-toggleable__control:checked~label.sk-toggleable__label {background-color: #d4ebff;}#sk-container-id-3 div.sk-label input.sk-toggleable__control:checked~label.sk-toggleable__label {background-color: #d4ebff;}#sk-container-id-3 input.sk-hidden--visually {border: 0;clip: rect(1px 1px 1px 1px);clip: rect(1px, 1px, 1px, 1px);height: 1px;margin: -1px;overflow: hidden;padding: 0;position: absolute;width: 1px;}#sk-container-id-3 div.sk-estimator {font-family: monospace;background-color: #f0f8ff;border: 1px dotted black;border-radius: 0.25em;box-sizing: border-box;margin-bottom: 0.5em;}#sk-container-id-3 div.sk-estimator:hover {background-color: #d4ebff;}#sk-container-id-3 div.sk-parallel-item::after {content: \"\";width: 100%;border-bottom: 1px solid gray;flex-grow: 1;}#sk-container-id-3 div.sk-label:hover label.sk-toggleable__label {background-color: #d4ebff;}#sk-container-id-3 div.sk-serial::before {content: \"\";position: absolute;border-left: 1px solid gray;box-sizing: border-box;top: 0;bottom: 0;left: 50%;z-index: 0;}#sk-container-id-3 div.sk-serial {display: flex;flex-direction: column;align-items: center;background-color: white;padding-right: 0.2em;padding-left: 0.2em;position: relative;}#sk-container-id-3 div.sk-item {position: relative;z-index: 1;}#sk-container-id-3 div.sk-parallel {display: flex;align-items: stretch;justify-content: center;background-color: white;position: relative;}#sk-container-id-3 div.sk-item::before, #sk-container-id-3 div.sk-parallel-item::before {content: \"\";position: absolute;border-left: 1px solid gray;box-sizing: border-box;top: 0;bottom: 0;left: 50%;z-index: -1;}#sk-container-id-3 div.sk-parallel-item {display: flex;flex-direction: column;z-index: 1;position: relative;background-color: white;}#sk-container-id-3 div.sk-parallel-item:first-child::after {align-self: flex-end;width: 50%;}#sk-container-id-3 div.sk-parallel-item:last-child::after {align-self: flex-start;width: 50%;}#sk-container-id-3 div.sk-parallel-item:only-child::after {width: 0;}#sk-container-id-3 div.sk-dashed-wrapped {border: 1px dashed gray;margin: 0 0.4em 0.5em 0.4em;box-sizing: border-box;padding-bottom: 0.4em;background-color: white;}#sk-container-id-3 div.sk-label label {font-family: monospace;font-weight: bold;display: inline-block;line-height: 1.2em;}#sk-container-id-3 div.sk-label-container {text-align: center;}#sk-container-id-3 div.sk-container {/* jupyter's `normalize.less` sets `[hidden] { display: none; }` but bootstrap.min.css set `[hidden] { display: none !important; }` so we also need the `!important` here to be able to override the default hidden behavior on the sphinx rendered scikit-learn.org. See: https://github.com/scikit-learn/scikit-learn/issues/21755 */display: inline-block !important;position: relative;}#sk-container-id-3 div.sk-text-repr-fallback {display: none;}</style><div id=\"sk-container-id-3\" class=\"sk-top-container\"><div class=\"sk-text-repr-fallback\"><pre>XGBClassifier(base_score=None, booster=None, callbacks=None,\n",
              "              colsample_bylevel=None, colsample_bynode=None,\n",
              "              colsample_bytree=None, device=None, early_stopping_rounds=None,\n",
              "              enable_categorical=False, eval_metric=None, feature_types=None,\n",
              "              gamma=None, grow_policy=None, importance_type=None,\n",
              "              interaction_constraints=None, learning_rate=0.18840011949536728,\n",
              "              max_bin=None, max_cat_threshold=None, max_cat_to_onehot=None,\n",
              "              max_delta_step=None, max_depth=5, max_leaves=16,\n",
              "              min_child_weight=7.7606190094474945, missing=nan,\n",
              "              monotone_constraints=None, multi_strategy=None, n_estimators=188,\n",
              "              n_jobs=None, num_parallel_tree=None, random_state=42, ...)</pre><b>In a Jupyter environment, please rerun this cell to show the HTML representation or trust the notebook. <br />On GitHub, the HTML representation is unable to render, please try loading this page with nbviewer.org.</b></div><div class=\"sk-container\" hidden><div class=\"sk-item\"><div class=\"sk-estimator sk-toggleable\"><input class=\"sk-toggleable__control sk-hidden--visually\" id=\"sk-estimator-id-3\" type=\"checkbox\" checked><label for=\"sk-estimator-id-3\" class=\"sk-toggleable__label sk-toggleable__label-arrow\">XGBClassifier</label><div class=\"sk-toggleable__content\"><pre>XGBClassifier(base_score=None, booster=None, callbacks=None,\n",
              "              colsample_bylevel=None, colsample_bynode=None,\n",
              "              colsample_bytree=None, device=None, early_stopping_rounds=None,\n",
              "              enable_categorical=False, eval_metric=None, feature_types=None,\n",
              "              gamma=None, grow_policy=None, importance_type=None,\n",
              "              interaction_constraints=None, learning_rate=0.18840011949536728,\n",
              "              max_bin=None, max_cat_threshold=None, max_cat_to_onehot=None,\n",
              "              max_delta_step=None, max_depth=5, max_leaves=16,\n",
              "              min_child_weight=7.7606190094474945, missing=nan,\n",
              "              monotone_constraints=None, multi_strategy=None, n_estimators=188,\n",
              "              n_jobs=None, num_parallel_tree=None, random_state=42, ...)</pre></div></div></div></div></div>"
            ]
          },
          "metadata": {},
          "execution_count": 50
        }
      ]
    },
    {
      "cell_type": "code",
      "source": [
        "y_pred_test = xgb_model.predict(X_test)"
      ],
      "metadata": {
        "id": "4FbVmcXOixw2"
      },
      "execution_count": 51,
      "outputs": []
    },
    {
      "cell_type": "markdown",
      "source": [
        "### Model Evaluation"
      ],
      "metadata": {
        "id": "AKN3QsCBmqXB"
      }
    },
    {
      "cell_type": "code",
      "source": [
        "test_accuracy = accuracy_score(y_test, y_pred_test)\n",
        "test_precision = precision_score(y_test, y_pred_test)\n",
        "test_recall = recall_score(y_test, y_pred_test)\n",
        "test_f1 = f1_score(y_test, y_pred_test)\n",
        "\n",
        "print(f'XGBoost - Test Accuracy: {test_accuracy}')\n",
        "print(f'XGBoost - Test Precision: {test_precision}')\n",
        "print(f'XGBoost - Test Recall: {test_recall}')\n",
        "print(f'XGBoost - Test F1-score: {test_f1}')"
      ],
      "metadata": {
        "colab": {
          "base_uri": "https://localhost:8080/"
        },
        "id": "RQppWOR2j8uz",
        "outputId": "204780f1-fe16-4c23-fc00-ba275c07e284"
      },
      "execution_count": 52,
      "outputs": [
        {
          "output_type": "stream",
          "name": "stdout",
          "text": [
            "XGBoost - Test Accuracy: 0.9620957309184993\n",
            "XGBoost - Test Precision: 0.9664090368608799\n",
            "XGBoost - Test Recall: 0.9475371611774993\n",
            "XGBoost - Test F1-score: 0.9568800588668138\n"
          ]
        }
      ]
    },
    {
      "cell_type": "code",
      "source": [
        "sns.heatmap(confusion_matrix(y_test,y_pred_test),annot=True,fmt='3.0f',cmap=\"summer\")\n",
        "plt.title('Confusion_matrix', y=1.05, size=15)"
      ],
      "metadata": {
        "colab": {
          "base_uri": "https://localhost:8080/",
          "height": 490
        },
        "id": "y29FV7E_k-_E",
        "outputId": "d4f60411-5bae-4989-fbab-63b55144b706"
      },
      "execution_count": 53,
      "outputs": [
        {
          "output_type": "execute_result",
          "data": {
            "text/plain": [
              "Text(0.5, 1.05, 'Confusion_matrix')"
            ]
          },
          "metadata": {},
          "execution_count": 53
        },
        {
          "output_type": "display_data",
          "data": {
            "text/plain": [
              "<Figure size 640x480 with 2 Axes>"
            ],
            "image/png": "[encoded data removed]"
          },
          "metadata": {}
        }
      ]
    },
    {
      "cell_type": "markdown",
      "source": [
        "---\n",
        "### **Test Accuracy: 0.9620957309184993**\n",
        "---"
      ],
      "metadata": {
        "id": "91vhAUz4mtKx"
      }
    },
    {
      "cell_type": "markdown",
      "source": [
        "## LighGBM Classifier model"
      ],
      "metadata": {
        "id": "i2vjp6WSSq44"
      }
    },
    {
      "cell_type": "code",
      "source": [
        "import lightgbm as lgb\n",
        "\n",
        "def objective(trial):\n",
        "    params = {\n",
        "        'learning_rate': trial.suggest_float('learning_rate', 0.001, 0.2),\n",
        "        'max_depth': trial.suggest_int('max_depth', 1, 8),\n",
        "        'min_child_weight': trial.suggest_float('min_child_weight', 0.5, 10),\n",
        "        'reg_lambda': trial.suggest_float('reg_lambda', 0.001, 20),\n",
        "        'n_estimators': trial.suggest_int('n_estimators', 20, 200),\n",
        "        'num_leaves': trial.suggest_int('num_leaves', 2, 20),\n",
        "        'objective': 'binary',\n",
        "        'metric': 'binary_logloss',\n",
        "        'verbosity': -1\n",
        "    }\n",
        "\n",
        "    model = lgb.LGBMClassifier(**params, random_state=42)\n",
        "    score = cross_val_score(model, X_train, y_train, cv=3, scoring='roc_auc').mean()\n",
        "    return score\n",
        "\n",
        "study = optuna.create_study(direction='maximize')\n",
        "study.optimize(objective, n_trials=30)"
      ],
      "metadata": {
        "colab": {
          "base_uri": "https://localhost:8080/"
        },
        "id": "HXz2QuYlTGxo",
        "outputId": "404a093c-32f3-4f6c-eea7-b9109ab2f42c"
      },
      "execution_count": 54,
      "outputs": [
        {
          "output_type": "stream",
          "name": "stderr",
          "text": [
            "[I 2024-08-20 07:16:02,891] A new study created in memory with name: no-name-dde971b9-7eed-429a-8cd6-0e9028833bbd\n",
            "[I 2024-08-20 07:16:33,354] Trial 0 finished with value: 0.9773773065556587 and parameters: {'learning_rate': 0.04496795762430604, 'max_depth': 8, 'min_child_weight': 7.29586426807872, 'reg_lambda': 0.9239430078269105, 'n_estimators': 109, 'num_leaves': 14}. Best is trial 0 with value: 0.9773773065556587.\n",
            "[I 2024-08-20 07:16:44,360] Trial 1 finished with value: 0.9454715188551123 and parameters: {'learning_rate': 0.12964529228095714, 'max_depth': 1, 'min_child_weight': 8.516529123056076, 'reg_lambda': 7.355365055582269, 'n_estimators': 59, 'num_leaves': 18}. Best is trial 0 with value: 0.9773773065556587.\n",
            "[I 2024-08-20 07:16:59,973] Trial 2 finished with value: 0.9339631803093708 and parameters: {'learning_rate': 0.023922384490760715, 'max_depth': 3, 'min_child_weight': 5.164347698853596, 'reg_lambda': 9.694474411579401, 'n_estimators': 189, 'num_leaves': 2}. Best is trial 0 with value: 0.9773773065556587.\n",
            "[I 2024-08-20 07:17:26,721] Trial 3 finished with value: 0.9710001315618362 and parameters: {'learning_rate': 0.03017019550646248, 'max_depth': 5, 'min_child_weight': 7.4192137655805315, 'reg_lambda': 14.503815199081947, 'n_estimators': 121, 'num_leaves': 15}. Best is trial 0 with value: 0.9773773065556587.\n",
            "[I 2024-08-20 07:17:58,908] Trial 4 finished with value: 0.9844026584217141 and parameters: {'learning_rate': 0.057264605263680844, 'max_depth': 4, 'min_child_weight': 9.995299133196275, 'reg_lambda': 9.331266889517345, 'n_estimators': 177, 'num_leaves': 12}. Best is trial 4 with value: 0.9844026584217141.\n",
            "[I 2024-08-20 07:18:15,723] Trial 5 finished with value: 0.9671838009628945 and parameters: {'learning_rate': 0.07527034680957367, 'max_depth': 7, 'min_child_weight': 3.453285546433447, 'reg_lambda': 4.451025296624178, 'n_estimators': 140, 'num_leaves': 3}. Best is trial 4 with value: 0.9844026584217141.\n",
            "[I 2024-08-20 07:18:28,253] Trial 6 finished with value: 0.9587047426757881 and parameters: {'learning_rate': 0.13657521995968527, 'max_depth': 1, 'min_child_weight': 9.981992780930602, 'reg_lambda': 10.9917523532818, 'n_estimators': 103, 'num_leaves': 5}. Best is trial 4 with value: 0.9844026584217141.\n",
            "[I 2024-08-20 07:18:37,244] Trial 7 finished with value: 0.9433316339452511 and parameters: {'learning_rate': 0.12652579009148662, 'max_depth': 3, 'min_child_weight': 3.4976142675787325, 'reg_lambda': 18.357940573197347, 'n_estimators': 31, 'num_leaves': 3}. Best is trial 4 with value: 0.9844026584217141.\n",
            "[I 2024-08-20 07:18:49,255] Trial 8 finished with value: 0.8873874582158837 and parameters: {'learning_rate': 0.01087710761255603, 'max_depth': 2, 'min_child_weight': 2.1108760936897313, 'reg_lambda': 11.640269249497946, 'n_estimators': 86, 'num_leaves': 2}. Best is trial 4 with value: 0.9844026584217141.\n",
            "[I 2024-08-20 07:19:01,819] Trial 9 finished with value: 0.9479619612575095 and parameters: {'learning_rate': 0.0816398200301117, 'max_depth': 1, 'min_child_weight': 2.8211830853361977, 'reg_lambda': 1.9475425913754225, 'n_estimators': 103, 'num_leaves': 19}. Best is trial 4 with value: 0.9844026584217141.\n",
            "[I 2024-08-20 07:19:33,812] Trial 10 finished with value: 0.9920010629614913 and parameters: {'learning_rate': 0.19320291695903236, 'max_depth': 4, 'min_child_weight': 5.648302000068343, 'reg_lambda': 16.700799142520935, 'n_estimators': 196, 'num_leaves': 9}. Best is trial 10 with value: 0.9920010629614913.\n",
            "[I 2024-08-20 07:20:08,388] Trial 11 finished with value: 0.9920880676881652 and parameters: {'learning_rate': 0.19242015331287707, 'max_depth': 5, 'min_child_weight': 5.45998157644819, 'reg_lambda': 19.120496105717752, 'n_estimators': 195, 'num_leaves': 9}. Best is trial 11 with value: 0.9920880676881652.\n",
            "[I 2024-08-20 07:20:37,719] Trial 12 finished with value: 0.990972559077597 and parameters: {'learning_rate': 0.19964443343823246, 'max_depth': 6, 'min_child_weight': 5.374908669303532, 'reg_lambda': 19.945190531441582, 'n_estimators': 162, 'num_leaves': 8}. Best is trial 11 with value: 0.9920880676881652.\n",
            "[I 2024-08-20 07:21:12,913] Trial 13 finished with value: 0.991908546608751 and parameters: {'learning_rate': 0.19149851123801206, 'max_depth': 5, 'min_child_weight': 5.439244775688336, 'reg_lambda': 16.322042631622395, 'n_estimators': 200, 'num_leaves': 8}. Best is trial 11 with value: 0.9920880676881652.\n",
            "[I 2024-08-20 07:21:38,986] Trial 14 finished with value: 0.9902163094121442 and parameters: {'learning_rate': 0.1645923604157732, 'max_depth': 4, 'min_child_weight': 6.183995901265073, 'reg_lambda': 15.033106049728758, 'n_estimators': 154, 'num_leaves': 9}. Best is trial 11 with value: 0.9920880676881652.\n",
            "[I 2024-08-20 07:22:15,651] Trial 15 finished with value: 0.9915326015237023 and parameters: {'learning_rate': 0.16609694219682944, 'max_depth': 6, 'min_child_weight': 4.307652084695736, 'reg_lambda': 17.19643900947502, 'n_estimators': 173, 'num_leaves': 11}. Best is trial 11 with value: 0.9920880676881652.\n",
            "[I 2024-08-20 07:22:39,324] Trial 16 finished with value: 0.9885508655714356 and parameters: {'learning_rate': 0.17426842310683816, 'max_depth': 6, 'min_child_weight': 0.5793654650672639, 'reg_lambda': 13.151692189971921, 'n_estimators': 140, 'num_leaves': 6}. Best is trial 11 with value: 0.9920880676881652.\n",
            "[I 2024-08-20 07:23:06,477] Trial 17 finished with value: 0.9897949902196146 and parameters: {'learning_rate': 0.14569592879756985, 'max_depth': 3, 'min_child_weight': 7.022313389699496, 'reg_lambda': 19.794002131817024, 'n_estimators': 197, 'num_leaves': 11}. Best is trial 11 with value: 0.9920880676881652.\n",
            "[I 2024-08-20 07:23:31,682] Trial 18 finished with value: 0.9834275164774553 and parameters: {'learning_rate': 0.10321379582695173, 'max_depth': 5, 'min_child_weight': 4.382022987944483, 'reg_lambda': 17.31621573233979, 'n_estimators': 141, 'num_leaves': 6}. Best is trial 11 with value: 0.9920880676881652.\n",
            "[I 2024-08-20 07:24:03,203] Trial 19 finished with value: 0.9916352350398138 and parameters: {'learning_rate': 0.17504215193751135, 'max_depth': 4, 'min_child_weight': 8.44663451341962, 'reg_lambda': 14.733443155683304, 'n_estimators': 177, 'num_leaves': 15}. Best is trial 11 with value: 0.9920880676881652.\n",
            "[I 2024-08-20 07:24:21,379] Trial 20 finished with value: 0.9796232268066635 and parameters: {'learning_rate': 0.10662138107105067, 'max_depth': 7, 'min_child_weight': 6.40234239484791, 'reg_lambda': 7.293465311941212, 'n_estimators': 72, 'num_leaves': 9}. Best is trial 11 with value: 0.9920880676881652.\n",
            "[I 2024-08-20 07:24:56,322] Trial 21 finished with value: 0.9920517277771568 and parameters: {'learning_rate': 0.19710567167762166, 'max_depth': 5, 'min_child_weight': 5.340563725028565, 'reg_lambda': 16.466101236515566, 'n_estimators': 199, 'num_leaves': 8}. Best is trial 11 with value: 0.9920880676881652.\n",
            "[I 2024-08-20 07:25:33,836] Trial 22 finished with value: 0.9923389005632227 and parameters: {'learning_rate': 0.1993713169683928, 'max_depth': 5, 'min_child_weight': 4.600689281849703, 'reg_lambda': 18.99829149259285, 'n_estimators': 188, 'num_leaves': 13}. Best is trial 22 with value: 0.9923389005632227.\n",
            "[I 2024-08-20 07:26:08,849] Trial 23 finished with value: 0.991596359553968 and parameters: {'learning_rate': 0.181062499241052, 'max_depth': 6, 'min_child_weight': 4.264904371488095, 'reg_lambda': 18.65859280319694, 'n_estimators': 162, 'num_leaves': 12}. Best is trial 22 with value: 0.9923389005632227.\n",
            "[I 2024-08-20 07:26:48,091] Trial 24 finished with value: 0.9916740402353491 and parameters: {'learning_rate': 0.14985497540104017, 'max_depth': 5, 'min_child_weight': 1.9033304771936534, 'reg_lambda': 12.757421544969633, 'n_estimators': 182, 'num_leaves': 13}. Best is trial 22 with value: 0.9923389005632227.\n",
            "[I 2024-08-20 07:27:29,197] Trial 25 finished with value: 0.991649055064022 and parameters: {'learning_rate': 0.16207223656909964, 'max_depth': 7, 'min_child_weight': 4.739445310208597, 'reg_lambda': 18.055058303277168, 'n_estimators': 157, 'num_leaves': 17}. Best is trial 22 with value: 0.9923389005632227.\n",
            "[I 2024-08-20 07:28:03,500] Trial 26 finished with value: 0.9919820802920705 and parameters: {'learning_rate': 0.1834592464703853, 'max_depth': 5, 'min_child_weight': 3.5512440243099146, 'reg_lambda': 15.734984676662075, 'n_estimators': 184, 'num_leaves': 10}. Best is trial 22 with value: 0.9923389005632227.\n",
            "[I 2024-08-20 07:28:32,657] Trial 27 finished with value: 0.9907099550174783 and parameters: {'learning_rate': 0.19810771694644758, 'max_depth': 6, 'min_child_weight': 6.517605058510119, 'reg_lambda': 19.0253735379224, 'n_estimators': 167, 'num_leaves': 7}. Best is trial 22 with value: 0.9923389005632227.\n",
            "[I 2024-08-20 07:28:51,605] Trial 28 finished with value: 0.9845393011570239 and parameters: {'learning_rate': 0.1526624156507815, 'max_depth': 3, 'min_child_weight': 5.7877969002732845, 'reg_lambda': 13.688554283977382, 'n_estimators': 127, 'num_leaves': 5}. Best is trial 22 with value: 0.9923389005632227.\n",
            "[I 2024-08-20 07:29:23,913] Trial 29 finished with value: 0.9918865707258228 and parameters: {'learning_rate': 0.18276907328864497, 'max_depth': 4, 'min_child_weight': 7.58871772056421, 'reg_lambda': 15.93923901592489, 'n_estimators': 188, 'num_leaves': 13}. Best is trial 22 with value: 0.9923389005632227.\n"
          ]
        }
      ]
    },
    {
      "cell_type": "code",
      "source": [
        "print(f'Best parameters for LightGBM : {study.best_params}')"
      ],
      "metadata": {
        "colab": {
          "base_uri": "https://localhost:8080/"
        },
        "id": "RET0kO2WTQji",
        "outputId": "f6efb5aa-e19d-4db9-9011-43e43625577b"
      },
      "execution_count": 55,
      "outputs": [
        {
          "output_type": "stream",
          "name": "stdout",
          "text": [
            "Best parameters for LightGBM : {'learning_rate': 0.1993713169683928, 'max_depth': 5, 'min_child_weight': 4.600689281849703, 'reg_lambda': 18.99829149259285, 'n_estimators': 188, 'num_leaves': 13}\n"
          ]
        }
      ]
    },
    {
      "cell_type": "code",
      "source": [
        "lgb_model = lgb.LGBMClassifier(**study.best_params, random_state=42)\n",
        "lgb_model.fit(X_train, y_train)"
      ],
      "metadata": {
        "colab": {
          "base_uri": "https://localhost:8080/",
          "height": 231
        },
        "id": "y4WxFvWLTjdD",
        "outputId": "377ea3af-34e2-44da-d9fd-fbd7a3e46b1f"
      },
      "execution_count": 56,
      "outputs": [
        {
          "output_type": "stream",
          "name": "stdout",
          "text": [
            "[LightGBM] [Info] Number of positive: 14024, number of negative: 16895\n",
            "[LightGBM] [Info] Auto-choosing col-wise multi-threading, the overhead of testing was 0.246740 seconds.\n",
            "You can set `force_col_wise=true` to remove the overhead.\n",
            "[LightGBM] [Info] Total Bins 76500\n",
            "[LightGBM] [Info] Number of data points in the train set: 30919, number of used features: 300\n",
            "[LightGBM] [Info] [binary:BoostFromScore]: pavg=0.453572 -> initscore=-0.186248\n",
            "[LightGBM] [Info] Start training from score -0.186248\n"
          ]
        },
        {
          "output_type": "execute_result",
          "data": {
            "text/plain": [
              "LGBMClassifier(learning_rate=0.1993713169683928, max_depth=5,\n",
              "               min_child_weight=4.600689281849703, n_estimators=188,\n",
              "               num_leaves=13, random_state=42, reg_lambda=18.99829149259285)"
            ],
            "text/html": [
              "<style>#sk-container-id-4 {color: black;}#sk-container-id-4 pre{padding: 0;}#sk-container-id-4 div.sk-toggleable {background-color: white;}#sk-container-id-4 label.sk-toggleable__label {cursor: pointer;display: block;width: 100%;margin-bottom: 0;padding: 0.3em;box-sizing: border-box;text-align: center;}#sk-container-id-4 label.sk-toggleable__label-arrow:before {content: \"▸\";float: left;margin-right: 0.25em;color: #696969;}#sk-container-id-4 label.sk-toggleable__label-arrow:hover:before {color: black;}#sk-container-id-4 div.sk-estimator:hover label.sk-toggleable__label-arrow:before {color: black;}#sk-container-id-4 div.sk-toggleable__content {max-height: 0;max-width: 0;overflow: hidden;text-align: left;background-color: #f0f8ff;}#sk-container-id-4 div.sk-toggleable__content pre {margin: 0.2em;color: black;border-radius: 0.25em;background-color: #f0f8ff;}#sk-container-id-4 input.sk-toggleable__control:checked~div.sk-toggleable__content {max-height: 200px;max-width: 100%;overflow: auto;}#sk-container-id-4 input.sk-toggleable__control:checked~label.sk-toggleable__label-arrow:before {content: \"▾\";}#sk-container-id-4 div.sk-estimator input.sk-toggleable__control:checked~label.sk-toggleable__label {background-color: #d4ebff;}#sk-container-id-4 div.sk-label input.sk-toggleable__control:checked~label.sk-toggleable__label {background-color: #d4ebff;}#sk-container-id-4 input.sk-hidden--visually {border: 0;clip: rect(1px 1px 1px 1px);clip: rect(1px, 1px, 1px, 1px);height: 1px;margin: -1px;overflow: hidden;padding: 0;position: absolute;width: 1px;}#sk-container-id-4 div.sk-estimator {font-family: monospace;background-color: #f0f8ff;border: 1px dotted black;border-radius: 0.25em;box-sizing: border-box;margin-bottom: 0.5em;}#sk-container-id-4 div.sk-estimator:hover {background-color: #d4ebff;}#sk-container-id-4 div.sk-parallel-item::after {content: \"\";width: 100%;border-bottom: 1px solid gray;flex-grow: 1;}#sk-container-id-4 div.sk-label:hover label.sk-toggleable__label {background-color: #d4ebff;}#sk-container-id-4 div.sk-serial::before {content: \"\";position: absolute;border-left: 1px solid gray;box-sizing: border-box;top: 0;bottom: 0;left: 50%;z-index: 0;}#sk-container-id-4 div.sk-serial {display: flex;flex-direction: column;align-items: center;background-color: white;padding-right: 0.2em;padding-left: 0.2em;position: relative;}#sk-container-id-4 div.sk-item {position: relative;z-index: 1;}#sk-container-id-4 div.sk-parallel {display: flex;align-items: stretch;justify-content: center;background-color: white;position: relative;}#sk-container-id-4 div.sk-item::before, #sk-container-id-4 div.sk-parallel-item::before {content: \"\";position: absolute;border-left: 1px solid gray;box-sizing: border-box;top: 0;bottom: 0;left: 50%;z-index: -1;}#sk-container-id-4 div.sk-parallel-item {display: flex;flex-direction: column;z-index: 1;position: relative;background-color: white;}#sk-container-id-4 div.sk-parallel-item:first-child::after {align-self: flex-end;width: 50%;}#sk-container-id-4 div.sk-parallel-item:last-child::after {align-self: flex-start;width: 50%;}#sk-container-id-4 div.sk-parallel-item:only-child::after {width: 0;}#sk-container-id-4 div.sk-dashed-wrapped {border: 1px dashed gray;margin: 0 0.4em 0.5em 0.4em;box-sizing: border-box;padding-bottom: 0.4em;background-color: white;}#sk-container-id-4 div.sk-label label {font-family: monospace;font-weight: bold;display: inline-block;line-height: 1.2em;}#sk-container-id-4 div.sk-label-container {text-align: center;}#sk-container-id-4 div.sk-container {/* jupyter's `normalize.less` sets `[hidden] { display: none; }` but bootstrap.min.css set `[hidden] { display: none !important; }` so we also need the `!important` here to be able to override the default hidden behavior on the sphinx rendered scikit-learn.org. See: https://github.com/scikit-learn/scikit-learn/issues/21755 */display: inline-block !important;position: relative;}#sk-container-id-4 div.sk-text-repr-fallback {display: none;}</style><div id=\"sk-container-id-4\" class=\"sk-top-container\"><div class=\"sk-text-repr-fallback\"><pre>LGBMClassifier(learning_rate=0.1993713169683928, max_depth=5,\n",
              "               min_child_weight=4.600689281849703, n_estimators=188,\n",
              "               num_leaves=13, random_state=42, reg_lambda=18.99829149259285)</pre><b>In a Jupyter environment, please rerun this cell to show the HTML representation or trust the notebook. <br />On GitHub, the HTML representation is unable to render, please try loading this page with nbviewer.org.</b></div><div class=\"sk-container\" hidden><div class=\"sk-item\"><div class=\"sk-estimator sk-toggleable\"><input class=\"sk-toggleable__control sk-hidden--visually\" id=\"sk-estimator-id-4\" type=\"checkbox\" checked><label for=\"sk-estimator-id-4\" class=\"sk-toggleable__label sk-toggleable__label-arrow\">LGBMClassifier</label><div class=\"sk-toggleable__content\"><pre>LGBMClassifier(learning_rate=0.1993713169683928, max_depth=5,\n",
              "               min_child_weight=4.600689281849703, n_estimators=188,\n",
              "               num_leaves=13, random_state=42, reg_lambda=18.99829149259285)</pre></div></div></div></div></div>"
            ]
          },
          "metadata": {},
          "execution_count": 56
        }
      ]
    },
    {
      "cell_type": "code",
      "source": [
        "y_pred_test = lgb_model.predict(X_test)"
      ],
      "metadata": {
        "id": "wNM9WdaJTj8I"
      },
      "execution_count": 57,
      "outputs": []
    },
    {
      "cell_type": "markdown",
      "source": [
        "### Model Evaluation"
      ],
      "metadata": {
        "id": "eW-4ADVzS1OK"
      }
    },
    {
      "cell_type": "code",
      "source": [
        "test_accuracy = accuracy_score(y_test, y_pred_test)\n",
        "test_precision = precision_score(y_test, y_pred_test)\n",
        "test_recall = recall_score(y_test, y_pred_test)\n",
        "test_f1 = f1_score(y_test, y_pred_test)\n",
        "\n",
        "print(f'LightGBM - Test Accuracy: {test_accuracy}')\n",
        "print(f'LightGBM - Test Precision: {test_precision}')\n",
        "print(f'LightGBM - Test Recall: {test_recall}')\n",
        "print(f'LightGBM - Test F1-score: {test_f1}')"
      ],
      "metadata": {
        "colab": {
          "base_uri": "https://localhost:8080/"
        },
        "id": "rjjW9Mx4TkA3",
        "outputId": "bb65bc13-1b4d-4908-cdb7-3647c40e0785"
      },
      "execution_count": 58,
      "outputs": [
        {
          "output_type": "stream",
          "name": "stdout",
          "text": [
            "LightGBM - Test Accuracy: 0.9641655886157827\n",
            "LightGBM - Test Precision: 0.9687871581450654\n",
            "LightGBM - Test Recall: 0.9498688429029437\n",
            "LightGBM - Test F1-score: 0.9592347314201619\n"
          ]
        }
      ]
    },
    {
      "cell_type": "code",
      "source": [
        "sns.heatmap(confusion_matrix(y_test,y_pred_test),annot=True,fmt='3.0f',cmap=\"summer\")\n",
        "plt.title('Confusion_matrix', y=1.05, size=15)"
      ],
      "metadata": {
        "colab": {
          "base_uri": "https://localhost:8080/",
          "height": 490
        },
        "id": "FLbvzq9PTqeQ",
        "outputId": "c7bc0849-ca1b-4c88-949c-cad0e84fb668"
      },
      "execution_count": 59,
      "outputs": [
        {
          "output_type": "execute_result",
          "data": {
            "text/plain": [
              "Text(0.5, 1.05, 'Confusion_matrix')"
            ]
          },
          "metadata": {},
          "execution_count": 59
        },
        {
          "output_type": "display_data",
          "data": {
            "text/plain": [
              "<Figure size 640x480 with 2 Axes>"
            ],
            "image/png": "[encoded data removed]"
          },
          "metadata": {}
        }
      ]
    },
    {
      "cell_type": "markdown",
      "source": [
        "---\n",
        "### **Test Accuracy: 0.9641655886157827**\n",
        "---"
      ],
      "metadata": {
        "id": "3N-cxccNYnd0"
      }
    },
    {
      "cell_type": "markdown",
      "source": [
        "# Create pipeline"
      ],
      "metadata": {
        "id": "ltjoKJqMCzcV"
      }
    },
    {
      "cell_type": "code",
      "source": [
        "class PreprocessingTransformer(BaseEstimator, TransformerMixin):\n",
        "    def __init__(self):\n",
        "        self.nlp = spacy.load(\"en_core_web_sm\")\n",
        "\n",
        "    def clean_text(self, text):\n",
        "        text = re.sub(r'\\b\\w{1,2}\\b', '', text)\n",
        "        text = re.sub(r'[^a-zA-Z\\s]', ' ', text)\n",
        "        text = re.sub(r'\\s+', ' ', text).strip()\n",
        "        return text\n",
        "\n",
        "    def lemmatize_text(self, text):\n",
        "        doc = self.nlp(text)\n",
        "        return ' '.join([token.lemma_ for token in doc])\n",
        "\n",
        "    def fit(self, X, y=None):\n",
        "        return self\n",
        "\n",
        "    def transform(self, X, y=None):\n",
        "        X = X.copy()\n",
        "        X['combined_text'] = X['combined_text'].apply(self.clean_text).apply(self.lemmatize_text)\n",
        "        return X"
      ],
      "metadata": {
        "id": "JGGx1Xi454ET"
      },
      "execution_count": 73,
      "outputs": []
    },
    {
      "cell_type": "markdown",
      "source": [
        "## preprocessing_pipeline"
      ],
      "metadata": {
        "id": "UMtUR3RODHn7"
      }
    },
    {
      "cell_type": "code",
      "source": [
        "preprocessing_pipeline = Pipeline([\n",
        "    ('preprocessing', PreprocessingTransformer())\n",
        "])"
      ],
      "metadata": {
        "id": "0GptzsZ97_a2"
      },
      "execution_count": 74,
      "outputs": []
    },
    {
      "cell_type": "markdown",
      "source": [
        "## feature_extraction_pipeline and dimensionality_reduction_pipeline"
      ],
      "metadata": {
        "id": "Z4ebIInaEDm9"
      }
    },
    {
      "cell_type": "code",
      "source": [
        "feature_extraction_pipeline = ColumnTransformer([\n",
        "    ('tfidf', TfidfVectorizer(\n",
        "        token_pattern=r\"\\b[a-zA-Z]{3,}\\b\",\n",
        "        stop_words=list(STOPWORDS),\n",
        "        min_df=5,\n",
        "        max_df=0.8),\n",
        "     'combined_text')\n",
        "])\n",
        "\n",
        "dimensionality_reduction_pipeline = Pipeline([\n",
        "    ('svd', TruncatedSVD(n_components=300, algorithm='arpack'))\n",
        "])"
      ],
      "metadata": {
        "id": "VM0qG6MB8LU8"
      },
      "execution_count": 75,
      "outputs": []
    },
    {
      "cell_type": "markdown",
      "source": [
        "## transformation_pipeline"
      ],
      "metadata": {
        "id": "5cqPLRugDO1W"
      }
    },
    {
      "cell_type": "code",
      "source": [
        "transformation_pipeline = Pipeline([\n",
        "    ('preprocessing', preprocessing_pipeline),\n",
        "    ('features', feature_extraction_pipeline),\n",
        "    ('dim_reduction', dimensionality_reduction_pipeline)\n",
        "])"
      ],
      "metadata": {
        "id": "Ch6Y3dmF8PiD"
      },
      "execution_count": 76,
      "outputs": []
    },
    {
      "cell_type": "code",
      "source": [
        "url = f'https://drive.google.com/uc?id=10NHrgshUfiBr__QxQb6s_Ok-twb5NBXg'\n",
        "output = 'dataset.csv'\n",
        "gdown.download(url, output, quiet=False)\n",
        "\n",
        "df = pd.read_csv(output)\n",
        "df.dropna(subset=['text'], inplace=True)\n",
        "df.drop_duplicates(subset=['title', 'text'], inplace=True)\n",
        "df['combined_text'] = df['title'] + ' ' + df['text']\n",
        "df.drop(columns=['id', 'title', 'text', 'subject'], inplace=True)\n",
        "X = df.drop(columns='label')\n",
        "y = df['label']\n",
        "\n",
        "X_transformed = transformation_pipeline.fit_transform(X)\n",
        "\n",
        "X_train, X_test, y_train, y_test = train_test_split(X_transformed, y, test_size=0.2, random_state=42)"
      ],
      "metadata": {
        "id": "o6rKUreR8jCc",
        "colab": {
          "base_uri": "https://localhost:8080/"
        },
        "outputId": "5efb86e0-2299-40b5-a164-56ae1c997eb6"
      },
      "execution_count": 77,
      "outputs": [
        {
          "output_type": "stream",
          "name": "stderr",
          "text": [
            "Downloading...\n",
            "From (original): https://drive.google.com/uc?id=10NHrgshUfiBr__QxQb6s_Ok-twb5NBXg\n",
            "From (redirected): https://drive.google.com/uc?id=10NHrgshUfiBr__QxQb6s_Ok-twb5NBXg&confirm=t&uuid=62e6bc5a-3b89-4606-8315-444479c7cc6b\n",
            "To: /content/dataset.csv\n",
            "100%|██████████| 115M/115M [00:02<00:00, 56.7MB/s]\n"
          ]
        }
      ]
    },
    {
      "cell_type": "markdown",
      "source": [
        "## Define Model"
      ],
      "metadata": {
        "id": "fxSjVG17Dat6"
      }
    },
    {
      "cell_type": "code",
      "source": [
        "model = LogisticRegression(\n",
        "    C=4.573408970457499,\n",
        "    penalty='l1',\n",
        "    solver='saga',\n",
        "    class_weight=None,\n",
        "    random_state=42\n",
        ")\n",
        "\n",
        "model.fit(X_train, y_train)"
      ],
      "metadata": {
        "colab": {
          "base_uri": "https://localhost:8080/",
          "height": 92
        },
        "id": "ov8sj4xh8ooL",
        "outputId": "5db7356e-873a-460a-ec74-3ca932094b5c"
      },
      "execution_count": 78,
      "outputs": [
        {
          "output_type": "execute_result",
          "data": {
            "text/plain": [
              "LogisticRegression(C=4.573408970457499, penalty='l1', random_state=42,\n",
              "                   solver='saga')"
            ],
            "text/html": [
              "<style>#sk-container-id-7 {color: black;}#sk-container-id-7 pre{padding: 0;}#sk-container-id-7 div.sk-toggleable {background-color: white;}#sk-container-id-7 label.sk-toggleable__label {cursor: pointer;display: block;width: 100%;margin-bottom: 0;padding: 0.3em;box-sizing: border-box;text-align: center;}#sk-container-id-7 label.sk-toggleable__label-arrow:before {content: \"▸\";float: left;margin-right: 0.25em;color: #696969;}#sk-container-id-7 label.sk-toggleable__label-arrow:hover:before {color: black;}#sk-container-id-7 div.sk-estimator:hover label.sk-toggleable__label-arrow:before {color: black;}#sk-container-id-7 div.sk-toggleable__content {max-height: 0;max-width: 0;overflow: hidden;text-align: left;background-color: #f0f8ff;}#sk-container-id-7 div.sk-toggleable__content pre {margin: 0.2em;color: black;border-radius: 0.25em;background-color: #f0f8ff;}#sk-container-id-7 input.sk-toggleable__control:checked~div.sk-toggleable__content {max-height: 200px;max-width: 100%;overflow: auto;}#sk-container-id-7 input.sk-toggleable__control:checked~label.sk-toggleable__label-arrow:before {content: \"▾\";}#sk-container-id-7 div.sk-estimator input.sk-toggleable__control:checked~label.sk-toggleable__label {background-color: #d4ebff;}#sk-container-id-7 div.sk-label input.sk-toggleable__control:checked~label.sk-toggleable__label {background-color: #d4ebff;}#sk-container-id-7 input.sk-hidden--visually {border: 0;clip: rect(1px 1px 1px 1px);clip: rect(1px, 1px, 1px, 1px);height: 1px;margin: -1px;overflow: hidden;padding: 0;position: absolute;width: 1px;}#sk-container-id-7 div.sk-estimator {font-family: monospace;background-color: #f0f8ff;border: 1px dotted black;border-radius: 0.25em;box-sizing: border-box;margin-bottom: 0.5em;}#sk-container-id-7 div.sk-estimator:hover {background-color: #d4ebff;}#sk-container-id-7 div.sk-parallel-item::after {content: \"\";width: 100%;border-bottom: 1px solid gray;flex-grow: 1;}#sk-container-id-7 div.sk-label:hover label.sk-toggleable__label {background-color: #d4ebff;}#sk-container-id-7 div.sk-serial::before {content: \"\";position: absolute;border-left: 1px solid gray;box-sizing: border-box;top: 0;bottom: 0;left: 50%;z-index: 0;}#sk-container-id-7 div.sk-serial {display: flex;flex-direction: column;align-items: center;background-color: white;padding-right: 0.2em;padding-left: 0.2em;position: relative;}#sk-container-id-7 div.sk-item {position: relative;z-index: 1;}#sk-container-id-7 div.sk-parallel {display: flex;align-items: stretch;justify-content: center;background-color: white;position: relative;}#sk-container-id-7 div.sk-item::before, #sk-container-id-7 div.sk-parallel-item::before {content: \"\";position: absolute;border-left: 1px solid gray;box-sizing: border-box;top: 0;bottom: 0;left: 50%;z-index: -1;}#sk-container-id-7 div.sk-parallel-item {display: flex;flex-direction: column;z-index: 1;position: relative;background-color: white;}#sk-container-id-7 div.sk-parallel-item:first-child::after {align-self: flex-end;width: 50%;}#sk-container-id-7 div.sk-parallel-item:last-child::after {align-self: flex-start;width: 50%;}#sk-container-id-7 div.sk-parallel-item:only-child::after {width: 0;}#sk-container-id-7 div.sk-dashed-wrapped {border: 1px dashed gray;margin: 0 0.4em 0.5em 0.4em;box-sizing: border-box;padding-bottom: 0.4em;background-color: white;}#sk-container-id-7 div.sk-label label {font-family: monospace;font-weight: bold;display: inline-block;line-height: 1.2em;}#sk-container-id-7 div.sk-label-container {text-align: center;}#sk-container-id-7 div.sk-container {/* jupyter's `normalize.less` sets `[hidden] { display: none; }` but bootstrap.min.css set `[hidden] { display: none !important; }` so we also need the `!important` here to be able to override the default hidden behavior on the sphinx rendered scikit-learn.org. See: https://github.com/scikit-learn/scikit-learn/issues/21755 */display: inline-block !important;position: relative;}#sk-container-id-7 div.sk-text-repr-fallback {display: none;}</style><div id=\"sk-container-id-7\" class=\"sk-top-container\"><div class=\"sk-text-repr-fallback\"><pre>LogisticRegression(C=4.573408970457499, penalty=&#x27;l1&#x27;, random_state=42,\n",
              "                   solver=&#x27;saga&#x27;)</pre><b>In a Jupyter environment, please rerun this cell to show the HTML representation or trust the notebook. <br />On GitHub, the HTML representation is unable to render, please try loading this page with nbviewer.org.</b></div><div class=\"sk-container\" hidden><div class=\"sk-item\"><div class=\"sk-estimator sk-toggleable\"><input class=\"sk-toggleable__control sk-hidden--visually\" id=\"sk-estimator-id-7\" type=\"checkbox\" checked><label for=\"sk-estimator-id-7\" class=\"sk-toggleable__label sk-toggleable__label-arrow\">LogisticRegression</label><div class=\"sk-toggleable__content\"><pre>LogisticRegression(C=4.573408970457499, penalty=&#x27;l1&#x27;, random_state=42,\n",
              "                   solver=&#x27;saga&#x27;)</pre></div></div></div></div></div>"
            ]
          },
          "metadata": {},
          "execution_count": 78
        }
      ]
    },
    {
      "cell_type": "markdown",
      "source": [
        "## Model Evaluation"
      ],
      "metadata": {
        "id": "ubvou3jIDdNh"
      }
    },
    {
      "cell_type": "code",
      "source": [
        "y_pred = model.predict(X_test)\n",
        "accuracy = accuracy_score(y_test, y_pred)\n",
        "precision = precision_score(y_test, y_pred)\n",
        "recall = recall_score(y_test, y_pred)\n",
        "f1 = f1_score(y_test, y_pred)\n",
        "\n",
        "print(f'The Accuracy of the model is: {accuracy}')\n",
        "print(f'The Precision of the model is: {precision}')\n",
        "print(f'The Recall of the model is: {recall}')\n",
        "print(f'The F1 score of the model is: {f1}')"
      ],
      "metadata": {
        "colab": {
          "base_uri": "https://localhost:8080/"
        },
        "id": "EOW4XbkS8qhz",
        "outputId": "f1aa8882-16e6-49a7-fcec-403885f8fc12"
      },
      "execution_count": 79,
      "outputs": [
        {
          "output_type": "stream",
          "name": "stdout",
          "text": [
            "The Accuracy of the model is: 0.9745148771021992\n",
            "The Precision of the model is: 0.9758681577398469\n",
            "The Recall of the model is: 0.9664820751967357\n",
            "The F1 score of the model is: 0.971152438131498\n"
          ]
        }
      ]
    },
    {
      "cell_type": "code",
      "source": [
        "from google.colab import drive\n",
        "import joblib\n",
        "\n",
        "drive.mount('/content/drive')\n",
        "joblib.dump(transformation_pipeline, '/content/drive/My Drive/transformation_pipeline.joblib')\n",
        "joblib.dump(model, '/content/drive/My Drive/fake_news_model.joblib')"
      ],
      "metadata": {
        "colab": {
          "base_uri": "https://localhost:8080/"
        },
        "id": "ZW8l0I7OFg-s",
        "outputId": "85b229b8-079e-4457-ffa8-974d62a1b774"
      },
      "execution_count": 80,
      "outputs": [
        {
          "output_type": "stream",
          "name": "stdout",
          "text": [
            "Mounted at /content/drive\n"
          ]
        },
        {
          "output_type": "execute_result",
          "data": {
            "text/plain": [
              "['/content/drive/My Drive/fake_news_model.joblib']"
            ]
          },
          "metadata": {},
          "execution_count": 80
        }
      ]
    },
    {
      "cell_type": "markdown",
      "source": [
        "# Validate on the New data"
      ],
      "metadata": {
        "id": "SlQmMW3hEhE7"
      }
    },
    {
      "cell_type": "code",
      "source": [
        "def predict_new_input(model, transformation_pipeline):\n",
        "    id = input(\"Enter the id: \")\n",
        "    title = input(\"Enter the title: \")\n",
        "    subject = input(\"Enter the subject: \")\n",
        "    text = input(\"Enter the text: \")\n",
        "\n",
        "    new_data = pd.DataFrame({'id': [id], 'title': [title], 'subject': [subject], 'text': [text]})\n",
        "\n",
        "    new_data['combined_text'] = new_data['title'] + ' ' + new_data['text']\n",
        "    new_data.drop(columns=['id', 'title', 'text', 'subject'], inplace=True)\n",
        "\n",
        "    new_data_transformed = transformation_pipeline.transform(new_data)\n",
        "    prediction = model.predict(new_data_transformed)\n",
        "\n",
        "    return prediction[0]\n",
        "\n",
        "new_prediction = predict_new_input(model, transformation_pipeline)\n",
        "\n",
        "if new_prediction == 1:\n",
        "    print('----------------------------------------------')\n",
        "    print('The predicted label for the new input is: Fake')\n",
        "else:\n",
        "    print('----------------------------------------------')\n",
        "    print('The predicted label for the new input is: Real')"
      ],
      "metadata": {
        "colab": {
          "base_uri": "https://localhost:8080/"
        },
        "id": "H5FGecKF8b7k",
        "outputId": "d836d373-3605-4b74-8bbd-5b1e84a38929"
      },
      "execution_count": 81,
      "outputs": [
        {
          "output_type": "stream",
          "name": "stdout",
          "text": [
            "Enter the id: 37924\n",
            "Enter the title: Russia's Putin, on track for easy re-election, laments dearth of rivals\n",
            "Enter the subject: worldnews\n",
            "Enter the text: MOSCOW - Russian President Vladimir Putin said on Thursday he faced no credible high-profile political opponents as he prepared to run for re-election in March, but would work to try to create a more balanced political system. Putin, whom critics have accused of using state TV, the courts and the police to demonize and marginalize the liberal opposition, said earlier this month he would run for re-election in March 2018 - a contest he seems sure to win comfortably and extend his grip on power into a third decade. But in a sign the former KGB officer is keen to strengthen his role as a father of the nation figure rather than as a party political figure, Putin said he planned to run as an independent candidate and garner support from more than one party. The ruling United Russia party has traditionally backed Putin and is likely to do so again this time, but Putin clearly wants to generate a higher turnout by styling himself as someone who is above the often grubby fray of Russian party politics. Putin said it was too early to set out his electoral program, but named priority issues, aside from helping forge what he called a flexible political system, as nurturing a high-tech economy, improving infrastructure, healthcare, education, productivity and increasing people s real incomes. Putin, 65, has been in power, either as president or prime minister, since 2000, longer than veteran Soviet leader Leonid Brezhnev and outstripped only by dictator Josef Stalin. With an approval rating of around 80 percent if, as expected, he wins what would be a fourth presidential term, he will be eligible to serve another six years until 2024, when he turns 72. Putin said he was aware he faced no real competition. The political environment, like the economic environment, needs to be competitive, Putin told an audience of more than 1,600 Russian and foreign reporters gathered in a Moscow conference hall for his annual news conference. I will strive for us to have a balanced political system. He said he regretted the lack of competition, but accused his political opponents of failing to come up with any positive ideas to tackle Russia s problems. It s important not to just make noise on public squares and speak about the regime, said Putin. It s important to propose something to make things better. But when you start to compare what the leaders of the opposition are proposing, especially the leaders of the non-systemic (liberal) opposition, there are a lot of problems. Opposition leader Alexei Navalny, who is unlikely to be allowed to run against Putin due to what he says is a trumped up criminal conviction, posted an instant riposte on social media. He said he had launched his own program this week but accused Putin of doing his best to ignore it.\n",
            "----------------------------------------------\n",
            "The predicted label for the new input is: Real\n"
          ]
        }
      ]
    }
  ]
}