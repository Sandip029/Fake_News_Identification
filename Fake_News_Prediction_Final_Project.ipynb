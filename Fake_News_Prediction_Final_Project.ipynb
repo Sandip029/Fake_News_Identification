{
  "nbformat": 4,
  "nbformat_minor": 0,
  "metadata": {
    "colab": {
      "provenance": []
    },
    "kernelspec": {
      "name": "python3",
      "display_name": "Python 3"
    },
    "language_info": {
      "name": "python"
    }
  },
  "cells": [
    {
      "cell_type": "markdown",
      "source": [
        "# **Problem Statement:**\n",
        "\n",
        "In the era of information overload, distinguishing between genuine news and fake news has become increasingly challenging. Fake news can have significant negative impacts on society, such as spreading misinformation, inciting panic, influencing public opinion, and even affecting democratic processes. Therefore, it is crucial to develop effective methods to automatically identify and filter out fake news from real news."
      ],
      "metadata": {
        "id": "P2gECQ7En67P"
      }
    },
    {
      "cell_type": "markdown",
      "source": [
        "# **Objective:**\n",
        "\n",
        "The objective of this machine learning project is to develop a robust model that can accurately classify news articles as either real or fake. By leveraging natural language processing (NLP) techniques and machine learning algorithms, the project aims to build a system that predicts the authenticity of news and improves detection accuracy."
      ],
      "metadata": {
        "id": "YQgju6kZoF3-"
      }
    },
    {
      "cell_type": "markdown",
      "source": [
        "# **About the Dataset:**\n",
        "\n",
        "1. id: unique id for a news article\n",
        "2. title: the title of a news article\n",
        "3. author: author of the news article\n",
        "4. text: the text of the article; could be incomplete\n",
        "5. label: a label that marks whether the news article is real or fake:\n",
        "           1: Fake News\n",
        "           0: Real News\n",
        "\n",
        "\n",
        "\n"
      ],
      "metadata": {
        "id": "L7NNMwhHi15m"
      }
    },
    {
      "cell_type": "markdown",
      "source": [
        "# Load the libraries"
      ],
      "metadata": {
        "id": "mpWcnOQufysx"
      }
    },
    {
      "cell_type": "code",
      "source": [
        "!pip install optuna"
      ],
      "metadata": {
        "colab": {
          "base_uri": "https://localhost:8080/"
        },
        "id": "8iU6JINbgFbI",
        "outputId": "6f509b37-fc26-40b8-9321-4519dc75aec8"
      },
      "execution_count": null,
      "outputs": [
        {
          "output_type": "stream",
          "name": "stdout",
          "text": [
            "Collecting optuna\n",
            "  Downloading optuna-3.6.1-py3-none-any.whl (380 kB)\n",
            "\u001b[2K     \u001b[90m━━━━━━━━━━━━━━━━━━━━━━━━━━━━━━━━━━━━━━━━\u001b[0m \u001b[32m380.1/380.1 kB\u001b[0m \u001b[31m2.3 MB/s\u001b[0m eta \u001b[36m0:00:00\u001b[0m\n",
            "\u001b[?25hCollecting alembic>=1.5.0 (from optuna)\n",
            "  Downloading alembic-1.13.2-py3-none-any.whl (232 kB)\n",
            "\u001b[2K     \u001b[90m━━━━━━━━━━━━━━━━━━━━━━━━━━━━━━━━━━━━━━━━\u001b[0m \u001b[32m233.0/233.0 kB\u001b[0m \u001b[31m15.3 MB/s\u001b[0m eta \u001b[36m0:00:00\u001b[0m\n",
            "\u001b[?25hCollecting colorlog (from optuna)\n",
            "  Downloading colorlog-6.8.2-py3-none-any.whl (11 kB)\n",
            "Requirement already satisfied: numpy in /usr/local/lib/python3.10/dist-packages (from optuna) (1.25.2)\n",
            "Requirement already satisfied: packaging>=20.0 in /usr/local/lib/python3.10/dist-packages (from optuna) (24.1)\n",
            "Requirement already satisfied: sqlalchemy>=1.3.0 in /usr/local/lib/python3.10/dist-packages (from optuna) (2.0.31)\n",
            "Requirement already satisfied: tqdm in /usr/local/lib/python3.10/dist-packages (from optuna) (4.66.4)\n",
            "Requirement already satisfied: PyYAML in /usr/local/lib/python3.10/dist-packages (from optuna) (6.0.1)\n",
            "Collecting Mako (from alembic>=1.5.0->optuna)\n",
            "  Downloading Mako-1.3.5-py3-none-any.whl (78 kB)\n",
            "\u001b[2K     \u001b[90m━━━━━━━━━━━━━━━━━━━━━━━━━━━━━━━━━━━━━━━━\u001b[0m \u001b[32m78.6/78.6 kB\u001b[0m \u001b[31m6.2 MB/s\u001b[0m eta \u001b[36m0:00:00\u001b[0m\n",
            "\u001b[?25hRequirement already satisfied: typing-extensions>=4 in /usr/local/lib/python3.10/dist-packages (from alembic>=1.5.0->optuna) (4.12.2)\n",
            "Requirement already satisfied: greenlet!=0.4.17 in /usr/local/lib/python3.10/dist-packages (from sqlalchemy>=1.3.0->optuna) (3.0.3)\n",
            "Requirement already satisfied: MarkupSafe>=0.9.2 in /usr/local/lib/python3.10/dist-packages (from Mako->alembic>=1.5.0->optuna) (2.1.5)\n",
            "Installing collected packages: Mako, colorlog, alembic, optuna\n",
            "Successfully installed Mako-1.3.5 alembic-1.13.2 colorlog-6.8.2 optuna-3.6.1\n"
          ]
        }
      ]
    },
    {
      "cell_type": "code",
      "execution_count": null,
      "metadata": {
        "id": "ti1aLZkmnkJo"
      },
      "outputs": [],
      "source": [
        "import pandas as pd\n",
        "import numpy as np\n",
        "import seaborn as sns\n",
        "import matplotlib.pyplot as plt\n",
        "from sklearn.feature_extraction.text import TfidfVectorizer\n",
        "from sklearn.model_selection import train_test_split\n",
        "from sklearn.decomposition import TruncatedSVD\n",
        "from wordcloud import STOPWORDS\n",
        "from sklearn.cluster import AgglomerativeClustering\n",
        "from sklearn.model_selection import cross_val_score\n",
        "from sklearn.linear_model import LogisticRegression\n",
        "from sklearn.ensemble import RandomForestClassifier\n",
        "from sklearn.ensemble import GradientBoostingClassifier\n",
        "from xgboost import XGBClassifier\n",
        "from sklearn.metrics import accuracy_score, precision_score, recall_score, f1_score, confusion_matrix\n",
        "import optuna\n",
        "from optuna import Trial\n",
        "from sklearn.pipeline import Pipeline\n",
        "from sklearn.compose import ColumnTransformer\n",
        "from sklearn.base import BaseEstimator, TransformerMixin\n",
        "\n",
        "import warnings\n",
        "warnings.filterwarnings('ignore')"
      ]
    },
    {
      "cell_type": "markdown",
      "source": [
        "# Load the dataset"
      ],
      "metadata": {
        "id": "q0X11ltBrMCC"
      }
    },
    {
      "cell_type": "code",
      "source": [
        "from google.colab import drive\n",
        "drive.mount('/content/drive/')"
      ],
      "metadata": {
        "id": "O5P82luIrDd6",
        "colab": {
          "base_uri": "https://localhost:8080/"
        },
        "outputId": "5a3d889d-040b-4bff-a2a8-12f50558d679"
      },
      "execution_count": null,
      "outputs": [
        {
          "output_type": "stream",
          "name": "stdout",
          "text": [
            "Mounted at /content/drive/\n"
          ]
        }
      ]
    },
    {
      "cell_type": "code",
      "source": [
        "filepath = \"/content/drive/My Drive/Fake_news.csv\"\n",
        "df = pd.read_csv(filepath)"
      ],
      "metadata": {
        "id": "sDHaAaq8r6FM"
      },
      "execution_count": null,
      "outputs": []
    },
    {
      "cell_type": "markdown",
      "source": [
        "# Looking into the dataset"
      ],
      "metadata": {
        "id": "IPBe2sgpgNxy"
      }
    },
    {
      "cell_type": "code",
      "source": [
        "df.shape"
      ],
      "metadata": {
        "id": "UjI2y4qur7CD",
        "colab": {
          "base_uri": "https://localhost:8080/"
        },
        "outputId": "16d70c21-6f6a-4797-e2e2-8fa63e3aa734"
      },
      "execution_count": null,
      "outputs": [
        {
          "output_type": "execute_result",
          "data": {
            "text/plain": [
              "(20800, 5)"
            ]
          },
          "metadata": {},
          "execution_count": 27
        }
      ]
    },
    {
      "cell_type": "code",
      "source": [
        "df.head()"
      ],
      "metadata": {
        "id": "HlY25L-OuHfX",
        "colab": {
          "base_uri": "https://localhost:8080/",
          "height": 206
        },
        "outputId": "6d8613cf-5356-4f10-806d-44bdb4b5f13e"
      },
      "execution_count": null,
      "outputs": [
        {
          "output_type": "execute_result",
          "data": {
            "text/plain": [
              "   id                                              title              author  \\\n",
              "0   0  House Dem Aide: We Didn’t Even See Comey’s Let...       Darrell Lucus   \n",
              "1   1  FLYNN: Hillary Clinton, Big Woman on Campus - ...     Daniel J. Flynn   \n",
              "2   2                  Why the Truth Might Get You Fired  Consortiumnews.com   \n",
              "3   3  15 Civilians Killed In Single US Airstrike Hav...     Jessica Purkiss   \n",
              "4   4  Iranian woman jailed for fictional unpublished...      Howard Portnoy   \n",
              "\n",
              "                                                text  label  \n",
              "0  House Dem Aide: We Didn’t Even See Comey’s Let...      1  \n",
              "1  Ever get the feeling your life circles the rou...      0  \n",
              "2  Why the Truth Might Get You Fired October 29, ...      1  \n",
              "3  Videos 15 Civilians Killed In Single US Airstr...      1  \n",
              "4  Print \\nAn Iranian woman has been sentenced to...      1  "
            ],
            "text/html": [
              "\n",
              "  <div id=\"df-3ca27e15-eb64-408b-a8c8-ae0f2920e490\" class=\"colab-df-container\">\n",
              "    <div>\n",
              "<style scoped>\n",
              "    .dataframe tbody tr th:only-of-type {\n",
              "        vertical-align: middle;\n",
              "    }\n",
              "\n",
              "    .dataframe tbody tr th {\n",
              "        vertical-align: top;\n",
              "    }\n",
              "\n",
              "    .dataframe thead th {\n",
              "        text-align: right;\n",
              "    }\n",
              "</style>\n",
              "<table border=\"1\" class=\"dataframe\">\n",
              "  <thead>\n",
              "    <tr style=\"text-align: right;\">\n",
              "      <th></th>\n",
              "      <th>id</th>\n",
              "      <th>title</th>\n",
              "      <th>author</th>\n",
              "      <th>text</th>\n",
              "      <th>label</th>\n",
              "    </tr>\n",
              "  </thead>\n",
              "  <tbody>\n",
              "    <tr>\n",
              "      <th>0</th>\n",
              "      <td>0</td>\n",
              "      <td>House Dem Aide: We Didn’t Even See Comey’s Let...</td>\n",
              "      <td>Darrell Lucus</td>\n",
              "      <td>House Dem Aide: We Didn’t Even See Comey’s Let...</td>\n",
              "      <td>1</td>\n",
              "    </tr>\n",
              "    <tr>\n",
              "      <th>1</th>\n",
              "      <td>1</td>\n",
              "      <td>FLYNN: Hillary Clinton, Big Woman on Campus - ...</td>\n",
              "      <td>Daniel J. Flynn</td>\n",
              "      <td>Ever get the feeling your life circles the rou...</td>\n",
              "      <td>0</td>\n",
              "    </tr>\n",
              "    <tr>\n",
              "      <th>2</th>\n",
              "      <td>2</td>\n",
              "      <td>Why the Truth Might Get You Fired</td>\n",
              "      <td>Consortiumnews.com</td>\n",
              "      <td>Why the Truth Might Get You Fired October 29, ...</td>\n",
              "      <td>1</td>\n",
              "    </tr>\n",
              "    <tr>\n",
              "      <th>3</th>\n",
              "      <td>3</td>\n",
              "      <td>15 Civilians Killed In Single US Airstrike Hav...</td>\n",
              "      <td>Jessica Purkiss</td>\n",
              "      <td>Videos 15 Civilians Killed In Single US Airstr...</td>\n",
              "      <td>1</td>\n",
              "    </tr>\n",
              "    <tr>\n",
              "      <th>4</th>\n",
              "      <td>4</td>\n",
              "      <td>Iranian woman jailed for fictional unpublished...</td>\n",
              "      <td>Howard Portnoy</td>\n",
              "      <td>Print \\nAn Iranian woman has been sentenced to...</td>\n",
              "      <td>1</td>\n",
              "    </tr>\n",
              "  </tbody>\n",
              "</table>\n",
              "</div>\n",
              "    <div class=\"colab-df-buttons\">\n",
              "\n",
              "  <div class=\"colab-df-container\">\n",
              "    <button class=\"colab-df-convert\" onclick=\"convertToInteractive('df-3ca27e15-eb64-408b-a8c8-ae0f2920e490')\"\n",
              "            title=\"Convert this dataframe to an interactive table.\"\n",
              "            style=\"display:none;\">\n",
              "\n",
              "  <svg xmlns=\"http://www.w3.org/2000/svg\" height=\"24px\" viewBox=\"0 -960 960 960\">\n",
              "    <path d=\"M120-120v-720h720v720H120Zm60-500h600v-160H180v160Zm220 220h160v-160H400v160Zm0 220h160v-160H400v160ZM180-400h160v-160H180v160Zm440 0h160v-160H620v160ZM180-180h160v-160H180v160Zm440 0h160v-160H620v160Z\"/>\n",
              "  </svg>\n",
              "    </button>\n",
              "\n",
              "  <style>\n",
              "    .colab-df-container {\n",
              "      display:flex;\n",
              "      gap: 12px;\n",
              "    }\n",
              "\n",
              "    .colab-df-convert {\n",
              "      background-color: #E8F0FE;\n",
              "      border: none;\n",
              "      border-radius: 50%;\n",
              "      cursor: pointer;\n",
              "      display: none;\n",
              "      fill: #1967D2;\n",
              "      height: 32px;\n",
              "      padding: 0 0 0 0;\n",
              "      width: 32px;\n",
              "    }\n",
              "\n",
              "    .colab-df-convert:hover {\n",
              "      background-color: #E2EBFA;\n",
              "      box-shadow: 0px 1px 2px rgba(60, 64, 67, 0.3), 0px 1px 3px 1px rgba(60, 64, 67, 0.15);\n",
              "      fill: #174EA6;\n",
              "    }\n",
              "\n",
              "    .colab-df-buttons div {\n",
              "      margin-bottom: 4px;\n",
              "    }\n",
              "\n",
              "    [theme=dark] .colab-df-convert {\n",
              "      background-color: #3B4455;\n",
              "      fill: #D2E3FC;\n",
              "    }\n",
              "\n",
              "    [theme=dark] .colab-df-convert:hover {\n",
              "      background-color: #434B5C;\n",
              "      box-shadow: 0px 1px 3px 1px rgba(0, 0, 0, 0.15);\n",
              "      filter: drop-shadow(0px 1px 2px rgba(0, 0, 0, 0.3));\n",
              "      fill: #FFFFFF;\n",
              "    }\n",
              "  </style>\n",
              "\n",
              "    <script>\n",
              "      const buttonEl =\n",
              "        document.querySelector('#df-3ca27e15-eb64-408b-a8c8-ae0f2920e490 button.colab-df-convert');\n",
              "      buttonEl.style.display =\n",
              "        google.colab.kernel.accessAllowed ? 'block' : 'none';\n",
              "\n",
              "      async function convertToInteractive(key) {\n",
              "        const element = document.querySelector('#df-3ca27e15-eb64-408b-a8c8-ae0f2920e490');\n",
              "        const dataTable =\n",
              "          await google.colab.kernel.invokeFunction('convertToInteractive',\n",
              "                                                    [key], {});\n",
              "        if (!dataTable) return;\n",
              "\n",
              "        const docLinkHtml = 'Like what you see? Visit the ' +\n",
              "          '<a target=\"_blank\" href=https://colab.research.google.com/notebooks/data_table.ipynb>data table notebook</a>'\n",
              "          + ' to learn more about interactive tables.';\n",
              "        element.innerHTML = '';\n",
              "        dataTable['output_type'] = 'display_data';\n",
              "        await google.colab.output.renderOutput(dataTable, element);\n",
              "        const docLink = document.createElement('div');\n",
              "        docLink.innerHTML = docLinkHtml;\n",
              "        element.appendChild(docLink);\n",
              "      }\n",
              "    </script>\n",
              "  </div>\n",
              "\n",
              "\n",
              "<div id=\"df-21bc4669-8449-4081-b5c9-8c65c1a61624\">\n",
              "  <button class=\"colab-df-quickchart\" onclick=\"quickchart('df-21bc4669-8449-4081-b5c9-8c65c1a61624')\"\n",
              "            title=\"Suggest charts\"\n",
              "            style=\"display:none;\">\n",
              "\n",
              "<svg xmlns=\"http://www.w3.org/2000/svg\" height=\"24px\"viewBox=\"0 0 24 24\"\n",
              "     width=\"24px\">\n",
              "    <g>\n",
              "        <path d=\"M19 3H5c-1.1 0-2 .9-2 2v14c0 1.1.9 2 2 2h14c1.1 0 2-.9 2-2V5c0-1.1-.9-2-2-2zM9 17H7v-7h2v7zm4 0h-2V7h2v10zm4 0h-2v-4h2v4z\"/>\n",
              "    </g>\n",
              "</svg>\n",
              "  </button>\n",
              "\n",
              "<style>\n",
              "  .colab-df-quickchart {\n",
              "      --bg-color: #E8F0FE;\n",
              "      --fill-color: #1967D2;\n",
              "      --hover-bg-color: #E2EBFA;\n",
              "      --hover-fill-color: #174EA6;\n",
              "      --disabled-fill-color: #AAA;\n",
              "      --disabled-bg-color: #DDD;\n",
              "  }\n",
              "\n",
              "  [theme=dark] .colab-df-quickchart {\n",
              "      --bg-color: #3B4455;\n",
              "      --fill-color: #D2E3FC;\n",
              "      --hover-bg-color: #434B5C;\n",
              "      --hover-fill-color: #FFFFFF;\n",
              "      --disabled-bg-color: #3B4455;\n",
              "      --disabled-fill-color: #666;\n",
              "  }\n",
              "\n",
              "  .colab-df-quickchart {\n",
              "    background-color: var(--bg-color);\n",
              "    border: none;\n",
              "    border-radius: 50%;\n",
              "    cursor: pointer;\n",
              "    display: none;\n",
              "    fill: var(--fill-color);\n",
              "    height: 32px;\n",
              "    padding: 0;\n",
              "    width: 32px;\n",
              "  }\n",
              "\n",
              "  .colab-df-quickchart:hover {\n",
              "    background-color: var(--hover-bg-color);\n",
              "    box-shadow: 0 1px 2px rgba(60, 64, 67, 0.3), 0 1px 3px 1px rgba(60, 64, 67, 0.15);\n",
              "    fill: var(--button-hover-fill-color);\n",
              "  }\n",
              "\n",
              "  .colab-df-quickchart-complete:disabled,\n",
              "  .colab-df-quickchart-complete:disabled:hover {\n",
              "    background-color: var(--disabled-bg-color);\n",
              "    fill: var(--disabled-fill-color);\n",
              "    box-shadow: none;\n",
              "  }\n",
              "\n",
              "  .colab-df-spinner {\n",
              "    border: 2px solid var(--fill-color);\n",
              "    border-color: transparent;\n",
              "    border-bottom-color: var(--fill-color);\n",
              "    animation:\n",
              "      spin 1s steps(1) infinite;\n",
              "  }\n",
              "\n",
              "  @keyframes spin {\n",
              "    0% {\n",
              "      border-color: transparent;\n",
              "      border-bottom-color: var(--fill-color);\n",
              "      border-left-color: var(--fill-color);\n",
              "    }\n",
              "    20% {\n",
              "      border-color: transparent;\n",
              "      border-left-color: var(--fill-color);\n",
              "      border-top-color: var(--fill-color);\n",
              "    }\n",
              "    30% {\n",
              "      border-color: transparent;\n",
              "      border-left-color: var(--fill-color);\n",
              "      border-top-color: var(--fill-color);\n",
              "      border-right-color: var(--fill-color);\n",
              "    }\n",
              "    40% {\n",
              "      border-color: transparent;\n",
              "      border-right-color: var(--fill-color);\n",
              "      border-top-color: var(--fill-color);\n",
              "    }\n",
              "    60% {\n",
              "      border-color: transparent;\n",
              "      border-right-color: var(--fill-color);\n",
              "    }\n",
              "    80% {\n",
              "      border-color: transparent;\n",
              "      border-right-color: var(--fill-color);\n",
              "      border-bottom-color: var(--fill-color);\n",
              "    }\n",
              "    90% {\n",
              "      border-color: transparent;\n",
              "      border-bottom-color: var(--fill-color);\n",
              "    }\n",
              "  }\n",
              "</style>\n",
              "\n",
              "  <script>\n",
              "    async function quickchart(key) {\n",
              "      const quickchartButtonEl =\n",
              "        document.querySelector('#' + key + ' button');\n",
              "      quickchartButtonEl.disabled = true;  // To prevent multiple clicks.\n",
              "      quickchartButtonEl.classList.add('colab-df-spinner');\n",
              "      try {\n",
              "        const charts = await google.colab.kernel.invokeFunction(\n",
              "            'suggestCharts', [key], {});\n",
              "      } catch (error) {\n",
              "        console.error('Error during call to suggestCharts:', error);\n",
              "      }\n",
              "      quickchartButtonEl.classList.remove('colab-df-spinner');\n",
              "      quickchartButtonEl.classList.add('colab-df-quickchart-complete');\n",
              "    }\n",
              "    (() => {\n",
              "      let quickchartButtonEl =\n",
              "        document.querySelector('#df-21bc4669-8449-4081-b5c9-8c65c1a61624 button');\n",
              "      quickchartButtonEl.style.display =\n",
              "        google.colab.kernel.accessAllowed ? 'block' : 'none';\n",
              "    })();\n",
              "  </script>\n",
              "</div>\n",
              "\n",
              "    </div>\n",
              "  </div>\n"
            ],
            "application/vnd.google.colaboratory.intrinsic+json": {
              "type": "dataframe",
              "variable_name": "df",
              "summary": "{\n  \"name\": \"df\",\n  \"rows\": 20800,\n  \"fields\": [\n    {\n      \"column\": \"id\",\n      \"properties\": {\n        \"dtype\": \"number\",\n        \"std\": 6004,\n        \"min\": 0,\n        \"max\": 20799,\n        \"num_unique_values\": 20800,\n        \"samples\": [\n          14649,\n          9231,\n          6473\n        ],\n        \"semantic_type\": \"\",\n        \"description\": \"\"\n      }\n    },\n    {\n      \"column\": \"title\",\n      \"properties\": {\n        \"dtype\": \"string\",\n        \"num_unique_values\": 19803,\n        \"samples\": [\n          \"Florida Republicans Voting for Hillary Clinton \\u00b7 Guardian Liberty Voice\",\n          \"\\u2018Weekend Warriors\\u2019 Show Survival Benefits - The New York Times\",\n          \"Part 6, Democratic Network Money: Commons Money that Works for Us, Instead of Us Working for It\"\n        ],\n        \"semantic_type\": \"\",\n        \"description\": \"\"\n      }\n    },\n    {\n      \"column\": \"author\",\n      \"properties\": {\n        \"dtype\": \"category\",\n        \"num_unique_values\": 4201,\n        \"samples\": [\n          \"AARGH63\",\n          \"Dave Kehr\",\n          \"Patrick Healy\"\n        ],\n        \"semantic_type\": \"\",\n        \"description\": \"\"\n      }\n    },\n    {\n      \"column\": \"text\",\n      \"properties\": {\n        \"dtype\": \"string\",\n        \"num_unique_values\": 20386,\n        \"samples\": [\n          \"Multan a un ultrasur por lanzar a un jugador del Bar\\u00e7a al campo durante el partido Madrid-Legia EL PARTIDO SE CONSIDERABA DE ALTO RIESGO PARA LOS JUGADORES DEL BARCELONA Real Madrid \\nUn jugador barcelonista golpe\\u00f3 a varios jugadores durante el encuentro de la Champions que tuvo lugar ayer entre el Real Madrid y el Legia Varsovia despu\\u00e9s de ser arrojado desde la grada por un hincha madridista. \\nEl portero del Legia, muy molesto, intent\\u00f3 devolver el jugador a las gradas de una patada y se encar\\u00f3 con los Ultrasur, que ya preparaban a otro jugador para echarlo al campo y entorpecer el encuentro. En esta ocasi\\u00f3n pretend\\u00edan prenderlo con un mechero antes de lanzarlo al c\\u00e9sped. \\nLas autoridades han vuelto a pedir a los aficionados que dejen de lanzar cosas al campo como botellas, monedas y jugadores del Barcelona. El dispositivo de seguridad no puedo hacer nada por evitar que algunos hinchas introdujeran a jugadores barcelonistas a la grada, pues los llevaban camuflados dentro de bocadillos de gran tama\\u00f1o. \\nEl partido pudo ser reanudado cuando el \\u00e1rbitro apart\\u00f3 a un rinc\\u00f3n del c\\u00e9sped al jugador barcelonista.\",\n          \"Written by Jacob G. Hornberger   As US officials continue to accuse Russia of meddling with the US presidential election, an accusation that they have provided no evidence whatsoever to support, let\\u2019s review some of the US government\\u2019s history of meddling with elections in others countries.1. In 1951, the democratically elected parliament of Iran elected a man named Mohammad Mossadegh to be Iran\\u2019s prime minister. Mossadegh angered British Empire officials by nationalizing British oil interests in the country.British officials then turned to the CIA for assistance. In 1953, the CIA secretly fomented a violent coup in Iran, which succeeded in ousting Mossadegh from power and making the Shah of Iran the supreme unelected dictator of the country.To fortify the Shah\\u2019s dictatorial hold on power, the CIA helped organize and train the his domestic police force, the Savak, which was essentially a combination of the CIA, the NSA, and the military. Part of the CIA\\u2019s training involved teaching Savak agents the art of torture.For the next 26 years, the Iranian people suffered under one of the most brutal and tyrannical dictatorships in the world, one that US officials fully supported and called an ally and friend of the United States.In 1979, Iranians successfully revolted against the Shah\\u2019s regime and ousted him from power. One result was not a restoration of the democratic system that had elected Mossadegh but rather another brutal dictatorship, this time a religious one. Another result is the bad relations between the Iran and US governments that continues to exist today.2. In 1951, the Guatemalan people democratically elected a man named Jacobo Arbenz to be their president. Arbenz, however, was not satisfactory to US officials, especially the national-security branch of the government, specifically the Pentagon and the CIA. The reason that US officials opposed Arbenz was that he was a socialist, and US officials considered a socialist president of Guatemala to be a threat to \\u201cnational security\\u201d here in the United States.In 1954 \\u2014 one year after the coup in Iran, the CIA fomented a violent military coup that succeeded in removing Arbenz from power and replacing him with one of the most brutal unelected military dictators in Latin American history, a man named Carlos Castillo Armas. The CIA had a kill list prepared for the coup, which Arbenz was able to escape by fleeing the country before Castillo was able to get him. The CIA\\u2019s destruction of Guatemala\\u2019s democratic system threw the nation into a 30-year civil war that ended up killing millions of Guatemalan people, especially many of the poor.3. In 1960 a man named Patrice Lamumba was elected Congo\\u2019s first prime minister after independence from Belgium. Lamumba spoke out against Western imperialism and refused to take sides in the Cold War, which caused the CIA to conclude that he was a threat to \\u201cnational security.\\u201d The CIA orchestrated the assassination of Lamumba, which ended up taking place on January 17, 1961, just three days before President Kennedy, who liked Lamumba and who would have ordered the CIA to stand down, was to be sworn into office.4. In 1970 a man named Salvador Allende received a plurality of votes in the presidential election in Chile. Pursuant to the Chilean constitution, the election was thrown into the national congress. President Richard Nixon, his national-security team, the Pentagon, and the CIA concluded that because Allende believed in communism and socialism, he posed a grave threat to \\u201cnational security\\u201d here in the United States. The CIA attempted to bribe members of the congress to vote against Allende. It also orchestrated the kidnapping of the head of Chile\\u2019s armed forces, Gen Rene Schneider, who opposed a US military coup in his country, especially since a coup would violate the country\\u2019s constitution. The kidnapping attempt on Schneider left him dead.The CIA then fomented a coup that took place on 9/11 1973 that violently ousted Allende from power and left him dead. Replacing him was army Gen. Augusto Pinochet, one of the most brutal unelected military dictators in history. By the time Pinochet\\u2019s 17-year reign of military terror came to an end in 1990, he and his CIA-supported goons had incarcerated, raped, tortured, or killed tens of thousands of innocent people \\u2014 that is, people whose only \\u201ccrime\\u201d was believing in socialism \\u2014 with the full support of the CIA, Pentagon, Nixon, and his \\u201cnational security\\u201d team.Of course, there are also the more recent support of regime-change operations that ousted democratically elected presidents that the US government disapproved of, such as in Ukraine and Egypt.And then there is the long list of countries where unelected dictators were targeted for regime change by the US national security state and, where successful, replaced with a brutal unelected pro-US dictator. Cuba, Indonesia, Iraq, Libya, and Syria all come to mind.US officials need to keep in mind that when they point their accusatory index finger at Russia for supposedly meddling in the US presidential election, US officials have, at the same time, three fingers pointing back at themselves. Reprinted with permission from the Future of Freedom Foundation . Related\",\n          \"When hearing of an establishment called the Black and Blue Steakhouse, one could reasonably surmise that some, or at the very least one, extremely tough person could be found somewhere in there. Well, the three terrorists who attacked London Bridge over the weekend found the Black and Blue Steakhouse, and they found the toughest man in the house. [Or, maybe more to the point, he found them.  Roy Larner, 47, is a huge fan of the South East London soccer team Millwall F. C. The team is known as the Lions, and when   terrorists entered the Black and Blue to kill innocent people, Larner let them know who is the true king of the jungle. After the terrorists entered, with obvious bad intentions, Larner sprang into action: \\u201cLike an idiot I shouted back at them. I thought, \\u2018I need to take the p*** out of these b*****s.\\u2019 \\u201cI took a few steps towards them and said, \\u2018F*** you, I\\u2019m Millwall.\\u2019 So they started attacking me. \\u201cI stood in front of them trying to fight them off. Everyone else ran to the back. I was on my own against all three of them, that\\u2019s why I got hurt so much. It was just me, trying to grab them with my bare hands and hold on. I was swinging. \\u201cI got stabbed and sliced eight times. They got me in my head, chest and both hands. There was blood everywhere. \\u201cThey were saying, \\u2018Islam, Islam!\\u2019 I said again, \\u2018F*** you, I\\u2019m Millwall!\\u2019 \\u201cIt was the worst thing I could have done as they carried on attacking me. \\u201cLuckily, none of the blows were straight at me or I\\u2019d be dead. \\u201d A petition has begun, with the aim of awarding Larner with the George Cross for bravery. The award is the second highest commendation granted by Great Britain. Looking at his scars, it\\u2019s really hard to imagine that he won\\u2019t get it. If Millwall is looking for a new slogan, they may have found it. \\u201cF*** you, I\\u2019m Millwall!\\u201d has a nice ring to it. Follow Dylan Gwinn on Twitter: @themightygwinn\"\n        ],\n        \"semantic_type\": \"\",\n        \"description\": \"\"\n      }\n    },\n    {\n      \"column\": \"label\",\n      \"properties\": {\n        \"dtype\": \"number\",\n        \"std\": 0,\n        \"min\": 0,\n        \"max\": 1,\n        \"num_unique_values\": 2,\n        \"samples\": [\n          0,\n          1\n        ],\n        \"semantic_type\": \"\",\n        \"description\": \"\"\n      }\n    }\n  ]\n}"
            }
          },
          "metadata": {},
          "execution_count": 28
        }
      ]
    },
    {
      "cell_type": "code",
      "source": [
        "df.info()"
      ],
      "metadata": {
        "id": "2xvfYF_PgdTT",
        "colab": {
          "base_uri": "https://localhost:8080/"
        },
        "outputId": "df496793-80a3-43dd-b5bc-9279b3e0f228"
      },
      "execution_count": null,
      "outputs": [
        {
          "output_type": "stream",
          "name": "stdout",
          "text": [
            "<class 'pandas.core.frame.DataFrame'>\n",
            "RangeIndex: 20800 entries, 0 to 20799\n",
            "Data columns (total 5 columns):\n",
            " #   Column  Non-Null Count  Dtype \n",
            "---  ------  --------------  ----- \n",
            " 0   id      20800 non-null  int64 \n",
            " 1   title   20242 non-null  object\n",
            " 2   author  18843 non-null  object\n",
            " 3   text    20761 non-null  object\n",
            " 4   label   20800 non-null  int64 \n",
            "dtypes: int64(2), object(3)\n",
            "memory usage: 812.6+ KB\n"
          ]
        }
      ]
    },
    {
      "cell_type": "code",
      "source": [
        "df.isnull().sum()"
      ],
      "metadata": {
        "id": "AT3lb3WkuSsF",
        "colab": {
          "base_uri": "https://localhost:8080/"
        },
        "outputId": "35b92db9-3f19-4f06-b58d-fe249d1d6137"
      },
      "execution_count": null,
      "outputs": [
        {
          "output_type": "execute_result",
          "data": {
            "text/plain": [
              "id           0\n",
              "title      558\n",
              "author    1957\n",
              "text        39\n",
              "label        0\n",
              "dtype: int64"
            ]
          },
          "metadata": {},
          "execution_count": 30
        }
      ]
    },
    {
      "cell_type": "code",
      "source": [
        "df.nunique()"
      ],
      "metadata": {
        "id": "bud24TZqf0ce",
        "colab": {
          "base_uri": "https://localhost:8080/"
        },
        "outputId": "efe3cf96-bc6b-479d-b8e6-c522543e2371"
      },
      "execution_count": null,
      "outputs": [
        {
          "output_type": "execute_result",
          "data": {
            "text/plain": [
              "id        20800\n",
              "title     19803\n",
              "author     4201\n",
              "text      20386\n",
              "label         2\n",
              "dtype: int64"
            ]
          },
          "metadata": {},
          "execution_count": 31
        }
      ]
    },
    {
      "cell_type": "markdown",
      "source": [
        "# Handling Missing Values"
      ],
      "metadata": {
        "id": "d_XEKL2WyI6b"
      }
    },
    {
      "cell_type": "markdown",
      "source": [
        "## Fill missing values in 'title' with an empty string"
      ],
      "metadata": {
        "id": "zrDpGCGPxwsd"
      }
    },
    {
      "cell_type": "code",
      "source": [
        "df['title'].fillna('', inplace=True)"
      ],
      "metadata": {
        "id": "rX2bQ0kNxu9R"
      },
      "execution_count": null,
      "outputs": []
    },
    {
      "cell_type": "markdown",
      "source": [
        "## Fill missing values in 'author' with 'Unknown'"
      ],
      "metadata": {
        "id": "fGq6U0Bqx4rn"
      }
    },
    {
      "cell_type": "code",
      "source": [
        "df['author'].fillna('Unknown', inplace=True)"
      ],
      "metadata": {
        "id": "up5gED_jx2mp"
      },
      "execution_count": null,
      "outputs": []
    },
    {
      "cell_type": "markdown",
      "source": [
        "## Drop rows with missing 'text'"
      ],
      "metadata": {
        "id": "DnUtAAnGyFmB"
      }
    },
    {
      "cell_type": "code",
      "source": [
        "df.dropna(subset=['text'], inplace=True)"
      ],
      "metadata": {
        "id": "cKN5m6BGyDwz"
      },
      "execution_count": null,
      "outputs": []
    },
    {
      "cell_type": "code",
      "source": [
        "df.info()"
      ],
      "metadata": {
        "id": "HnpgIK1fzDtU",
        "colab": {
          "base_uri": "https://localhost:8080/"
        },
        "outputId": "1c4cf96a-c3bc-447f-d71a-956f63fdab9f"
      },
      "execution_count": null,
      "outputs": [
        {
          "output_type": "stream",
          "name": "stdout",
          "text": [
            "<class 'pandas.core.frame.DataFrame'>\n",
            "Index: 20761 entries, 0 to 20799\n",
            "Data columns (total 5 columns):\n",
            " #   Column  Non-Null Count  Dtype \n",
            "---  ------  --------------  ----- \n",
            " 0   id      20761 non-null  int64 \n",
            " 1   title   20761 non-null  object\n",
            " 2   author  20761 non-null  object\n",
            " 3   text    20761 non-null  object\n",
            " 4   label   20761 non-null  int64 \n",
            "dtypes: int64(2), object(3)\n",
            "memory usage: 973.2+ KB\n"
          ]
        }
      ]
    },
    {
      "cell_type": "code",
      "source": [
        "df.isnull().sum()"
      ],
      "metadata": {
        "id": "kjJRHvQOcqqp",
        "colab": {
          "base_uri": "https://localhost:8080/"
        },
        "outputId": "a40281b2-2801-4caf-da04-f05150fd7423"
      },
      "execution_count": null,
      "outputs": [
        {
          "output_type": "execute_result",
          "data": {
            "text/plain": [
              "id        0\n",
              "title     0\n",
              "author    0\n",
              "text      0\n",
              "label     0\n",
              "dtype: int64"
            ]
          },
          "metadata": {},
          "execution_count": 36
        }
      ]
    },
    {
      "cell_type": "code",
      "source": [
        "df.nunique()"
      ],
      "metadata": {
        "id": "eBYW1q0vf_zK",
        "colab": {
          "base_uri": "https://localhost:8080/"
        },
        "outputId": "399d6b85-6707-4638-82f2-9ba2886cf7ae"
      },
      "execution_count": null,
      "outputs": [
        {
          "output_type": "execute_result",
          "data": {
            "text/plain": [
              "id        20761\n",
              "title     19765\n",
              "author     4202\n",
              "text      20386\n",
              "label         2\n",
              "dtype: int64"
            ]
          },
          "metadata": {},
          "execution_count": 37
        }
      ]
    },
    {
      "cell_type": "markdown",
      "source": [
        "# Exploratory  Data Analysis"
      ],
      "metadata": {
        "id": "rfN6Oluj8xpr"
      }
    },
    {
      "cell_type": "code",
      "source": [
        "df['label'].value_counts()"
      ],
      "metadata": {
        "id": "t_6hiozh8hU4",
        "colab": {
          "base_uri": "https://localhost:8080/"
        },
        "outputId": "fbe25412-3c14-4f43-a168-870b642042bc"
      },
      "execution_count": null,
      "outputs": [
        {
          "output_type": "execute_result",
          "data": {
            "text/plain": [
              "label\n",
              "0    10387\n",
              "1    10374\n",
              "Name: count, dtype: int64"
            ]
          },
          "metadata": {},
          "execution_count": 38
        }
      ]
    },
    {
      "cell_type": "code",
      "source": [
        "label_counts = df['label'].value_counts()\n",
        "\n",
        "plt.figure(figsize=(8, 6))\n",
        "label_counts.plot(kind='bar', color=['green', 'red'])\n",
        "plt.title('Distribution of Real and Fake News')\n",
        "plt.ylabel('Count')\n",
        "plt.xticks(ticks=[0, 1], labels=['Real (0)', 'Fake (1)'], rotation=0)\n",
        "plt.show()"
      ],
      "metadata": {
        "id": "tWzx_EJB8Ztn",
        "colab": {
          "base_uri": "https://localhost:8080/",
          "height": 564
        },
        "outputId": "ad881195-aff0-47cd-a681-f20ce41140f8"
      },
      "execution_count": null,
      "outputs": [
        {
          "output_type": "display_data",
          "data": {
            "text/plain": [
              "<Figure size 800x600 with 1 Axes>"
            ],
            "image/png": "[encoded data removed]"
          },
          "metadata": {}
        }
      ]
    },
    {
      "cell_type": "code",
      "source": [
        "author_counts = df[df['label'] == 1]['author'].value_counts().head(10)\n",
        "author_counts_df = pd.DataFrame({'author': author_counts.index, 'count': author_counts.values})\n",
        "\n",
        "plt.figure(figsize=(25, 6))\n",
        "sns.barplot(x='author', y='count', data=author_counts_df, palette='rocket')\n",
        "plt.title('Top 10 Authors with Most Fake News Articles')\n",
        "plt.xlabel('Number of Fake News Articles')\n",
        "plt.ylabel('Author')\n",
        "plt.show()"
      ],
      "metadata": {
        "id": "PySjKwt2glWX",
        "colab": {
          "base_uri": "https://localhost:8080/",
          "height": 503
        },
        "outputId": "b1259a8e-a98d-4e4a-81ef-bea7037550dc"
      },
      "execution_count": null,
      "outputs": [
        {
          "output_type": "display_data",
          "data": {
            "text/plain": [
              "<Figure size 2500x600 with 1 Axes>"
            ],
            "image/png": "[encoded data removed]"
          },
          "metadata": {}
        }
      ]
    },
    {
      "cell_type": "markdown",
      "source": [
        "# Feature Engineering"
      ],
      "metadata": {
        "id": "wg448uY89Ddw"
      }
    },
    {
      "cell_type": "markdown",
      "source": [
        "## Combine 'title', 'author', and 'text' for feature extraction"
      ],
      "metadata": {
        "id": "kBDOIexmzy3V"
      }
    },
    {
      "cell_type": "code",
      "source": [
        "df['combined_text'] = df['title'] + ' ' + df['author'] + ' ' + df['text']"
      ],
      "metadata": {
        "id": "veeJIpiTuh2_"
      },
      "execution_count": null,
      "outputs": []
    },
    {
      "cell_type": "code",
      "source": [
        "df.head()"
      ],
      "metadata": {
        "id": "tHsrO5-EcyKY",
        "colab": {
          "base_uri": "https://localhost:8080/",
          "height": 206
        },
        "outputId": "1d5e673c-410d-4440-fea3-e8f9efa9556b"
      },
      "execution_count": null,
      "outputs": [
        {
          "output_type": "execute_result",
          "data": {
            "text/plain": [
              "   id                                              title              author  \\\n",
              "0   0  House Dem Aide: We Didn’t Even See Comey’s Let...       Darrell Lucus   \n",
              "1   1  FLYNN: Hillary Clinton, Big Woman on Campus - ...     Daniel J. Flynn   \n",
              "2   2                  Why the Truth Might Get You Fired  Consortiumnews.com   \n",
              "3   3  15 Civilians Killed In Single US Airstrike Hav...     Jessica Purkiss   \n",
              "4   4  Iranian woman jailed for fictional unpublished...      Howard Portnoy   \n",
              "\n",
              "                                                text  label  \\\n",
              "0  House Dem Aide: We Didn’t Even See Comey’s Let...      1   \n",
              "1  Ever get the feeling your life circles the rou...      0   \n",
              "2  Why the Truth Might Get You Fired October 29, ...      1   \n",
              "3  Videos 15 Civilians Killed In Single US Airstr...      1   \n",
              "4  Print \\nAn Iranian woman has been sentenced to...      1   \n",
              "\n",
              "                                       combined_text  \n",
              "0  House Dem Aide: We Didn’t Even See Comey’s Let...  \n",
              "1  FLYNN: Hillary Clinton, Big Woman on Campus - ...  \n",
              "2  Why the Truth Might Get You Fired Consortiumne...  \n",
              "3  15 Civilians Killed In Single US Airstrike Hav...  \n",
              "4  Iranian woman jailed for fictional unpublished...  "
            ],
            "text/html": [
              "\n",
              "  <div id=\"df-33a1cef7-3e4b-47ee-a7cc-cafa77498685\" class=\"colab-df-container\">\n",
              "    <div>\n",
              "<style scoped>\n",
              "    .dataframe tbody tr th:only-of-type {\n",
              "        vertical-align: middle;\n",
              "    }\n",
              "\n",
              "    .dataframe tbody tr th {\n",
              "        vertical-align: top;\n",
              "    }\n",
              "\n",
              "    .dataframe thead th {\n",
              "        text-align: right;\n",
              "    }\n",
              "</style>\n",
              "<table border=\"1\" class=\"dataframe\">\n",
              "  <thead>\n",
              "    <tr style=\"text-align: right;\">\n",
              "      <th></th>\n",
              "      <th>id</th>\n",
              "      <th>title</th>\n",
              "      <th>author</th>\n",
              "      <th>text</th>\n",
              "      <th>label</th>\n",
              "      <th>combined_text</th>\n",
              "    </tr>\n",
              "  </thead>\n",
              "  <tbody>\n",
              "    <tr>\n",
              "      <th>0</th>\n",
              "      <td>0</td>\n",
              "      <td>House Dem Aide: We Didn’t Even See Comey’s Let...</td>\n",
              "      <td>Darrell Lucus</td>\n",
              "      <td>House Dem Aide: We Didn’t Even See Comey’s Let...</td>\n",
              "      <td>1</td>\n",
              "      <td>House Dem Aide: We Didn’t Even See Comey’s Let...</td>\n",
              "    </tr>\n",
              "    <tr>\n",
              "      <th>1</th>\n",
              "      <td>1</td>\n",
              "      <td>FLYNN: Hillary Clinton, Big Woman on Campus - ...</td>\n",
              "      <td>Daniel J. Flynn</td>\n",
              "      <td>Ever get the feeling your life circles the rou...</td>\n",
              "      <td>0</td>\n",
              "      <td>FLYNN: Hillary Clinton, Big Woman on Campus - ...</td>\n",
              "    </tr>\n",
              "    <tr>\n",
              "      <th>2</th>\n",
              "      <td>2</td>\n",
              "      <td>Why the Truth Might Get You Fired</td>\n",
              "      <td>Consortiumnews.com</td>\n",
              "      <td>Why the Truth Might Get You Fired October 29, ...</td>\n",
              "      <td>1</td>\n",
              "      <td>Why the Truth Might Get You Fired Consortiumne...</td>\n",
              "    </tr>\n",
              "    <tr>\n",
              "      <th>3</th>\n",
              "      <td>3</td>\n",
              "      <td>15 Civilians Killed In Single US Airstrike Hav...</td>\n",
              "      <td>Jessica Purkiss</td>\n",
              "      <td>Videos 15 Civilians Killed In Single US Airstr...</td>\n",
              "      <td>1</td>\n",
              "      <td>15 Civilians Killed In Single US Airstrike Hav...</td>\n",
              "    </tr>\n",
              "    <tr>\n",
              "      <th>4</th>\n",
              "      <td>4</td>\n",
              "      <td>Iranian woman jailed for fictional unpublished...</td>\n",
              "      <td>Howard Portnoy</td>\n",
              "      <td>Print \\nAn Iranian woman has been sentenced to...</td>\n",
              "      <td>1</td>\n",
              "      <td>Iranian woman jailed for fictional unpublished...</td>\n",
              "    </tr>\n",
              "  </tbody>\n",
              "</table>\n",
              "</div>\n",
              "    <div class=\"colab-df-buttons\">\n",
              "\n",
              "  <div class=\"colab-df-container\">\n",
              "    <button class=\"colab-df-convert\" onclick=\"convertToInteractive('df-33a1cef7-3e4b-47ee-a7cc-cafa77498685')\"\n",
              "            title=\"Convert this dataframe to an interactive table.\"\n",
              "            style=\"display:none;\">\n",
              "\n",
              "  <svg xmlns=\"http://www.w3.org/2000/svg\" height=\"24px\" viewBox=\"0 -960 960 960\">\n",
              "    <path d=\"M120-120v-720h720v720H120Zm60-500h600v-160H180v160Zm220 220h160v-160H400v160Zm0 220h160v-160H400v160ZM180-400h160v-160H180v160Zm440 0h160v-160H620v160ZM180-180h160v-160H180v160Zm440 0h160v-160H620v160Z\"/>\n",
              "  </svg>\n",
              "    </button>\n",
              "\n",
              "  <style>\n",
              "    .colab-df-container {\n",
              "      display:flex;\n",
              "      gap: 12px;\n",
              "    }\n",
              "\n",
              "    .colab-df-convert {\n",
              "      background-color: #E8F0FE;\n",
              "      border: none;\n",
              "      border-radius: 50%;\n",
              "      cursor: pointer;\n",
              "      display: none;\n",
              "      fill: #1967D2;\n",
              "      height: 32px;\n",
              "      padding: 0 0 0 0;\n",
              "      width: 32px;\n",
              "    }\n",
              "\n",
              "    .colab-df-convert:hover {\n",
              "      background-color: #E2EBFA;\n",
              "      box-shadow: 0px 1px 2px rgba(60, 64, 67, 0.3), 0px 1px 3px 1px rgba(60, 64, 67, 0.15);\n",
              "      fill: #174EA6;\n",
              "    }\n",
              "\n",
              "    .colab-df-buttons div {\n",
              "      margin-bottom: 4px;\n",
              "    }\n",
              "\n",
              "    [theme=dark] .colab-df-convert {\n",
              "      background-color: #3B4455;\n",
              "      fill: #D2E3FC;\n",
              "    }\n",
              "\n",
              "    [theme=dark] .colab-df-convert:hover {\n",
              "      background-color: #434B5C;\n",
              "      box-shadow: 0px 1px 3px 1px rgba(0, 0, 0, 0.15);\n",
              "      filter: drop-shadow(0px 1px 2px rgba(0, 0, 0, 0.3));\n",
              "      fill: #FFFFFF;\n",
              "    }\n",
              "  </style>\n",
              "\n",
              "    <script>\n",
              "      const buttonEl =\n",
              "        document.querySelector('#df-33a1cef7-3e4b-47ee-a7cc-cafa77498685 button.colab-df-convert');\n",
              "      buttonEl.style.display =\n",
              "        google.colab.kernel.accessAllowed ? 'block' : 'none';\n",
              "\n",
              "      async function convertToInteractive(key) {\n",
              "        const element = document.querySelector('#df-33a1cef7-3e4b-47ee-a7cc-cafa77498685');\n",
              "        const dataTable =\n",
              "          await google.colab.kernel.invokeFunction('convertToInteractive',\n",
              "                                                    [key], {});\n",
              "        if (!dataTable) return;\n",
              "\n",
              "        const docLinkHtml = 'Like what you see? Visit the ' +\n",
              "          '<a target=\"_blank\" href=https://colab.research.google.com/notebooks/data_table.ipynb>data table notebook</a>'\n",
              "          + ' to learn more about interactive tables.';\n",
              "        element.innerHTML = '';\n",
              "        dataTable['output_type'] = 'display_data';\n",
              "        await google.colab.output.renderOutput(dataTable, element);\n",
              "        const docLink = document.createElement('div');\n",
              "        docLink.innerHTML = docLinkHtml;\n",
              "        element.appendChild(docLink);\n",
              "      }\n",
              "    </script>\n",
              "  </div>\n",
              "\n",
              "\n",
              "<div id=\"df-199f4575-0042-462c-9654-c386769d6ba2\">\n",
              "  <button class=\"colab-df-quickchart\" onclick=\"quickchart('df-199f4575-0042-462c-9654-c386769d6ba2')\"\n",
              "            title=\"Suggest charts\"\n",
              "            style=\"display:none;\">\n",
              "\n",
              "<svg xmlns=\"http://www.w3.org/2000/svg\" height=\"24px\"viewBox=\"0 0 24 24\"\n",
              "     width=\"24px\">\n",
              "    <g>\n",
              "        <path d=\"M19 3H5c-1.1 0-2 .9-2 2v14c0 1.1.9 2 2 2h14c1.1 0 2-.9 2-2V5c0-1.1-.9-2-2-2zM9 17H7v-7h2v7zm4 0h-2V7h2v10zm4 0h-2v-4h2v4z\"/>\n",
              "    </g>\n",
              "</svg>\n",
              "  </button>\n",
              "\n",
              "<style>\n",
              "  .colab-df-quickchart {\n",
              "      --bg-color: #E8F0FE;\n",
              "      --fill-color: #1967D2;\n",
              "      --hover-bg-color: #E2EBFA;\n",
              "      --hover-fill-color: #174EA6;\n",
              "      --disabled-fill-color: #AAA;\n",
              "      --disabled-bg-color: #DDD;\n",
              "  }\n",
              "\n",
              "  [theme=dark] .colab-df-quickchart {\n",
              "      --bg-color: #3B4455;\n",
              "      --fill-color: #D2E3FC;\n",
              "      --hover-bg-color: #434B5C;\n",
              "      --hover-fill-color: #FFFFFF;\n",
              "      --disabled-bg-color: #3B4455;\n",
              "      --disabled-fill-color: #666;\n",
              "  }\n",
              "\n",
              "  .colab-df-quickchart {\n",
              "    background-color: var(--bg-color);\n",
              "    border: none;\n",
              "    border-radius: 50%;\n",
              "    cursor: pointer;\n",
              "    display: none;\n",
              "    fill: var(--fill-color);\n",
              "    height: 32px;\n",
              "    padding: 0;\n",
              "    width: 32px;\n",
              "  }\n",
              "\n",
              "  .colab-df-quickchart:hover {\n",
              "    background-color: var(--hover-bg-color);\n",
              "    box-shadow: 0 1px 2px rgba(60, 64, 67, 0.3), 0 1px 3px 1px rgba(60, 64, 67, 0.15);\n",
              "    fill: var(--button-hover-fill-color);\n",
              "  }\n",
              "\n",
              "  .colab-df-quickchart-complete:disabled,\n",
              "  .colab-df-quickchart-complete:disabled:hover {\n",
              "    background-color: var(--disabled-bg-color);\n",
              "    fill: var(--disabled-fill-color);\n",
              "    box-shadow: none;\n",
              "  }\n",
              "\n",
              "  .colab-df-spinner {\n",
              "    border: 2px solid var(--fill-color);\n",
              "    border-color: transparent;\n",
              "    border-bottom-color: var(--fill-color);\n",
              "    animation:\n",
              "      spin 1s steps(1) infinite;\n",
              "  }\n",
              "\n",
              "  @keyframes spin {\n",
              "    0% {\n",
              "      border-color: transparent;\n",
              "      border-bottom-color: var(--fill-color);\n",
              "      border-left-color: var(--fill-color);\n",
              "    }\n",
              "    20% {\n",
              "      border-color: transparent;\n",
              "      border-left-color: var(--fill-color);\n",
              "      border-top-color: var(--fill-color);\n",
              "    }\n",
              "    30% {\n",
              "      border-color: transparent;\n",
              "      border-left-color: var(--fill-color);\n",
              "      border-top-color: var(--fill-color);\n",
              "      border-right-color: var(--fill-color);\n",
              "    }\n",
              "    40% {\n",
              "      border-color: transparent;\n",
              "      border-right-color: var(--fill-color);\n",
              "      border-top-color: var(--fill-color);\n",
              "    }\n",
              "    60% {\n",
              "      border-color: transparent;\n",
              "      border-right-color: var(--fill-color);\n",
              "    }\n",
              "    80% {\n",
              "      border-color: transparent;\n",
              "      border-right-color: var(--fill-color);\n",
              "      border-bottom-color: var(--fill-color);\n",
              "    }\n",
              "    90% {\n",
              "      border-color: transparent;\n",
              "      border-bottom-color: var(--fill-color);\n",
              "    }\n",
              "  }\n",
              "</style>\n",
              "\n",
              "  <script>\n",
              "    async function quickchart(key) {\n",
              "      const quickchartButtonEl =\n",
              "        document.querySelector('#' + key + ' button');\n",
              "      quickchartButtonEl.disabled = true;  // To prevent multiple clicks.\n",
              "      quickchartButtonEl.classList.add('colab-df-spinner');\n",
              "      try {\n",
              "        const charts = await google.colab.kernel.invokeFunction(\n",
              "            'suggestCharts', [key], {});\n",
              "      } catch (error) {\n",
              "        console.error('Error during call to suggestCharts:', error);\n",
              "      }\n",
              "      quickchartButtonEl.classList.remove('colab-df-spinner');\n",
              "      quickchartButtonEl.classList.add('colab-df-quickchart-complete');\n",
              "    }\n",
              "    (() => {\n",
              "      let quickchartButtonEl =\n",
              "        document.querySelector('#df-199f4575-0042-462c-9654-c386769d6ba2 button');\n",
              "      quickchartButtonEl.style.display =\n",
              "        google.colab.kernel.accessAllowed ? 'block' : 'none';\n",
              "    })();\n",
              "  </script>\n",
              "</div>\n",
              "\n",
              "    </div>\n",
              "  </div>\n"
            ],
            "application/vnd.google.colaboratory.intrinsic+json": {
              "type": "dataframe",
              "variable_name": "df",
              "summary": "{\n  \"name\": \"df\",\n  \"rows\": 20761,\n  \"fields\": [\n    {\n      \"column\": \"id\",\n      \"properties\": {\n        \"dtype\": \"number\",\n        \"std\": 6005,\n        \"min\": 0,\n        \"max\": 20799,\n        \"num_unique_values\": 20761,\n        \"samples\": [\n          14474,\n          9606,\n          14662\n        ],\n        \"semantic_type\": \"\",\n        \"description\": \"\"\n      }\n    },\n    {\n      \"column\": \"title\",\n      \"properties\": {\n        \"dtype\": \"string\",\n        \"num_unique_values\": 19765,\n        \"samples\": [\n          \"Braless Jourdan Dunn flaunt their supermodel figures in racy see-through dresses\",\n          \"Obama: \\u2018We Have Not Had a Major Scandal\\u2019 in My Administration\",\n          \"Islamic State Claims Responsibility for Istanbul Nightclub Attack - Breitbart\"\n        ],\n        \"semantic_type\": \"\",\n        \"description\": \"\"\n      }\n    },\n    {\n      \"column\": \"author\",\n      \"properties\": {\n        \"dtype\": \"category\",\n        \"num_unique_values\": 4202,\n        \"samples\": [\n          \"OZbanislam\",\n          \"Julia Hahn\",\n          \"Cassandra Fairbanks\"\n        ],\n        \"semantic_type\": \"\",\n        \"description\": \"\"\n      }\n    },\n    {\n      \"column\": \"text\",\n      \"properties\": {\n        \"dtype\": \"string\",\n        \"num_unique_values\": 20386,\n        \"samples\": [\n          \"Multan a un ultrasur por lanzar a un jugador del Bar\\u00e7a al campo durante el partido Madrid-Legia EL PARTIDO SE CONSIDERABA DE ALTO RIESGO PARA LOS JUGADORES DEL BARCELONA Real Madrid \\nUn jugador barcelonista golpe\\u00f3 a varios jugadores durante el encuentro de la Champions que tuvo lugar ayer entre el Real Madrid y el Legia Varsovia despu\\u00e9s de ser arrojado desde la grada por un hincha madridista. \\nEl portero del Legia, muy molesto, intent\\u00f3 devolver el jugador a las gradas de una patada y se encar\\u00f3 con los Ultrasur, que ya preparaban a otro jugador para echarlo al campo y entorpecer el encuentro. En esta ocasi\\u00f3n pretend\\u00edan prenderlo con un mechero antes de lanzarlo al c\\u00e9sped. \\nLas autoridades han vuelto a pedir a los aficionados que dejen de lanzar cosas al campo como botellas, monedas y jugadores del Barcelona. El dispositivo de seguridad no puedo hacer nada por evitar que algunos hinchas introdujeran a jugadores barcelonistas a la grada, pues los llevaban camuflados dentro de bocadillos de gran tama\\u00f1o. \\nEl partido pudo ser reanudado cuando el \\u00e1rbitro apart\\u00f3 a un rinc\\u00f3n del c\\u00e9sped al jugador barcelonista.\",\n          \"Written by Jacob G. Hornberger   As US officials continue to accuse Russia of meddling with the US presidential election, an accusation that they have provided no evidence whatsoever to support, let\\u2019s review some of the US government\\u2019s history of meddling with elections in others countries.1. In 1951, the democratically elected parliament of Iran elected a man named Mohammad Mossadegh to be Iran\\u2019s prime minister. Mossadegh angered British Empire officials by nationalizing British oil interests in the country.British officials then turned to the CIA for assistance. In 1953, the CIA secretly fomented a violent coup in Iran, which succeeded in ousting Mossadegh from power and making the Shah of Iran the supreme unelected dictator of the country.To fortify the Shah\\u2019s dictatorial hold on power, the CIA helped organize and train the his domestic police force, the Savak, which was essentially a combination of the CIA, the NSA, and the military. Part of the CIA\\u2019s training involved teaching Savak agents the art of torture.For the next 26 years, the Iranian people suffered under one of the most brutal and tyrannical dictatorships in the world, one that US officials fully supported and called an ally and friend of the United States.In 1979, Iranians successfully revolted against the Shah\\u2019s regime and ousted him from power. One result was not a restoration of the democratic system that had elected Mossadegh but rather another brutal dictatorship, this time a religious one. Another result is the bad relations between the Iran and US governments that continues to exist today.2. In 1951, the Guatemalan people democratically elected a man named Jacobo Arbenz to be their president. Arbenz, however, was not satisfactory to US officials, especially the national-security branch of the government, specifically the Pentagon and the CIA. The reason that US officials opposed Arbenz was that he was a socialist, and US officials considered a socialist president of Guatemala to be a threat to \\u201cnational security\\u201d here in the United States.In 1954 \\u2014 one year after the coup in Iran, the CIA fomented a violent military coup that succeeded in removing Arbenz from power and replacing him with one of the most brutal unelected military dictators in Latin American history, a man named Carlos Castillo Armas. The CIA had a kill list prepared for the coup, which Arbenz was able to escape by fleeing the country before Castillo was able to get him. The CIA\\u2019s destruction of Guatemala\\u2019s democratic system threw the nation into a 30-year civil war that ended up killing millions of Guatemalan people, especially many of the poor.3. In 1960 a man named Patrice Lamumba was elected Congo\\u2019s first prime minister after independence from Belgium. Lamumba spoke out against Western imperialism and refused to take sides in the Cold War, which caused the CIA to conclude that he was a threat to \\u201cnational security.\\u201d The CIA orchestrated the assassination of Lamumba, which ended up taking place on January 17, 1961, just three days before President Kennedy, who liked Lamumba and who would have ordered the CIA to stand down, was to be sworn into office.4. In 1970 a man named Salvador Allende received a plurality of votes in the presidential election in Chile. Pursuant to the Chilean constitution, the election was thrown into the national congress. President Richard Nixon, his national-security team, the Pentagon, and the CIA concluded that because Allende believed in communism and socialism, he posed a grave threat to \\u201cnational security\\u201d here in the United States. The CIA attempted to bribe members of the congress to vote against Allende. It also orchestrated the kidnapping of the head of Chile\\u2019s armed forces, Gen Rene Schneider, who opposed a US military coup in his country, especially since a coup would violate the country\\u2019s constitution. The kidnapping attempt on Schneider left him dead.The CIA then fomented a coup that took place on 9/11 1973 that violently ousted Allende from power and left him dead. Replacing him was army Gen. Augusto Pinochet, one of the most brutal unelected military dictators in history. By the time Pinochet\\u2019s 17-year reign of military terror came to an end in 1990, he and his CIA-supported goons had incarcerated, raped, tortured, or killed tens of thousands of innocent people \\u2014 that is, people whose only \\u201ccrime\\u201d was believing in socialism \\u2014 with the full support of the CIA, Pentagon, Nixon, and his \\u201cnational security\\u201d team.Of course, there are also the more recent support of regime-change operations that ousted democratically elected presidents that the US government disapproved of, such as in Ukraine and Egypt.And then there is the long list of countries where unelected dictators were targeted for regime change by the US national security state and, where successful, replaced with a brutal unelected pro-US dictator. Cuba, Indonesia, Iraq, Libya, and Syria all come to mind.US officials need to keep in mind that when they point their accusatory index finger at Russia for supposedly meddling in the US presidential election, US officials have, at the same time, three fingers pointing back at themselves. Reprinted with permission from the Future of Freedom Foundation . Related\",\n          \"When hearing of an establishment called the Black and Blue Steakhouse, one could reasonably surmise that some, or at the very least one, extremely tough person could be found somewhere in there. Well, the three terrorists who attacked London Bridge over the weekend found the Black and Blue Steakhouse, and they found the toughest man in the house. [Or, maybe more to the point, he found them.  Roy Larner, 47, is a huge fan of the South East London soccer team Millwall F. C. The team is known as the Lions, and when   terrorists entered the Black and Blue to kill innocent people, Larner let them know who is the true king of the jungle. After the terrorists entered, with obvious bad intentions, Larner sprang into action: \\u201cLike an idiot I shouted back at them. I thought, \\u2018I need to take the p*** out of these b*****s.\\u2019 \\u201cI took a few steps towards them and said, \\u2018F*** you, I\\u2019m Millwall.\\u2019 So they started attacking me. \\u201cI stood in front of them trying to fight them off. Everyone else ran to the back. I was on my own against all three of them, that\\u2019s why I got hurt so much. It was just me, trying to grab them with my bare hands and hold on. I was swinging. \\u201cI got stabbed and sliced eight times. They got me in my head, chest and both hands. There was blood everywhere. \\u201cThey were saying, \\u2018Islam, Islam!\\u2019 I said again, \\u2018F*** you, I\\u2019m Millwall!\\u2019 \\u201cIt was the worst thing I could have done as they carried on attacking me. \\u201cLuckily, none of the blows were straight at me or I\\u2019d be dead. \\u201d A petition has begun, with the aim of awarding Larner with the George Cross for bravery. The award is the second highest commendation granted by Great Britain. Looking at his scars, it\\u2019s really hard to imagine that he won\\u2019t get it. If Millwall is looking for a new slogan, they may have found it. \\u201cF*** you, I\\u2019m Millwall!\\u201d has a nice ring to it. Follow Dylan Gwinn on Twitter: @themightygwinn\"\n        ],\n        \"semantic_type\": \"\",\n        \"description\": \"\"\n      }\n    },\n    {\n      \"column\": \"label\",\n      \"properties\": {\n        \"dtype\": \"number\",\n        \"std\": 0,\n        \"min\": 0,\n        \"max\": 1,\n        \"num_unique_values\": 2,\n        \"samples\": [\n          0,\n          1\n        ],\n        \"semantic_type\": \"\",\n        \"description\": \"\"\n      }\n    },\n    {\n      \"column\": \"combined_text\",\n      \"properties\": {\n        \"dtype\": \"string\",\n        \"num_unique_values\": 20652,\n        \"samples\": [\n          \"The U.S./Turkey Plan For \\u201cSeizing, Holding, And Occupying\\u201d Syrian Territory In Raqqa Brandon Turbeville By Brandon Turbeville As the U.S. Presidential selection circus draws to a close, the United States and Turkey have announced a new plan to defeat... \",\n          \"Trump\\u2019s New Ban Leaves Few Spots for Refugees, Even the Hunted - The New York Times Frances Robles and Kirk Semple SAN SALVADOR  \\u2014   Veronica picked up some modeling clay, molded it into little human figures with her hands  \\u2014   and then dug holes into the sculpture\\u2019s face. \\u201cLook,\\u201d said Veronica, 9, showing off the creation to her aunt. \\u201cThat\\u2019s how Mam\\u00e1 ended up. \\u201d For more than a year, Veronica and her sister have been in hiding here in El Salvador, hoping to receive refugee status in the United States. The two girls were doing homework at their dining room table when masked men burst in and gunned down their grandparents  \\u2014   the community\\u2019s only two health workers  \\u2014   on rumors that the couple had been tipping off the police about gangs in the neighborhood. Like many thousands of others, Veronica and her sister applied for sanctuary in the United States under a special Obama administration effort to grapple with the violence that has gutted Central America and sent waves of its people on a desperate march toward the American border. But on Monday, the Trump administration announced a   suspension on all refugee admissions to the United States so security procedures can be improved and, perhaps most significantly, cut the number of total refugees allowed into the country by more than half. \\u201cWe can\\u2019t remain in the same place,\\u201d said the girls\\u2019 aunt, Reina, who is seeking refugee status for her nieces, witnesses to the double homicide. \\u201cWe got a call last weekend telling us that they\\u2019d find us under whatever rock we were hiding. \\u201d When President Trump first tried to freeze the nation\\u2019s refugee program in January, the courts jumped in and thwarted his executive order. But one vital limit that the courts did allow  \\u2014   and which Mr. Trump\\u2019s new order continues  \\u2014   is a drastic reduction in the number of refugees admitted to the United States this fiscal year, from 110, 000 under President Barack Obama to Mr. Trump\\u2019s revised cap: 50, 000. And those seats are mostly taken already. More than 37, 000 refugees from around the world have been admitted to the United States since the fiscal year began in October. By Monday morning, with seven months to go in the fiscal year, fewer than 12, 700 slots remained under Mr. Trump\\u2019s limit. In a statement on Monday, John F. Kelly, the homeland security secretary, said the new executive order would \\u201cmake America safer, and address   concerns about the security of our immigration system. \\u201d \\u201cWe must undertake a rigorous review of our visa and refugee vetting programs to increase our confidence in the entry decisions we make for visitors and immigrants to the United States,\\u201d he said. \\u201cWe cannot risk the prospect of malevolent actors using our immigration system to take American lives. \\u201d Altogether, the United Nations referred more than 100, 000 refugees from around the globe last year for resettlement in the United States. The Obama administration accepted nearly 85, 000 of them in the 2016 fiscal year, before raising the ceiling considerably for 2017. Now Mr. Trump\\u2019s order will effectively leave tens of thousands of families in limbo, all vying for the sliver of seats still available. Veronica and her sister  \\u2014   whose last names are being withheld to protect their identities  \\u2014   have been waiting to find out whether they will be among the chosen. They and their father have been interviewed a total of four times, but months have passed. Members of El Salvador\\u2019s most notorious gang,   have made menacing phone calls suggesting that more killings are coming, the family says. So the girls, their father, aunts and uncles abandoned their houses and ran. But in a country the size of Massachusetts, there are only so many places to hide. They have already moved twice. Officials and immigrant advocates in Central America fear that as the Trump administration cites the danger of admitting potential terrorists cloaked as refugees from nations like Syria, it is disregarding the tens of thousands of people here who are being terrorized by street gangs that actually originated in the United States. In 2014, the Obama administration began setting up a program to offer refugee status or special entry for some Central American children, hoping to stanch the  tide of minors making the dangerous journey to the United States on their own. More than 11, 000 people have applied through the program, and just over 2, 400 had been admitted to the United States by Feb. 22, according to the State Department. In Mr. Trump\\u2019s first month in office, 316 people were admitted, the department said. The undertaking has always been slow. With the bar for eligibility high, and the application process lengthy, comparatively few of the people at risk applied. Many children chose to flee the country rather than wait for approval and risk danger while their cases were reviewed. American officials expanded the program in July to include additional family members, not just children. But countless adolescents all over El Salvador, Guatemala and Honduras are hoping to leave their countries because gang members are stalking the young, forcing boys to join their ranks and threatening to rape girls. \\u201cI have a client who has not left his house since July,\\u201d said Berta Guevara, a lawyer at the Independent Monitoring Group of El Salvador, which helps people with their refugee applications. Ms. Guevara said that many people in danger now believe that the United States no longer wants them. \\u201cA   delay to a person who, on any day if they are seen, they will be killed  \\u2014   to that person, every day is a terrible day,\\u201d Ms. Guevara said. Even before Mr. Trump\\u2019s executive order on Monday, officials at the Department of Homeland Security said they had not been taking on any new cases since the president first sought to suspend refugee admissions in late January, effectively freezing new applications to the program. The new executive order will prolong that freeze for at least another 120 days, leaving children under threat in the region with some daunting choices, including staying where they are or making the long, dangerous trek to the southwest border of the United States to apply for asylum or some other form of humanitarian relief. \\u201cThere\\u2019s still this ambivalence in regarding the Central American situation as a refugee crisis,\\u201d said Wendy Young, the president of Kids in Need of Defense, a Washington organization that offers legal assistance to unaccompanied immigrant children. \\u201cThere\\u2019s a perception in today\\u2019s world that refugees are people who are fleeing war, and that gang and drug violence is not war,\\u201d she said. Longer term, the Obama program in Central America could also be under threat because of its frequent reliance on a special provision called humanitarian parole, which allows certain immigrants to enter the United States temporarily even if they do not qualify as refugees. Some Republicans who want to limit immigration call humanitarian parole an overused back door to entering the United States. And Mr. Trump, in an executive order last month that sought to tighten border security, took aim at \\u201cthe abuse of parole and asylum provisions. \\u201d Veronica\\u2019s aunt, Reina, said she was more scared than ever. Arrests have been made in the case, prompting more threats in recent days. \\u201cI have been offered help to leave the country, but I just cannot leave here until these girls are safe,\\u201d Reina said. She said she already borrowed $6, 000 to pay a smuggler to take her    son, who also witnessed the killings, to Dallas. Oscar Torres, a prosecutor who runs the homicide division in the area where Reina\\u2019s mother and stepfather were killed, acknowledged that the entire family was in grave danger, whether they witnessed the murders or not. Of the seven people who participated in the killings, he said, four are in jail pending trial, one is still wanted, another was killed in a shootout with the police and a minor is out on bail. One of the accused is a gang leader known as El Tigre. Gang members are particularly known to kill the families of potential witnesses when a gang leader has been accused, he said. \\u201cIf these guys come to be sentenced, they are not going to like that their gang leader, their homeboy as they say, was convicted, so this family becomes a target,\\u201d Mr. Torres said. \\u201cWhere do these people go? What path is left for them?\\u201d\"\n        ],\n        \"semantic_type\": \"\",\n        \"description\": \"\"\n      }\n    }\n  ]\n}"
            }
          },
          "metadata": {},
          "execution_count": 42
        }
      ]
    },
    {
      "cell_type": "markdown",
      "source": [
        "## Drop the all the columns except label\tand combined_text"
      ],
      "metadata": {
        "id": "K1tTCsTRz_ZX"
      }
    },
    {
      "cell_type": "code",
      "source": [
        "df.drop(columns=['id', 'title', 'author', 'text'], inplace= True)"
      ],
      "metadata": {
        "id": "klDpJWpg0Lav"
      },
      "execution_count": null,
      "outputs": []
    },
    {
      "cell_type": "code",
      "source": [
        "df.head()"
      ],
      "metadata": {
        "id": "3LIJ2yXb0cxF",
        "colab": {
          "base_uri": "https://localhost:8080/",
          "height": 206
        },
        "outputId": "6589bc88-bde8-436e-f887-923a83d5428b"
      },
      "execution_count": null,
      "outputs": [
        {
          "output_type": "execute_result",
          "data": {
            "text/plain": [
              "   label                                      combined_text\n",
              "0      1  House Dem Aide: We Didn’t Even See Comey’s Let...\n",
              "1      0  FLYNN: Hillary Clinton, Big Woman on Campus - ...\n",
              "2      1  Why the Truth Might Get You Fired Consortiumne...\n",
              "3      1  15 Civilians Killed In Single US Airstrike Hav...\n",
              "4      1  Iranian woman jailed for fictional unpublished..."
            ],
            "text/html": [
              "\n",
              "  <div id=\"df-29b7e265-bc82-4560-a791-2956de462755\" class=\"colab-df-container\">\n",
              "    <div>\n",
              "<style scoped>\n",
              "    .dataframe tbody tr th:only-of-type {\n",
              "        vertical-align: middle;\n",
              "    }\n",
              "\n",
              "    .dataframe tbody tr th {\n",
              "        vertical-align: top;\n",
              "    }\n",
              "\n",
              "    .dataframe thead th {\n",
              "        text-align: right;\n",
              "    }\n",
              "</style>\n",
              "<table border=\"1\" class=\"dataframe\">\n",
              "  <thead>\n",
              "    <tr style=\"text-align: right;\">\n",
              "      <th></th>\n",
              "      <th>label</th>\n",
              "      <th>combined_text</th>\n",
              "    </tr>\n",
              "  </thead>\n",
              "  <tbody>\n",
              "    <tr>\n",
              "      <th>0</th>\n",
              "      <td>1</td>\n",
              "      <td>House Dem Aide: We Didn’t Even See Comey’s Let...</td>\n",
              "    </tr>\n",
              "    <tr>\n",
              "      <th>1</th>\n",
              "      <td>0</td>\n",
              "      <td>FLYNN: Hillary Clinton, Big Woman on Campus - ...</td>\n",
              "    </tr>\n",
              "    <tr>\n",
              "      <th>2</th>\n",
              "      <td>1</td>\n",
              "      <td>Why the Truth Might Get You Fired Consortiumne...</td>\n",
              "    </tr>\n",
              "    <tr>\n",
              "      <th>3</th>\n",
              "      <td>1</td>\n",
              "      <td>15 Civilians Killed In Single US Airstrike Hav...</td>\n",
              "    </tr>\n",
              "    <tr>\n",
              "      <th>4</th>\n",
              "      <td>1</td>\n",
              "      <td>Iranian woman jailed for fictional unpublished...</td>\n",
              "    </tr>\n",
              "  </tbody>\n",
              "</table>\n",
              "</div>\n",
              "    <div class=\"colab-df-buttons\">\n",
              "\n",
              "  <div class=\"colab-df-container\">\n",
              "    <button class=\"colab-df-convert\" onclick=\"convertToInteractive('df-29b7e265-bc82-4560-a791-2956de462755')\"\n",
              "            title=\"Convert this dataframe to an interactive table.\"\n",
              "            style=\"display:none;\">\n",
              "\n",
              "  <svg xmlns=\"http://www.w3.org/2000/svg\" height=\"24px\" viewBox=\"0 -960 960 960\">\n",
              "    <path d=\"M120-120v-720h720v720H120Zm60-500h600v-160H180v160Zm220 220h160v-160H400v160Zm0 220h160v-160H400v160ZM180-400h160v-160H180v160Zm440 0h160v-160H620v160ZM180-180h160v-160H180v160Zm440 0h160v-160H620v160Z\"/>\n",
              "  </svg>\n",
              "    </button>\n",
              "\n",
              "  <style>\n",
              "    .colab-df-container {\n",
              "      display:flex;\n",
              "      gap: 12px;\n",
              "    }\n",
              "\n",
              "    .colab-df-convert {\n",
              "      background-color: #E8F0FE;\n",
              "      border: none;\n",
              "      border-radius: 50%;\n",
              "      cursor: pointer;\n",
              "      display: none;\n",
              "      fill: #1967D2;\n",
              "      height: 32px;\n",
              "      padding: 0 0 0 0;\n",
              "      width: 32px;\n",
              "    }\n",
              "\n",
              "    .colab-df-convert:hover {\n",
              "      background-color: #E2EBFA;\n",
              "      box-shadow: 0px 1px 2px rgba(60, 64, 67, 0.3), 0px 1px 3px 1px rgba(60, 64, 67, 0.15);\n",
              "      fill: #174EA6;\n",
              "    }\n",
              "\n",
              "    .colab-df-buttons div {\n",
              "      margin-bottom: 4px;\n",
              "    }\n",
              "\n",
              "    [theme=dark] .colab-df-convert {\n",
              "      background-color: #3B4455;\n",
              "      fill: #D2E3FC;\n",
              "    }\n",
              "\n",
              "    [theme=dark] .colab-df-convert:hover {\n",
              "      background-color: #434B5C;\n",
              "      box-shadow: 0px 1px 3px 1px rgba(0, 0, 0, 0.15);\n",
              "      filter: drop-shadow(0px 1px 2px rgba(0, 0, 0, 0.3));\n",
              "      fill: #FFFFFF;\n",
              "    }\n",
              "  </style>\n",
              "\n",
              "    <script>\n",
              "      const buttonEl =\n",
              "        document.querySelector('#df-29b7e265-bc82-4560-a791-2956de462755 button.colab-df-convert');\n",
              "      buttonEl.style.display =\n",
              "        google.colab.kernel.accessAllowed ? 'block' : 'none';\n",
              "\n",
              "      async function convertToInteractive(key) {\n",
              "        const element = document.querySelector('#df-29b7e265-bc82-4560-a791-2956de462755');\n",
              "        const dataTable =\n",
              "          await google.colab.kernel.invokeFunction('convertToInteractive',\n",
              "                                                    [key], {});\n",
              "        if (!dataTable) return;\n",
              "\n",
              "        const docLinkHtml = 'Like what you see? Visit the ' +\n",
              "          '<a target=\"_blank\" href=https://colab.research.google.com/notebooks/data_table.ipynb>data table notebook</a>'\n",
              "          + ' to learn more about interactive tables.';\n",
              "        element.innerHTML = '';\n",
              "        dataTable['output_type'] = 'display_data';\n",
              "        await google.colab.output.renderOutput(dataTable, element);\n",
              "        const docLink = document.createElement('div');\n",
              "        docLink.innerHTML = docLinkHtml;\n",
              "        element.appendChild(docLink);\n",
              "      }\n",
              "    </script>\n",
              "  </div>\n",
              "\n",
              "\n",
              "<div id=\"df-edb3450f-797c-4027-b591-3d4196983898\">\n",
              "  <button class=\"colab-df-quickchart\" onclick=\"quickchart('df-edb3450f-797c-4027-b591-3d4196983898')\"\n",
              "            title=\"Suggest charts\"\n",
              "            style=\"display:none;\">\n",
              "\n",
              "<svg xmlns=\"http://www.w3.org/2000/svg\" height=\"24px\"viewBox=\"0 0 24 24\"\n",
              "     width=\"24px\">\n",
              "    <g>\n",
              "        <path d=\"M19 3H5c-1.1 0-2 .9-2 2v14c0 1.1.9 2 2 2h14c1.1 0 2-.9 2-2V5c0-1.1-.9-2-2-2zM9 17H7v-7h2v7zm4 0h-2V7h2v10zm4 0h-2v-4h2v4z\"/>\n",
              "    </g>\n",
              "</svg>\n",
              "  </button>\n",
              "\n",
              "<style>\n",
              "  .colab-df-quickchart {\n",
              "      --bg-color: #E8F0FE;\n",
              "      --fill-color: #1967D2;\n",
              "      --hover-bg-color: #E2EBFA;\n",
              "      --hover-fill-color: #174EA6;\n",
              "      --disabled-fill-color: #AAA;\n",
              "      --disabled-bg-color: #DDD;\n",
              "  }\n",
              "\n",
              "  [theme=dark] .colab-df-quickchart {\n",
              "      --bg-color: #3B4455;\n",
              "      --fill-color: #D2E3FC;\n",
              "      --hover-bg-color: #434B5C;\n",
              "      --hover-fill-color: #FFFFFF;\n",
              "      --disabled-bg-color: #3B4455;\n",
              "      --disabled-fill-color: #666;\n",
              "  }\n",
              "\n",
              "  .colab-df-quickchart {\n",
              "    background-color: var(--bg-color);\n",
              "    border: none;\n",
              "    border-radius: 50%;\n",
              "    cursor: pointer;\n",
              "    display: none;\n",
              "    fill: var(--fill-color);\n",
              "    height: 32px;\n",
              "    padding: 0;\n",
              "    width: 32px;\n",
              "  }\n",
              "\n",
              "  .colab-df-quickchart:hover {\n",
              "    background-color: var(--hover-bg-color);\n",
              "    box-shadow: 0 1px 2px rgba(60, 64, 67, 0.3), 0 1px 3px 1px rgba(60, 64, 67, 0.15);\n",
              "    fill: var(--button-hover-fill-color);\n",
              "  }\n",
              "\n",
              "  .colab-df-quickchart-complete:disabled,\n",
              "  .colab-df-quickchart-complete:disabled:hover {\n",
              "    background-color: var(--disabled-bg-color);\n",
              "    fill: var(--disabled-fill-color);\n",
              "    box-shadow: none;\n",
              "  }\n",
              "\n",
              "  .colab-df-spinner {\n",
              "    border: 2px solid var(--fill-color);\n",
              "    border-color: transparent;\n",
              "    border-bottom-color: var(--fill-color);\n",
              "    animation:\n",
              "      spin 1s steps(1) infinite;\n",
              "  }\n",
              "\n",
              "  @keyframes spin {\n",
              "    0% {\n",
              "      border-color: transparent;\n",
              "      border-bottom-color: var(--fill-color);\n",
              "      border-left-color: var(--fill-color);\n",
              "    }\n",
              "    20% {\n",
              "      border-color: transparent;\n",
              "      border-left-color: var(--fill-color);\n",
              "      border-top-color: var(--fill-color);\n",
              "    }\n",
              "    30% {\n",
              "      border-color: transparent;\n",
              "      border-left-color: var(--fill-color);\n",
              "      border-top-color: var(--fill-color);\n",
              "      border-right-color: var(--fill-color);\n",
              "    }\n",
              "    40% {\n",
              "      border-color: transparent;\n",
              "      border-right-color: var(--fill-color);\n",
              "      border-top-color: var(--fill-color);\n",
              "    }\n",
              "    60% {\n",
              "      border-color: transparent;\n",
              "      border-right-color: var(--fill-color);\n",
              "    }\n",
              "    80% {\n",
              "      border-color: transparent;\n",
              "      border-right-color: var(--fill-color);\n",
              "      border-bottom-color: var(--fill-color);\n",
              "    }\n",
              "    90% {\n",
              "      border-color: transparent;\n",
              "      border-bottom-color: var(--fill-color);\n",
              "    }\n",
              "  }\n",
              "</style>\n",
              "\n",
              "  <script>\n",
              "    async function quickchart(key) {\n",
              "      const quickchartButtonEl =\n",
              "        document.querySelector('#' + key + ' button');\n",
              "      quickchartButtonEl.disabled = true;  // To prevent multiple clicks.\n",
              "      quickchartButtonEl.classList.add('colab-df-spinner');\n",
              "      try {\n",
              "        const charts = await google.colab.kernel.invokeFunction(\n",
              "            'suggestCharts', [key], {});\n",
              "      } catch (error) {\n",
              "        console.error('Error during call to suggestCharts:', error);\n",
              "      }\n",
              "      quickchartButtonEl.classList.remove('colab-df-spinner');\n",
              "      quickchartButtonEl.classList.add('colab-df-quickchart-complete');\n",
              "    }\n",
              "    (() => {\n",
              "      let quickchartButtonEl =\n",
              "        document.querySelector('#df-edb3450f-797c-4027-b591-3d4196983898 button');\n",
              "      quickchartButtonEl.style.display =\n",
              "        google.colab.kernel.accessAllowed ? 'block' : 'none';\n",
              "    })();\n",
              "  </script>\n",
              "</div>\n",
              "\n",
              "    </div>\n",
              "  </div>\n"
            ],
            "application/vnd.google.colaboratory.intrinsic+json": {
              "type": "dataframe",
              "variable_name": "df",
              "summary": "{\n  \"name\": \"df\",\n  \"rows\": 20761,\n  \"fields\": [\n    {\n      \"column\": \"label\",\n      \"properties\": {\n        \"dtype\": \"number\",\n        \"std\": 0,\n        \"min\": 0,\n        \"max\": 1,\n        \"num_unique_values\": 2,\n        \"samples\": [\n          0,\n          1\n        ],\n        \"semantic_type\": \"\",\n        \"description\": \"\"\n      }\n    },\n    {\n      \"column\": \"combined_text\",\n      \"properties\": {\n        \"dtype\": \"string\",\n        \"num_unique_values\": 20652,\n        \"samples\": [\n          \"The U.S./Turkey Plan For \\u201cSeizing, Holding, And Occupying\\u201d Syrian Territory In Raqqa Brandon Turbeville By Brandon Turbeville As the U.S. Presidential selection circus draws to a close, the United States and Turkey have announced a new plan to defeat... \",\n          \"Trump\\u2019s New Ban Leaves Few Spots for Refugees, Even the Hunted - The New York Times Frances Robles and Kirk Semple SAN SALVADOR  \\u2014   Veronica picked up some modeling clay, molded it into little human figures with her hands  \\u2014   and then dug holes into the sculpture\\u2019s face. \\u201cLook,\\u201d said Veronica, 9, showing off the creation to her aunt. \\u201cThat\\u2019s how Mam\\u00e1 ended up. \\u201d For more than a year, Veronica and her sister have been in hiding here in El Salvador, hoping to receive refugee status in the United States. The two girls were doing homework at their dining room table when masked men burst in and gunned down their grandparents  \\u2014   the community\\u2019s only two health workers  \\u2014   on rumors that the couple had been tipping off the police about gangs in the neighborhood. Like many thousands of others, Veronica and her sister applied for sanctuary in the United States under a special Obama administration effort to grapple with the violence that has gutted Central America and sent waves of its people on a desperate march toward the American border. But on Monday, the Trump administration announced a   suspension on all refugee admissions to the United States so security procedures can be improved and, perhaps most significantly, cut the number of total refugees allowed into the country by more than half. \\u201cWe can\\u2019t remain in the same place,\\u201d said the girls\\u2019 aunt, Reina, who is seeking refugee status for her nieces, witnesses to the double homicide. \\u201cWe got a call last weekend telling us that they\\u2019d find us under whatever rock we were hiding. \\u201d When President Trump first tried to freeze the nation\\u2019s refugee program in January, the courts jumped in and thwarted his executive order. But one vital limit that the courts did allow  \\u2014   and which Mr. Trump\\u2019s new order continues  \\u2014   is a drastic reduction in the number of refugees admitted to the United States this fiscal year, from 110, 000 under President Barack Obama to Mr. Trump\\u2019s revised cap: 50, 000. And those seats are mostly taken already. More than 37, 000 refugees from around the world have been admitted to the United States since the fiscal year began in October. By Monday morning, with seven months to go in the fiscal year, fewer than 12, 700 slots remained under Mr. Trump\\u2019s limit. In a statement on Monday, John F. Kelly, the homeland security secretary, said the new executive order would \\u201cmake America safer, and address   concerns about the security of our immigration system. \\u201d \\u201cWe must undertake a rigorous review of our visa and refugee vetting programs to increase our confidence in the entry decisions we make for visitors and immigrants to the United States,\\u201d he said. \\u201cWe cannot risk the prospect of malevolent actors using our immigration system to take American lives. \\u201d Altogether, the United Nations referred more than 100, 000 refugees from around the globe last year for resettlement in the United States. The Obama administration accepted nearly 85, 000 of them in the 2016 fiscal year, before raising the ceiling considerably for 2017. Now Mr. Trump\\u2019s order will effectively leave tens of thousands of families in limbo, all vying for the sliver of seats still available. Veronica and her sister  \\u2014   whose last names are being withheld to protect their identities  \\u2014   have been waiting to find out whether they will be among the chosen. They and their father have been interviewed a total of four times, but months have passed. Members of El Salvador\\u2019s most notorious gang,   have made menacing phone calls suggesting that more killings are coming, the family says. So the girls, their father, aunts and uncles abandoned their houses and ran. But in a country the size of Massachusetts, there are only so many places to hide. They have already moved twice. Officials and immigrant advocates in Central America fear that as the Trump administration cites the danger of admitting potential terrorists cloaked as refugees from nations like Syria, it is disregarding the tens of thousands of people here who are being terrorized by street gangs that actually originated in the United States. In 2014, the Obama administration began setting up a program to offer refugee status or special entry for some Central American children, hoping to stanch the  tide of minors making the dangerous journey to the United States on their own. More than 11, 000 people have applied through the program, and just over 2, 400 had been admitted to the United States by Feb. 22, according to the State Department. In Mr. Trump\\u2019s first month in office, 316 people were admitted, the department said. The undertaking has always been slow. With the bar for eligibility high, and the application process lengthy, comparatively few of the people at risk applied. Many children chose to flee the country rather than wait for approval and risk danger while their cases were reviewed. American officials expanded the program in July to include additional family members, not just children. But countless adolescents all over El Salvador, Guatemala and Honduras are hoping to leave their countries because gang members are stalking the young, forcing boys to join their ranks and threatening to rape girls. \\u201cI have a client who has not left his house since July,\\u201d said Berta Guevara, a lawyer at the Independent Monitoring Group of El Salvador, which helps people with their refugee applications. Ms. Guevara said that many people in danger now believe that the United States no longer wants them. \\u201cA   delay to a person who, on any day if they are seen, they will be killed  \\u2014   to that person, every day is a terrible day,\\u201d Ms. Guevara said. Even before Mr. Trump\\u2019s executive order on Monday, officials at the Department of Homeland Security said they had not been taking on any new cases since the president first sought to suspend refugee admissions in late January, effectively freezing new applications to the program. The new executive order will prolong that freeze for at least another 120 days, leaving children under threat in the region with some daunting choices, including staying where they are or making the long, dangerous trek to the southwest border of the United States to apply for asylum or some other form of humanitarian relief. \\u201cThere\\u2019s still this ambivalence in regarding the Central American situation as a refugee crisis,\\u201d said Wendy Young, the president of Kids in Need of Defense, a Washington organization that offers legal assistance to unaccompanied immigrant children. \\u201cThere\\u2019s a perception in today\\u2019s world that refugees are people who are fleeing war, and that gang and drug violence is not war,\\u201d she said. Longer term, the Obama program in Central America could also be under threat because of its frequent reliance on a special provision called humanitarian parole, which allows certain immigrants to enter the United States temporarily even if they do not qualify as refugees. Some Republicans who want to limit immigration call humanitarian parole an overused back door to entering the United States. And Mr. Trump, in an executive order last month that sought to tighten border security, took aim at \\u201cthe abuse of parole and asylum provisions. \\u201d Veronica\\u2019s aunt, Reina, said she was more scared than ever. Arrests have been made in the case, prompting more threats in recent days. \\u201cI have been offered help to leave the country, but I just cannot leave here until these girls are safe,\\u201d Reina said. She said she already borrowed $6, 000 to pay a smuggler to take her    son, who also witnessed the killings, to Dallas. Oscar Torres, a prosecutor who runs the homicide division in the area where Reina\\u2019s mother and stepfather were killed, acknowledged that the entire family was in grave danger, whether they witnessed the murders or not. Of the seven people who participated in the killings, he said, four are in jail pending trial, one is still wanted, another was killed in a shootout with the police and a minor is out on bail. One of the accused is a gang leader known as El Tigre. Gang members are particularly known to kill the families of potential witnesses when a gang leader has been accused, he said. \\u201cIf these guys come to be sentenced, they are not going to like that their gang leader, their homeboy as they say, was convicted, so this family becomes a target,\\u201d Mr. Torres said. \\u201cWhere do these people go? What path is left for them?\\u201d\"\n        ],\n        \"semantic_type\": \"\",\n        \"description\": \"\"\n      }\n    }\n  ]\n}"
            }
          },
          "metadata": {},
          "execution_count": 44
        }
      ]
    },
    {
      "cell_type": "markdown",
      "source": [
        "# Separating the combined_text & label"
      ],
      "metadata": {
        "id": "L1PbxWIi0iHQ"
      }
    },
    {
      "cell_type": "code",
      "source": [
        "X = df.drop(columns='label', axis=1)\n",
        "y = df['label']"
      ],
      "metadata": {
        "id": "fJkGnOupuqMv"
      },
      "execution_count": null,
      "outputs": []
    },
    {
      "cell_type": "code",
      "source": [
        "X"
      ],
      "metadata": {
        "id": "k7vWtPb4usV7",
        "colab": {
          "base_uri": "https://localhost:8080/",
          "height": 424
        },
        "outputId": "89b7c740-e074-4257-87b3-d090bf336a51"
      },
      "execution_count": null,
      "outputs": [
        {
          "output_type": "execute_result",
          "data": {
            "text/plain": [
              "                                           combined_text\n",
              "0      House Dem Aide: We Didn’t Even See Comey’s Let...\n",
              "1      FLYNN: Hillary Clinton, Big Woman on Campus - ...\n",
              "2      Why the Truth Might Get You Fired Consortiumne...\n",
              "3      15 Civilians Killed In Single US Airstrike Hav...\n",
              "4      Iranian woman jailed for fictional unpublished...\n",
              "...                                                  ...\n",
              "20795  Rapper T.I.: Trump a ’Poster Child For White S...\n",
              "20796  N.F.L. Playoffs: Schedule, Matchups and Odds -...\n",
              "20797  Macy’s Is Said to Receive Takeover Approach by...\n",
              "20798  NATO, Russia To Hold Parallel Exercises In Bal...\n",
              "20799  What Keeps the F-35 Alive David Swanson   Davi...\n",
              "\n",
              "[20761 rows x 1 columns]"
            ],
            "text/html": [
              "\n",
              "  <div id=\"df-5b835a98-af3e-48ca-9a5e-571d2b9ee710\" class=\"colab-df-container\">\n",
              "    <div>\n",
              "<style scoped>\n",
              "    .dataframe tbody tr th:only-of-type {\n",
              "        vertical-align: middle;\n",
              "    }\n",
              "\n",
              "    .dataframe tbody tr th {\n",
              "        vertical-align: top;\n",
              "    }\n",
              "\n",
              "    .dataframe thead th {\n",
              "        text-align: right;\n",
              "    }\n",
              "</style>\n",
              "<table border=\"1\" class=\"dataframe\">\n",
              "  <thead>\n",
              "    <tr style=\"text-align: right;\">\n",
              "      <th></th>\n",
              "      <th>combined_text</th>\n",
              "    </tr>\n",
              "  </thead>\n",
              "  <tbody>\n",
              "    <tr>\n",
              "      <th>0</th>\n",
              "      <td>House Dem Aide: We Didn’t Even See Comey’s Let...</td>\n",
              "    </tr>\n",
              "    <tr>\n",
              "      <th>1</th>\n",
              "      <td>FLYNN: Hillary Clinton, Big Woman on Campus - ...</td>\n",
              "    </tr>\n",
              "    <tr>\n",
              "      <th>2</th>\n",
              "      <td>Why the Truth Might Get You Fired Consortiumne...</td>\n",
              "    </tr>\n",
              "    <tr>\n",
              "      <th>3</th>\n",
              "      <td>15 Civilians Killed In Single US Airstrike Hav...</td>\n",
              "    </tr>\n",
              "    <tr>\n",
              "      <th>4</th>\n",
              "      <td>Iranian woman jailed for fictional unpublished...</td>\n",
              "    </tr>\n",
              "    <tr>\n",
              "      <th>...</th>\n",
              "      <td>...</td>\n",
              "    </tr>\n",
              "    <tr>\n",
              "      <th>20795</th>\n",
              "      <td>Rapper T.I.: Trump a ’Poster Child For White S...</td>\n",
              "    </tr>\n",
              "    <tr>\n",
              "      <th>20796</th>\n",
              "      <td>N.F.L. Playoffs: Schedule, Matchups and Odds -...</td>\n",
              "    </tr>\n",
              "    <tr>\n",
              "      <th>20797</th>\n",
              "      <td>Macy’s Is Said to Receive Takeover Approach by...</td>\n",
              "    </tr>\n",
              "    <tr>\n",
              "      <th>20798</th>\n",
              "      <td>NATO, Russia To Hold Parallel Exercises In Bal...</td>\n",
              "    </tr>\n",
              "    <tr>\n",
              "      <th>20799</th>\n",
              "      <td>What Keeps the F-35 Alive David Swanson   Davi...</td>\n",
              "    </tr>\n",
              "  </tbody>\n",
              "</table>\n",
              "<p>20761 rows × 1 columns</p>\n",
              "</div>\n",
              "    <div class=\"colab-df-buttons\">\n",
              "\n",
              "  <div class=\"colab-df-container\">\n",
              "    <button class=\"colab-df-convert\" onclick=\"convertToInteractive('df-5b835a98-af3e-48ca-9a5e-571d2b9ee710')\"\n",
              "            title=\"Convert this dataframe to an interactive table.\"\n",
              "            style=\"display:none;\">\n",
              "\n",
              "  <svg xmlns=\"http://www.w3.org/2000/svg\" height=\"24px\" viewBox=\"0 -960 960 960\">\n",
              "    <path d=\"M120-120v-720h720v720H120Zm60-500h600v-160H180v160Zm220 220h160v-160H400v160Zm0 220h160v-160H400v160ZM180-400h160v-160H180v160Zm440 0h160v-160H620v160ZM180-180h160v-160H180v160Zm440 0h160v-160H620v160Z\"/>\n",
              "  </svg>\n",
              "    </button>\n",
              "\n",
              "  <style>\n",
              "    .colab-df-container {\n",
              "      display:flex;\n",
              "      gap: 12px;\n",
              "    }\n",
              "\n",
              "    .colab-df-convert {\n",
              "      background-color: #E8F0FE;\n",
              "      border: none;\n",
              "      border-radius: 50%;\n",
              "      cursor: pointer;\n",
              "      display: none;\n",
              "      fill: #1967D2;\n",
              "      height: 32px;\n",
              "      padding: 0 0 0 0;\n",
              "      width: 32px;\n",
              "    }\n",
              "\n",
              "    .colab-df-convert:hover {\n",
              "      background-color: #E2EBFA;\n",
              "      box-shadow: 0px 1px 2px rgba(60, 64, 67, 0.3), 0px 1px 3px 1px rgba(60, 64, 67, 0.15);\n",
              "      fill: #174EA6;\n",
              "    }\n",
              "\n",
              "    .colab-df-buttons div {\n",
              "      margin-bottom: 4px;\n",
              "    }\n",
              "\n",
              "    [theme=dark] .colab-df-convert {\n",
              "      background-color: #3B4455;\n",
              "      fill: #D2E3FC;\n",
              "    }\n",
              "\n",
              "    [theme=dark] .colab-df-convert:hover {\n",
              "      background-color: #434B5C;\n",
              "      box-shadow: 0px 1px 3px 1px rgba(0, 0, 0, 0.15);\n",
              "      filter: drop-shadow(0px 1px 2px rgba(0, 0, 0, 0.3));\n",
              "      fill: #FFFFFF;\n",
              "    }\n",
              "  </style>\n",
              "\n",
              "    <script>\n",
              "      const buttonEl =\n",
              "        document.querySelector('#df-5b835a98-af3e-48ca-9a5e-571d2b9ee710 button.colab-df-convert');\n",
              "      buttonEl.style.display =\n",
              "        google.colab.kernel.accessAllowed ? 'block' : 'none';\n",
              "\n",
              "      async function convertToInteractive(key) {\n",
              "        const element = document.querySelector('#df-5b835a98-af3e-48ca-9a5e-571d2b9ee710');\n",
              "        const dataTable =\n",
              "          await google.colab.kernel.invokeFunction('convertToInteractive',\n",
              "                                                    [key], {});\n",
              "        if (!dataTable) return;\n",
              "\n",
              "        const docLinkHtml = 'Like what you see? Visit the ' +\n",
              "          '<a target=\"_blank\" href=https://colab.research.google.com/notebooks/data_table.ipynb>data table notebook</a>'\n",
              "          + ' to learn more about interactive tables.';\n",
              "        element.innerHTML = '';\n",
              "        dataTable['output_type'] = 'display_data';\n",
              "        await google.colab.output.renderOutput(dataTable, element);\n",
              "        const docLink = document.createElement('div');\n",
              "        docLink.innerHTML = docLinkHtml;\n",
              "        element.appendChild(docLink);\n",
              "      }\n",
              "    </script>\n",
              "  </div>\n",
              "\n",
              "\n",
              "<div id=\"df-4016717c-e2fe-48ef-a177-10c218569490\">\n",
              "  <button class=\"colab-df-quickchart\" onclick=\"quickchart('df-4016717c-e2fe-48ef-a177-10c218569490')\"\n",
              "            title=\"Suggest charts\"\n",
              "            style=\"display:none;\">\n",
              "\n",
              "<svg xmlns=\"http://www.w3.org/2000/svg\" height=\"24px\"viewBox=\"0 0 24 24\"\n",
              "     width=\"24px\">\n",
              "    <g>\n",
              "        <path d=\"M19 3H5c-1.1 0-2 .9-2 2v14c0 1.1.9 2 2 2h14c1.1 0 2-.9 2-2V5c0-1.1-.9-2-2-2zM9 17H7v-7h2v7zm4 0h-2V7h2v10zm4 0h-2v-4h2v4z\"/>\n",
              "    </g>\n",
              "</svg>\n",
              "  </button>\n",
              "\n",
              "<style>\n",
              "  .colab-df-quickchart {\n",
              "      --bg-color: #E8F0FE;\n",
              "      --fill-color: #1967D2;\n",
              "      --hover-bg-color: #E2EBFA;\n",
              "      --hover-fill-color: #174EA6;\n",
              "      --disabled-fill-color: #AAA;\n",
              "      --disabled-bg-color: #DDD;\n",
              "  }\n",
              "\n",
              "  [theme=dark] .colab-df-quickchart {\n",
              "      --bg-color: #3B4455;\n",
              "      --fill-color: #D2E3FC;\n",
              "      --hover-bg-color: #434B5C;\n",
              "      --hover-fill-color: #FFFFFF;\n",
              "      --disabled-bg-color: #3B4455;\n",
              "      --disabled-fill-color: #666;\n",
              "  }\n",
              "\n",
              "  .colab-df-quickchart {\n",
              "    background-color: var(--bg-color);\n",
              "    border: none;\n",
              "    border-radius: 50%;\n",
              "    cursor: pointer;\n",
              "    display: none;\n",
              "    fill: var(--fill-color);\n",
              "    height: 32px;\n",
              "    padding: 0;\n",
              "    width: 32px;\n",
              "  }\n",
              "\n",
              "  .colab-df-quickchart:hover {\n",
              "    background-color: var(--hover-bg-color);\n",
              "    box-shadow: 0 1px 2px rgba(60, 64, 67, 0.3), 0 1px 3px 1px rgba(60, 64, 67, 0.15);\n",
              "    fill: var(--button-hover-fill-color);\n",
              "  }\n",
              "\n",
              "  .colab-df-quickchart-complete:disabled,\n",
              "  .colab-df-quickchart-complete:disabled:hover {\n",
              "    background-color: var(--disabled-bg-color);\n",
              "    fill: var(--disabled-fill-color);\n",
              "    box-shadow: none;\n",
              "  }\n",
              "\n",
              "  .colab-df-spinner {\n",
              "    border: 2px solid var(--fill-color);\n",
              "    border-color: transparent;\n",
              "    border-bottom-color: var(--fill-color);\n",
              "    animation:\n",
              "      spin 1s steps(1) infinite;\n",
              "  }\n",
              "\n",
              "  @keyframes spin {\n",
              "    0% {\n",
              "      border-color: transparent;\n",
              "      border-bottom-color: var(--fill-color);\n",
              "      border-left-color: var(--fill-color);\n",
              "    }\n",
              "    20% {\n",
              "      border-color: transparent;\n",
              "      border-left-color: var(--fill-color);\n",
              "      border-top-color: var(--fill-color);\n",
              "    }\n",
              "    30% {\n",
              "      border-color: transparent;\n",
              "      border-left-color: var(--fill-color);\n",
              "      border-top-color: var(--fill-color);\n",
              "      border-right-color: var(--fill-color);\n",
              "    }\n",
              "    40% {\n",
              "      border-color: transparent;\n",
              "      border-right-color: var(--fill-color);\n",
              "      border-top-color: var(--fill-color);\n",
              "    }\n",
              "    60% {\n",
              "      border-color: transparent;\n",
              "      border-right-color: var(--fill-color);\n",
              "    }\n",
              "    80% {\n",
              "      border-color: transparent;\n",
              "      border-right-color: var(--fill-color);\n",
              "      border-bottom-color: var(--fill-color);\n",
              "    }\n",
              "    90% {\n",
              "      border-color: transparent;\n",
              "      border-bottom-color: var(--fill-color);\n",
              "    }\n",
              "  }\n",
              "</style>\n",
              "\n",
              "  <script>\n",
              "    async function quickchart(key) {\n",
              "      const quickchartButtonEl =\n",
              "        document.querySelector('#' + key + ' button');\n",
              "      quickchartButtonEl.disabled = true;  // To prevent multiple clicks.\n",
              "      quickchartButtonEl.classList.add('colab-df-spinner');\n",
              "      try {\n",
              "        const charts = await google.colab.kernel.invokeFunction(\n",
              "            'suggestCharts', [key], {});\n",
              "      } catch (error) {\n",
              "        console.error('Error during call to suggestCharts:', error);\n",
              "      }\n",
              "      quickchartButtonEl.classList.remove('colab-df-spinner');\n",
              "      quickchartButtonEl.classList.add('colab-df-quickchart-complete');\n",
              "    }\n",
              "    (() => {\n",
              "      let quickchartButtonEl =\n",
              "        document.querySelector('#df-4016717c-e2fe-48ef-a177-10c218569490 button');\n",
              "      quickchartButtonEl.style.display =\n",
              "        google.colab.kernel.accessAllowed ? 'block' : 'none';\n",
              "    })();\n",
              "  </script>\n",
              "</div>\n",
              "\n",
              "  <div id=\"id_98352392-f494-41b9-ab19-6ac1cd559be4\">\n",
              "    <style>\n",
              "      .colab-df-generate {\n",
              "        background-color: #E8F0FE;\n",
              "        border: none;\n",
              "        border-radius: 50%;\n",
              "        cursor: pointer;\n",
              "        display: none;\n",
              "        fill: #1967D2;\n",
              "        height: 32px;\n",
              "        padding: 0 0 0 0;\n",
              "        width: 32px;\n",
              "      }\n",
              "\n",
              "      .colab-df-generate:hover {\n",
              "        background-color: #E2EBFA;\n",
              "        box-shadow: 0px 1px 2px rgba(60, 64, 67, 0.3), 0px 1px 3px 1px rgba(60, 64, 67, 0.15);\n",
              "        fill: #174EA6;\n",
              "      }\n",
              "\n",
              "      [theme=dark] .colab-df-generate {\n",
              "        background-color: #3B4455;\n",
              "        fill: #D2E3FC;\n",
              "      }\n",
              "\n",
              "      [theme=dark] .colab-df-generate:hover {\n",
              "        background-color: #434B5C;\n",
              "        box-shadow: 0px 1px 3px 1px rgba(0, 0, 0, 0.15);\n",
              "        filter: drop-shadow(0px 1px 2px rgba(0, 0, 0, 0.3));\n",
              "        fill: #FFFFFF;\n",
              "      }\n",
              "    </style>\n",
              "    <button class=\"colab-df-generate\" onclick=\"generateWithVariable('X')\"\n",
              "            title=\"Generate code using this dataframe.\"\n",
              "            style=\"display:none;\">\n",
              "\n",
              "  <svg xmlns=\"http://www.w3.org/2000/svg\" height=\"24px\"viewBox=\"0 0 24 24\"\n",
              "       width=\"24px\">\n",
              "    <path d=\"M7,19H8.4L18.45,9,17,7.55,7,17.6ZM5,21V16.75L18.45,3.32a2,2,0,0,1,2.83,0l1.4,1.43a1.91,1.91,0,0,1,.58,1.4,1.91,1.91,0,0,1-.58,1.4L9.25,21ZM18.45,9,17,7.55Zm-12,3A5.31,5.31,0,0,0,4.9,8.1,5.31,5.31,0,0,0,1,6.5,5.31,5.31,0,0,0,4.9,4.9,5.31,5.31,0,0,0,6.5,1,5.31,5.31,0,0,0,8.1,4.9,5.31,5.31,0,0,0,12,6.5,5.46,5.46,0,0,0,6.5,12Z\"/>\n",
              "  </svg>\n",
              "    </button>\n",
              "    <script>\n",
              "      (() => {\n",
              "      const buttonEl =\n",
              "        document.querySelector('#id_98352392-f494-41b9-ab19-6ac1cd559be4 button.colab-df-generate');\n",
              "      buttonEl.style.display =\n",
              "        google.colab.kernel.accessAllowed ? 'block' : 'none';\n",
              "\n",
              "      buttonEl.onclick = () => {\n",
              "        google.colab.notebook.generateWithVariable('X');\n",
              "      }\n",
              "      })();\n",
              "    </script>\n",
              "  </div>\n",
              "\n",
              "    </div>\n",
              "  </div>\n"
            ],
            "application/vnd.google.colaboratory.intrinsic+json": {
              "type": "dataframe",
              "variable_name": "X",
              "summary": "{\n  \"name\": \"X\",\n  \"rows\": 20761,\n  \"fields\": [\n    {\n      \"column\": \"combined_text\",\n      \"properties\": {\n        \"dtype\": \"string\",\n        \"num_unique_values\": 20652,\n        \"samples\": [\n          \"The U.S./Turkey Plan For \\u201cSeizing, Holding, And Occupying\\u201d Syrian Territory In Raqqa Brandon Turbeville By Brandon Turbeville As the U.S. Presidential selection circus draws to a close, the United States and Turkey have announced a new plan to defeat... \",\n          \"Trump\\u2019s New Ban Leaves Few Spots for Refugees, Even the Hunted - The New York Times Frances Robles and Kirk Semple SAN SALVADOR  \\u2014   Veronica picked up some modeling clay, molded it into little human figures with her hands  \\u2014   and then dug holes into the sculpture\\u2019s face. \\u201cLook,\\u201d said Veronica, 9, showing off the creation to her aunt. \\u201cThat\\u2019s how Mam\\u00e1 ended up. \\u201d For more than a year, Veronica and her sister have been in hiding here in El Salvador, hoping to receive refugee status in the United States. The two girls were doing homework at their dining room table when masked men burst in and gunned down their grandparents  \\u2014   the community\\u2019s only two health workers  \\u2014   on rumors that the couple had been tipping off the police about gangs in the neighborhood. Like many thousands of others, Veronica and her sister applied for sanctuary in the United States under a special Obama administration effort to grapple with the violence that has gutted Central America and sent waves of its people on a desperate march toward the American border. But on Monday, the Trump administration announced a   suspension on all refugee admissions to the United States so security procedures can be improved and, perhaps most significantly, cut the number of total refugees allowed into the country by more than half. \\u201cWe can\\u2019t remain in the same place,\\u201d said the girls\\u2019 aunt, Reina, who is seeking refugee status for her nieces, witnesses to the double homicide. \\u201cWe got a call last weekend telling us that they\\u2019d find us under whatever rock we were hiding. \\u201d When President Trump first tried to freeze the nation\\u2019s refugee program in January, the courts jumped in and thwarted his executive order. But one vital limit that the courts did allow  \\u2014   and which Mr. Trump\\u2019s new order continues  \\u2014   is a drastic reduction in the number of refugees admitted to the United States this fiscal year, from 110, 000 under President Barack Obama to Mr. Trump\\u2019s revised cap: 50, 000. And those seats are mostly taken already. More than 37, 000 refugees from around the world have been admitted to the United States since the fiscal year began in October. By Monday morning, with seven months to go in the fiscal year, fewer than 12, 700 slots remained under Mr. Trump\\u2019s limit. In a statement on Monday, John F. Kelly, the homeland security secretary, said the new executive order would \\u201cmake America safer, and address   concerns about the security of our immigration system. \\u201d \\u201cWe must undertake a rigorous review of our visa and refugee vetting programs to increase our confidence in the entry decisions we make for visitors and immigrants to the United States,\\u201d he said. \\u201cWe cannot risk the prospect of malevolent actors using our immigration system to take American lives. \\u201d Altogether, the United Nations referred more than 100, 000 refugees from around the globe last year for resettlement in the United States. The Obama administration accepted nearly 85, 000 of them in the 2016 fiscal year, before raising the ceiling considerably for 2017. Now Mr. Trump\\u2019s order will effectively leave tens of thousands of families in limbo, all vying for the sliver of seats still available. Veronica and her sister  \\u2014   whose last names are being withheld to protect their identities  \\u2014   have been waiting to find out whether they will be among the chosen. They and their father have been interviewed a total of four times, but months have passed. Members of El Salvador\\u2019s most notorious gang,   have made menacing phone calls suggesting that more killings are coming, the family says. So the girls, their father, aunts and uncles abandoned their houses and ran. But in a country the size of Massachusetts, there are only so many places to hide. They have already moved twice. Officials and immigrant advocates in Central America fear that as the Trump administration cites the danger of admitting potential terrorists cloaked as refugees from nations like Syria, it is disregarding the tens of thousands of people here who are being terrorized by street gangs that actually originated in the United States. In 2014, the Obama administration began setting up a program to offer refugee status or special entry for some Central American children, hoping to stanch the  tide of minors making the dangerous journey to the United States on their own. More than 11, 000 people have applied through the program, and just over 2, 400 had been admitted to the United States by Feb. 22, according to the State Department. In Mr. Trump\\u2019s first month in office, 316 people were admitted, the department said. The undertaking has always been slow. With the bar for eligibility high, and the application process lengthy, comparatively few of the people at risk applied. Many children chose to flee the country rather than wait for approval and risk danger while their cases were reviewed. American officials expanded the program in July to include additional family members, not just children. But countless adolescents all over El Salvador, Guatemala and Honduras are hoping to leave their countries because gang members are stalking the young, forcing boys to join their ranks and threatening to rape girls. \\u201cI have a client who has not left his house since July,\\u201d said Berta Guevara, a lawyer at the Independent Monitoring Group of El Salvador, which helps people with their refugee applications. Ms. Guevara said that many people in danger now believe that the United States no longer wants them. \\u201cA   delay to a person who, on any day if they are seen, they will be killed  \\u2014   to that person, every day is a terrible day,\\u201d Ms. Guevara said. Even before Mr. Trump\\u2019s executive order on Monday, officials at the Department of Homeland Security said they had not been taking on any new cases since the president first sought to suspend refugee admissions in late January, effectively freezing new applications to the program. The new executive order will prolong that freeze for at least another 120 days, leaving children under threat in the region with some daunting choices, including staying where they are or making the long, dangerous trek to the southwest border of the United States to apply for asylum or some other form of humanitarian relief. \\u201cThere\\u2019s still this ambivalence in regarding the Central American situation as a refugee crisis,\\u201d said Wendy Young, the president of Kids in Need of Defense, a Washington organization that offers legal assistance to unaccompanied immigrant children. \\u201cThere\\u2019s a perception in today\\u2019s world that refugees are people who are fleeing war, and that gang and drug violence is not war,\\u201d she said. Longer term, the Obama program in Central America could also be under threat because of its frequent reliance on a special provision called humanitarian parole, which allows certain immigrants to enter the United States temporarily even if they do not qualify as refugees. Some Republicans who want to limit immigration call humanitarian parole an overused back door to entering the United States. And Mr. Trump, in an executive order last month that sought to tighten border security, took aim at \\u201cthe abuse of parole and asylum provisions. \\u201d Veronica\\u2019s aunt, Reina, said she was more scared than ever. Arrests have been made in the case, prompting more threats in recent days. \\u201cI have been offered help to leave the country, but I just cannot leave here until these girls are safe,\\u201d Reina said. She said she already borrowed $6, 000 to pay a smuggler to take her    son, who also witnessed the killings, to Dallas. Oscar Torres, a prosecutor who runs the homicide division in the area where Reina\\u2019s mother and stepfather were killed, acknowledged that the entire family was in grave danger, whether they witnessed the murders or not. Of the seven people who participated in the killings, he said, four are in jail pending trial, one is still wanted, another was killed in a shootout with the police and a minor is out on bail. One of the accused is a gang leader known as El Tigre. Gang members are particularly known to kill the families of potential witnesses when a gang leader has been accused, he said. \\u201cIf these guys come to be sentenced, they are not going to like that their gang leader, their homeboy as they say, was convicted, so this family becomes a target,\\u201d Mr. Torres said. \\u201cWhere do these people go? What path is left for them?\\u201d\",\n          \"Minnesota Cop Found Not Guilty in Philando Castile Shooting Trial Lana Shadwick The Minnesota officer who has been on trial for the murder in the shooting death of a black motorist has been found not guilty. The verdict was announced around 2:55 p. m. on Friday. [St. Anthony police Officer Jeronimo Yanez testified during the trial that    Philando Castile had his hand on a gun.  A Facebook video live streamed by Diamond Reynolds, his girlfriend who was in the car, went viral. She narrated as Castile sat dying. Officer Yanez fatally shot Castile on July 6 after a traffic stop in Falcon Heights, a suburb in St. Paul, Minnesota. At the time, there was a question as to whether Castile was a suspect in a recent convenience store robbery. Officer Yanez faced charges of manslaughter and reckless discharge of a weapon. The Minnesota jury has been deliberating this week. Shortly after the shooting, Officer Yanez\\u2019 lawyer said, \\u201cI can tell you that the stop of the vehicle for an equipment violation was not the only reason for the stop. \\u201d A handgun was recovered at the scene. During the Facebook live stream, Reynolds said, \\u201cpolice just shot my boyfriend for no apparent reason. \\u201d Castile had a concealed handgun license. During Yanez\\u2019 trial, a police force expert testified that the officer was justified in his use of force. Expert Joe Dutton told jurors \\u201cWhen Yanez saw the   grip of Castile\\u2019s hand, he had to react to the actions of Mr. Castile,\\u201d reported the CBS affiliate in Minnesota. He added, \\u201cThis truly was a   decision, there wasn\\u2019t time to do anything else. \\u201d A firefighter testified that he heard Castile\\u2019s gun drop to the ground from his pocket when he put him on a stretcher. Officer Yanez took the stand in his defense. He testified that he stopped Castile\\u2019s car after Castile drove past him and gave him a \\u201cdeer in the headlights\\u201d look that made him suspicious. \\u201cIt\\u2019s a trigger,\\u201d he testified. The officer was already on alert after the convenience store robbery and Castile looked like one of the robbery suspects. He radioed his partner that he was going to pull the car over because \\u201c[t]he two occupants just look like people that were involved in a robbery,\\u201d Minnesota\\u2019s Star Tribune reported. He also had legal grounds to pull Castile over because he was driving with a broken brake light. Yanez walked up to the car, and he could smell burnt or burning marijuana, he testified. The officer told the jury he saw Castile\\u2019s hand on the gun and Castile did not follow his instructions not to reach for the gun. He told the jury, \\u201cI told him, \\u2018Don\\u2019t pull it out,\\u201d but when he saw Castile pull out the top of the gun, \\u201cThat\\u2019s when I engaged Mr. Castile and shot him. \\u201d The officer testified when he saw Castile\\u2019s gun, \\u201cmy family popped into my head. My wife. My baby girl. \\u201d \\u201cI did not want to shoot Mr. Castile at all. \\u201d \\u201cThose were not my intentions. \\u201d After the shooting, Castile\\u2019s mother, Valerie Castile, reportedly told CNN, \\u201cI think he was just black in the wrong place. \\u201d Minnesota Governor Mark Dayton further fanned the flame of racial tension when he asked at a press conference after the shooting  \\u2014   \\u201cWould this have happened if the driver and passenger were white?\\u201d  He answered his question saying  \\u2014   \\u201cI don\\u2019t think it would have,\\u201d reported Fox 9 News in  . Paul. As can be heard in the video, the officer told the girlfriend, \\u201cI told him not to reach for it. I told him to get his hand off of it. \\u201d This occurs at the   mark in the video. Lana Shadwick is a writer and legal analyst for Breitbart Texas. She has served as a prosecutor and associate judge in Texas. Follow her on Twitter @LanaShadwick2\"\n        ],\n        \"semantic_type\": \"\",\n        \"description\": \"\"\n      }\n    }\n  ]\n}"
            }
          },
          "metadata": {},
          "execution_count": 46
        }
      ]
    },
    {
      "cell_type": "code",
      "source": [
        "y"
      ],
      "metadata": {
        "id": "_iCnom_rc9Gt",
        "colab": {
          "base_uri": "https://localhost:8080/"
        },
        "outputId": "b38e7f1a-4a32-42d6-94f5-020d81a21825"
      },
      "execution_count": null,
      "outputs": [
        {
          "output_type": "execute_result",
          "data": {
            "text/plain": [
              "0        1\n",
              "1        0\n",
              "2        1\n",
              "3        1\n",
              "4        1\n",
              "        ..\n",
              "20795    0\n",
              "20796    0\n",
              "20797    0\n",
              "20798    1\n",
              "20799    1\n",
              "Name: label, Length: 20761, dtype: int64"
            ]
          },
          "metadata": {},
          "execution_count": 47
        }
      ]
    },
    {
      "cell_type": "markdown",
      "source": [
        "# Use Term Frequency - Inverse Document Frequency (TF-IDF) for scoring the text"
      ],
      "metadata": {
        "id": "oJhZ8ux_Gmbu"
      }
    },
    {
      "cell_type": "code",
      "source": [
        "tfidf = TfidfVectorizer(token_pattern= \"[a-z']+\", stop_words=list(STOPWORDS))"
      ],
      "metadata": {
        "id": "U000sksb1FRC"
      },
      "execution_count": null,
      "outputs": []
    },
    {
      "cell_type": "code",
      "source": [
        "tfidf = tfidf.fit_transform(X.values.ravel())"
      ],
      "metadata": {
        "id": "SVvL8iCw1IJ7"
      },
      "execution_count": null,
      "outputs": []
    },
    {
      "cell_type": "code",
      "source": [
        "tfidf"
      ],
      "metadata": {
        "id": "8QcJ1zGG244-",
        "colab": {
          "base_uri": "https://localhost:8080/"
        },
        "outputId": "7d054d1b-170c-4f6f-c75e-3243117e66a9"
      },
      "execution_count": null,
      "outputs": [
        {
          "output_type": "execute_result",
          "data": {
            "text/plain": [
              "<20761x151966 sparse matrix of type '<class 'numpy.float64'>'\n",
              "\twith 5686974 stored elements in Compressed Sparse Row format>"
            ]
          },
          "metadata": {},
          "execution_count": 50
        }
      ]
    },
    {
      "cell_type": "markdown",
      "source": [
        "# Use SVD to transform the sparse TF-IDF matrix into a dense matrix"
      ],
      "metadata": {
        "id": "00typ7mwGx0X"
      }
    },
    {
      "cell_type": "code",
      "source": [
        "svd= TruncatedSVD(n_components= 500, algorithm= 'arpack')\n",
        "svd_mat= svd.fit_transform(tfidf)"
      ],
      "metadata": {
        "id": "R6KgBWa-fX1i"
      },
      "execution_count": null,
      "outputs": []
    },
    {
      "cell_type": "code",
      "source": [
        "svd_mat.shape"
      ],
      "metadata": {
        "id": "Q3pUneiQfo5Q",
        "colab": {
          "base_uri": "https://localhost:8080/"
        },
        "outputId": "760e53b0-ea5f-420d-c857-f1d6110af342"
      },
      "execution_count": null,
      "outputs": [
        {
          "output_type": "execute_result",
          "data": {
            "text/plain": [
              "(20761, 500)"
            ]
          },
          "metadata": {},
          "execution_count": 52
        }
      ]
    },
    {
      "cell_type": "code",
      "source": [
        "svd_mat"
      ],
      "metadata": {
        "id": "LUTOAgcmflww",
        "colab": {
          "base_uri": "https://localhost:8080/"
        },
        "outputId": "c2446456-5dc5-4a88-df76-3faedeb5700a"
      },
      "execution_count": null,
      "outputs": [
        {
          "output_type": "execute_result",
          "data": {
            "text/plain": [
              "array([[ 0.17308462, -0.14076632,  0.09652879, ..., -0.04787032,\n",
              "         0.00379543, -0.00198135],\n",
              "       [ 0.21612556, -0.12209764,  0.06890655, ..., -0.02221518,\n",
              "        -0.01477006, -0.00329278],\n",
              "       [ 0.21953809, -0.08693545, -0.10815563, ...,  0.02839013,\n",
              "        -0.00057059,  0.01702326],\n",
              "       ...,\n",
              "       [ 0.15564166, -0.00635437, -0.06571009, ...,  0.0043729 ,\n",
              "        -0.01159098, -0.01086185],\n",
              "       [ 0.09563832, -0.04178235, -0.08720637, ..., -0.00876759,\n",
              "        -0.00289891, -0.00729083],\n",
              "       [ 0.13905753, -0.05536277, -0.08169914, ..., -0.0104361 ,\n",
              "         0.00401215,  0.03593772]])"
            ]
          },
          "metadata": {},
          "execution_count": 53
        }
      ]
    },
    {
      "cell_type": "markdown",
      "source": [
        "# Map the SVD matrix with label and split the dataset into training and testing"
      ],
      "metadata": {
        "id": "EvgROmzDHKOy"
      }
    },
    {
      "cell_type": "code",
      "source": [
        "X_train, X_test, y_train, y_test = train_test_split(svd_mat, y, test_size=0.2, random_state=42)"
      ],
      "metadata": {
        "id": "21WzP7nyhoiq"
      },
      "execution_count": null,
      "outputs": []
    },
    {
      "cell_type": "code",
      "source": [
        "X_train.shape, X_test.shape"
      ],
      "metadata": {
        "id": "k1Pv2wVlhtUM",
        "colab": {
          "base_uri": "https://localhost:8080/"
        },
        "outputId": "825e1b6c-c688-4402-de10-a927fd3736e7"
      },
      "execution_count": null,
      "outputs": [
        {
          "output_type": "execute_result",
          "data": {
            "text/plain": [
              "((16608, 500), (4153, 500))"
            ]
          },
          "metadata": {},
          "execution_count": 55
        }
      ]
    },
    {
      "cell_type": "markdown",
      "source": [
        "# Training the model"
      ],
      "metadata": {
        "id": "mLRFGIqN-biW"
      }
    },
    {
      "cell_type": "markdown",
      "source": [
        "## Logistic Regression model"
      ],
      "metadata": {
        "id": "0bkq0KEp-gF5"
      }
    },
    {
      "cell_type": "code",
      "source": [
        "model = LogisticRegression()\n",
        "model.fit(X_train, y_train)"
      ],
      "metadata": {
        "id": "mVUlxNZN-kr6",
        "colab": {
          "base_uri": "https://localhost:8080/",
          "height": 75
        },
        "outputId": "61fb6dcd-8ef4-4acc-dd94-b024587ab7c9"
      },
      "execution_count": null,
      "outputs": [
        {
          "output_type": "execute_result",
          "data": {
            "text/plain": [
              "LogisticRegression()"
            ],
            "text/html": [
              "<style>#sk-container-id-1 {color: black;background-color: white;}#sk-container-id-1 pre{padding: 0;}#sk-container-id-1 div.sk-toggleable {background-color: white;}#sk-container-id-1 label.sk-toggleable__label {cursor: pointer;display: block;width: 100%;margin-bottom: 0;padding: 0.3em;box-sizing: border-box;text-align: center;}#sk-container-id-1 label.sk-toggleable__label-arrow:before {content: \"▸\";float: left;margin-right: 0.25em;color: #696969;}#sk-container-id-1 label.sk-toggleable__label-arrow:hover:before {color: black;}#sk-container-id-1 div.sk-estimator:hover label.sk-toggleable__label-arrow:before {color: black;}#sk-container-id-1 div.sk-toggleable__content {max-height: 0;max-width: 0;overflow: hidden;text-align: left;background-color: #f0f8ff;}#sk-container-id-1 div.sk-toggleable__content pre {margin: 0.2em;color: black;border-radius: 0.25em;background-color: #f0f8ff;}#sk-container-id-1 input.sk-toggleable__control:checked~div.sk-toggleable__content {max-height: 200px;max-width: 100%;overflow: auto;}#sk-container-id-1 input.sk-toggleable__control:checked~label.sk-toggleable__label-arrow:before {content: \"▾\";}#sk-container-id-1 div.sk-estimator input.sk-toggleable__control:checked~label.sk-toggleable__label {background-color: #d4ebff;}#sk-container-id-1 div.sk-label input.sk-toggleable__control:checked~label.sk-toggleable__label {background-color: #d4ebff;}#sk-container-id-1 input.sk-hidden--visually {border: 0;clip: rect(1px 1px 1px 1px);clip: rect(1px, 1px, 1px, 1px);height: 1px;margin: -1px;overflow: hidden;padding: 0;position: absolute;width: 1px;}#sk-container-id-1 div.sk-estimator {font-family: monospace;background-color: #f0f8ff;border: 1px dotted black;border-radius: 0.25em;box-sizing: border-box;margin-bottom: 0.5em;}#sk-container-id-1 div.sk-estimator:hover {background-color: #d4ebff;}#sk-container-id-1 div.sk-parallel-item::after {content: \"\";width: 100%;border-bottom: 1px solid gray;flex-grow: 1;}#sk-container-id-1 div.sk-label:hover label.sk-toggleable__label {background-color: #d4ebff;}#sk-container-id-1 div.sk-serial::before {content: \"\";position: absolute;border-left: 1px solid gray;box-sizing: border-box;top: 0;bottom: 0;left: 50%;z-index: 0;}#sk-container-id-1 div.sk-serial {display: flex;flex-direction: column;align-items: center;background-color: white;padding-right: 0.2em;padding-left: 0.2em;position: relative;}#sk-container-id-1 div.sk-item {position: relative;z-index: 1;}#sk-container-id-1 div.sk-parallel {display: flex;align-items: stretch;justify-content: center;background-color: white;position: relative;}#sk-container-id-1 div.sk-item::before, #sk-container-id-1 div.sk-parallel-item::before {content: \"\";position: absolute;border-left: 1px solid gray;box-sizing: border-box;top: 0;bottom: 0;left: 50%;z-index: -1;}#sk-container-id-1 div.sk-parallel-item {display: flex;flex-direction: column;z-index: 1;position: relative;background-color: white;}#sk-container-id-1 div.sk-parallel-item:first-child::after {align-self: flex-end;width: 50%;}#sk-container-id-1 div.sk-parallel-item:last-child::after {align-self: flex-start;width: 50%;}#sk-container-id-1 div.sk-parallel-item:only-child::after {width: 0;}#sk-container-id-1 div.sk-dashed-wrapped {border: 1px dashed gray;margin: 0 0.4em 0.5em 0.4em;box-sizing: border-box;padding-bottom: 0.4em;background-color: white;}#sk-container-id-1 div.sk-label label {font-family: monospace;font-weight: bold;display: inline-block;line-height: 1.2em;}#sk-container-id-1 div.sk-label-container {text-align: center;}#sk-container-id-1 div.sk-container {/* jupyter's `normalize.less` sets `[hidden] { display: none; }` but bootstrap.min.css set `[hidden] { display: none !important; }` so we also need the `!important` here to be able to override the default hidden behavior on the sphinx rendered scikit-learn.org. See: https://github.com/scikit-learn/scikit-learn/issues/21755 */display: inline-block !important;position: relative;}#sk-container-id-1 div.sk-text-repr-fallback {display: none;}</style><div id=\"sk-container-id-1\" class=\"sk-top-container\"><div class=\"sk-text-repr-fallback\"><pre>LogisticRegression()</pre><b>In a Jupyter environment, please rerun this cell to show the HTML representation or trust the notebook. <br />On GitHub, the HTML representation is unable to render, please try loading this page with nbviewer.org.</b></div><div class=\"sk-container\" hidden><div class=\"sk-item\"><div class=\"sk-estimator sk-toggleable\"><input class=\"sk-toggleable__control sk-hidden--visually\" id=\"sk-estimator-id-1\" type=\"checkbox\" checked><label for=\"sk-estimator-id-1\" class=\"sk-toggleable__label sk-toggleable__label-arrow\">LogisticRegression</label><div class=\"sk-toggleable__content\"><pre>LogisticRegression()</pre></div></div></div></div></div>"
            ]
          },
          "metadata": {},
          "execution_count": 56
        }
      ]
    },
    {
      "cell_type": "code",
      "source": [
        "y_pred_test = model.predict(X_test)"
      ],
      "metadata": {
        "id": "qynrWAAc-p8R"
      },
      "execution_count": null,
      "outputs": []
    },
    {
      "cell_type": "markdown",
      "source": [
        "### Model Evaluation"
      ],
      "metadata": {
        "id": "hP-uqCcvlQDb"
      }
    },
    {
      "cell_type": "code",
      "source": [
        "test_accuracy = accuracy_score(y_test, y_pred_test)\n",
        "test_precision = precision_score(y_test, y_pred_test)\n",
        "test_recall = recall_score(y_test, y_pred_test)\n",
        "test_f1 = f1_score(y_test, y_pred_test)\n",
        "\n",
        "print(f'Logistic Regression - Test Accuracy: {test_accuracy}')\n",
        "print(f'Logistic Regression - Test Precision: {test_precision}')\n",
        "print(f'Logistic Regression - Test Recall: {test_recall}')\n",
        "print(f'Logistic Regression - Test F1-score: {test_f1}')"
      ],
      "metadata": {
        "id": "E-gB-Wng-qeZ",
        "colab": {
          "base_uri": "https://localhost:8080/"
        },
        "outputId": "ebb75586-883c-4272-ae5b-e36f1fad08bc"
      },
      "execution_count": null,
      "outputs": [
        {
          "output_type": "stream",
          "name": "stdout",
          "text": [
            "Logistic Regression - Test Accuracy: 0.9556946785456296\n",
            "Logistic Regression - Test Precision: 0.9470198675496688\n",
            "Logistic Regression - Test Recall: 0.9652844744455159\n",
            "Logistic Regression - Test F1-score: 0.9560649474689589\n"
          ]
        }
      ]
    },
    {
      "cell_type": "code",
      "source": [
        "sns.heatmap(confusion_matrix(y_test,y_pred_test),annot=True,fmt='3.0f',cmap=\"summer\")\n",
        "plt.title('Confusion_matrix', y=1.05, size=15)"
      ],
      "metadata": {
        "id": "HzhST6w2-u9b",
        "colab": {
          "base_uri": "https://localhost:8080/",
          "height": 490
        },
        "outputId": "5dd45621-dacb-4c48-9838-94d2e86cf3ec"
      },
      "execution_count": null,
      "outputs": [
        {
          "output_type": "execute_result",
          "data": {
            "text/plain": [
              "Text(0.5, 1.05, 'Confusion_matrix')"
            ]
          },
          "metadata": {},
          "execution_count": 59
        },
        {
          "output_type": "display_data",
          "data": {
            "text/plain": [
              "<Figure size 640x480 with 2 Axes>"
            ],
            "image/png": "[encoded data removed]"
          },
          "metadata": {}
        }
      ]
    },
    {
      "cell_type": "markdown",
      "source": [
        "\n",
        "\n",
        "---\n",
        "### **Test Accuracy: 0.9556946785456296**\n",
        "\n",
        "---\n",
        "\n",
        "\n"
      ],
      "metadata": {
        "id": "x4815yH6loCh"
      }
    },
    {
      "cell_type": "markdown",
      "source": [
        "## Random Forest Classifier model"
      ],
      "metadata": {
        "id": "WMjR62nNAFuO"
      }
    },
    {
      "cell_type": "code",
      "source": [
        "def objective(trial):\n",
        "    params = {\n",
        "        'n_estimators': trial.suggest_int('n_estimators', 20, 200, 20),\n",
        "        'max_depth': trial.suggest_int('max_depth', 1, 20),\n",
        "        'min_samples_split': trial.suggest_int('min_samples_split', 2, 20),\n",
        "        'min_samples_leaf': trial.suggest_int('min_samples_leaf', 1, 20),\n",
        "        'max_features': trial.suggest_categorical('max_features', ['auto', 'sqrt', 'log2']),\n",
        "    }\n",
        "\n",
        "    model = RandomForestClassifier(**params, random_state=42)\n",
        "    score = cross_val_score(model, X_train, y_train, cv=3, scoring='roc_auc').mean()\n",
        "    return score\n",
        "\n",
        "study = optuna.create_study(direction='maximize')\n",
        "study.optimize(objective, n_trials=30)"
      ],
      "metadata": {
        "colab": {
          "base_uri": "https://localhost:8080/"
        },
        "id": "AxftPFSjAEIU",
        "outputId": "ab1751e3-00bc-4ec5-eecf-8c29fe31fd5f"
      },
      "execution_count": null,
      "outputs": [
        {
          "output_type": "stream",
          "name": "stderr",
          "text": [
            "[I 2024-07-07 05:54:05,656] A new study created in memory with name: no-name-2fef22e9-f52e-41ad-8e80-815d7d709529\n",
            "[I 2024-07-07 05:55:02,320] Trial 0 finished with value: 0.9684565456554983 and parameters: {'n_estimators': 200, 'max_depth': 11, 'min_samples_split': 3, 'min_samples_leaf': 4, 'max_features': 'log2'}. Best is trial 0 with value: 0.9684565456554983.\n",
            "[I 2024-07-07 05:57:39,458] Trial 1 finished with value: 0.9750740750189376 and parameters: {'n_estimators': 200, 'max_depth': 15, 'min_samples_split': 16, 'min_samples_leaf': 8, 'max_features': 'sqrt'}. Best is trial 1 with value: 0.9750740750189376.\n",
            "[I 2024-07-07 05:58:36,474] Trial 2 finished with value: 0.9657149001339613 and parameters: {'n_estimators': 160, 'max_depth': 10, 'min_samples_split': 6, 'min_samples_leaf': 4, 'max_features': 'log2'}. Best is trial 1 with value: 0.9750740750189376.\n",
            "[I 2024-07-07 05:59:19,264] Trial 3 finished with value: 0.9711475502831955 and parameters: {'n_estimators': 60, 'max_depth': 16, 'min_samples_split': 11, 'min_samples_leaf': 15, 'max_features': 'sqrt'}. Best is trial 1 with value: 0.9750740750189376.\n",
            "[I 2024-07-07 05:59:44,357] Trial 4 finished with value: 0.966372750617665 and parameters: {'n_estimators': 80, 'max_depth': 18, 'min_samples_split': 2, 'min_samples_leaf': 13, 'max_features': 'log2'}. Best is trial 1 with value: 0.9750740750189376.\n",
            "[I 2024-07-07 05:59:49,033] Trial 5 finished with value: 0.9016516792502394 and parameters: {'n_estimators': 20, 'max_depth': 3, 'min_samples_split': 13, 'min_samples_leaf': 13, 'max_features': 'auto'}. Best is trial 1 with value: 0.9750740750189376.\n",
            "[I 2024-07-07 06:02:14,099] Trial 6 finished with value: 0.9739972641739444 and parameters: {'n_estimators': 200, 'max_depth': 15, 'min_samples_split': 12, 'min_samples_leaf': 14, 'max_features': 'auto'}. Best is trial 1 with value: 0.9750740750189376.\n",
            "[I 2024-07-07 06:03:00,163] Trial 7 finished with value: 0.9665152320136249 and parameters: {'n_estimators': 160, 'max_depth': 11, 'min_samples_split': 19, 'min_samples_leaf': 10, 'max_features': 'log2'}. Best is trial 1 with value: 0.9750740750189376.\n",
            "[I 2024-07-07 06:03:15,634] Trial 8 finished with value: 0.9618922234175664 and parameters: {'n_estimators': 20, 'max_depth': 17, 'min_samples_split': 2, 'min_samples_leaf': 9, 'max_features': 'auto'}. Best is trial 1 with value: 0.9750740750189376.\n",
            "[I 2024-07-07 06:03:47,265] Trial 9 finished with value: 0.9533650526027623 and parameters: {'n_estimators': 80, 'max_depth': 5, 'min_samples_split': 18, 'min_samples_leaf': 2, 'max_features': 'auto'}. Best is trial 1 with value: 0.9750740750189376.\n",
            "[I 2024-07-07 06:05:23,047] Trial 10 finished with value: 0.9725057999164907 and parameters: {'n_estimators': 140, 'max_depth': 20, 'min_samples_split': 15, 'min_samples_leaf': 20, 'max_features': 'sqrt'}. Best is trial 1 with value: 0.9750740750189376.\n",
            "[I 2024-07-07 06:07:57,558] Trial 11 finished with value: 0.9753072658659184 and parameters: {'n_estimators': 200, 'max_depth': 14, 'min_samples_split': 10, 'min_samples_leaf': 7, 'max_features': 'sqrt'}. Best is trial 11 with value: 0.9753072658659184.\n",
            "[I 2024-07-07 06:10:32,031] Trial 12 finished with value: 0.9753072658659184 and parameters: {'n_estimators': 200, 'max_depth': 14, 'min_samples_split': 8, 'min_samples_leaf': 7, 'max_features': 'sqrt'}. Best is trial 11 with value: 0.9753072658659184.\n",
            "[I 2024-07-07 06:12:33,790] Trial 13 finished with value: 0.9749164971966202 and parameters: {'n_estimators': 160, 'max_depth': 13, 'min_samples_split': 8, 'min_samples_leaf': 6, 'max_features': 'sqrt'}. Best is trial 11 with value: 0.9753072658659184.\n",
            "[I 2024-07-07 06:13:37,967] Trial 14 finished with value: 0.9658192268467737 and parameters: {'n_estimators': 120, 'max_depth': 7, 'min_samples_split': 8, 'min_samples_leaf': 1, 'max_features': 'sqrt'}. Best is trial 11 with value: 0.9753072658659184.\n",
            "[I 2024-07-07 06:15:23,510] Trial 15 finished with value: 0.9686733782133702 and parameters: {'n_estimators': 180, 'max_depth': 8, 'min_samples_split': 9, 'min_samples_leaf': 6, 'max_features': 'sqrt'}. Best is trial 11 with value: 0.9753072658659184.\n",
            "[I 2024-07-07 06:17:44,399] Trial 16 finished with value: 0.9751824043583087 and parameters: {'n_estimators': 180, 'max_depth': 14, 'min_samples_split': 5, 'min_samples_leaf': 7, 'max_features': 'sqrt'}. Best is trial 11 with value: 0.9753072658659184.\n",
            "[I 2024-07-07 06:19:15,839] Trial 17 finished with value: 0.9738951996817207 and parameters: {'n_estimators': 120, 'max_depth': 20, 'min_samples_split': 10, 'min_samples_leaf': 11, 'max_features': 'sqrt'}. Best is trial 11 with value: 0.9753072658659184.\n",
            "[I 2024-07-07 06:19:32,869] Trial 18 finished with value: 0.8952474150733997 and parameters: {'n_estimators': 180, 'max_depth': 1, 'min_samples_split': 6, 'min_samples_leaf': 17, 'max_features': 'sqrt'}. Best is trial 11 with value: 0.9753072658659184.\n",
            "[I 2024-07-07 06:21:23,198] Trial 19 finished with value: 0.9750908682537011 and parameters: {'n_estimators': 140, 'max_depth': 13, 'min_samples_split': 14, 'min_samples_leaf': 4, 'max_features': 'sqrt'}. Best is trial 11 with value: 0.9753072658659184.\n",
            "[I 2024-07-07 06:22:25,670] Trial 20 finished with value: 0.9699896882740466 and parameters: {'n_estimators': 100, 'max_depth': 9, 'min_samples_split': 5, 'min_samples_leaf': 11, 'max_features': 'sqrt'}. Best is trial 11 with value: 0.9753072658659184.\n",
            "[I 2024-07-07 06:24:41,781] Trial 21 finished with value: 0.9751465555806687 and parameters: {'n_estimators': 180, 'max_depth': 13, 'min_samples_split': 5, 'min_samples_leaf': 7, 'max_features': 'sqrt'}. Best is trial 11 with value: 0.9753072658659184.\n",
            "[I 2024-07-07 06:27:17,992] Trial 22 finished with value: 0.9756849392731436 and parameters: {'n_estimators': 200, 'max_depth': 14, 'min_samples_split': 7, 'min_samples_leaf': 6, 'max_features': 'sqrt'}. Best is trial 22 with value: 0.9756849392731436.\n",
            "[I 2024-07-07 06:30:02,479] Trial 23 finished with value: 0.9762511231597163 and parameters: {'n_estimators': 200, 'max_depth': 18, 'min_samples_split': 8, 'min_samples_leaf': 5, 'max_features': 'sqrt'}. Best is trial 23 with value: 0.9762511231597163.\n",
            "[I 2024-07-07 06:32:54,073] Trial 24 finished with value: 0.9765654087450287 and parameters: {'n_estimators': 200, 'max_depth': 18, 'min_samples_split': 10, 'min_samples_leaf': 3, 'max_features': 'sqrt'}. Best is trial 24 with value: 0.9765654087450287.\n",
            "[I 2024-07-07 06:35:09,595] Trial 25 finished with value: 0.9763348716707858 and parameters: {'n_estimators': 160, 'max_depth': 18, 'min_samples_split': 7, 'min_samples_leaf': 3, 'max_features': 'sqrt'}. Best is trial 24 with value: 0.9765654087450287.\n",
            "[I 2024-07-07 06:37:12,524] Trial 26 finished with value: 0.9759552840800049 and parameters: {'n_estimators': 140, 'max_depth': 18, 'min_samples_split': 11, 'min_samples_leaf': 2, 'max_features': 'sqrt'}. Best is trial 24 with value: 0.9765654087450287.\n",
            "[I 2024-07-07 06:39:30,251] Trial 27 finished with value: 0.9757578983662373 and parameters: {'n_estimators': 160, 'max_depth': 19, 'min_samples_split': 9, 'min_samples_leaf': 3, 'max_features': 'sqrt'}. Best is trial 24 with value: 0.9765654087450287.\n",
            "[I 2024-07-07 06:42:01,281] Trial 28 finished with value: 0.9756054542242856 and parameters: {'n_estimators': 180, 'max_depth': 17, 'min_samples_split': 12, 'min_samples_leaf': 5, 'max_features': 'auto'}. Best is trial 24 with value: 0.9765654087450287.\n",
            "[I 2024-07-07 06:43:10,062] Trial 29 finished with value: 0.9719717669501416 and parameters: {'n_estimators': 180, 'max_depth': 18, 'min_samples_split': 3, 'min_samples_leaf': 1, 'max_features': 'log2'}. Best is trial 24 with value: 0.9765654087450287.\n"
          ]
        }
      ]
    },
    {
      "cell_type": "code",
      "source": [
        "print(f'Best parameters for Random Forest: {study.best_params}')"
      ],
      "metadata": {
        "colab": {
          "base_uri": "https://localhost:8080/"
        },
        "id": "5MOZoWtMApuq",
        "outputId": "964c8558-a0aa-448a-fe75-2f9705489c9b"
      },
      "execution_count": null,
      "outputs": [
        {
          "output_type": "stream",
          "name": "stdout",
          "text": [
            "Best parameters for Random Forest: {'n_estimators': 200, 'max_depth': 18, 'min_samples_split': 10, 'min_samples_leaf': 3, 'max_features': 'sqrt'}\n"
          ]
        }
      ]
    },
    {
      "cell_type": "code",
      "source": [
        "rf_model = RandomForestClassifier(**study.best_params, random_state=42)\n",
        "rf_model.fit(X_train, y_train)"
      ],
      "metadata": {
        "colab": {
          "base_uri": "https://localhost:8080/",
          "height": 92
        },
        "id": "klHWxWvmAsFQ",
        "outputId": "458a3ba3-bcfa-4370-e714-6bf9d3367ed2"
      },
      "execution_count": null,
      "outputs": [
        {
          "output_type": "execute_result",
          "data": {
            "text/plain": [
              "RandomForestClassifier(max_depth=18, min_samples_leaf=3, min_samples_split=10,\n",
              "                       n_estimators=200, random_state=42)"
            ],
            "text/html": [
              "<style>#sk-container-id-2 {color: black;background-color: white;}#sk-container-id-2 pre{padding: 0;}#sk-container-id-2 div.sk-toggleable {background-color: white;}#sk-container-id-2 label.sk-toggleable__label {cursor: pointer;display: block;width: 100%;margin-bottom: 0;padding: 0.3em;box-sizing: border-box;text-align: center;}#sk-container-id-2 label.sk-toggleable__label-arrow:before {content: \"▸\";float: left;margin-right: 0.25em;color: #696969;}#sk-container-id-2 label.sk-toggleable__label-arrow:hover:before {color: black;}#sk-container-id-2 div.sk-estimator:hover label.sk-toggleable__label-arrow:before {color: black;}#sk-container-id-2 div.sk-toggleable__content {max-height: 0;max-width: 0;overflow: hidden;text-align: left;background-color: #f0f8ff;}#sk-container-id-2 div.sk-toggleable__content pre {margin: 0.2em;color: black;border-radius: 0.25em;background-color: #f0f8ff;}#sk-container-id-2 input.sk-toggleable__control:checked~div.sk-toggleable__content {max-height: 200px;max-width: 100%;overflow: auto;}#sk-container-id-2 input.sk-toggleable__control:checked~label.sk-toggleable__label-arrow:before {content: \"▾\";}#sk-container-id-2 div.sk-estimator input.sk-toggleable__control:checked~label.sk-toggleable__label {background-color: #d4ebff;}#sk-container-id-2 div.sk-label input.sk-toggleable__control:checked~label.sk-toggleable__label {background-color: #d4ebff;}#sk-container-id-2 input.sk-hidden--visually {border: 0;clip: rect(1px 1px 1px 1px);clip: rect(1px, 1px, 1px, 1px);height: 1px;margin: -1px;overflow: hidden;padding: 0;position: absolute;width: 1px;}#sk-container-id-2 div.sk-estimator {font-family: monospace;background-color: #f0f8ff;border: 1px dotted black;border-radius: 0.25em;box-sizing: border-box;margin-bottom: 0.5em;}#sk-container-id-2 div.sk-estimator:hover {background-color: #d4ebff;}#sk-container-id-2 div.sk-parallel-item::after {content: \"\";width: 100%;border-bottom: 1px solid gray;flex-grow: 1;}#sk-container-id-2 div.sk-label:hover label.sk-toggleable__label {background-color: #d4ebff;}#sk-container-id-2 div.sk-serial::before {content: \"\";position: absolute;border-left: 1px solid gray;box-sizing: border-box;top: 0;bottom: 0;left: 50%;z-index: 0;}#sk-container-id-2 div.sk-serial {display: flex;flex-direction: column;align-items: center;background-color: white;padding-right: 0.2em;padding-left: 0.2em;position: relative;}#sk-container-id-2 div.sk-item {position: relative;z-index: 1;}#sk-container-id-2 div.sk-parallel {display: flex;align-items: stretch;justify-content: center;background-color: white;position: relative;}#sk-container-id-2 div.sk-item::before, #sk-container-id-2 div.sk-parallel-item::before {content: \"\";position: absolute;border-left: 1px solid gray;box-sizing: border-box;top: 0;bottom: 0;left: 50%;z-index: -1;}#sk-container-id-2 div.sk-parallel-item {display: flex;flex-direction: column;z-index: 1;position: relative;background-color: white;}#sk-container-id-2 div.sk-parallel-item:first-child::after {align-self: flex-end;width: 50%;}#sk-container-id-2 div.sk-parallel-item:last-child::after {align-self: flex-start;width: 50%;}#sk-container-id-2 div.sk-parallel-item:only-child::after {width: 0;}#sk-container-id-2 div.sk-dashed-wrapped {border: 1px dashed gray;margin: 0 0.4em 0.5em 0.4em;box-sizing: border-box;padding-bottom: 0.4em;background-color: white;}#sk-container-id-2 div.sk-label label {font-family: monospace;font-weight: bold;display: inline-block;line-height: 1.2em;}#sk-container-id-2 div.sk-label-container {text-align: center;}#sk-container-id-2 div.sk-container {/* jupyter's `normalize.less` sets `[hidden] { display: none; }` but bootstrap.min.css set `[hidden] { display: none !important; }` so we also need the `!important` here to be able to override the default hidden behavior on the sphinx rendered scikit-learn.org. See: https://github.com/scikit-learn/scikit-learn/issues/21755 */display: inline-block !important;position: relative;}#sk-container-id-2 div.sk-text-repr-fallback {display: none;}</style><div id=\"sk-container-id-2\" class=\"sk-top-container\"><div class=\"sk-text-repr-fallback\"><pre>RandomForestClassifier(max_depth=18, min_samples_leaf=3, min_samples_split=10,\n",
              "                       n_estimators=200, random_state=42)</pre><b>In a Jupyter environment, please rerun this cell to show the HTML representation or trust the notebook. <br />On GitHub, the HTML representation is unable to render, please try loading this page with nbviewer.org.</b></div><div class=\"sk-container\" hidden><div class=\"sk-item\"><div class=\"sk-estimator sk-toggleable\"><input class=\"sk-toggleable__control sk-hidden--visually\" id=\"sk-estimator-id-2\" type=\"checkbox\" checked><label for=\"sk-estimator-id-2\" class=\"sk-toggleable__label sk-toggleable__label-arrow\">RandomForestClassifier</label><div class=\"sk-toggleable__content\"><pre>RandomForestClassifier(max_depth=18, min_samples_leaf=3, min_samples_split=10,\n",
              "                       n_estimators=200, random_state=42)</pre></div></div></div></div></div>"
            ]
          },
          "metadata": {},
          "execution_count": 40
        }
      ]
    },
    {
      "cell_type": "code",
      "source": [
        "y_pred_test = rf_model.predict(X_test)"
      ],
      "metadata": {
        "id": "aoUBEMfEAxfZ"
      },
      "execution_count": null,
      "outputs": []
    },
    {
      "cell_type": "markdown",
      "source": [
        "### Model Evaluation"
      ],
      "metadata": {
        "id": "J7WQHR3rmDcm"
      }
    },
    {
      "cell_type": "code",
      "source": [
        "test_accuracy = accuracy_score(y_test, y_pred_test)\n",
        "test_precision = precision_score(y_test, y_pred_test)\n",
        "test_recall = recall_score(y_test, y_pred_test)\n",
        "test_f1 = f1_score(y_test, y_pred_test)\n",
        "\n",
        "print(f'Random Forest - Test Accuracy: {test_accuracy}')\n",
        "print(f'Random Forest - Test Precision: {test_precision}')\n",
        "print(f'Random Forest - Test Recall: {test_recall}')\n",
        "print(f'Random Forest - Test F1-score: {test_f1}')"
      ],
      "metadata": {
        "colab": {
          "base_uri": "https://localhost:8080/"
        },
        "id": "SNOLEieuAx7s",
        "outputId": "148c3571-ce77-4bfe-d1e6-e2900d012b5d"
      },
      "execution_count": null,
      "outputs": [
        {
          "output_type": "stream",
          "name": "stdout",
          "text": [
            "Random Forest - Test Accuracy: 0.93065254033229\n",
            "Random Forest - Test Precision: 0.934761441090555\n",
            "Random Forest - Test Recall: 0.9257473481195757\n",
            "Random Forest - Test F1-score: 0.9302325581395349\n"
          ]
        }
      ]
    },
    {
      "cell_type": "code",
      "source": [
        "sns.heatmap(confusion_matrix(y_test,y_pred_test),annot=True,fmt='3.0f',cmap=\"summer\")\n",
        "plt.title('Confusion_matrix', y=1.05, size=15)"
      ],
      "metadata": {
        "colab": {
          "base_uri": "https://localhost:8080/",
          "height": 490
        },
        "id": "8RolN2jrA0qs",
        "outputId": "4759d97a-b7c9-4166-b90b-4e3ba45adb03"
      },
      "execution_count": null,
      "outputs": [
        {
          "output_type": "execute_result",
          "data": {
            "text/plain": [
              "Text(0.5, 1.05, 'Confusion_matrix')"
            ]
          },
          "metadata": {},
          "execution_count": 43
        },
        {
          "output_type": "display_data",
          "data": {
            "text/plain": [
              "<Figure size 640x480 with 2 Axes>"
            ],
            "image/png": "[encoded data removed]"
          },
          "metadata": {}
        }
      ]
    },
    {
      "cell_type": "markdown",
      "source": [
        "\n",
        "\n",
        "---\n",
        "### **Test Accuracy: 0.93065254033229**\n",
        "\n",
        "---\n",
        "\n",
        "\n"
      ],
      "metadata": {
        "id": "bDPEMCxGmIyT"
      }
    },
    {
      "cell_type": "markdown",
      "source": [
        "## GradientBoosting Classifier model"
      ],
      "metadata": {
        "id": "muN1uvpgCfEQ"
      }
    },
    {
      "cell_type": "code",
      "source": [
        "def objective(trial):\n",
        "    params = {\n",
        "        'learning_rate': trial.suggest_float('learning_rate', 0.001, 0.2),\n",
        "        'n_estimators': trial.suggest_int('n_estimators', 20, 300, 20),\n",
        "        'max_depth': trial.suggest_int('max_depth', 1, 20),\n",
        "        'min_samples_split': trial.suggest_int('min_samples_split', 2, 20),\n",
        "        'min_samples_leaf': trial.suggest_int('min_samples_leaf', 1, 20),\n",
        "        'subsample': trial.suggest_float('subsample', 0.5, 1.0),\n",
        "        'max_features': trial.suggest_categorical('max_features', ['auto', 'sqrt', 'log2'])\n",
        "    }\n",
        "\n",
        "    model = GradientBoostingClassifier(**params, random_state=42)\n",
        "    score = cross_val_score(model, X_train, y_train, cv=3, scoring='roc_auc').mean()\n",
        "    return score\n",
        "\n",
        "study_gbm = optuna.create_study(direction='maximize')\n",
        "study_gbm.optimize(objective, n_trials=30)"
      ],
      "metadata": {
        "colab": {
          "base_uri": "https://localhost:8080/"
        },
        "id": "v_JzCsSaClIN",
        "outputId": "c4e407a9-0c8d-434d-89c8-125c900b13b2"
      },
      "execution_count": null,
      "outputs": [
        {
          "output_type": "stream",
          "name": "stderr",
          "text": [
            "[I 2024-07-07 10:25:24,189] A new study created in memory with name: no-name-76baf8c5-f8b9-4ce6-82dc-4f8503161ba6\n",
            "[I 2024-07-07 10:26:30,969] Trial 0 finished with value: 0.9843314901684482 and parameters: {'learning_rate': 0.16371098679388874, 'n_estimators': 100, 'max_depth': 10, 'min_samples_split': 7, 'min_samples_leaf': 16, 'subsample': 0.7051366790363123, 'max_features': 'sqrt'}. Best is trial 0 with value: 0.9843314901684482.\n",
            "[I 2024-07-07 10:27:47,728] Trial 1 finished with value: 0.984260923733002 and parameters: {'learning_rate': 0.06436017664339008, 'n_estimators': 280, 'max_depth': 14, 'min_samples_split': 17, 'min_samples_leaf': 16, 'subsample': 0.5954440083661878, 'max_features': 'log2'}. Best is trial 0 with value: 0.9843314901684482.\n",
            "[I 2024-07-07 10:28:23,782] Trial 2 finished with value: 0.983554129296258 and parameters: {'learning_rate': 0.16881149289774258, 'n_estimators': 260, 'max_depth': 5, 'min_samples_split': 13, 'min_samples_leaf': 15, 'subsample': 0.597191128363487, 'max_features': 'log2'}. Best is trial 0 with value: 0.9843314901684482.\n",
            "[I 2024-07-07 10:29:04,009] Trial 3 finished with value: 0.9793358550644823 and parameters: {'learning_rate': 0.08511828609271756, 'n_estimators': 160, 'max_depth': 6, 'min_samples_split': 13, 'min_samples_leaf': 4, 'subsample': 0.9469488165531154, 'max_features': 'log2'}. Best is trial 0 with value: 0.9843314901684482.\n",
            "[I 2024-07-07 10:30:09,089] Trial 4 finished with value: 0.9782391184675377 and parameters: {'learning_rate': 0.026360897900281715, 'n_estimators': 140, 'max_depth': 18, 'min_samples_split': 12, 'min_samples_leaf': 17, 'subsample': 0.9288692831558792, 'max_features': 'log2'}. Best is trial 0 with value: 0.9843314901684482.\n",
            "[I 2024-07-07 10:31:27,364] Trial 5 finished with value: 0.9802842803998325 and parameters: {'learning_rate': 0.025302176837279658, 'n_estimators': 220, 'max_depth': 14, 'min_samples_split': 20, 'min_samples_leaf': 7, 'subsample': 0.6846652841782365, 'max_features': 'log2'}. Best is trial 0 with value: 0.9843314901684482.\n",
            "[I 2024-07-07 10:32:03,371] Trial 6 finished with value: 0.9791058836141814 and parameters: {'learning_rate': 0.12881444598117217, 'n_estimators': 140, 'max_depth': 12, 'min_samples_split': 20, 'min_samples_leaf': 7, 'subsample': 0.5635880465253882, 'max_features': 'log2'}. Best is trial 0 with value: 0.9843314901684482.\n",
            "[I 2024-07-07 10:34:50,044] Trial 7 finished with value: 0.9880752037388096 and parameters: {'learning_rate': 0.14021652286681405, 'n_estimators': 280, 'max_depth': 9, 'min_samples_split': 6, 'min_samples_leaf': 18, 'subsample': 0.6894383677059991, 'max_features': 'sqrt'}. Best is trial 7 with value: 0.9880752037388096.\n",
            "[I 2024-07-07 10:35:49,506] Trial 8 finished with value: 0.9817992377481358 and parameters: {'learning_rate': 0.052409894819242894, 'n_estimators': 220, 'max_depth': 13, 'min_samples_split': 2, 'min_samples_leaf': 11, 'subsample': 0.5749900545857884, 'max_features': 'log2'}. Best is trial 7 with value: 0.9880752037388096.\n",
            "[I 2024-07-07 10:56:36,936] Trial 9 finished with value: 0.9764651277206814 and parameters: {'learning_rate': 0.029265352902968757, 'n_estimators': 80, 'max_depth': 12, 'min_samples_split': 11, 'min_samples_leaf': 4, 'subsample': 0.6642933409777583, 'max_features': 'auto'}. Best is trial 7 with value: 0.9880752037388096.\n",
            "[I 2024-07-07 10:59:48,920] Trial 10 finished with value: 0.9889994398734544 and parameters: {'learning_rate': 0.1958762197504762, 'n_estimators': 300, 'max_depth': 8, 'min_samples_split': 3, 'min_samples_leaf': 19, 'subsample': 0.8143779676291348, 'max_features': 'sqrt'}. Best is trial 10 with value: 0.9889994398734544.\n",
            "[I 2024-07-07 11:03:03,902] Trial 11 finished with value: 0.9890717464187387 and parameters: {'learning_rate': 0.19712588583134838, 'n_estimators': 300, 'max_depth': 8, 'min_samples_split': 2, 'min_samples_leaf': 20, 'subsample': 0.8256195996551174, 'max_features': 'sqrt'}. Best is trial 11 with value: 0.9890717464187387.\n",
            "[I 2024-07-07 11:03:36,038] Trial 12 finished with value: 0.9681456098588163 and parameters: {'learning_rate': 0.19725618784538004, 'n_estimators': 300, 'max_depth': 1, 'min_samples_split': 2, 'min_samples_leaf': 20, 'subsample': 0.8367925218212321, 'max_features': 'sqrt'}. Best is trial 11 with value: 0.9890717464187387.\n",
            "[I 2024-07-07 11:03:46,814] Trial 13 finished with value: 0.9620434496673583 and parameters: {'learning_rate': 0.1972384855404943, 'n_estimators': 20, 'max_depth': 6, 'min_samples_split': 5, 'min_samples_leaf': 12, 'subsample': 0.8170366651020885, 'max_features': 'sqrt'}. Best is trial 11 with value: 0.9890717464187387.\n",
            "[I 2024-07-07 11:04:50,077] Trial 14 finished with value: 0.9824376413027833 and parameters: {'learning_rate': 0.11709614190627773, 'n_estimators': 220, 'max_depth': 3, 'min_samples_split': 8, 'min_samples_leaf': 20, 'subsample': 0.8162245348353097, 'max_features': 'sqrt'}. Best is trial 11 with value: 0.9890717464187387.\n"
          ]
        }
      ]
    },
    {
      "cell_type": "code",
      "source": [
        "print(f'Best parameters for GradientBoosting: {study_gbm.best_params}')"
      ],
      "metadata": {
        "colab": {
          "base_uri": "https://localhost:8080/"
        },
        "id": "r96Hh1HbC7Vo",
        "outputId": "d7860ab9-032c-4bcf-ba0e-257b45d8249a"
      },
      "execution_count": null,
      "outputs": [
        {
          "output_type": "stream",
          "name": "stdout",
          "text": [
            "Best parameters for GradientBoosting: {'learning_rate': 0.19712588583134838, 'n_estimators': 300, 'max_depth': 8, 'min_samples_split': 2, 'min_samples_leaf': 20, 'subsample': 0.8256195996551174, 'max_features': 'sqrt'}\n"
          ]
        }
      ]
    },
    {
      "cell_type": "code",
      "source": [
        "gbm_model = GradientBoostingClassifier(**study_gbm.best_params, random_state=42)\n",
        "gbm_model.fit(X_train, y_train)"
      ],
      "metadata": {
        "colab": {
          "base_uri": "https://localhost:8080/",
          "height": 127
        },
        "id": "e2b3vETpDB73",
        "outputId": "d039f297-58a2-4059-92e3-9cb739feaed2"
      },
      "execution_count": null,
      "outputs": [
        {
          "output_type": "execute_result",
          "data": {
            "text/plain": [
              "GradientBoostingClassifier(learning_rate=0.19712588583134838, max_depth=8,\n",
              "                           max_features='sqrt', min_samples_leaf=20,\n",
              "                           n_estimators=300, random_state=42,\n",
              "                           subsample=0.8256195996551174)"
            ],
            "text/html": [
              "<style>#sk-container-id-5 {color: black;background-color: white;}#sk-container-id-5 pre{padding: 0;}#sk-container-id-5 div.sk-toggleable {background-color: white;}#sk-container-id-5 label.sk-toggleable__label {cursor: pointer;display: block;width: 100%;margin-bottom: 0;padding: 0.3em;box-sizing: border-box;text-align: center;}#sk-container-id-5 label.sk-toggleable__label-arrow:before {content: \"▸\";float: left;margin-right: 0.25em;color: #696969;}#sk-container-id-5 label.sk-toggleable__label-arrow:hover:before {color: black;}#sk-container-id-5 div.sk-estimator:hover label.sk-toggleable__label-arrow:before {color: black;}#sk-container-id-5 div.sk-toggleable__content {max-height: 0;max-width: 0;overflow: hidden;text-align: left;background-color: #f0f8ff;}#sk-container-id-5 div.sk-toggleable__content pre {margin: 0.2em;color: black;border-radius: 0.25em;background-color: #f0f8ff;}#sk-container-id-5 input.sk-toggleable__control:checked~div.sk-toggleable__content {max-height: 200px;max-width: 100%;overflow: auto;}#sk-container-id-5 input.sk-toggleable__control:checked~label.sk-toggleable__label-arrow:before {content: \"▾\";}#sk-container-id-5 div.sk-estimator input.sk-toggleable__control:checked~label.sk-toggleable__label {background-color: #d4ebff;}#sk-container-id-5 div.sk-label input.sk-toggleable__control:checked~label.sk-toggleable__label {background-color: #d4ebff;}#sk-container-id-5 input.sk-hidden--visually {border: 0;clip: rect(1px 1px 1px 1px);clip: rect(1px, 1px, 1px, 1px);height: 1px;margin: -1px;overflow: hidden;padding: 0;position: absolute;width: 1px;}#sk-container-id-5 div.sk-estimator {font-family: monospace;background-color: #f0f8ff;border: 1px dotted black;border-radius: 0.25em;box-sizing: border-box;margin-bottom: 0.5em;}#sk-container-id-5 div.sk-estimator:hover {background-color: #d4ebff;}#sk-container-id-5 div.sk-parallel-item::after {content: \"\";width: 100%;border-bottom: 1px solid gray;flex-grow: 1;}#sk-container-id-5 div.sk-label:hover label.sk-toggleable__label {background-color: #d4ebff;}#sk-container-id-5 div.sk-serial::before {content: \"\";position: absolute;border-left: 1px solid gray;box-sizing: border-box;top: 0;bottom: 0;left: 50%;z-index: 0;}#sk-container-id-5 div.sk-serial {display: flex;flex-direction: column;align-items: center;background-color: white;padding-right: 0.2em;padding-left: 0.2em;position: relative;}#sk-container-id-5 div.sk-item {position: relative;z-index: 1;}#sk-container-id-5 div.sk-parallel {display: flex;align-items: stretch;justify-content: center;background-color: white;position: relative;}#sk-container-id-5 div.sk-item::before, #sk-container-id-5 div.sk-parallel-item::before {content: \"\";position: absolute;border-left: 1px solid gray;box-sizing: border-box;top: 0;bottom: 0;left: 50%;z-index: -1;}#sk-container-id-5 div.sk-parallel-item {display: flex;flex-direction: column;z-index: 1;position: relative;background-color: white;}#sk-container-id-5 div.sk-parallel-item:first-child::after {align-self: flex-end;width: 50%;}#sk-container-id-5 div.sk-parallel-item:last-child::after {align-self: flex-start;width: 50%;}#sk-container-id-5 div.sk-parallel-item:only-child::after {width: 0;}#sk-container-id-5 div.sk-dashed-wrapped {border: 1px dashed gray;margin: 0 0.4em 0.5em 0.4em;box-sizing: border-box;padding-bottom: 0.4em;background-color: white;}#sk-container-id-5 div.sk-label label {font-family: monospace;font-weight: bold;display: inline-block;line-height: 1.2em;}#sk-container-id-5 div.sk-label-container {text-align: center;}#sk-container-id-5 div.sk-container {/* jupyter's `normalize.less` sets `[hidden] { display: none; }` but bootstrap.min.css set `[hidden] { display: none !important; }` so we also need the `!important` here to be able to override the default hidden behavior on the sphinx rendered scikit-learn.org. See: https://github.com/scikit-learn/scikit-learn/issues/21755 */display: inline-block !important;position: relative;}#sk-container-id-5 div.sk-text-repr-fallback {display: none;}</style><div id=\"sk-container-id-5\" class=\"sk-top-container\"><div class=\"sk-text-repr-fallback\"><pre>GradientBoostingClassifier(learning_rate=0.19712588583134838, max_depth=8,\n",
              "                           max_features=&#x27;sqrt&#x27;, min_samples_leaf=20,\n",
              "                           n_estimators=300, random_state=42,\n",
              "                           subsample=0.8256195996551174)</pre><b>In a Jupyter environment, please rerun this cell to show the HTML representation or trust the notebook. <br />On GitHub, the HTML representation is unable to render, please try loading this page with nbviewer.org.</b></div><div class=\"sk-container\" hidden><div class=\"sk-item\"><div class=\"sk-estimator sk-toggleable\"><input class=\"sk-toggleable__control sk-hidden--visually\" id=\"sk-estimator-id-5\" type=\"checkbox\" checked><label for=\"sk-estimator-id-5\" class=\"sk-toggleable__label sk-toggleable__label-arrow\">GradientBoostingClassifier</label><div class=\"sk-toggleable__content\"><pre>GradientBoostingClassifier(learning_rate=0.19712588583134838, max_depth=8,\n",
              "                           max_features=&#x27;sqrt&#x27;, min_samples_leaf=20,\n",
              "                           n_estimators=300, random_state=42,\n",
              "                           subsample=0.8256195996551174)</pre></div></div></div></div></div>"
            ]
          },
          "metadata": {},
          "execution_count": 98
        }
      ]
    },
    {
      "cell_type": "code",
      "source": [
        "y_pred_test = gbm_model.predict(X_test)"
      ],
      "metadata": {
        "id": "hIudD_G0DQj2"
      },
      "execution_count": null,
      "outputs": []
    },
    {
      "cell_type": "markdown",
      "source": [
        "### Model Evaluation"
      ],
      "metadata": {
        "id": "Y1rCtZFfmaCU"
      }
    },
    {
      "cell_type": "code",
      "source": [
        "test_accuracy = accuracy_score(y_test, y_pred_test)\n",
        "test_precision = precision_score(y_test, y_pred_test)\n",
        "test_recall = recall_score(y_test, y_pred_test)\n",
        "test_f1 = f1_score(y_test, y_pred_test)\n",
        "\n",
        "print(f'GradientBoosting - Test Accuracy: {test_accuracy}')\n",
        "print(f'GradientBoosting - Test Precision: {test_precision}')\n",
        "print(f'GradientBoosting - Test Recall: {test_recall}')\n",
        "print(f'GradientBoosting - Test F1-score: {test_f1}')"
      ],
      "metadata": {
        "colab": {
          "base_uri": "https://localhost:8080/"
        },
        "id": "uvJPf_zwDQ_t",
        "outputId": "2738eb2e-a4b6-4df2-cc21-636a9807dabe"
      },
      "execution_count": null,
      "outputs": [
        {
          "output_type": "stream",
          "name": "stdout",
          "text": [
            "GradientBoosting - Test Accuracy: 0.9501565133638333\n",
            "GradientBoosting - Test Precision: 0.9464371114299378\n",
            "GradientBoosting - Test Recall: 0.9541947926711668\n",
            "GradientBoosting - Test F1-score: 0.9503001200480191\n"
          ]
        }
      ]
    },
    {
      "cell_type": "code",
      "source": [
        "sns.heatmap(confusion_matrix(y_test,y_pred_test),annot=True,fmt='3.0f',cmap=\"summer\")\n",
        "plt.title('Confusion_matrix', y=1.05, size=15)"
      ],
      "metadata": {
        "colab": {
          "base_uri": "https://localhost:8080/",
          "height": 490
        },
        "id": "RiuKvILsDVWW",
        "outputId": "56e9af55-0a4e-4982-8c89-0df4eb0eb1bb"
      },
      "execution_count": null,
      "outputs": [
        {
          "output_type": "execute_result",
          "data": {
            "text/plain": [
              "Text(0.5, 1.05, 'Confusion_matrix')"
            ]
          },
          "metadata": {},
          "execution_count": 101
        },
        {
          "output_type": "display_data",
          "data": {
            "text/plain": [
              "<Figure size 640x480 with 2 Axes>"
            ],
            "image/png": "[encoded data removed]"
          },
          "metadata": {}
        }
      ]
    },
    {
      "cell_type": "markdown",
      "source": [
        "\n",
        "\n",
        "---\n",
        "### **Test Accuracy: 0.9501565133638333**\n",
        "---"
      ],
      "metadata": {
        "id": "DKWmhC_Amdh1"
      }
    },
    {
      "cell_type": "markdown",
      "source": [
        "## XGBoost Classifier model"
      ],
      "metadata": {
        "id": "jf32cYtt-Und"
      }
    },
    {
      "cell_type": "code",
      "source": [
        "def objective(trial):\n",
        "  params= {\n",
        "      'learning_rate': trial.suggest_float('learning_rate',0.001,0.2),\n",
        "      'max_depth': trial.suggest_int('max_depth',1,8),\n",
        "      'min_child_weight': trial.suggest_float('min_child_weight',0.5,10),\n",
        "      'reg_lamda': trial.suggest_float('reg_lamda',0.001,20),\n",
        "      'n_estimators': trial.suggest_int('n_estimators',20,200),\n",
        "      'max_leaves': trial.suggest_int('max_leaves',2,20),\n",
        "      'verbosity':0,\n",
        "      'objective':'binary:logistic',\n",
        "      'eval_metric':'logloss',\n",
        "\n",
        "  }\n",
        "\n",
        "  model = XGBClassifier(**params, random_state=42)\n",
        "  score = cross_val_score(model, X_train, y_train, cv=3, scoring='roc_auc').mean()\n",
        "  return score\n",
        "\n",
        "study=optuna.create_study(direction='maximize')\n",
        "study.optimize(objective, n_trials=50)"
      ],
      "metadata": {
        "colab": {
          "base_uri": "https://localhost:8080/"
        },
        "id": "q6Zg4skHf0yW",
        "outputId": "01462021-8d92-470e-ce02-6420b1adef88"
      },
      "execution_count": null,
      "outputs": [
        {
          "output_type": "stream",
          "name": "stderr",
          "text": [
            "[I 2024-07-07 08:21:38,776] A new study created in memory with name: no-name-9e90237f-369c-4d12-b892-e605e4e51fc1\n",
            "[I 2024-07-07 08:22:03,192] Trial 0 finished with value: 0.9551811999895347 and parameters: {'learning_rate': 0.04680548551288487, 'max_depth': 7, 'min_child_weight': 0.9987523482185043, 'reg_lamda': 5.740319789367359, 'n_estimators': 169, 'max_leaves': 3}. Best is trial 0 with value: 0.9551811999895347.\n",
            "[I 2024-07-07 08:22:37,069] Trial 1 finished with value: 0.9722288856502468 and parameters: {'learning_rate': 0.05173061509043091, 'max_depth': 4, 'min_child_weight': 7.055168021719745, 'reg_lamda': 19.594164097646235, 'n_estimators': 103, 'max_leaves': 11}. Best is trial 1 with value: 0.9722288856502468.\n",
            "[I 2024-07-07 08:23:47,701] Trial 2 finished with value: 0.9870723090676407 and parameters: {'learning_rate': 0.09844585918653309, 'max_depth': 5, 'min_child_weight': 6.700242473468474, 'reg_lamda': 5.705126468892975, 'n_estimators': 179, 'max_leaves': 16}. Best is trial 2 with value: 0.9870723090676407.\n",
            "[I 2024-07-07 08:24:00,895] Trial 3 finished with value: 0.9547979577614458 and parameters: {'learning_rate': 0.12343702241665667, 'max_depth': 7, 'min_child_weight': 8.427623843568279, 'reg_lamda': 3.7769562320040238, 'n_estimators': 122, 'max_leaves': 2}. Best is trial 2 with value: 0.9870723090676407.\n",
            "[I 2024-07-07 08:24:31,553] Trial 4 finished with value: 0.9441665219443948 and parameters: {'learning_rate': 0.009348029107907566, 'max_depth': 8, 'min_child_weight': 4.780544381238496, 'reg_lamda': 1.4073312368615978, 'n_estimators': 133, 'max_leaves': 8}. Best is trial 2 with value: 0.9870723090676407.\n",
            "[I 2024-07-07 08:24:59,156] Trial 5 finished with value: 0.9778449127896097 and parameters: {'learning_rate': 0.10135339091181707, 'max_depth': 2, 'min_child_weight': 5.35471926336176, 'reg_lamda': 6.296221499063957, 'n_estimators': 200, 'max_leaves': 6}. Best is trial 2 with value: 0.9870723090676407.\n",
            "[I 2024-07-07 08:25:34,310] Trial 6 finished with value: 0.980685446928314 and parameters: {'learning_rate': 0.1029814057861696, 'max_depth': 6, 'min_child_weight': 9.765416631208458, 'reg_lamda': 14.33260780417072, 'n_estimators': 107, 'max_leaves': 10}. Best is trial 2 with value: 0.9870723090676407.\n",
            "[I 2024-07-07 08:25:55,407] Trial 7 finished with value: 0.94742240552267 and parameters: {'learning_rate': 0.02176045368860491, 'max_depth': 7, 'min_child_weight': 2.6763285539511297, 'reg_lamda': 2.2221485981994715, 'n_estimators': 57, 'max_leaves': 10}. Best is trial 2 with value: 0.9870723090676407.\n",
            "[I 2024-07-07 08:26:22,007] Trial 8 finished with value: 0.9705531528550521 and parameters: {'learning_rate': 0.06104679739050865, 'max_depth': 8, 'min_child_weight': 7.479813954131852, 'reg_lamda': 7.758513977448545, 'n_estimators': 67, 'max_leaves': 15}. Best is trial 2 with value: 0.9870723090676407.\n",
            "[I 2024-07-07 08:26:43,327] Trial 9 finished with value: 0.978106425905836 and parameters: {'learning_rate': 0.13070668183587905, 'max_depth': 7, 'min_child_weight': 7.329151519260639, 'reg_lamda': 7.060334718768607, 'n_estimators': 52, 'max_leaves': 16}. Best is trial 2 with value: 0.9870723090676407.\n",
            "[I 2024-07-07 08:27:29,969] Trial 10 finished with value: 0.9878679857398719 and parameters: {'learning_rate': 0.17644564114350084, 'max_depth': 4, 'min_child_weight': 5.378655168407147, 'reg_lamda': 11.919533146909359, 'n_estimators': 159, 'max_leaves': 20}. Best is trial 10 with value: 0.9878679857398719.\n",
            "[I 2024-07-07 08:28:17,434] Trial 11 finished with value: 0.9887257886607359 and parameters: {'learning_rate': 0.19749431078285024, 'max_depth': 4, 'min_child_weight': 4.956285233641602, 'reg_lamda': 12.402413376119426, 'n_estimators': 167, 'max_leaves': 20}. Best is trial 11 with value: 0.9887257886607359.\n",
            "[I 2024-07-07 08:28:47,192] Trial 12 finished with value: 0.9869509713879348 and parameters: {'learning_rate': 0.1964187314885565, 'max_depth': 3, 'min_child_weight': 3.9568091486321455, 'reg_lamda': 12.22948466539749, 'n_estimators': 157, 'max_leaves': 20}. Best is trial 11 with value: 0.9887257886607359.\n",
            "[I 2024-07-07 08:29:00,511] Trial 13 finished with value: 0.9675248695925479 and parameters: {'learning_rate': 0.19990928006007957, 'max_depth': 1, 'min_child_weight': 3.158015509086823, 'reg_lamda': 13.95252109286202, 'n_estimators': 156, 'max_leaves': 20}. Best is trial 11 with value: 0.9887257886607359.\n",
            "[I 2024-07-07 08:29:11,778] Trial 14 finished with value: 0.9685029660289045 and parameters: {'learning_rate': 0.16925725968035277, 'max_depth': 4, 'min_child_weight': 5.455873581762003, 'reg_lamda': 17.692934772544007, 'n_estimators': 23, 'max_leaves': 18}. Best is trial 11 with value: 0.9887257886607359.\n",
            "[I 2024-07-07 08:29:50,797] Trial 15 finished with value: 0.9874793053105905 and parameters: {'learning_rate': 0.1710260422208101, 'max_depth': 3, 'min_child_weight': 1.3998476854969377, 'reg_lamda': 10.560183549451876, 'n_estimators': 200, 'max_leaves': 14}. Best is trial 11 with value: 0.9887257886607359.\n",
            "[I 2024-07-07 08:30:48,336] Trial 16 finished with value: 0.9881137062885402 and parameters: {'learning_rate': 0.16102698268734345, 'max_depth': 5, 'min_child_weight': 5.998399792044883, 'reg_lamda': 15.582606263949595, 'n_estimators': 139, 'max_leaves': 18}. Best is trial 11 with value: 0.9887257886607359.\n",
            "[I 2024-07-07 08:31:32,181] Trial 17 finished with value: 0.9862580989711708 and parameters: {'learning_rate': 0.14590661200533545, 'max_depth': 5, 'min_child_weight': 4.050899476386103, 'reg_lamda': 16.421256153832864, 'n_estimators': 137, 'max_leaves': 13}. Best is trial 11 with value: 0.9887257886607359.\n",
            "[I 2024-07-07 08:32:12,637] Trial 18 finished with value: 0.9844725357638592 and parameters: {'learning_rate': 0.15075195607896477, 'max_depth': 6, 'min_child_weight': 6.215612060659971, 'reg_lamda': 15.45437711966688, 'n_estimators': 84, 'max_leaves': 17}. Best is trial 11 with value: 0.9887257886607359.\n",
            "[I 2024-07-07 08:32:40,595] Trial 19 finished with value: 0.9856839098939134 and parameters: {'learning_rate': 0.1822480944843171, 'max_depth': 3, 'min_child_weight': 8.305999631398969, 'reg_lamda': 9.314907112868154, 'n_estimators': 141, 'max_leaves': 18}. Best is trial 11 with value: 0.9887257886607359.\n",
            "[I 2024-07-07 08:33:39,732] Trial 20 finished with value: 0.9881770070765411 and parameters: {'learning_rate': 0.15204889552895445, 'max_depth': 5, 'min_child_weight': 2.5230031390367254, 'reg_lamda': 17.989161461635508, 'n_estimators': 178, 'max_leaves': 13}. Best is trial 11 with value: 0.9887257886607359.\n",
            "[I 2024-07-07 08:34:37,859] Trial 21 finished with value: 0.9883708252383236 and parameters: {'learning_rate': 0.15511451043632707, 'max_depth': 5, 'min_child_weight': 2.1395312447765242, 'reg_lamda': 19.66860587506119, 'n_estimators': 183, 'max_leaves': 13}. Best is trial 11 with value: 0.9887257886607359.\n",
            "[I 2024-07-07 08:35:34,336] Trial 22 finished with value: 0.9873729338126255 and parameters: {'learning_rate': 0.13363053158788532, 'max_depth': 6, 'min_child_weight': 1.991126243420248, 'reg_lamda': 19.71173737509443, 'n_estimators': 181, 'max_leaves': 12}. Best is trial 11 with value: 0.9887257886607359.\n",
            "[I 2024-07-07 08:36:09,734] Trial 23 finished with value: 0.9866949183708934 and parameters: {'learning_rate': 0.18300719891889022, 'max_depth': 5, 'min_child_weight': 2.28181700672695, 'reg_lamda': 17.7108912656837, 'n_estimators': 184, 'max_leaves': 7}. Best is trial 11 with value: 0.9887257886607359.\n",
            "[I 2024-07-07 08:37:12,881] Trial 24 finished with value: 0.9883250136913029 and parameters: {'learning_rate': 0.15285932073257794, 'max_depth': 4, 'min_child_weight': 0.5335745696163019, 'reg_lamda': 18.04686710283248, 'n_estimators': 186, 'max_leaves': 13}. Best is trial 11 with value: 0.9887257886607359.\n",
            "[I 2024-07-07 08:37:38,388] Trial 25 finished with value: 0.9793654823112447 and parameters: {'learning_rate': 0.11730233768970424, 'max_depth': 2, 'min_child_weight': 0.9910123559778876, 'reg_lamda': 19.88500689413807, 'n_estimators': 193, 'max_leaves': 9}. Best is trial 11 with value: 0.9887257886607359.\n",
            "[I 2024-07-07 08:38:10,449] Trial 26 finished with value: 0.9836216502223648 and parameters: {'learning_rate': 0.19037704607898595, 'max_depth': 4, 'min_child_weight': 3.5035299587869213, 'reg_lamda': 12.64896898420859, 'n_estimators': 157, 'max_leaves': 5}. Best is trial 11 with value: 0.9887257886607359.\n",
            "[I 2024-07-07 08:38:43,902] Trial 27 finished with value: 0.9813213270389411 and parameters: {'learning_rate': 0.08259882901958185, 'max_depth': 3, 'min_child_weight': 1.7247947658683842, 'reg_lamda': 16.770700399711597, 'n_estimators': 169, 'max_leaves': 14}. Best is trial 11 with value: 0.9887257886607359.\n",
            "[I 2024-07-07 08:39:09,074] Trial 28 finished with value: 0.9808024338530368 and parameters: {'learning_rate': 0.13984631087004612, 'max_depth': 2, 'min_child_weight': 0.7913961465433397, 'reg_lamda': 13.836188474759963, 'n_estimators': 189, 'max_leaves': 12}. Best is trial 11 with value: 0.9887257886607359.\n",
            "[I 2024-07-07 08:39:29,116] Trial 29 finished with value: 0.9809825477162885 and parameters: {'learning_rate': 0.16865265365985488, 'max_depth': 6, 'min_child_weight': 0.7627568500631555, 'reg_lamda': 18.643996651521142, 'n_estimators': 165, 'max_leaves': 4}. Best is trial 11 with value: 0.9887257886607359.\n",
            "[I 2024-07-07 08:40:09,083] Trial 30 finished with value: 0.9864921598726021 and parameters: {'learning_rate': 0.16112455643454654, 'max_depth': 4, 'min_child_weight': 0.5106993042092954, 'reg_lamda': 9.802429881640368, 'n_estimators': 123, 'max_leaves': 15}. Best is trial 11 with value: 0.9887257886607359.\n",
            "[I 2024-07-07 08:41:04,262] Trial 31 finished with value: 0.9879390741510684 and parameters: {'learning_rate': 0.1513974285692624, 'max_depth': 5, 'min_child_weight': 3.0161729647236055, 'reg_lamda': 18.00543813574164, 'n_estimators': 176, 'max_leaves': 12}. Best is trial 11 with value: 0.9887257886607359.\n",
            "[I 2024-07-07 08:41:57,470] Trial 32 finished with value: 0.9867553696164103 and parameters: {'learning_rate': 0.11578654344477196, 'max_depth': 4, 'min_child_weight': 2.4259102423918963, 'reg_lamda': 18.409663820021507, 'n_estimators': 172, 'max_leaves': 13}. Best is trial 11 with value: 0.9887257886607359.\n",
            "[I 2024-07-07 08:42:44,379] Trial 33 finished with value: 0.986308173953011 and parameters: {'learning_rate': 0.15685905213629073, 'max_depth': 5, 'min_child_weight': 1.6404574072190936, 'reg_lamda': 16.204768912000773, 'n_estimators': 148, 'max_leaves': 11}. Best is trial 11 with value: 0.9887257886607359.\n",
            "[I 2024-07-07 08:43:49,073] Trial 34 finished with value: 0.9845494539523824 and parameters: {'learning_rate': 0.07232397275700433, 'max_depth': 6, 'min_child_weight': 1.403034548774882, 'reg_lamda': 18.753348071710338, 'n_estimators': 188, 'max_leaves': 14}. Best is trial 11 with value: 0.9887257886607359.\n",
            "[I 2024-07-07 08:44:38,370] Trial 35 finished with value: 0.9886502626763894 and parameters: {'learning_rate': 0.18547459659543059, 'max_depth': 4, 'min_child_weight': 4.668705084990828, 'reg_lamda': 15.219341806716638, 'n_estimators': 176, 'max_leaves': 16}. Best is trial 11 with value: 0.9887257886607359.\n",
            "[I 2024-07-07 08:45:04,049] Trial 36 finished with value: 0.9849299117014576 and parameters: {'learning_rate': 0.18776082397233337, 'max_depth': 3, 'min_child_weight': 4.145825675797488, 'reg_lamda': 14.68901984505783, 'n_estimators': 122, 'max_leaves': 17}. Best is trial 11 with value: 0.9887257886607359.\n",
            "[I 2024-07-07 08:45:59,578] Trial 37 finished with value: 0.9889126024414496 and parameters: {'learning_rate': 0.17790681648219517, 'max_depth': 4, 'min_child_weight': 4.704462781476705, 'reg_lamda': 12.95060005625714, 'n_estimators': 200, 'max_leaves': 19}. Best is trial 37 with value: 0.9889126024414496.\n",
            "[I 2024-07-07 08:46:55,262] Trial 38 finished with value: 0.9891423780303658 and parameters: {'learning_rate': 0.1998081760554891, 'max_depth': 4, 'min_child_weight': 4.971108129900451, 'reg_lamda': 11.119721825183204, 'n_estimators': 199, 'max_leaves': 19}. Best is trial 38 with value: 0.9891423780303658.\n",
            "[I 2024-07-07 08:47:33,769] Trial 39 finished with value: 0.988074202946109 and parameters: {'learning_rate': 0.1920312590865779, 'max_depth': 3, 'min_child_weight': 4.856626959085946, 'reg_lamda': 10.847765838674544, 'n_estimators': 199, 'max_leaves': 19}. Best is trial 38 with value: 0.9891423780303658.\n",
            "[I 2024-07-07 08:47:54,523] Trial 40 finished with value: 0.9607583546567467 and parameters: {'learning_rate': 0.04013745992530011, 'max_depth': 2, 'min_child_weight': 4.485099847940564, 'reg_lamda': 12.967431337158276, 'n_estimators': 167, 'max_leaves': 19}. Best is trial 38 with value: 0.9891423780303658.\n",
            "[I 2024-07-07 08:48:48,841] Trial 41 finished with value: 0.9893190549028826 and parameters: {'learning_rate': 0.19888789542283644, 'max_depth': 4, 'min_child_weight': 6.064291640217734, 'reg_lamda': 11.008607960683765, 'n_estimators': 191, 'max_leaves': 16}. Best is trial 41 with value: 0.9893190549028826.\n",
            "[I 2024-07-07 08:49:43,911] Trial 42 finished with value: 0.9890779460127505 and parameters: {'learning_rate': 0.19922830969665004, 'max_depth': 4, 'min_child_weight': 6.061736559502756, 'reg_lamda': 8.48735975838429, 'n_estimators': 194, 'max_leaves': 16}. Best is trial 41 with value: 0.9893190549028826.\n",
            "[I 2024-07-07 08:50:38,167] Trial 43 finished with value: 0.9891531674803075 and parameters: {'learning_rate': 0.196925293086903, 'max_depth': 4, 'min_child_weight': 6.620437625746093, 'reg_lamda': 4.534923152863582, 'n_estimators': 194, 'max_leaves': 19}. Best is trial 41 with value: 0.9893190549028826.\n",
            "[I 2024-07-07 08:51:31,864] Trial 44 finished with value: 0.9888241986533521 and parameters: {'learning_rate': 0.17875485542572, 'max_depth': 4, 'min_child_weight': 6.766016553701764, 'reg_lamda': 4.256166461693273, 'n_estimators': 194, 'max_leaves': 19}. Best is trial 41 with value: 0.9893190549028826.\n",
            "[I 2024-07-07 08:51:50,740] Trial 45 finished with value: 0.9832726035809033 and parameters: {'learning_rate': 0.19984984135080539, 'max_depth': 3, 'min_child_weight': 6.013430428578629, 'reg_lamda': 8.059933879089826, 'n_estimators': 96, 'max_leaves': 17}. Best is trial 41 with value: 0.9893190549028826.\n",
            "[I 2024-07-07 08:52:44,662] Trial 46 finished with value: 0.9887736885084856 and parameters: {'learning_rate': 0.1746991490219527, 'max_depth': 4, 'min_child_weight': 7.838794938779428, 'reg_lamda': 4.727345445228567, 'n_estimators': 200, 'max_leaves': 18}. Best is trial 41 with value: 0.9893190549028826.\n",
            "[I 2024-07-07 08:53:18,879] Trial 47 finished with value: 0.9877372073871072 and parameters: {'learning_rate': 0.19008222544463724, 'max_depth': 3, 'min_child_weight': 6.604798673322757, 'reg_lamda': 2.6846691857838305, 'n_estimators': 195, 'max_leaves': 16}. Best is trial 41 with value: 0.9893190549028826.\n",
            "[I 2024-07-07 08:54:12,205] Trial 48 finished with value: 0.9886259429192972 and parameters: {'learning_rate': 0.16787617228836563, 'max_depth': 4, 'min_child_weight': 5.546386941939372, 'reg_lamda': 11.318097288458613, 'n_estimators': 190, 'max_leaves': 19}. Best is trial 41 with value: 0.9893190549028826.\n",
            "[I 2024-07-07 08:55:07,789] Trial 49 finished with value: 0.9889757292375337 and parameters: {'learning_rate': 0.19951587150789968, 'max_depth': 5, 'min_child_weight': 9.391951409131853, 'reg_lamda': 8.536284472674687, 'n_estimators': 149, 'max_leaves': 17}. Best is trial 41 with value: 0.9893190549028826.\n"
          ]
        }
      ]
    },
    {
      "cell_type": "code",
      "source": [
        "print(f'Best parameters for XGBoost: {study.best_params}')"
      ],
      "metadata": {
        "colab": {
          "base_uri": "https://localhost:8080/"
        },
        "id": "2PRQ-sbOisZn",
        "outputId": "e6c638ec-5c88-4861-9319-233ba842acb9"
      },
      "execution_count": null,
      "outputs": [
        {
          "output_type": "stream",
          "name": "stdout",
          "text": [
            "Best parameters for XGBoost: {'learning_rate': 0.19888789542283644, 'max_depth': 4, 'min_child_weight': 6.064291640217734, 'reg_lamda': 11.008607960683765, 'n_estimators': 191, 'max_leaves': 16}\n"
          ]
        }
      ]
    },
    {
      "cell_type": "code",
      "source": [
        "xgb_model = XGBClassifier(**study.best_params, random_state=42)\n",
        "xgb_model.fit(X_train, y_train)"
      ],
      "metadata": {
        "colab": {
          "base_uri": "https://localhost:8080/",
          "height": 248
        },
        "id": "BkSAkFOeiuwi",
        "outputId": "c068aaaf-23dd-435a-fb74-a7655576c201"
      },
      "execution_count": null,
      "outputs": [
        {
          "output_type": "execute_result",
          "data": {
            "text/plain": [
              "XGBClassifier(base_score=None, booster=None, callbacks=None,\n",
              "              colsample_bylevel=None, colsample_bynode=None,\n",
              "              colsample_bytree=None, device=None, early_stopping_rounds=None,\n",
              "              enable_categorical=False, eval_metric=None, feature_types=None,\n",
              "              gamma=None, grow_policy=None, importance_type=None,\n",
              "              interaction_constraints=None, learning_rate=0.19888789542283644,\n",
              "              max_bin=None, max_cat_threshold=None, max_cat_to_onehot=None,\n",
              "              max_delta_step=None, max_depth=4, max_leaves=16,\n",
              "              min_child_weight=6.064291640217734, missing=nan,\n",
              "              monotone_constraints=None, multi_strategy=None, n_estimators=191,\n",
              "              n_jobs=None, num_parallel_tree=None, random_state=42, ...)"
            ],
            "text/html": [
              "<style>#sk-container-id-4 {color: black;background-color: white;}#sk-container-id-4 pre{padding: 0;}#sk-container-id-4 div.sk-toggleable {background-color: white;}#sk-container-id-4 label.sk-toggleable__label {cursor: pointer;display: block;width: 100%;margin-bottom: 0;padding: 0.3em;box-sizing: border-box;text-align: center;}#sk-container-id-4 label.sk-toggleable__label-arrow:before {content: \"▸\";float: left;margin-right: 0.25em;color: #696969;}#sk-container-id-4 label.sk-toggleable__label-arrow:hover:before {color: black;}#sk-container-id-4 div.sk-estimator:hover label.sk-toggleable__label-arrow:before {color: black;}#sk-container-id-4 div.sk-toggleable__content {max-height: 0;max-width: 0;overflow: hidden;text-align: left;background-color: #f0f8ff;}#sk-container-id-4 div.sk-toggleable__content pre {margin: 0.2em;color: black;border-radius: 0.25em;background-color: #f0f8ff;}#sk-container-id-4 input.sk-toggleable__control:checked~div.sk-toggleable__content {max-height: 200px;max-width: 100%;overflow: auto;}#sk-container-id-4 input.sk-toggleable__control:checked~label.sk-toggleable__label-arrow:before {content: \"▾\";}#sk-container-id-4 div.sk-estimator input.sk-toggleable__control:checked~label.sk-toggleable__label {background-color: #d4ebff;}#sk-container-id-4 div.sk-label input.sk-toggleable__control:checked~label.sk-toggleable__label {background-color: #d4ebff;}#sk-container-id-4 input.sk-hidden--visually {border: 0;clip: rect(1px 1px 1px 1px);clip: rect(1px, 1px, 1px, 1px);height: 1px;margin: -1px;overflow: hidden;padding: 0;position: absolute;width: 1px;}#sk-container-id-4 div.sk-estimator {font-family: monospace;background-color: #f0f8ff;border: 1px dotted black;border-radius: 0.25em;box-sizing: border-box;margin-bottom: 0.5em;}#sk-container-id-4 div.sk-estimator:hover {background-color: #d4ebff;}#sk-container-id-4 div.sk-parallel-item::after {content: \"\";width: 100%;border-bottom: 1px solid gray;flex-grow: 1;}#sk-container-id-4 div.sk-label:hover label.sk-toggleable__label {background-color: #d4ebff;}#sk-container-id-4 div.sk-serial::before {content: \"\";position: absolute;border-left: 1px solid gray;box-sizing: border-box;top: 0;bottom: 0;left: 50%;z-index: 0;}#sk-container-id-4 div.sk-serial {display: flex;flex-direction: column;align-items: center;background-color: white;padding-right: 0.2em;padding-left: 0.2em;position: relative;}#sk-container-id-4 div.sk-item {position: relative;z-index: 1;}#sk-container-id-4 div.sk-parallel {display: flex;align-items: stretch;justify-content: center;background-color: white;position: relative;}#sk-container-id-4 div.sk-item::before, #sk-container-id-4 div.sk-parallel-item::before {content: \"\";position: absolute;border-left: 1px solid gray;box-sizing: border-box;top: 0;bottom: 0;left: 50%;z-index: -1;}#sk-container-id-4 div.sk-parallel-item {display: flex;flex-direction: column;z-index: 1;position: relative;background-color: white;}#sk-container-id-4 div.sk-parallel-item:first-child::after {align-self: flex-end;width: 50%;}#sk-container-id-4 div.sk-parallel-item:last-child::after {align-self: flex-start;width: 50%;}#sk-container-id-4 div.sk-parallel-item:only-child::after {width: 0;}#sk-container-id-4 div.sk-dashed-wrapped {border: 1px dashed gray;margin: 0 0.4em 0.5em 0.4em;box-sizing: border-box;padding-bottom: 0.4em;background-color: white;}#sk-container-id-4 div.sk-label label {font-family: monospace;font-weight: bold;display: inline-block;line-height: 1.2em;}#sk-container-id-4 div.sk-label-container {text-align: center;}#sk-container-id-4 div.sk-container {/* jupyter's `normalize.less` sets `[hidden] { display: none; }` but bootstrap.min.css set `[hidden] { display: none !important; }` so we also need the `!important` here to be able to override the default hidden behavior on the sphinx rendered scikit-learn.org. See: https://github.com/scikit-learn/scikit-learn/issues/21755 */display: inline-block !important;position: relative;}#sk-container-id-4 div.sk-text-repr-fallback {display: none;}</style><div id=\"sk-container-id-4\" class=\"sk-top-container\"><div class=\"sk-text-repr-fallback\"><pre>XGBClassifier(base_score=None, booster=None, callbacks=None,\n",
              "              colsample_bylevel=None, colsample_bynode=None,\n",
              "              colsample_bytree=None, device=None, early_stopping_rounds=None,\n",
              "              enable_categorical=False, eval_metric=None, feature_types=None,\n",
              "              gamma=None, grow_policy=None, importance_type=None,\n",
              "              interaction_constraints=None, learning_rate=0.19888789542283644,\n",
              "              max_bin=None, max_cat_threshold=None, max_cat_to_onehot=None,\n",
              "              max_delta_step=None, max_depth=4, max_leaves=16,\n",
              "              min_child_weight=6.064291640217734, missing=nan,\n",
              "              monotone_constraints=None, multi_strategy=None, n_estimators=191,\n",
              "              n_jobs=None, num_parallel_tree=None, random_state=42, ...)</pre><b>In a Jupyter environment, please rerun this cell to show the HTML representation or trust the notebook. <br />On GitHub, the HTML representation is unable to render, please try loading this page with nbviewer.org.</b></div><div class=\"sk-container\" hidden><div class=\"sk-item\"><div class=\"sk-estimator sk-toggleable\"><input class=\"sk-toggleable__control sk-hidden--visually\" id=\"sk-estimator-id-4\" type=\"checkbox\" checked><label for=\"sk-estimator-id-4\" class=\"sk-toggleable__label sk-toggleable__label-arrow\">XGBClassifier</label><div class=\"sk-toggleable__content\"><pre>XGBClassifier(base_score=None, booster=None, callbacks=None,\n",
              "              colsample_bylevel=None, colsample_bynode=None,\n",
              "              colsample_bytree=None, device=None, early_stopping_rounds=None,\n",
              "              enable_categorical=False, eval_metric=None, feature_types=None,\n",
              "              gamma=None, grow_policy=None, importance_type=None,\n",
              "              interaction_constraints=None, learning_rate=0.19888789542283644,\n",
              "              max_bin=None, max_cat_threshold=None, max_cat_to_onehot=None,\n",
              "              max_delta_step=None, max_depth=4, max_leaves=16,\n",
              "              min_child_weight=6.064291640217734, missing=nan,\n",
              "              monotone_constraints=None, multi_strategy=None, n_estimators=191,\n",
              "              n_jobs=None, num_parallel_tree=None, random_state=42, ...)</pre></div></div></div></div></div>"
            ]
          },
          "metadata": {},
          "execution_count": 84
        }
      ]
    },
    {
      "cell_type": "code",
      "source": [
        "y_pred_test = xgb_model.predict(X_test)"
      ],
      "metadata": {
        "id": "4FbVmcXOixw2"
      },
      "execution_count": null,
      "outputs": []
    },
    {
      "cell_type": "markdown",
      "source": [
        "### Model Evaluation"
      ],
      "metadata": {
        "id": "AKN3QsCBmqXB"
      }
    },
    {
      "cell_type": "code",
      "source": [
        "test_accuracy = accuracy_score(y_test, y_pred_test)\n",
        "test_precision = precision_score(y_test, y_pred_test)\n",
        "test_recall = recall_score(y_test, y_pred_test)\n",
        "test_f1 = f1_score(y_test, y_pred_test)\n",
        "\n",
        "print(f'XGBoost - Test Accuracy: {test_accuracy}')\n",
        "print(f'XGBoost - Test Precision: {test_precision}')\n",
        "print(f'XGBoost - Test Recall: {test_recall}')\n",
        "print(f'XGBoost - Test F1-score: {test_f1}')"
      ],
      "metadata": {
        "colab": {
          "base_uri": "https://localhost:8080/"
        },
        "id": "RQppWOR2j8uz",
        "outputId": "3d03a4e3-f1bd-4ccd-ccd2-09b2f037f18f"
      },
      "execution_count": null,
      "outputs": [
        {
          "output_type": "stream",
          "name": "stdout",
          "text": [
            "XGBoost - Test Accuracy: 0.9520828316879364\n",
            "XGBoost - Test Precision: 0.949209391471011\n",
            "XGBoost - Test Recall: 0.9551591128254581\n",
            "XGBoost - Test F1-score: 0.9521749579428022\n"
          ]
        }
      ]
    },
    {
      "cell_type": "code",
      "source": [
        "sns.heatmap(confusion_matrix(y_test,y_pred_test),annot=True,fmt='3.0f',cmap=\"summer\")\n",
        "plt.title('Confusion_matrix', y=1.05, size=15)"
      ],
      "metadata": {
        "colab": {
          "base_uri": "https://localhost:8080/",
          "height": 490
        },
        "id": "y29FV7E_k-_E",
        "outputId": "597c7c5a-9a9c-4cac-d355-9ba64ee1faf4"
      },
      "execution_count": null,
      "outputs": [
        {
          "output_type": "execute_result",
          "data": {
            "text/plain": [
              "Text(0.5, 1.05, 'Confusion_matrix')"
            ]
          },
          "metadata": {},
          "execution_count": 87
        },
        {
          "output_type": "display_data",
          "data": {
            "text/plain": [
              "<Figure size 640x480 with 2 Axes>"
            ],
            "image/png": "[encoded data removed]"
          },
          "metadata": {}
        }
      ]
    },
    {
      "cell_type": "markdown",
      "source": [
        "---\n",
        "### **Test Accuracy: 0.9525644112689622**\n",
        "---"
      ],
      "metadata": {
        "id": "91vhAUz4mtKx"
      }
    },
    {
      "cell_type": "markdown",
      "source": [
        "## LighGBM Classifier model"
      ],
      "metadata": {
        "id": "i2vjp6WSSq44"
      }
    },
    {
      "cell_type": "code",
      "source": [
        "import lightgbm as lgb\n",
        "\n",
        "def objective(trial):\n",
        "    params = {\n",
        "        'learning_rate': trial.suggest_float('learning_rate', 0.001, 0.2),\n",
        "        'max_depth': trial.suggest_int('max_depth', 1, 8),\n",
        "        'min_child_weight': trial.suggest_float('min_child_weight', 0.5, 10),\n",
        "        'reg_lambda': trial.suggest_float('reg_lambda', 0.001, 20),\n",
        "        'n_estimators': trial.suggest_int('n_estimators', 20, 200),\n",
        "        'num_leaves': trial.suggest_int('num_leaves', 2, 20),\n",
        "        'objective': 'binary',\n",
        "        'metric': 'binary_logloss',\n",
        "        'verbosity': -1\n",
        "    }\n",
        "\n",
        "    model = lgb.LGBMClassifier(**params, random_state=42)\n",
        "    score = cross_val_score(model, X_train, y_train, cv=3, scoring='roc_auc').mean()\n",
        "    return score\n",
        "\n",
        "study = optuna.create_study(direction='maximize')\n",
        "study.optimize(objective, n_trials=30)"
      ],
      "metadata": {
        "colab": {
          "base_uri": "https://localhost:8080/"
        },
        "id": "HXz2QuYlTGxo",
        "outputId": "f358d8de-f577-454a-f801-b79c41f2a89b"
      },
      "execution_count": null,
      "outputs": [
        {
          "output_type": "stream",
          "name": "stderr",
          "text": [
            "[I 2024-07-24 01:17:19,122] A new study created in memory with name: no-name-f319deea-e123-4563-965b-d83f11b88c1e\n",
            "[I 2024-07-24 01:17:35,002] Trial 0 finished with value: 0.9649222685155264 and parameters: {'learning_rate': 0.09793341804000143, 'max_depth': 2, 'min_child_weight': 7.22358007151209, 'reg_lambda': 10.509457865428077, 'n_estimators': 89, 'num_leaves': 18}. Best is trial 0 with value: 0.9649222685155264.\n",
            "[I 2024-07-24 01:17:49,452] Trial 1 finished with value: 0.9741219080138838 and parameters: {'learning_rate': 0.18173304368086554, 'max_depth': 2, 'min_child_weight': 9.27991245875921, 'reg_lambda': 10.28054842337497, 'n_estimators': 90, 'num_leaves': 11}. Best is trial 1 with value: 0.9741219080138838.\n",
            "[I 2024-07-24 01:18:02,724] Trial 2 finished with value: 0.9415527833288255 and parameters: {'learning_rate': 0.013987033359546354, 'max_depth': 8, 'min_child_weight': 6.406671809224121, 'reg_lambda': 5.096660870804018, 'n_estimators': 32, 'num_leaves': 12}. Best is trial 1 with value: 0.9741219080138838.\n",
            "[I 2024-07-24 01:18:15,808] Trial 3 finished with value: 0.9442108542588121 and parameters: {'learning_rate': 0.012590808014514988, 'max_depth': 7, 'min_child_weight': 4.354515788087847, 'reg_lambda': 17.072231988391923, 'n_estimators': 32, 'num_leaves': 18}. Best is trial 1 with value: 0.9741219080138838.\n",
            "[I 2024-07-24 01:18:56,564] Trial 4 finished with value: 0.9885740841361592 and parameters: {'learning_rate': 0.1528076621867791, 'max_depth': 7, 'min_child_weight': 4.946459397958233, 'reg_lambda': 4.373650649043696, 'n_estimators': 139, 'num_leaves': 18}. Best is trial 4 with value: 0.9885740841361592.\n",
            "[I 2024-07-24 01:19:07,331] Trial 5 finished with value: 0.9583812003224083 and parameters: {'learning_rate': 0.1059548962265402, 'max_depth': 4, 'min_child_weight': 9.879284435906975, 'reg_lambda': 9.09048450635126, 'n_estimators': 20, 'num_leaves': 14}. Best is trial 4 with value: 0.9885740841361592.\n",
            "[I 2024-07-24 01:19:37,651] Trial 6 finished with value: 0.9812178703345514 and parameters: {'learning_rate': 0.0847067486263367, 'max_depth': 5, 'min_child_weight': 3.2715480890467057, 'reg_lambda': 2.3413965816046707, 'n_estimators': 129, 'num_leaves': 9}. Best is trial 4 with value: 0.9885740841361592.\n",
            "[I 2024-07-24 01:20:24,267] Trial 7 finished with value: 0.986845948613202 and parameters: {'learning_rate': 0.08565711213555251, 'max_depth': 5, 'min_child_weight': 1.6146863117600498, 'reg_lambda': 10.440913967927203, 'n_estimators': 200, 'num_leaves': 16}. Best is trial 4 with value: 0.9885740841361592.\n",
            "[I 2024-07-24 01:20:45,613] Trial 8 finished with value: 0.9838543625952711 and parameters: {'learning_rate': 0.1953310501451982, 'max_depth': 7, 'min_child_weight': 5.2128115556493375, 'reg_lambda': 14.275886235644819, 'n_estimators': 67, 'num_leaves': 15}. Best is trial 4 with value: 0.9885740841361592.\n",
            "[I 2024-07-24 01:21:20,142] Trial 9 finished with value: 0.9861910564958181 and parameters: {'learning_rate': 0.10595794764469997, 'max_depth': 4, 'min_child_weight': 3.0640289471600197, 'reg_lambda': 11.649103209830185, 'n_estimators': 198, 'num_leaves': 10}. Best is trial 4 with value: 0.9885740841361592.\n",
            "[I 2024-07-24 01:21:40,774] Trial 10 finished with value: 0.9747296833553651 and parameters: {'learning_rate': 0.15414940131363397, 'max_depth': 6, 'min_child_weight': 0.9143984221259069, 'reg_lambda': 1.5840273720392446, 'n_estimators': 136, 'num_leaves': 3}. Best is trial 4 with value: 0.9885740841361592.\n",
            "[I 2024-07-24 01:22:33,890] Trial 11 finished with value: 0.9889828206865668 and parameters: {'learning_rate': 0.14102962644215122, 'max_depth': 5, 'min_child_weight': 0.7235099882703446, 'reg_lambda': 5.878890439753869, 'n_estimators': 193, 'num_leaves': 20}. Best is trial 11 with value: 0.9889828206865668.\n",
            "[I 2024-07-24 01:23:21,300] Trial 12 finished with value: 0.9886280747653787 and parameters: {'learning_rate': 0.1479041792237846, 'max_depth': 8, 'min_child_weight': 7.610702525909921, 'reg_lambda': 5.536579973632696, 'n_estimators': 162, 'num_leaves': 20}. Best is trial 11 with value: 0.9889828206865668.\n",
            "[I 2024-07-24 01:23:35,476] Trial 13 finished with value: 0.9620850408110421 and parameters: {'learning_rate': 0.13973187658254832, 'max_depth': 1, 'min_child_weight': 7.881418701372882, 'reg_lambda': 6.803871183284494, 'n_estimators': 167, 'num_leaves': 20}. Best is trial 11 with value: 0.9889828206865668.\n",
            "[I 2024-07-24 01:24:24,013] Trial 14 finished with value: 0.9886810647515313 and parameters: {'learning_rate': 0.13278655540740306, 'max_depth': 8, 'min_child_weight': 8.439462940608506, 'reg_lambda': 6.331262841002483, 'n_estimators': 169, 'num_leaves': 20}. Best is trial 11 with value: 0.9889828206865668.\n",
            "[I 2024-07-24 01:24:49,522] Trial 15 finished with value: 0.984372080888234 and parameters: {'learning_rate': 0.1297335301674036, 'max_depth': 3, 'min_child_weight': 2.150820283403791, 'reg_lambda': 0.2897671251459375, 'n_estimators': 176, 'num_leaves': 6}. Best is trial 11 with value: 0.9889828206865668.\n",
            "[I 2024-07-24 01:25:38,454] Trial 16 finished with value: 0.9836013765620436 and parameters: {'learning_rate': 0.050460212134609855, 'max_depth': 6, 'min_child_weight': 8.65977870846157, 'reg_lambda': 7.687900570919205, 'n_estimators': 181, 'num_leaves': 20}. Best is trial 11 with value: 0.9889828206865668.\n",
            "[I 2024-07-24 01:26:16,230] Trial 17 finished with value: 0.9884610561899225 and parameters: {'learning_rate': 0.17537364362080296, 'max_depth': 6, 'min_child_weight': 6.643727042959787, 'reg_lambda': 13.011279016583604, 'n_estimators': 147, 'num_leaves': 16}. Best is trial 11 with value: 0.9889828206865668.\n",
            "[I 2024-07-24 01:26:34,125] Trial 18 finished with value: 0.9691998411213382 and parameters: {'learning_rate': 0.05487737853393448, 'max_depth': 3, 'min_child_weight': 0.5351970060827549, 'reg_lambda': 3.2223485333336317, 'n_estimators': 105, 'num_leaves': 7}. Best is trial 11 with value: 0.9889828206865668.\n",
            "[I 2024-07-24 01:27:20,620] Trial 19 finished with value: 0.9876362306072778 and parameters: {'learning_rate': 0.12348121761054633, 'max_depth': 8, 'min_child_weight': 6.08417008366253, 'reg_lambda': 6.989429907843537, 'n_estimators': 155, 'num_leaves': 17}. Best is trial 11 with value: 0.9889828206865668.\n",
            "[I 2024-07-24 01:28:10,844] Trial 20 finished with value: 0.9886089757889144 and parameters: {'learning_rate': 0.16735633305007638, 'max_depth': 5, 'min_child_weight': 3.9605073241043884, 'reg_lambda': 19.041371662009023, 'n_estimators': 189, 'num_leaves': 14}. Best is trial 11 with value: 0.9889828206865668.\n",
            "[I 2024-07-24 01:29:08,593] Trial 21 finished with value: 0.9887220037086107 and parameters: {'learning_rate': 0.14653774671648565, 'max_depth': 8, 'min_child_weight': 8.10495221635761, 'reg_lambda': 5.253564214737155, 'n_estimators': 164, 'num_leaves': 20}. Best is trial 11 with value: 0.9889828206865668.\n",
            "[I 2024-07-24 01:29:48,888] Trial 22 finished with value: 0.9867531073985641 and parameters: {'learning_rate': 0.12499243154127776, 'max_depth': 7, 'min_child_weight': 8.454431796894335, 'reg_lambda': 7.96092532800523, 'n_estimators': 122, 'num_leaves': 20}. Best is trial 11 with value: 0.9889828206865668.\n",
            "[I 2024-07-24 01:30:36,636] Trial 23 finished with value: 0.9889252625961231 and parameters: {'learning_rate': 0.16257641497330588, 'max_depth': 8, 'min_child_weight': 8.919798259951776, 'reg_lambda': 3.6366005849979803, 'n_estimators': 172, 'num_leaves': 18}. Best is trial 11 with value: 0.9889828206865668.\n",
            "[I 2024-07-24 01:31:23,815] Trial 24 finished with value: 0.9891279123558204 and parameters: {'learning_rate': 0.19906150852468063, 'max_depth': 6, 'min_child_weight': 9.740014808017694, 'reg_lambda': 3.9751938696236975, 'n_estimators': 185, 'num_leaves': 18}. Best is trial 24 with value: 0.9891279123558204.\n",
            "[I 2024-07-24 01:32:06,391] Trial 25 finished with value: 0.9894526828425748 and parameters: {'learning_rate': 0.19436673300590512, 'max_depth': 6, 'min_child_weight': 9.762925136963299, 'reg_lambda': 3.384278238680833, 'n_estimators': 185, 'num_leaves': 13}. Best is trial 25 with value: 0.9894526828425748.\n",
            "[I 2024-07-24 01:32:49,665] Trial 26 finished with value: 0.9899442543541777 and parameters: {'learning_rate': 0.18850547218658997, 'max_depth': 6, 'min_child_weight': 9.82028659116027, 'reg_lambda': 1.10111909055421, 'n_estimators': 190, 'num_leaves': 13}. Best is trial 26 with value: 0.9899442543541777.\n",
            "[I 2024-07-24 01:33:28,852] Trial 27 finished with value: 0.9894515951089892 and parameters: {'learning_rate': 0.19725264046986804, 'max_depth': 6, 'min_child_weight': 9.796345836701471, 'reg_lambda': 0.12420958510545177, 'n_estimators': 181, 'num_leaves': 13}. Best is trial 26 with value: 0.9899442543541777.\n",
            "[I 2024-07-24 01:34:06,551] Trial 28 finished with value: 0.9886584852699567 and parameters: {'learning_rate': 0.18501483596131926, 'max_depth': 6, 'min_child_weight': 9.346467177861532, 'reg_lambda': 0.4364630028689316, 'n_estimators': 149, 'num_leaves': 13}. Best is trial 26 with value: 0.9899442543541777.\n",
            "[I 2024-07-24 01:34:36,048] Trial 29 finished with value: 0.9871761137615197 and parameters: {'learning_rate': 0.19050802496204672, 'max_depth': 7, 'min_child_weight': 7.197032925937021, 'reg_lambda': 1.311979597932102, 'n_estimators': 112, 'num_leaves': 12}. Best is trial 26 with value: 0.9899442543541777.\n"
          ]
        }
      ]
    },
    {
      "cell_type": "code",
      "source": [
        "print(f'Best parameters for LightGBM : {study.best_params}')"
      ],
      "metadata": {
        "colab": {
          "base_uri": "https://localhost:8080/"
        },
        "id": "RET0kO2WTQji",
        "outputId": "5f4701e8-4eda-4876-dfac-01fae1b8284d"
      },
      "execution_count": null,
      "outputs": [
        {
          "output_type": "stream",
          "name": "stdout",
          "text": [
            "Best parameters for LightGBM : {'learning_rate': 0.18850547218658997, 'max_depth': 6, 'min_child_weight': 9.82028659116027, 'reg_lambda': 1.10111909055421, 'n_estimators': 190, 'num_leaves': 13}\n"
          ]
        }
      ]
    },
    {
      "cell_type": "code",
      "source": [
        "lgb_model = lgb.LGBMClassifier(**study.best_params, random_state=42)\n",
        "lgb_model.fit(X_train, y_train)"
      ],
      "metadata": {
        "colab": {
          "base_uri": "https://localhost:8080/",
          "height": 266
        },
        "id": "y4WxFvWLTjdD",
        "outputId": "7c4c2dee-5953-4da5-c254-0a1ea5ea074d"
      },
      "execution_count": null,
      "outputs": [
        {
          "output_type": "stream",
          "name": "stdout",
          "text": [
            "[LightGBM] [Info] Number of positive: 8300, number of negative: 8308\n",
            "[LightGBM] [Info] Auto-choosing col-wise multi-threading, the overhead of testing was 0.174733 seconds.\n",
            "You can set `force_col_wise=true` to remove the overhead.\n",
            "[LightGBM] [Info] Total Bins 127500\n",
            "[LightGBM] [Info] Number of data points in the train set: 16608, number of used features: 500\n",
            "[LightGBM] [Info] [binary:BoostFromScore]: pavg=0.499759 -> initscore=-0.000963\n",
            "[LightGBM] [Info] Start training from score -0.000963\n",
            "[LightGBM] [Warning] No further splits with positive gain, best gain: -inf\n",
            "[LightGBM] [Warning] No further splits with positive gain, best gain: -inf\n"
          ]
        },
        {
          "output_type": "execute_result",
          "data": {
            "text/plain": [
              "LGBMClassifier(learning_rate=0.18850547218658997, max_depth=6,\n",
              "               min_child_weight=9.82028659116027, n_estimators=190,\n",
              "               num_leaves=13, random_state=42, reg_lambda=1.10111909055421)"
            ],
            "text/html": [
              "<style>#sk-container-id-2 {color: black;background-color: white;}#sk-container-id-2 pre{padding: 0;}#sk-container-id-2 div.sk-toggleable {background-color: white;}#sk-container-id-2 label.sk-toggleable__label {cursor: pointer;display: block;width: 100%;margin-bottom: 0;padding: 0.3em;box-sizing: border-box;text-align: center;}#sk-container-id-2 label.sk-toggleable__label-arrow:before {content: \"▸\";float: left;margin-right: 0.25em;color: #696969;}#sk-container-id-2 label.sk-toggleable__label-arrow:hover:before {color: black;}#sk-container-id-2 div.sk-estimator:hover label.sk-toggleable__label-arrow:before {color: black;}#sk-container-id-2 div.sk-toggleable__content {max-height: 0;max-width: 0;overflow: hidden;text-align: left;background-color: #f0f8ff;}#sk-container-id-2 div.sk-toggleable__content pre {margin: 0.2em;color: black;border-radius: 0.25em;background-color: #f0f8ff;}#sk-container-id-2 input.sk-toggleable__control:checked~div.sk-toggleable__content {max-height: 200px;max-width: 100%;overflow: auto;}#sk-container-id-2 input.sk-toggleable__control:checked~label.sk-toggleable__label-arrow:before {content: \"▾\";}#sk-container-id-2 div.sk-estimator input.sk-toggleable__control:checked~label.sk-toggleable__label {background-color: #d4ebff;}#sk-container-id-2 div.sk-label input.sk-toggleable__control:checked~label.sk-toggleable__label {background-color: #d4ebff;}#sk-container-id-2 input.sk-hidden--visually {border: 0;clip: rect(1px 1px 1px 1px);clip: rect(1px, 1px, 1px, 1px);height: 1px;margin: -1px;overflow: hidden;padding: 0;position: absolute;width: 1px;}#sk-container-id-2 div.sk-estimator {font-family: monospace;background-color: #f0f8ff;border: 1px dotted black;border-radius: 0.25em;box-sizing: border-box;margin-bottom: 0.5em;}#sk-container-id-2 div.sk-estimator:hover {background-color: #d4ebff;}#sk-container-id-2 div.sk-parallel-item::after {content: \"\";width: 100%;border-bottom: 1px solid gray;flex-grow: 1;}#sk-container-id-2 div.sk-label:hover label.sk-toggleable__label {background-color: #d4ebff;}#sk-container-id-2 div.sk-serial::before {content: \"\";position: absolute;border-left: 1px solid gray;box-sizing: border-box;top: 0;bottom: 0;left: 50%;z-index: 0;}#sk-container-id-2 div.sk-serial {display: flex;flex-direction: column;align-items: center;background-color: white;padding-right: 0.2em;padding-left: 0.2em;position: relative;}#sk-container-id-2 div.sk-item {position: relative;z-index: 1;}#sk-container-id-2 div.sk-parallel {display: flex;align-items: stretch;justify-content: center;background-color: white;position: relative;}#sk-container-id-2 div.sk-item::before, #sk-container-id-2 div.sk-parallel-item::before {content: \"\";position: absolute;border-left: 1px solid gray;box-sizing: border-box;top: 0;bottom: 0;left: 50%;z-index: -1;}#sk-container-id-2 div.sk-parallel-item {display: flex;flex-direction: column;z-index: 1;position: relative;background-color: white;}#sk-container-id-2 div.sk-parallel-item:first-child::after {align-self: flex-end;width: 50%;}#sk-container-id-2 div.sk-parallel-item:last-child::after {align-self: flex-start;width: 50%;}#sk-container-id-2 div.sk-parallel-item:only-child::after {width: 0;}#sk-container-id-2 div.sk-dashed-wrapped {border: 1px dashed gray;margin: 0 0.4em 0.5em 0.4em;box-sizing: border-box;padding-bottom: 0.4em;background-color: white;}#sk-container-id-2 div.sk-label label {font-family: monospace;font-weight: bold;display: inline-block;line-height: 1.2em;}#sk-container-id-2 div.sk-label-container {text-align: center;}#sk-container-id-2 div.sk-container {/* jupyter's `normalize.less` sets `[hidden] { display: none; }` but bootstrap.min.css set `[hidden] { display: none !important; }` so we also need the `!important` here to be able to override the default hidden behavior on the sphinx rendered scikit-learn.org. See: https://github.com/scikit-learn/scikit-learn/issues/21755 */display: inline-block !important;position: relative;}#sk-container-id-2 div.sk-text-repr-fallback {display: none;}</style><div id=\"sk-container-id-2\" class=\"sk-top-container\"><div class=\"sk-text-repr-fallback\"><pre>LGBMClassifier(learning_rate=0.18850547218658997, max_depth=6,\n",
              "               min_child_weight=9.82028659116027, n_estimators=190,\n",
              "               num_leaves=13, random_state=42, reg_lambda=1.10111909055421)</pre><b>In a Jupyter environment, please rerun this cell to show the HTML representation or trust the notebook. <br />On GitHub, the HTML representation is unable to render, please try loading this page with nbviewer.org.</b></div><div class=\"sk-container\" hidden><div class=\"sk-item\"><div class=\"sk-estimator sk-toggleable\"><input class=\"sk-toggleable__control sk-hidden--visually\" id=\"sk-estimator-id-2\" type=\"checkbox\" checked><label for=\"sk-estimator-id-2\" class=\"sk-toggleable__label sk-toggleable__label-arrow\">LGBMClassifier</label><div class=\"sk-toggleable__content\"><pre>LGBMClassifier(learning_rate=0.18850547218658997, max_depth=6,\n",
              "               min_child_weight=9.82028659116027, n_estimators=190,\n",
              "               num_leaves=13, random_state=42, reg_lambda=1.10111909055421)</pre></div></div></div></div></div>"
            ]
          },
          "metadata": {},
          "execution_count": 62
        }
      ]
    },
    {
      "cell_type": "code",
      "source": [
        "y_pred_test = lgb_model.predict(X_test)"
      ],
      "metadata": {
        "id": "wNM9WdaJTj8I"
      },
      "execution_count": null,
      "outputs": []
    },
    {
      "cell_type": "markdown",
      "source": [
        "### Model Evaluation"
      ],
      "metadata": {
        "id": "eW-4ADVzS1OK"
      }
    },
    {
      "cell_type": "code",
      "source": [
        "test_accuracy = accuracy_score(y_test, y_pred_test)\n",
        "test_precision = precision_score(y_test, y_pred_test)\n",
        "test_recall = recall_score(y_test, y_pred_test)\n",
        "test_f1 = f1_score(y_test, y_pred_test)\n",
        "\n",
        "print(f'LightGBM - Test Accuracy: {test_accuracy}')\n",
        "print(f'LightGBM - Test Precision: {test_precision}')\n",
        "print(f'LightGBM - Test Recall: {test_recall}')\n",
        "print(f'LightGBM - Test F1-score: {test_f1}')"
      ],
      "metadata": {
        "colab": {
          "base_uri": "https://localhost:8080/"
        },
        "id": "rjjW9Mx4TkA3",
        "outputId": "48a1af66-841a-4e42-df34-69684fafd6f9"
      },
      "execution_count": null,
      "outputs": [
        {
          "output_type": "stream",
          "name": "stdout",
          "text": [
            "LightGBM - Test Accuracy: 0.9542499398025523\n",
            "LightGBM - Test Precision: 0.9507177033492823\n",
            "LightGBM - Test Recall: 0.9580520732883318\n",
            "LightGBM - Test F1-score: 0.9543707973102786\n"
          ]
        }
      ]
    },
    {
      "cell_type": "code",
      "source": [
        "sns.heatmap(confusion_matrix(y_test,y_pred_test),annot=True,fmt='3.0f',cmap=\"summer\")\n",
        "plt.title('Confusion_matrix', y=1.05, size=15)"
      ],
      "metadata": {
        "colab": {
          "base_uri": "https://localhost:8080/",
          "height": 490
        },
        "id": "FLbvzq9PTqeQ",
        "outputId": "66d1516c-4e5a-4d48-d2fc-664bbebda901"
      },
      "execution_count": null,
      "outputs": [
        {
          "output_type": "execute_result",
          "data": {
            "text/plain": [
              "Text(0.5, 1.05, 'Confusion_matrix')"
            ]
          },
          "metadata": {},
          "execution_count": 65
        },
        {
          "output_type": "display_data",
          "data": {
            "text/plain": [
              "<Figure size 640x480 with 2 Axes>"
            ],
            "image/png": "[encoded data removed]"
          },
          "metadata": {}
        }
      ]
    },
    {
      "cell_type": "markdown",
      "source": [
        "---\n",
        "### **Test Accuracy: 0.9542499398025523**\n",
        "---"
      ],
      "metadata": {
        "id": "3N-cxccNYnd0"
      }
    },
    {
      "cell_type": "markdown",
      "source": [
        "# Create pipeline"
      ],
      "metadata": {
        "id": "ltjoKJqMCzcV"
      }
    },
    {
      "cell_type": "code",
      "source": [
        "class PreprocessingTransformer(BaseEstimator, TransformerMixin):\n",
        "    def fit(self, X, y=None):\n",
        "        return self\n",
        "\n",
        "    def transform(self, X, y=None):\n",
        "        X = X.copy()\n",
        "        X['title'].fillna('', inplace=True)\n",
        "        X['author'].fillna('Unknown', inplace=True)\n",
        "        X['combined_text'] = X['title'] + ' ' + X['author'] + ' ' + X['text']\n",
        "        X.drop(columns=['id', 'title', 'author', 'text'], inplace=True)\n",
        "        return X"
      ],
      "metadata": {
        "id": "JGGx1Xi454ET"
      },
      "execution_count": null,
      "outputs": []
    },
    {
      "cell_type": "markdown",
      "source": [
        "## preprocessing_pipeline"
      ],
      "metadata": {
        "id": "UMtUR3RODHn7"
      }
    },
    {
      "cell_type": "code",
      "source": [
        "preprocessing_pipeline = Pipeline([\n",
        "    ('preprocessing', PreprocessingTransformer())\n",
        "])"
      ],
      "metadata": {
        "id": "0GptzsZ97_a2"
      },
      "execution_count": null,
      "outputs": []
    },
    {
      "cell_type": "markdown",
      "source": [
        "## feature_extraction_pipeline and dimensionality_reduction_pipeline"
      ],
      "metadata": {
        "id": "Z4ebIInaEDm9"
      }
    },
    {
      "cell_type": "code",
      "source": [
        "feature_extraction_pipeline = ColumnTransformer([\n",
        "    ('tfidf', TfidfVectorizer(token_pattern=\"[a-z']+\", stop_words=list(STOPWORDS)), 'combined_text')\n",
        "])\n",
        "\n",
        "dimensionality_reduction_pipeline = Pipeline([\n",
        "    ('svd', TruncatedSVD(n_components=500, algorithm='arpack'))\n",
        "])"
      ],
      "metadata": {
        "id": "VM0qG6MB8LU8"
      },
      "execution_count": null,
      "outputs": []
    },
    {
      "cell_type": "markdown",
      "source": [
        "## transformation_pipeline"
      ],
      "metadata": {
        "id": "5cqPLRugDO1W"
      }
    },
    {
      "cell_type": "code",
      "source": [
        "transformation_pipeline = Pipeline([\n",
        "    ('preprocessing', preprocessing_pipeline),\n",
        "    ('features', feature_extraction_pipeline),\n",
        "    ('dim_reduction', dimensionality_reduction_pipeline)\n",
        "])"
      ],
      "metadata": {
        "id": "Ch6Y3dmF8PiD"
      },
      "execution_count": null,
      "outputs": []
    },
    {
      "cell_type": "code",
      "source": [
        "filepath = \"/content/drive/My Drive/Fake_news.csv\"\n",
        "df = pd.read_csv(filepath)\n",
        "\n",
        "df = df.dropna(subset=['text'])\n",
        "X = df.drop(columns='label')\n",
        "y = df['label']\n",
        "\n",
        "X_transformed = transformation_pipeline.fit_transform(X)\n",
        "\n",
        "X_train, X_test, y_train, y_test = train_test_split(X_transformed, y, test_size=0.2, random_state=42)"
      ],
      "metadata": {
        "id": "o6rKUreR8jCc"
      },
      "execution_count": null,
      "outputs": []
    },
    {
      "cell_type": "markdown",
      "source": [
        "## Define Model"
      ],
      "metadata": {
        "id": "fxSjVG17Dat6"
      }
    },
    {
      "cell_type": "code",
      "source": [
        "model = LogisticRegression()\n",
        "model.fit(X_train, y_train)"
      ],
      "metadata": {
        "colab": {
          "base_uri": "https://localhost:8080/",
          "height": 75
        },
        "id": "ov8sj4xh8ooL",
        "outputId": "bb4888fe-98f6-45d2-c9be-579cac35ebb3"
      },
      "execution_count": null,
      "outputs": [
        {
          "output_type": "execute_result",
          "data": {
            "text/plain": [
              "LogisticRegression()"
            ],
            "text/html": [
              "<style>#sk-container-id-3 {color: black;background-color: white;}#sk-container-id-3 pre{padding: 0;}#sk-container-id-3 div.sk-toggleable {background-color: white;}#sk-container-id-3 label.sk-toggleable__label {cursor: pointer;display: block;width: 100%;margin-bottom: 0;padding: 0.3em;box-sizing: border-box;text-align: center;}#sk-container-id-3 label.sk-toggleable__label-arrow:before {content: \"▸\";float: left;margin-right: 0.25em;color: #696969;}#sk-container-id-3 label.sk-toggleable__label-arrow:hover:before {color: black;}#sk-container-id-3 div.sk-estimator:hover label.sk-toggleable__label-arrow:before {color: black;}#sk-container-id-3 div.sk-toggleable__content {max-height: 0;max-width: 0;overflow: hidden;text-align: left;background-color: #f0f8ff;}#sk-container-id-3 div.sk-toggleable__content pre {margin: 0.2em;color: black;border-radius: 0.25em;background-color: #f0f8ff;}#sk-container-id-3 input.sk-toggleable__control:checked~div.sk-toggleable__content {max-height: 200px;max-width: 100%;overflow: auto;}#sk-container-id-3 input.sk-toggleable__control:checked~label.sk-toggleable__label-arrow:before {content: \"▾\";}#sk-container-id-3 div.sk-estimator input.sk-toggleable__control:checked~label.sk-toggleable__label {background-color: #d4ebff;}#sk-container-id-3 div.sk-label input.sk-toggleable__control:checked~label.sk-toggleable__label {background-color: #d4ebff;}#sk-container-id-3 input.sk-hidden--visually {border: 0;clip: rect(1px 1px 1px 1px);clip: rect(1px, 1px, 1px, 1px);height: 1px;margin: -1px;overflow: hidden;padding: 0;position: absolute;width: 1px;}#sk-container-id-3 div.sk-estimator {font-family: monospace;background-color: #f0f8ff;border: 1px dotted black;border-radius: 0.25em;box-sizing: border-box;margin-bottom: 0.5em;}#sk-container-id-3 div.sk-estimator:hover {background-color: #d4ebff;}#sk-container-id-3 div.sk-parallel-item::after {content: \"\";width: 100%;border-bottom: 1px solid gray;flex-grow: 1;}#sk-container-id-3 div.sk-label:hover label.sk-toggleable__label {background-color: #d4ebff;}#sk-container-id-3 div.sk-serial::before {content: \"\";position: absolute;border-left: 1px solid gray;box-sizing: border-box;top: 0;bottom: 0;left: 50%;z-index: 0;}#sk-container-id-3 div.sk-serial {display: flex;flex-direction: column;align-items: center;background-color: white;padding-right: 0.2em;padding-left: 0.2em;position: relative;}#sk-container-id-3 div.sk-item {position: relative;z-index: 1;}#sk-container-id-3 div.sk-parallel {display: flex;align-items: stretch;justify-content: center;background-color: white;position: relative;}#sk-container-id-3 div.sk-item::before, #sk-container-id-3 div.sk-parallel-item::before {content: \"\";position: absolute;border-left: 1px solid gray;box-sizing: border-box;top: 0;bottom: 0;left: 50%;z-index: -1;}#sk-container-id-3 div.sk-parallel-item {display: flex;flex-direction: column;z-index: 1;position: relative;background-color: white;}#sk-container-id-3 div.sk-parallel-item:first-child::after {align-self: flex-end;width: 50%;}#sk-container-id-3 div.sk-parallel-item:last-child::after {align-self: flex-start;width: 50%;}#sk-container-id-3 div.sk-parallel-item:only-child::after {width: 0;}#sk-container-id-3 div.sk-dashed-wrapped {border: 1px dashed gray;margin: 0 0.4em 0.5em 0.4em;box-sizing: border-box;padding-bottom: 0.4em;background-color: white;}#sk-container-id-3 div.sk-label label {font-family: monospace;font-weight: bold;display: inline-block;line-height: 1.2em;}#sk-container-id-3 div.sk-label-container {text-align: center;}#sk-container-id-3 div.sk-container {/* jupyter's `normalize.less` sets `[hidden] { display: none; }` but bootstrap.min.css set `[hidden] { display: none !important; }` so we also need the `!important` here to be able to override the default hidden behavior on the sphinx rendered scikit-learn.org. See: https://github.com/scikit-learn/scikit-learn/issues/21755 */display: inline-block !important;position: relative;}#sk-container-id-3 div.sk-text-repr-fallback {display: none;}</style><div id=\"sk-container-id-3\" class=\"sk-top-container\"><div class=\"sk-text-repr-fallback\"><pre>LogisticRegression()</pre><b>In a Jupyter environment, please rerun this cell to show the HTML representation or trust the notebook. <br />On GitHub, the HTML representation is unable to render, please try loading this page with nbviewer.org.</b></div><div class=\"sk-container\" hidden><div class=\"sk-item\"><div class=\"sk-estimator sk-toggleable\"><input class=\"sk-toggleable__control sk-hidden--visually\" id=\"sk-estimator-id-3\" type=\"checkbox\" checked><label for=\"sk-estimator-id-3\" class=\"sk-toggleable__label sk-toggleable__label-arrow\">LogisticRegression</label><div class=\"sk-toggleable__content\"><pre>LogisticRegression()</pre></div></div></div></div></div>"
            ]
          },
          "metadata": {},
          "execution_count": 71
        }
      ]
    },
    {
      "cell_type": "markdown",
      "source": [
        "## Model Evaluation"
      ],
      "metadata": {
        "id": "ubvou3jIDdNh"
      }
    },
    {
      "cell_type": "code",
      "source": [
        "y_pred = model.predict(X_test)\n",
        "accuracy = accuracy_score(y_test, y_pred)\n",
        "precision = precision_score(y_test, y_pred)\n",
        "recall = recall_score(y_test, y_pred)\n",
        "f1 = f1_score(y_test, y_pred)\n",
        "\n",
        "print(f'The Accuracy of the model is: {accuracy}')\n",
        "print(f'The Precision of the model is: {precision}')\n",
        "print(f'The Recall of the model is: {recall}')\n",
        "print(f'The F1 score of the model is: {f1}')"
      ],
      "metadata": {
        "colab": {
          "base_uri": "https://localhost:8080/"
        },
        "id": "EOW4XbkS8qhz",
        "outputId": "b6dc8b00-c142-461d-dde9-ba9e81458d42"
      },
      "execution_count": null,
      "outputs": [
        {
          "output_type": "stream",
          "name": "stdout",
          "text": [
            "The Accuracy of the model is: 0.9556946785456296\n",
            "The Precision of the model is: 0.9470198675496688\n",
            "The Recall of the model is: 0.9652844744455159\n",
            "The F1 score of the model is: 0.9560649474689589\n"
          ]
        }
      ]
    },
    {
      "cell_type": "markdown",
      "source": [
        "# Validate on the New data"
      ],
      "metadata": {
        "id": "SlQmMW3hEhE7"
      }
    },
    {
      "cell_type": "code",
      "source": [
        "def predict_new_input(model, transformation_pipeline):\n",
        "    id = input(\"Enter the id: \")\n",
        "    title = input(\"Enter the title: \")\n",
        "    author = input(\"Enter the author: \")\n",
        "    text = input(\"Enter the text: \")\n",
        "\n",
        "    new_data = pd.DataFrame({'id': [id], 'title': [title], 'author': [author], 'text': [text]})\n",
        "    new_data_transformed = transformation_pipeline.transform(new_data)\n",
        "    prediction = model.predict(new_data_transformed)\n",
        "\n",
        "    return prediction[0]\n",
        "\n",
        "new_prediction = predict_new_input(model, transformation_pipeline)\n",
        "if new_prediction == 1:\n",
        "    print('----------------------------------------------')\n",
        "    print('The predicted label for the new input is: Fake')\n",
        "else:\n",
        "    print('----------------------------------------------')\n",
        "    print('The predicted label for the new input is: Real')"
      ],
      "metadata": {
        "colab": {
          "base_uri": "https://localhost:8080/"
        },
        "id": "H5FGecKF8b7k",
        "outputId": "910e6865-870e-4c5f-b058-b01c4ac8c504"
      },
      "execution_count": null,
      "outputs": [
        {
          "output_type": "stream",
          "name": "stdout",
          "text": [
            "Enter the id: 1\n",
            "Enter the title: Chuck Todd: â€™BuzzFeed Did Donald Trump a Political Favorâ€™ - Breitbart\n",
            "Enter the author: Jeff Poor\n",
            "Enter the text: Wednesday after   Donald Trumpâ€™s press conference at Trump Tower in New York City, NBC â€œMeet the Pressâ€ moderator Chuck Todd expressed his exasperation over the normalcy of what he called a â€œcircusâ€ surrounding Trumpâ€™s event.  â€œI was struck big picture wise which is of how normal a circus is now to us,â€ Todd said. â€œThis was a circus. Weâ€™ve never seen a   a transition like we saw today where the press conference gets interrupted, you have a lawyer in here. The lawyer does half legal talk, half political spin. Iâ€™ve never seen that, using the lawyer to say heâ€™s here to make America great again, and by the way Iâ€™m going to play constitutional lawyer. I donâ€™t think this but clearly a constitutional lawyer told us we better not accept any of this money. So they made that exception. So I am struck at how normal crazy looked to us today. This was just a crazy scene, but this is the norm of Donald Trump. And in fact, this is where heâ€™s most comfortable. And I will say this. just as a political show. if youâ€™re Donald Trump, you want these press conferences because it made the press look disjointed, unorganized, all this stuff. And his people, you know, he just, it was a performance for his supporters and his people. â€ Later in the segment, Todd decried what he saw as elements within the intelligence community being at odds with one another, then called a story put out by BuzzFeed a night earlier suggesting Trump had ties to Russia to be a â€œpolitical favor. â€ â€œLook, letâ€™s be honest here,â€ Todd said. â€œPolitically BuzzFeed did Donald Trump a political favor today by doing what they did by going ahead and making it all public because it allowed them to deny a specific without having to deal with the bigger picture. â€ Follow Jeff Poor on Twitter @jeff_poor\n",
            "----------------------------------------------\n",
            "The predicted label for the new input is: Real\n"
          ]
        }
      ]
    }
  ]
}